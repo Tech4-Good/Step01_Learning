{
 "cells": [
  {
   "cell_type": "markdown",
   "id": "3445d91c",
   "metadata": {
    "heading_collapsed": true
   },
   "source": [
    "## Test Model"
   ]
  },
  {
   "cell_type": "code",
   "execution_count": null,
   "id": "b233d2a6",
   "metadata": {
    "hidden": true
   },
   "outputs": [],
   "source": [
    "# Function to preprocess the symbol image\n",
    "def preprocess_image(image):\n",
    "    # Resize the image to a consistent size\n",
    "    image = cv2.resize(image, (64, 64))\n",
    "    # Normalize the pixel values\n",
    "    image = image / 255.0\n",
    "    return image\n",
    "\n",
    "# Function to extract symbols from the PDF image\n",
    "def extract_symbols_from_pdf(pdf_image):\n",
    "    # Apply symbol extraction techniques to obtain symbol images\n",
    "    # This could involve using computer vision techniques like object detection, contour detection, or image segmentation\n",
    "    symbols = []\n",
    "    # Extract symbols from pdf_image and add them to the symbols list\n",
    "    # ...\n",
    "\n",
    "    return symbols"
   ]
  },
  {
   "cell_type": "code",
   "execution_count": null,
   "id": "03ac948b",
   "metadata": {
    "hidden": true
   },
   "outputs": [],
   "source": [
    "\n",
    "MAX_IMAGE_SIZE = 1000000  # Maximum image size (in pixels)\n",
    "\n",
    "def extract_symbols_from_pdf(pdf_path):\n",
    "    symbols = []\n",
    "    # Convert PDF pages to images\n",
    "    images = convert_from_path(pdf_path, dpi=300,poppler_path=poppler_path)\n",
    "    \n",
    "    for image in images:\n",
    "        # Convert PIL image to OpenCV format\n",
    "        cv2_image = cv2.cvtColor(np.array(image), cv2.COLOR_RGB2BGR)\n",
    "        \n",
    "        # Apply image processing or computer vision techniques to extract symbols\n",
    "        # Convert the image to grayscale\n",
    "        gray = cv2.cvtColor(cv2_image, cv2.COLOR_BGR2GRAY)\n",
    "        \n",
    "        # Check image size\n",
    "        if gray.size > MAX_IMAGE_SIZE:\n",
    "            # Resize the image to a smaller size\n",
    "            ratio = np.sqrt(MAX_IMAGE_SIZE / gray.size)\n",
    "            resized_gray = cv2.resize(gray, (0, 0), fx=ratio, fy=ratio)\n",
    "        else:\n",
    "            resized_gray = gray\n",
    "        # Append extracted symbols to the 'symbols' list\n",
    "        symbols.append(resized_gray)\n",
    "    \n",
    "    return symbols\n"
   ]
  },
  {
   "cell_type": "code",
   "execution_count": null,
   "id": "9ccd14d0",
   "metadata": {
    "hidden": true
   },
   "outputs": [],
   "source": [
    "import os\n",
    "from pdf2image import convert_from_path\n",
    "\n",
    "pdf_path = 'C:/Users/lsreeram/Downloads/_/Hex/AI PID/02 Test_Dataset/Test.pdf'\n",
    "def extract_symbols_from_pdf(pdf_path):\n",
    "    symbols = []\n",
    "    # Convert PDF pages to images\n",
    "    images = convert_from_path(pdf_path, poppler_path=poppler_path)\n",
    "\n",
    "    for image in images:\n",
    "        # Process the image to extract symbols\n",
    "        symbols = extract_symbols(image)\n",
    "        # Perform further processing on the extracted symbols\n",
    "\n",
    "    return symbols\n",
    "\n",
    "# Call the function to extract symbols from the PDF\n",
    "symbols = extract_symbols_from_pdf(pdf_path)\n"
   ]
  },
  {
   "cell_type": "code",
   "execution_count": null,
   "id": "d76d9781",
   "metadata": {
    "hidden": true
   },
   "outputs": [],
   "source": [
    "# Load the complex engineering drawing PDFs and extract symbols\n",
    "pdf_path = os.chdir('C:/Users/lsreeram/Downloads/_/Hex/AI PID/02 Test_Dataset')\n",
    "pdf_image = cv2.imread(pdf_path)\n",
    "symbols = extract_symbols_from_pdf(pdf_image)"
   ]
  },
  {
   "cell_type": "code",
   "execution_count": null,
   "id": "e537c3f5",
   "metadata": {
    "hidden": true
   },
   "outputs": [],
   "source": [
    "# Prepare the symbols for prediction\n",
    "preprocessed_symbols = []\n",
    "for symbol in symbols:\n",
    "    preprocessed_symbol = preprocess_image(symbol)\n",
    "    preprocessed_symbols.append(preprocessed_symbol)\n",
    "\n",
    "# Convert the symbols list to a NumPy array\n",
    "symbol_images = np.array(preprocessed_symbols)"
   ]
  },
  {
   "cell_type": "code",
   "execution_count": null,
   "id": "bdeb22f1",
   "metadata": {
    "hidden": true
   },
   "outputs": [],
   "source": [
    "model_dir = os.chdir('C:/Users/lsreeram/Downloads/_/Hex/AI PID/Model_Dir/01')"
   ]
  },
  {
   "cell_type": "code",
   "execution_count": null,
   "id": "72613079",
   "metadata": {
    "hidden": true
   },
   "outputs": [],
   "source": [
    "# Load the trained model\n",
    "model = load_model('C:/Users/lsreeram/Downloads/_/Hex/AI PID/Model_Dir/01')"
   ]
  },
  {
   "cell_type": "code",
   "execution_count": null,
   "id": "c81f5b57",
   "metadata": {
    "hidden": true
   },
   "outputs": [],
   "source": [
    "# Perform predictions on the symbol images\n",
    "predictions = model.predict(symbol_images)"
   ]
  },
  {
   "cell_type": "code",
   "execution_count": null,
   "id": "9ffd2421",
   "metadata": {
    "hidden": true
   },
   "outputs": [],
   "source": [
    "# Interpret the predictions\n",
    "predicted_symbols = []  # List to store the predicted symbols\n",
    "\n",
    "for prediction in predictions:\n",
    "    # Assuming prediction is a one-hot encoded vector\n",
    "    predicted_label = np.argmax(prediction)\n",
    "    predicted_symbols.append(predicted_label)\n",
    "\n",
    "# Associate predicted symbols with their corresponding locations in the original drawing\n",
    "# This step involves integrating the predicted symbols with the appropriate positions or connections in the drawing\n",
    "\n",
    "# Print the predicted symbols\n",
    "for symbol, predicted_symbol in zip(symbols, predicted_symbols):\n",
    "    print(\"Symbol:\", symbol)\n",
    "    print(\"Predicted Symbol:\", predicted_symbol)\n"
   ]
  },
  {
   "cell_type": "code",
   "execution_count": null,
   "id": "38119618",
   "metadata": {
    "hidden": true
   },
   "outputs": [],
   "source": [
    "\n",
    "\n",
    "# Load the trained model\n",
    "os.chdir('C:/Users/lsreeram/Downloads/_/Hex/AI PID/Model_Dir/02')\n",
    "model = load_model('saved_model.pb')\n",
    "\n",
    "# Function to preprocess the symbol image\n",
    "def preprocess_image(image):\n",
    "    # Resize the image to a consistent size\n",
    "    image = cv2.resize(image, (64, 64))\n",
    "    # Normalize the pixel values\n",
    "    image = image / 255.0\n",
    "    return image\n",
    "\n",
    "# Function to extract symbols from the PDF image\n",
    "def extract_symbols_from_pdf(pdf_image):\n",
    "    # Apply symbol extraction techniques to obtain symbol images\n",
    "    # This could involve using computer vision techniques like object detection, contour detection, or image segmentation\n",
    "    symbols = []\n",
    "    # Extract symbols from pdf_image and add them to the symbols list\n",
    "    # ...\n",
    "\n",
    "    return symbols\n"
   ]
  },
  {
   "cell_type": "markdown",
   "id": "65568493",
   "metadata": {
    "hidden": true
   },
   "source": [
    "### Continue"
   ]
  },
  {
   "cell_type": "code",
   "execution_count": null,
   "id": "0601f2b4",
   "metadata": {
    "hidden": true
   },
   "outputs": [],
   "source": [
    "\n",
    "# Function to extract symbols from the PDF\n",
    "def extract_symbols_from_pdf(pdf_path_ext):\n",
    "    symbols = []\n",
    "    # Convert PDF pages to images\n",
    "    images = convert_from_path(pdf_path_ext, poppler_path=poppler_path)\n",
    "\n",
    "    # Iterate through the images\n",
    "    for image in images:\n",
    "        # Convert image to grayscale\n",
    "        gray = cv2.cvtColor(np.array(image), cv2.COLOR_RGB2GRAY)\n",
    "                # Check image size\n",
    "        if gray.size > MAX_IMAGE_SIZE:\n",
    "            # Resize the image to a smaller size\n",
    "            ratio = np.sqrt(MAX_IMAGE_SIZE / gray.size)\n",
    "            resized = cv2.resize(gray, (0, 0), fx=ratio, fy=ratio)\n",
    "        else:\n",
    "            resized = gray\n",
    "\n",
    "\n",
    "        # Apply image processing techniques to extract symbols\n",
    "        # For example, you can use thresholding, contour detection, etc.\n",
    "        # Here's a simple example using thresholding:\n",
    "        _, threshold = cv2.threshold(gray, 127, 255, cv2.THRESH_BINARY_INV)\n",
    "        \n",
    "        # Find contours in the thresholded image\n",
    "        contours, _ = cv2.findContours(threshold, cv2.RETR_EXTERNAL, cv2.CHAIN_APPROX_SIMPLE)\n",
    "        \n",
    "        # Iterate through the contours and extract symbols as individual images\n",
    "        for contour in contours:\n",
    "            x, y, w, h = cv2.boundingRect(contour)\n",
    "            symbol = gray[y:y+h, x:x+w]\n",
    "            symbols.append(symbol)\n",
    "\n",
    "    return symbols\n"
   ]
  },
  {
   "cell_type": "code",
   "execution_count": null,
   "id": "46ef88d9",
   "metadata": {
    "hidden": true
   },
   "outputs": [],
   "source": [
    "\n",
    "def preprocess_image(img):\n",
    "    # Convert the image to grayscale\n",
    "    gray_img = cv2.cvtColor(img, cv2.COLOR_BGR2GRAY)\n",
    "\n",
    "    # Threshold the image to obtain a binary image\n",
    "    _, binary_img = cv2.threshold(gray_img, 127, 255, cv2.THRESH_BINARY)\n",
    "\n",
    "    # Find contours in the binary image\n",
    "    contours, _ = cv2.findContours(binary_img, cv2.RETR_EXTERNAL, cv2.CHAIN_APPROX_SIMPLE)\n",
    "\n",
    "    # Find the largest contour\n",
    "    contour_areas = [cv2.contourArea(contour) for contour in contours]\n",
    "    largest_contour_index = np.argmax(contour_areas)\n",
    "    largest_contour = contours[largest_contour_index]\n",
    "\n",
    "    # Create a mask image for the largest contour\n",
    "    mask = np.zeros_like(gray_img)\n",
    "    cv2.drawContours(mask, [largest_contour], 0, 255, thickness=cv2.FILLED)\n",
    "\n",
    "    # Apply the mask to the grayscale image\n",
    "    masked_img = cv2.bitwise_and(gray_img, mask)\n",
    "\n",
    "    # Resize the image to the desired input shape\n",
    "    target_size = (32, 32)\n",
    "    if masked_img.shape[0] != 0 and masked_img.shape[1] != 0:  # Check if the image is not empty\n",
    "        resized_img = cv2.resize(masked_img, target_size, interpolation=cv2.INTER_AREA)\n",
    "    else:\n",
    "        resized_img = np.zeros(target_size, dtype=np.uint8)  # Return a black image if the image is empty\n",
    "\n",
    "    # Normalize the pixel values to the range of [0, 1]\n",
    "    normalized_img = resized_img / 255.0\n",
    "\n",
    "    return normalized_img\n",
    "\n",
    "\n",
    "print(pdf_path_ext)\n",
    "for file in os.listdir(test_dir):\n",
    "    print(file)\n",
    "    if file.endswith('.pdf'):\n",
    "        symbols = extract_symbols_from_pdf(pdf_path_ext)\n",
    "\n",
    "        for symbol in symbols:\n",
    "            try:\n",
    "                # Convert symbol to grayscale\n",
    "                symbol_gray = cv2.cvtColor(symbol, cv2.COLOR_BGR2GRAY)\n",
    "\n",
    "                # Preprocess the symbol for prediction\n",
    "                preprocessed_symbol = preprocess_image(symbol_gray)\n",
    "                symbol_image = np.expand_dims(preprocessed_symbol, axis=-1)\n",
    "                symbol_image = np.expand_dims(symbol_image, axis=0)\n",
    "\n",
    "                # Perform prediction on the symbol image\n",
    "                if symbol_image.size != 0:  # Check if symbol_image is not empty\n",
    "                    prediction = model.predict(symbol_image)\n",
    "                    predicted_label = np.argmax(prediction)\n",
    "\n",
    "                    # Print the predicted symbol label\n",
    "                    print(\"Symbol:\", symbol)\n",
    "                    print(\"Predicted Label:\", predicted_label)\n",
    "            except Exception as e:\n",
    "                print(\"Error occurred during symbol preprocessing:\", str(e))\n"
   ]
  },
  {
   "cell_type": "markdown",
   "id": "c2e3c1fe",
   "metadata": {},
   "source": [
    "## CNN Model"
   ]
  },
  {
   "cell_type": "markdown",
   "id": "9eafeb65",
   "metadata": {},
   "source": [
    "Training Dataset:\n",
    "    \n",
    "Image type\t\t\tjpeg\n",
    "\n",
    "Dimensions\t\t\t64x64\n",
    "\n",
    "Width x Height\t\t64 pixels\n",
    "\n",
    "Hori x Vert Resolution  96 dpi\n",
    "\n",
    "Bit depth\t\t\t1"
   ]
  },
  {
   "cell_type": "code",
   "execution_count": 8,
   "id": "2f37129e",
   "metadata": {},
   "outputs": [],
   "source": [
    "# Get the list of symbol icon files\n",
    "symbol_icon_files = os.listdir(train_dir)\n",
    "\n",
    "# Set the input image dimensions\n",
    "input_shape = (32, 32, 3)\n",
    "\n",
    "# Initialize lists to store images and labels\n",
    "images = []\n",
    "labels = []"
   ]
  },
  {
   "cell_type": "code",
   "execution_count": 9,
   "id": "2f5b0430",
   "metadata": {},
   "outputs": [],
   "source": [
    "# Load symbol icons and their labels\n",
    "for symbol_icon_filename in symbol_icon_files:\n",
    "    label, ext = os.path.splitext(symbol_icon_filename)\n",
    "    if ext.lower() in ['.jpeg', '.jpg', '.png']:\n",
    "        label = os.path.splitext(symbol_icon_filename)[0]  # Use the symbol_icon_filename as the label\n",
    "        ext = os.path.splitext(symbol_icon_filename)[1]\n",
    "        image_path = os.path.join(train_dir, symbol_icon_filename)\n",
    "        image = load_img(image_path, target_size=input_shape[:2])\n",
    "        image_array = img_to_array(image)\n",
    "        images.append(image_array)\n",
    "        labels.append(label)\n",
    "\n",
    "# Convert the data into NumPy arrays\n",
    "images = np.array(images)\n",
    "labels = np.array(labels)\n",
    "\n",
    "# Normalize the image data\n",
    "images = images / 255.0"
   ]
  },
  {
   "cell_type": "code",
   "execution_count": 10,
   "id": "f22a9868",
   "metadata": {},
   "outputs": [
    {
     "data": {
      "text/plain": [
       "array(['cat.0', 'cat.1', 'cat.10', ..., 'dog.997', 'dog.998', 'dog.999'],\n",
       "      dtype='<U8')"
      ]
     },
     "execution_count": 10,
     "metadata": {},
     "output_type": "execute_result"
    }
   ],
   "source": [
    "labels"
   ]
  },
  {
   "cell_type": "code",
   "execution_count": 11,
   "id": "ce196406",
   "metadata": {},
   "outputs": [],
   "source": [
    "label_encoder = LabelEncoder()\n",
    "labels_encoded = label_encoder.fit_transform(labels)"
   ]
  },
  {
   "cell_type": "code",
   "execution_count": 12,
   "id": "0f37cc19",
   "metadata": {},
   "outputs": [],
   "source": [
    "# Create the CNN model\n",
    "model = tf.keras.Sequential([\n",
    "    layers.Conv2D(32, (3, 3), activation='relu', input_shape=input_shape),\n",
    "    layers.MaxPooling2D((2, 2)),\n",
    "    layers.Flatten(),\n",
    "    layers.Dense(64, activation='relu'),\n",
    "    layers.Dense(len(np.unique(labels_encoded)), activation='softmax')  # Number of classes based on unique labels\n",
    "])"
   ]
  },
  {
   "cell_type": "code",
   "execution_count": 13,
   "id": "409b9db7",
   "metadata": {},
   "outputs": [],
   "source": [
    "# Compile the model\n",
    "model.compile(optimizer='adam',\n",
    "              loss='sparse_categorical_crossentropy',\n",
    "              metrics=['accuracy'])"
   ]
  },
  {
   "cell_type": "code",
   "execution_count": 14,
   "id": "f1849723",
   "metadata": {},
   "outputs": [
    {
     "name": "stdout",
     "output_type": "stream",
     "text": [
      "Epoch 1/10\n",
      "157/157 [==============================] - 3s 14ms/step - loss: 8.5476 - accuracy: 0.0000e+00\n",
      "Epoch 2/10\n",
      "157/157 [==============================] - 2s 14ms/step - loss: 8.5235 - accuracy: 0.0000e+00\n",
      "Epoch 3/10\n",
      "157/157 [==============================] - 2s 14ms/step - loss: 8.5201 - accuracy: 1.9996e-04\n",
      "Epoch 4/10\n",
      "157/157 [==============================] - 2s 14ms/step - loss: 8.3804 - accuracy: 0.0018\n",
      "Epoch 5/10\n",
      "157/157 [==============================] - 2s 14ms/step - loss: 7.3527 - accuracy: 0.0142\n",
      "Epoch 6/10\n",
      "157/157 [==============================] - 2s 14ms/step - loss: 4.7214 - accuracy: 0.1864\n",
      "Epoch 7/10\n",
      "157/157 [==============================] - 2s 14ms/step - loss: 1.6196 - accuracy: 0.6541\n",
      "Epoch 8/10\n",
      "157/157 [==============================] - 2s 14ms/step - loss: 0.2885 - accuracy: 0.9436\n",
      "Epoch 9/10\n",
      "157/157 [==============================] - 2s 14ms/step - loss: 0.0717 - accuracy: 0.9920\n",
      "Epoch 10/10\n",
      "157/157 [==============================] - 2s 14ms/step - loss: 0.0240 - accuracy: 0.9978\n"
     ]
    },
    {
     "data": {
      "text/plain": [
       "<keras.callbacks.History at 0x1a4f7c39d90>"
      ]
     },
     "execution_count": 14,
     "metadata": {},
     "output_type": "execute_result"
    }
   ],
   "source": [
    "# Train the CNN model\n",
    "model.fit(images, labels_encoded, epochs=10, batch_size=32)"
   ]
  },
  {
   "cell_type": "code",
   "execution_count": 15,
   "id": "3bd49164",
   "metadata": {
    "scrolled": true
   },
   "outputs": [
    {
     "name": "stderr",
     "output_type": "stream",
     "text": [
      "WARNING:absl:Found untraced functions such as _jit_compiled_convolution_op, _update_step_xla while saving (showing 2 of 2). These functions will not be directly callable after loading.\n"
     ]
    },
    {
     "name": "stdout",
     "output_type": "stream",
     "text": [
      "INFO:tensorflow:Assets written to: C:/Users/lsreeram/Downloads/_/Step01_Learning/04_ComputerVision/01_POC_Hexagon_AI_PID/Model_Dir/02\\assets\n"
     ]
    },
    {
     "name": "stderr",
     "output_type": "stream",
     "text": [
      "INFO:tensorflow:Assets written to: C:/Users/lsreeram/Downloads/_/Step01_Learning/04_ComputerVision/01_POC_Hexagon_AI_PID/Model_Dir/02\\assets\n"
     ]
    }
   ],
   "source": [
    "os.chdir(model_dir)\n",
    "# Save the trained model\n",
    "model.save(model_dir)"
   ]
  },
  {
   "cell_type": "markdown",
   "id": "f9f41959",
   "metadata": {},
   "source": [
    "## Try"
   ]
  },
  {
   "cell_type": "code",
   "execution_count": null,
   "id": "ef68cb90",
   "metadata": {},
   "outputs": [],
   "source": [
    "from sklearn.model_selection import GridSearchCV\n",
    "from tensorflow.keras.wrappers.scikit_learn import KerasClassifier\n",
    "\n",
    "# Define the function to create the CNN model\n",
    "def create_model(learning_rate=0.001, dropout_rate=0.2):\n",
    "    model = Sequential()\n",
    "    # Define the architecture of the CNN model\n",
    "    # ...\n",
    "\n",
    "    # Compile and return the model\n",
    "    return model\n",
    "\n",
    "# Create the KerasClassifier for grid search\n",
    "model = KerasClassifier(build_fn=create_model)\n",
    "\n",
    "# Define the hyperparameters grid\n",
    "param_grid = {\n",
    "    'learning_rate': [0.001, 0.01, 0.1],\n",
    "    'dropout_rate': [0.2, 0.3, 0.4]\n",
    "}\n",
    "\n",
    "# Perform grid search\n",
    "grid_search = GridSearchCV(estimator=model, param_grid=param_grid, scoring='accuracy', cv=3)\n",
    "#grid_result = grid_search.fit(X_train, y_train)\n",
    "\n",
    "# Get the best hyperparameter values\n",
    "best_learning_rate = grid_result.best_params_['learning_rate']\n",
    "best_dropout_rate = grid_result.best_params_['dropout_rate']\n",
    "\n",
    "# Train the CNN model using the best hyperparameters\n",
    "model = create_model(learning_rate=best_learning_rate, dropout_rate=best_dropout_rate)\n",
    "model.fit(X_train, y_train, epochs=10, batch_size=32)\n"
   ]
  },
  {
   "cell_type": "markdown",
   "id": "562e58d0",
   "metadata": {},
   "source": [
    "## Paths"
   ]
  },
  {
   "cell_type": "code",
   "execution_count": 1,
   "id": "e25407e0",
   "metadata": {},
   "outputs": [],
   "source": [
    "# Set the path to the symbol icons directory\n",
    "\n",
    "model_dir = 'C:/Users/lsreeram/Downloads/_/Step01_Learning/04_ComputerVision/01_POC_Hexagon_AI_PID/Model_Dir/02'\n",
    "train_dir = 'C:/Users/lsreeram/Downloads/_/Step01_Learning/04_ComputerVision/01_POC_Hexagon_AI_PID/01_Train_Cats_Dogs'\n",
    "test_dir = 'C:/Users/lsreeram/Downloads/_/Step01_Learning/04_ComputerVision/01_POC_Hexagon_AI_PID/'\n",
    "pdf_path_ext = 'C:/Users/lsreeram/Downloads/_/Step01_Learning/04_ComputerVision/01_POC_Hexagon_AI_PID/02_Test/1.pdf'"
   ]
  },
  {
   "cell_type": "code",
   "execution_count": 2,
   "id": "8ec30e4f",
   "metadata": {},
   "outputs": [],
   "source": [
    "poppler_path=r'C:/Program Files/poppler-23.05.0/bin'"
   ]
  },
  {
   "cell_type": "code",
   "execution_count": 3,
   "id": "80c242a2",
   "metadata": {},
   "outputs": [],
   "source": [
    "import os\n",
    "import numpy as np\n",
    "# Perform one-hot encoding on the labels\n",
    "from sklearn.preprocessing import LabelEncoder"
   ]
  },
  {
   "cell_type": "code",
   "execution_count": 4,
   "id": "49c8ff65",
   "metadata": {},
   "outputs": [],
   "source": [
    "import tensorflow as tf\n",
    "from tensorflow.keras import layers\n",
    "from tensorflow.keras.layers import Conv2D, MaxPooling2D, Flatten, Dense\n",
    "from tensorflow.keras.preprocessing.image import load_img, img_to_array\n",
    "from tensorflow.keras.models import load_model\n",
    "from tensorflow.keras.models import Sequential\n",
    "from tensorflow.keras import initializers\n",
    "from tensorflow.keras.utils import to_categorical"
   ]
  },
  {
   "cell_type": "code",
   "execution_count": 5,
   "id": "f2858000",
   "metadata": {},
   "outputs": [],
   "source": [
    "from pdf2image import convert_from_path\n",
    "import cv2\n",
    "import PyPDF2"
   ]
  },
  {
   "cell_type": "code",
   "execution_count": 6,
   "id": "99af56bd",
   "metadata": {},
   "outputs": [],
   "source": [
    "#change_to_test_dir = os.chdir('C:/Users/lsreeram/Downloads/_/Hex/AI PID/02 Test_Dataset/')\n",
    "#change_to_pdf_path = os.chdir('C:/Users/lsreeram/Downloads/_/Hex/AI PID/02 Test_Dataset')"
   ]
  },
  {
   "cell_type": "code",
   "execution_count": 7,
   "id": "a91dbe1e",
   "metadata": {},
   "outputs": [],
   "source": [
    "#--pip install --upgrade tensorflow --user\n",
    "#-----pip install pdf2imageinstall\n",
    "#--pip install opencv-python\n",
    "#--pip install pdf2image\n",
    "#--pip install pdf2image opencv-python\n",
    "##--conda install -c conda-forge poppler\n",
    "#--pip install PyPDF2"
   ]
  },
  {
   "cell_type": "markdown",
   "id": "359f7eb9",
   "metadata": {},
   "source": [
    "## New trial "
   ]
  },
  {
   "cell_type": "code",
   "execution_count": 102,
   "id": "abd3d2fa",
   "metadata": {},
   "outputs": [],
   "source": [
    "# Get the list of symbol icon files\n",
    "symbol_icon_files = os.listdir(train_dir)\n",
    "\n",
    "# Set the input image dimensions\n",
    "#input_shape = (32, 32, 3)\n",
    "input_shape = (64, 64, 3)\n",
    "\n",
    "# Initialize lists to store images and labels\n",
    "images = []\n",
    "labels = []"
   ]
  },
  {
   "cell_type": "code",
   "execution_count": 103,
   "id": "d7b047f4",
   "metadata": {},
   "outputs": [],
   "source": [
    "# Initialize a dictionary to store symbol indices and filenames\n",
    "symbol_index_to_filename = {}\n",
    "\n",
    "# Load symbol icons and their labels\n",
    "for i, symbol_icon_filename in enumerate(symbol_icon_files):\n",
    "    label, ext = os.path.splitext(symbol_icon_filename)\n",
    "    if ext.lower() in ['.jpeg', '.jpg', '.png']:\n",
    "        # Add the filename to the dictionary with the corresponding symbol index\n",
    "        symbol_index_to_filename[i] = symbol_icon_filename\n",
    "        label = os.path.splitext(symbol_icon_filename)[0]  # Use the symbol_icon_filename as the label\n",
    "        ext = os.path.splitext(symbol_icon_filename)[1]\n",
    "        image_path = os.path.join(train_dir, symbol_icon_filename)\n",
    "        image = load_img(image_path, target_size=input_shape[:2])\n",
    "        image_array = img_to_array(image)\n",
    "        images.append(image_array)\n",
    "        labels.append(label)\n",
    "\n",
    "# Convert the data into NumPy arrays\n",
    "images = np.array(images)\n",
    "labels = np.array(labels)\n",
    "\n",
    "# Normalize the image data\n",
    "images = images / 255.0"
   ]
  },
  {
   "cell_type": "code",
   "execution_count": 104,
   "id": "0a33f496",
   "metadata": {
    "scrolled": true
   },
   "outputs": [
    {
     "data": {
      "text/plain": [
       "array(['cat.0', 'cat.1', 'cat.10', ..., 'dog.997', 'dog.998', 'dog.999'],\n",
       "      dtype='<U8')"
      ]
     },
     "execution_count": 104,
     "metadata": {},
     "output_type": "execute_result"
    }
   ],
   "source": [
    "labels"
   ]
  },
  {
   "cell_type": "code",
   "execution_count": 105,
   "id": "479b666f",
   "metadata": {},
   "outputs": [],
   "source": [
    "label_encoder = LabelEncoder()\n",
    "labels_encoded = label_encoder.fit_transform(labels)"
   ]
  },
  {
   "cell_type": "code",
   "execution_count": 106,
   "id": "e9be6427",
   "metadata": {},
   "outputs": [],
   "source": [
    "# Create the CNN model\n",
    "model = tf.keras.Sequential([\n",
    "    layers.Conv2D(32, (3, 3), activation='relu', kernel_initializer=initializers.GlorotNormal(), input_shape=input_shape),\n",
    "    layers.MaxPooling2D((2, 2)),\n",
    "    layers.Flatten(),\n",
    "    layers.Dense(64, activation='relu'),\n",
    "    layers.Dense(len(np.unique(labels_encoded)), activation='softmax')  # Number of classes based on unique labels\n",
    "])"
   ]
  },
  {
   "cell_type": "code",
   "execution_count": 107,
   "id": "2458d3e5",
   "metadata": {},
   "outputs": [],
   "source": [
    "# Compile the model\n",
    "model.compile(optimizer='adam',\n",
    "              loss='sparse_categorical_crossentropy',\n",
    "              metrics=['accuracy'])\n",
    "\n",
    "#categorical_crossentropy"
   ]
  },
  {
   "cell_type": "code",
   "execution_count": 108,
   "id": "b260179a",
   "metadata": {
    "scrolled": false
   },
   "outputs": [
    {
     "name": "stdout",
     "output_type": "stream",
     "text": [
      "Epoch 1/10\n",
      "157/157 [==============================] - 7s 40ms/step - loss: 8.5506 - accuracy: 0.0000e+00\n",
      "Epoch 2/10\n",
      "157/157 [==============================] - 6s 41ms/step - loss: 8.5241 - accuracy: 0.0000e+00\n",
      "Epoch 3/10\n",
      "157/157 [==============================] - 6s 41ms/step - loss: 8.5131 - accuracy: 3.9992e-04\n",
      "Epoch 4/10\n",
      "157/157 [==============================] - 6s 41ms/step - loss: 8.3623 - accuracy: 9.9980e-04\n",
      "Epoch 5/10\n",
      "157/157 [==============================] - 6s 40ms/step - loss: 7.8436 - accuracy: 0.0070\n",
      "Epoch 6/10\n",
      "157/157 [==============================] - 6s 41ms/step - loss: 6.4568 - accuracy: 0.0450\n",
      "Epoch 7/10\n",
      "157/157 [==============================] - 6s 41ms/step - loss: 3.9659 - accuracy: 0.2549\n",
      "Epoch 8/10\n",
      "157/157 [==============================] - 6s 41ms/step - loss: 1.3459 - accuracy: 0.6879\n",
      "Epoch 9/10\n",
      "157/157 [==============================] - 7s 41ms/step - loss: 0.2736 - accuracy: 0.9468\n",
      "Epoch 10/10\n",
      "157/157 [==============================] - 6s 41ms/step - loss: 0.0689 - accuracy: 0.9900\n"
     ]
    },
    {
     "data": {
      "text/plain": [
       "<keras.callbacks.History at 0x1a4915281f0>"
      ]
     },
     "execution_count": 108,
     "metadata": {},
     "output_type": "execute_result"
    }
   ],
   "source": [
    "# Train the CNN model\n",
    "model.fit(images, labels_encoded, epochs=10, batch_size=32)"
   ]
  },
  {
   "cell_type": "markdown",
   "id": "e340ee00",
   "metadata": {},
   "source": [
    "#### Create a CNN model\n",
    "model = Sequential()\n",
    "model.add(Conv2D(32, (3, 3), activation='relu', input_shape=(64, 64, 1)))\n",
    "model.add(MaxPooling2D((2, 2)))\n",
    "model.add(Conv2D(64, (3, 3), activation='relu'))\n",
    "model.add(MaxPooling2D((2, 2)))\n",
    "model.add(Flatten())\n",
    "model.add(Dense(64, activation='relu'))\n",
    "model.add(Dense(len(set(labels)), activation='softmax'))\n",
    "\n",
    "##### Compile the model\n",
    "model.compile(optimizer='adam', loss='categorical_crossentropy', metrics=['accuracy'])"
   ]
  },
  {
   "cell_type": "code",
   "execution_count": 116,
   "id": "e31a25e3",
   "metadata": {},
   "outputs": [
    {
     "name": "stdout",
     "output_type": "stream",
     "text": [
      "Model: \"sequential_9\"\n",
      "_________________________________________________________________\n",
      " Layer (type)                Output Shape              Param #   \n",
      "=================================================================\n",
      " conv2d_9 (Conv2D)           (None, 62, 62, 32)        896       \n",
      "                                                                 \n",
      " max_pooling2d_9 (MaxPooling  (None, 31, 31, 32)       0         \n",
      " 2D)                                                             \n",
      "                                                                 \n",
      " flatten_9 (Flatten)         (None, 30752)             0         \n",
      "                                                                 \n",
      " dense_18 (Dense)            (None, 64)                1968192   \n",
      "                                                                 \n",
      " dense_19 (Dense)            (None, 5001)              325065    \n",
      "                                                                 \n",
      "=================================================================\n",
      "Total params: 2,294,153\n",
      "Trainable params: 2,294,153\n",
      "Non-trainable params: 0\n",
      "_________________________________________________________________\n"
     ]
    }
   ],
   "source": [
    "model.summary()"
   ]
  },
  {
   "cell_type": "code",
   "execution_count": 110,
   "id": "174d4cd5",
   "metadata": {},
   "outputs": [],
   "source": [
    "# Helper function to convert PDF to images\n",
    "def convert_pdf_to_images(sample_path):\n",
    "    test_images = []\n",
    "    # Convert each page of the PDF to an image\n",
    "    pages = convert_from_path(sample_path, poppler_path=poppler_path)\n",
    "    for page in pages:\n",
    "        # Convert PIL image to numpy array\n",
    "        test_image = np.array(page)\n",
    "        \n",
    "        # Resize the image while preserving aspect ratio\n",
    "        max_dim = 1000\n",
    "        scale = min(max_dim / test_image.shape[0], max_dim / test_image.shape[1])\n",
    "        new_size = (int(test_image.shape[1] * scale), int(test_image.shape[0] * scale))\n",
    "        resized_image = cv2.resize(test_image, new_size)\n",
    "        \n",
    "        test_images.append(resized_image)\n",
    "    return test_images\n",
    "\n",
    "\n",
    "# Define the input shape expected by the model\n",
    "#input_shape = (32, 32)\n",
    "#input_shape = (64,64)\n",
    "\n",
    "# Define a function to preprocess the image\n",
    "def preprocess_image(test_image):\n",
    "    # Resize the image to the desired input shape\n",
    "    resized_image = cv2.resize(test_image, input_shape[:2])\n",
    "    \n",
    "    # Normalize the image\n",
    "    normalized_image = resized_image / 255.0\n",
    "    \n",
    "    # Add an extra dimension to match the expected input shape of the model\n",
    "    preprocessed_image = np.expand_dims(normalized_image, axis=0)\n",
    "    \n",
    "    return preprocessed_image"
   ]
  },
  {
   "cell_type": "code",
   "execution_count": 111,
   "id": "a46b8335",
   "metadata": {},
   "outputs": [],
   "source": [
    "# Loop over the PDF pages\n",
    "test_images = convert_pdf_to_images(pdf_path_ext)"
   ]
  },
  {
   "cell_type": "code",
   "execution_count": 112,
   "id": "94257f80",
   "metadata": {},
   "outputs": [
    {
     "name": "stdout",
     "output_type": "stream",
     "text": [
      "(1000, 706, 3)\n"
     ]
    }
   ],
   "source": [
    "for test_image in test_images:\n",
    "    print(test_image.shape)"
   ]
  },
  {
   "cell_type": "markdown",
   "id": "36e35224",
   "metadata": {},
   "source": [
    "### Make Predictions"
   ]
  },
  {
   "cell_type": "code",
   "execution_count": 117,
   "id": "07ba6a12",
   "metadata": {},
   "outputs": [
    {
     "name": "stdout",
     "output_type": "stream",
     "text": [
      "1/1 [==============================] - 0s 25ms/step\n"
     ]
    }
   ],
   "source": [
    "import cv2\n",
    "import numpy as np\n",
    "from keras.models import load_model\n",
    "\n",
    "# Define the input shape expected by the model\n",
    "#input_shape = (32, 32)\n",
    "#input_shape = (64,64)\n",
    "\n",
    "# Define a function to preprocess the image\n",
    "def preprocess_image(test_image):\n",
    "    # Resize the image to the desired input shape\n",
    "    resized_image = cv2.resize(test_image, input_shape[:2])\n",
    "    \n",
    "    # Normalize the image\n",
    "    normalized_image = resized_image / 255.0\n",
    "    \n",
    "    # Add an extra dimension to match the expected input shape of the model\n",
    "    preprocessed_image = np.expand_dims(normalized_image, axis=0)\n",
    "    \n",
    "    return preprocessed_image\n",
    "\n",
    "# Define a function to extract symbols from an image\n",
    "def extract_symbols(test_image):\n",
    "    # Preprocess the image\n",
    "    preprocessed_image = preprocess_image(test_image)\n",
    "    \n",
    "    # Make predictions using the symbol recognition model\n",
    "    predictions = model.predict(preprocessed_image)\n",
    "    \n",
    "    # Post-processing (e.g., non-maximum suppression, thresholding)\n",
    "    \n",
    "    # Return the extracted symbols\n",
    "    return predictions\n",
    "\n",
    "\n",
    "# Loop over the PDF pages\n",
    "test_images = convert_pdf_to_images(pdf_path_ext)\n",
    "\n",
    "for test_image in test_images:\n",
    "    predictions = extract_symbols(test_image)\n",
    "\n",
    "    # Process the extracted symbols (e.g., save, analyze, visualize)\n"
   ]
  },
  {
   "cell_type": "code",
   "execution_count": 118,
   "id": "1c07e9a8",
   "metadata": {},
   "outputs": [
    {
     "name": "stdout",
     "output_type": "stream",
     "text": [
      "Symbol: [3.0503216e-20 9.6171552e-25 1.5210443e-19 ... 2.5781614e-19 3.5457008e-22\n",
      " 3.9637644e-06]\n",
      "Predicted Symbol: 971\n"
     ]
    }
   ],
   "source": [
    "# Interpret the predictions\n",
    "predicted_symbols = []  # List to store the predicted symbols\n",
    "\n",
    "for prediction in predictions:\n",
    "    # Assuming prediction is a one-hot encoded vector\n",
    "    predicted_label = np.argmax(prediction)\n",
    "    predicted_symbols.append(predicted_label)\n",
    "\n",
    "# Associate predicted symbols with their corresponding locations in the original drawing\n",
    "# This step involves integrating the predicted symbols with the appropriate positions or connections in the drawing\n",
    "\n",
    "# Print the predicted symbols\n",
    "for symbol, predicted_symbol_index in zip(predictions, predicted_symbols):\n",
    "    print(\"Symbol:\", symbol)\n",
    "    print(\"Predicted Symbol:\", predicted_symbol_index)"
   ]
  },
  {
   "cell_type": "code",
   "execution_count": 119,
   "id": "41f96f4e",
   "metadata": {},
   "outputs": [
    {
     "name": "stdout",
     "output_type": "stream",
     "text": [
      "Predicted Symbol Filename: cat.1873.jpg\n"
     ]
    }
   ],
   "source": [
    "predicted_symbol_filename = symbol_index_to_filename[predicted_symbol_index]\n",
    "print(\"Predicted Symbol Filename:\", predicted_symbol_filename)"
   ]
  },
  {
   "cell_type": "code",
   "execution_count": null,
   "id": "bd7aa666",
   "metadata": {},
   "outputs": [],
   "source": []
  }
 ],
 "metadata": {
  "kernelspec": {
   "display_name": "Python 3 (ipykernel)",
   "language": "python",
   "name": "python3"
  },
  "language_info": {
   "codemirror_mode": {
    "name": "ipython",
    "version": 3
   },
   "file_extension": ".py",
   "mimetype": "text/x-python",
   "name": "python",
   "nbconvert_exporter": "python",
   "pygments_lexer": "ipython3",
   "version": "3.9.13"
  },
  "varInspector": {
   "cols": {
    "lenName": 16,
    "lenType": 16,
    "lenVar": 40
   },
   "kernels_config": {
    "python": {
     "delete_cmd_postfix": "",
     "delete_cmd_prefix": "del ",
     "library": "var_list.py",
     "varRefreshCmd": "print(var_dic_list())"
    },
    "r": {
     "delete_cmd_postfix": ") ",
     "delete_cmd_prefix": "rm(",
     "library": "var_list.r",
     "varRefreshCmd": "cat(var_dic_list()) "
    }
   },
   "types_to_exclude": [
    "module",
    "function",
    "builtin_function_or_method",
    "instance",
    "_Feature"
   ],
   "window_display": false
  }
 },
 "nbformat": 4,
 "nbformat_minor": 5
}
