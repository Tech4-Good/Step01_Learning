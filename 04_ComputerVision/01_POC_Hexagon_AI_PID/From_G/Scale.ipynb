{
 "cells": [
  {
   "cell_type": "code",
   "execution_count": null,
   "id": "a3c3abda",
   "metadata": {},
   "outputs": [],
   "source": [
    "import os\n",
    "os.chdir('C:/Users/lsreeram/Downloads/_/Step01_Learning/04_ComputerVision/01_POC_Hexagon_AI_PID/Scaled')"
   ]
  },
  {
   "cell_type": "code",
   "execution_count": null,
   "id": "75a64618",
   "metadata": {},
   "outputs": [],
   "source": [
    "# Create the \"scaled_images\" directory if it doesn't exist\n",
    "os.makedirs(\"scaled_rotated_images\", exist_ok=True)\n",
    "from PIL import Image\n",
    "import glob\n",
    "\n",
    "# Define the scaling factors\n",
    "scaling_factors = [0.5, 1, 1.25, 1.5, 1.75, 2]\n",
    "\n",
    "# Get a list of all original image file paths\n",
    "original_image_paths = glob.glob(\"symbol*.jpg\")\n",
    "\n",
    "# Iterate over each original image\n",
    "for original_image_path in original_image_paths:\n",
    "    # Load the original image\n",
    "    original_image = Image.open(original_image_path)\n",
    "    \n",
    "    # Get the filename without the extension\n",
    "    filename = original_image_path.split(\"symbol\")[-1].split(\".\")[0]\n",
    "    \n",
    "    # Iterate over the scaling factors\n",
    "    for factor in scaling_factors:\n",
    "        # Calculate the new width and height based on the scaling factor\n",
    "        new_width = int(original_image.width * factor)\n",
    "        new_height = int(original_image.height * factor)\n",
    "        \n",
    "        # Resize the image using the calculated width and height\n",
    "        scaled_image = original_image.resize((new_width, new_height))\n",
    "        # Rotate the image by 90 degrees\n",
    "        rotated_image = scaled_image.rotate(90, expand=True)\n",
    "        # Save the scaled image with a filename indicating the scaling factor and original image\n",
    "        scaled_image.save(f\"scaled_rotated_images/{filename}_scaled_{factor}.jpg\")\n",
    "        rotated_image.save(f\"scaled_rotated_images/{filename}_scaled_rotated_{factor}.jpg\")\n"
   ]
  },
  {
   "cell_type": "code",
   "execution_count": null,
   "id": "769a9976",
   "metadata": {},
   "outputs": [],
   "source": []
  }
 ],
 "metadata": {
  "kernelspec": {
   "display_name": "Python 3 (ipykernel)",
   "language": "python",
   "name": "python3"
  },
  "language_info": {
   "codemirror_mode": {
    "name": "ipython",
    "version": 3
   },
   "file_extension": ".py",
   "mimetype": "text/x-python",
   "name": "python",
   "nbconvert_exporter": "python",
   "pygments_lexer": "ipython3",
   "version": "3.9.13"
  },
  "varInspector": {
   "cols": {
    "lenName": 16,
    "lenType": 16,
    "lenVar": 40
   },
   "kernels_config": {
    "python": {
     "delete_cmd_postfix": "",
     "delete_cmd_prefix": "del ",
     "library": "var_list.py",
     "varRefreshCmd": "print(var_dic_list())"
    },
    "r": {
     "delete_cmd_postfix": ") ",
     "delete_cmd_prefix": "rm(",
     "library": "var_list.r",
     "varRefreshCmd": "cat(var_dic_list()) "
    }
   },
   "types_to_exclude": [
    "module",
    "function",
    "builtin_function_or_method",
    "instance",
    "_Feature"
   ],
   "window_display": false
  }
 },
 "nbformat": 4,
 "nbformat_minor": 5
}
