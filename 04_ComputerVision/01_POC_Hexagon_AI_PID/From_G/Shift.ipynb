{
 "cells": [
  {
   "cell_type": "code",
   "execution_count": 1,
   "id": "ff806c8e",
   "metadata": {},
   "outputs": [],
   "source": [
    "import numpy as np\n",
    "import cv2\n",
    "import os\n",
    "from matplotlib import pyplot as plt"
   ]
  },
  {
   "cell_type": "code",
   "execution_count": 7,
   "id": "43448ce3",
   "metadata": {},
   "outputs": [],
   "source": [
    "import cv2\n",
    "import numpy as np\n",
    "\n",
    "# Load the template and search image\n",
    "img = cv2.imread('5258-601-A1-0414.jpeg', 1)  \n",
    "template = cv2.imread('template (6).png', 1) \n",
    "\n",
    "sift = cv2.xfeatures2d.SIFT_create()\n"
   ]
  },
  {
   "cell_type": "code",
   "execution_count": 9,
   "id": "720685eb",
   "metadata": {},
   "outputs": [],
   "source": [
    "kp1, des1 = sift.detectAndCompute(img,None)\n",
    "kp2, des2 = sift.detectAndCompute(template,None)"
   ]
  },
  {
   "cell_type": "code",
   "execution_count": 10,
   "id": "e507bda6",
   "metadata": {},
   "outputs": [],
   "source": [
    "# BF(brute force)Matcher with default params\n",
    "bf = cv2.BFMatcher()\n",
    "matches = bf.knnMatch(des1,des2, k=2)"
   ]
  },
  {
   "cell_type": "code",
   "execution_count": 11,
   "id": "5c383c4c",
   "metadata": {},
   "outputs": [],
   "source": [
    "\n",
    "# Apply ratio test\n",
    "good = []\n",
    "for m,n in matches:\n",
    "    if m.distance < 0.75*n.distance:\n",
    "        good.append(m)\n",
    "     "
   ]
  },
  {
   "cell_type": "code",
   "execution_count": null,
   "id": "5c03b1da",
   "metadata": {},
   "outputs": [],
   "source": [
    "#img3 = cv2.drawMatchesKnn(img,kp1,template,kp2,good,None,flags=2)\n",
    "#cv2.imwrite(\"shift match.jpeg\", img3)"
   ]
  },
  {
   "cell_type": "code",
   "execution_count": 12,
   "id": "80413461",
   "metadata": {},
   "outputs": [],
   "source": [
    "def merge_rectangles(rectangles):\n",
    "    merged_rectangles = []\n",
    "    for rectangle in rectangles:\n",
    "        x, y, w, h = rectangle\n",
    "        merged = False\n",
    "        for i, merged_rectangle in enumerate(merged_rectangles):\n",
    "            mx, my, mw, mh = merged_rectangle\n",
    "            if x >= mx and y >= my and x + w <= mx + mw and y + h <= my + mh:\n",
    "                # Rectangle is completely inside an existing merged rectangle\n",
    "                merged_rectangles[i] = (mx, my, mw, mh)\n",
    "                merged = True\n",
    "                break\n",
    "            elif x <= mx and y <= my and x + w >= mx + mw and y + h >= my + mh:\n",
    "                # Rectangle completely covers an existing merged rectangle\n",
    "                merged_rectangles[i] = (x, y, w, h)\n",
    "                merged = True\n",
    "                break\n",
    "            elif x < mx + mw and y < my + mh and x + w > mx and y + h > my:\n",
    "                # Rectangles overlap, create a new merged rectangle\n",
    "                merged_rectangles[i] = (\n",
    "                    min(x, mx),\n",
    "                    min(y, my),\n",
    "                    max(x + w, mx + mw) - min(x, mx),\n",
    "                    max(y + h, my + mh) - min(y, my),\n",
    "                )\n",
    "                merged = True\n",
    "                break\n",
    "        if not merged:\n",
    "            # No overlap, add a new merged rectangle\n",
    "            merged_rectangles.append((x, y, w, h))\n",
    "    return merged_rectangles\n"
   ]
  },
  {
   "cell_type": "code",
   "execution_count": 13,
   "id": "57caed80",
   "metadata": {},
   "outputs": [],
   "source": [
    "rois = []\n",
    "for match in good:\n",
    "    # Get the index of the keypoints in the first image\n",
    "    query_idx = match.queryIdx\n",
    "    keypoint = kp1[query_idx]\n",
    "\n",
    "    # Define a ROI around the keypoint\n",
    "    roi = (int(keypoint.pt[0]), int(keypoint.pt[1]), 100, 100)  # Adjust the size as needed\n",
    "\n",
    "    # Add the ROI to the list\n",
    "    rois.append(roi)\n",
    "    \n",
    "\n",
    "merge_roi = merge_rectangles(rois)    \n",
    "for roi in merge_roi:\n",
    "    # Draw the ROI on the first image\n",
    "    cv2.rectangle(img, (roi[0], roi[1]), (roi[0] + roi[2], roi[1] + roi[3]), (0, 255, 0), 2)\n"
   ]
  },
  {
   "cell_type": "code",
   "execution_count": 14,
   "id": "3abb6ead",
   "metadata": {},
   "outputs": [
    {
     "data": {
      "text/plain": [
       "True"
      ]
     },
     "execution_count": 14,
     "metadata": {},
     "output_type": "execute_result"
    }
   ],
   "source": [
    "cv2.imwrite(\"roi_shift_match_4.jpeg\", img)"
   ]
  },
  {
   "cell_type": "code",
   "execution_count": null,
   "id": "5f61cf4e",
   "metadata": {},
   "outputs": [],
   "source": []
  }
 ],
 "metadata": {
  "kernelspec": {
   "display_name": "Python 3 (ipykernel)",
   "language": "python",
   "name": "python3"
  },
  "language_info": {
   "codemirror_mode": {
    "name": "ipython",
    "version": 3
   },
   "file_extension": ".py",
   "mimetype": "text/x-python",
   "name": "python",
   "nbconvert_exporter": "python",
   "pygments_lexer": "ipython3",
   "version": "3.9.13"
  },
  "varInspector": {
   "cols": {
    "lenName": 16,
    "lenType": 16,
    "lenVar": 40
   },
   "kernels_config": {
    "python": {
     "delete_cmd_postfix": "",
     "delete_cmd_prefix": "del ",
     "library": "var_list.py",
     "varRefreshCmd": "print(var_dic_list())"
    },
    "r": {
     "delete_cmd_postfix": ") ",
     "delete_cmd_prefix": "rm(",
     "library": "var_list.r",
     "varRefreshCmd": "cat(var_dic_list()) "
    }
   },
   "types_to_exclude": [
    "module",
    "function",
    "builtin_function_or_method",
    "instance",
    "_Feature"
   ],
   "window_display": false
  }
 },
 "nbformat": 4,
 "nbformat_minor": 5
}
