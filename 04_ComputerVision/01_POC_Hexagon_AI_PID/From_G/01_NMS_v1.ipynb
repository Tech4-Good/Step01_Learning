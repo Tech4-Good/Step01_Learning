{
 "cells": [
  {
   "cell_type": "markdown",
   "id": "e05a8eae",
   "metadata": {},
   "source": [
    "# Libraries"
   ]
  },
  {
   "cell_type": "code",
   "execution_count": 3,
   "id": "082cdae8",
   "metadata": {},
   "outputs": [],
   "source": [
    "import numpy as np\n",
    "import cv2\n",
    "import os"
   ]
  },
  {
   "cell_type": "markdown",
   "id": "e388c813",
   "metadata": {},
   "source": [
    "# Load data"
   ]
  },
  {
   "cell_type": "code",
   "execution_count": 4,
   "id": "efcadf5d",
   "metadata": {},
   "outputs": [],
   "source": [
    "# Load the image and symbol templates\n",
    "image = cv2.imread('5258-601-A1-0414.jpeg', cv2.IMREAD_COLOR)"
   ]
  },
  {
   "cell_type": "markdown",
   "id": "f832fc1a",
   "metadata": {},
   "source": [
    "template_list = [\n",
    "    'template (1).png', 'template (2).png', 'template (3).png',\n",
    "    'template (4).png', 'template (5).png', 'template (6).png'\n",
    "]\n",
    "# Add more template filenames as needed"
   ]
  },
  {
   "cell_type": "code",
   "execution_count": 5,
   "id": "f0fd76ac",
   "metadata": {},
   "outputs": [],
   "source": [
    "template_list = ['template2.jpeg']"
   ]
  },
  {
   "cell_type": "code",
   "execution_count": 6,
   "id": "6da39652",
   "metadata": {},
   "outputs": [],
   "source": [
    "color_green =(0, 255, 0)\n",
    "color_pink = (255, 105, 180)\n",
    "color_deep_pink = (255, 20, 147)# Pink color (RBG format)"
   ]
  },
  {
   "cell_type": "code",
   "execution_count": 7,
   "id": "4db79301",
   "metadata": {},
   "outputs": [],
   "source": [
    "sift = cv2.SIFT_create()"
   ]
  },
  {
   "cell_type": "code",
   "execution_count": 8,
   "id": "14f341ff",
   "metadata": {},
   "outputs": [],
   "source": [
    "# Define a list to store the matched templates & locations\n",
    "matched_templates = []\n",
    "box_info = []"
   ]
  },
  {
   "cell_type": "code",
   "execution_count": 9,
   "id": "efc642ec",
   "metadata": {},
   "outputs": [],
   "source": [
    "# Define a threshold for matching score\n",
    "threshold = 0.66"
   ]
  },
  {
   "cell_type": "markdown",
   "id": "c27bb4d6",
   "metadata": {},
   "source": [
    "# NMS"
   ]
  },
  {
   "cell_type": "code",
   "execution_count": 10,
   "id": "d3cf89a5",
   "metadata": {},
   "outputs": [],
   "source": [
    "# Iterate over the templates\n",
    "for template_filename in template_list:\n",
    "    # Read the template image\n",
    "    template = cv2.imread(template_filename, cv2.IMREAD_COLOR)\n",
    "\n",
    "    # Convert the template and image to grayscale\n",
    "    gray_template = cv2.cvtColor(template, cv2.COLOR_BGR2GRAY)\n",
    "    gray_image = cv2.cvtColor(image, cv2.COLOR_BGR2GRAY)\n",
    "\n",
    "    # Perform template matching\n",
    "    result = cv2.matchTemplate(gray_image, gray_template, cv2.TM_CCOEFF_NORMED)\n",
    "#     print(result)\n",
    "\n",
    "    # Find locations where the matching score exceeds the threshold\n",
    "    locations = np.where(result >= threshold)\n",
    "\n",
    "    # Iterate over the locations and store the matched templates\n",
    "    for loc in zip(*locations[::-1]):\n",
    "        matched_templates.append(template_filename)\n",
    "        #print(f\"Template '{template_filename}' found at coordinates (x, y): {loc}\")\n",
    "        x, y = loc\n",
    "        w, h = template.shape[1], template.shape[0]\n",
    "        box_info.append({\"location\": (x,y), \"score\": result[y,x], \"box\" : (x, y, x + w, y + h)})\n",
    "        print(\"Template found :\", {\"location\": (x,y), \"score\": result[y,x], \"box\" : (x, y, x + w, y + h)})"
   ]
  },
  {
   "cell_type": "code",
   "execution_count": 11,
   "id": "def9441f",
   "metadata": {},
   "outputs": [
    {
     "data": {
      "text/plain": [
       "[]"
      ]
     },
     "execution_count": 11,
     "metadata": {},
     "output_type": "execute_result"
    }
   ],
   "source": [
    "box_info"
   ]
  },
  {
   "cell_type": "code",
   "execution_count": 12,
   "id": "d8f3d474",
   "metadata": {},
   "outputs": [
    {
     "name": "stdout",
     "output_type": "stream",
     "text": [
      "[]\n"
     ]
    }
   ],
   "source": [
    "margin = 10 # Margin around each box\n",
    "\n",
    "# Sort the data based on the score in descending order\n",
    "sorted_data = sorted(box_info, key=lambda x: x['score'], reverse=True)\n",
    "\n",
    "# Filter the data based on the highest score within the margin\n",
    "filtered_data = []\n",
    "selected_boxes = []\n",
    "\n",
    "for item in sorted_data:\n",
    "    location = item['location']\n",
    "    score = item['score']\n",
    "    box = item['box']\n",
    "\n",
    "    # Check if the current box overlaps with any of the selected boxes\n",
    "    overlap = False\n",
    "    for selected_box in selected_boxes:\n",
    "        if (abs(location[0] - selected_box[0]) <= margin and\n",
    "                abs(location[1] - selected_box[1]) <= margin):\n",
    "            overlap = True\n",
    "            break\n",
    "\n",
    "    if not overlap:\n",
    "        # Add the current item to the filtered data and selected boxes\n",
    "        filtered_data.append(item)\n",
    "        selected_boxes.append(location)\n",
    "\n",
    "print(filtered_data)"
   ]
  },
  {
   "cell_type": "markdown",
   "id": "f64409dc",
   "metadata": {},
   "source": [
    "# Draw Shapes"
   ]
  },
  {
   "cell_type": "code",
   "execution_count": 13,
   "id": "80261345",
   "metadata": {},
   "outputs": [],
   "source": [
    "# Draw bounding boxes around the matched locations on the image\n",
    "for data in filtered_data:\n",
    "    (x1, y1, x2, y2) = data[\"box\"]\n",
    "    cv2.rectangle(image, (x1,y1), (x2, y2), color_deep_pink,2)"
   ]
  },
  {
   "cell_type": "markdown",
   "id": "55c5c95c",
   "metadata": {},
   "source": [
    "# Show Output"
   ]
  },
  {
   "cell_type": "code",
   "execution_count": 14,
   "id": "0b0bf0da",
   "metadata": {},
   "outputs": [
    {
     "data": {
      "text/plain": [
       "True"
      ]
     },
     "execution_count": 14,
     "metadata": {},
     "output_type": "execute_result"
    }
   ],
   "source": [
    "# Get the screen resolution\n",
    "screen_width, screen_height = 1920, 1080  # Replace with your screen resolution\n",
    "\n",
    "# Resize the image to the desired resolution\n",
    "image_output = cv2.resize(image, (screen_width, screen_height))\n",
    "\n",
    "cv2.imwrite('final_output1.jpg', image_output)\n",
    "\n",
    "\n",
    "# Create a named window\n",
    "# cv2.namedWindow('Image', cv2.WINDOW_NORMAL)\n",
    "\n",
    "# Display the image\n",
    "# cv2.imshow('Image', image_output)\n",
    "# cv2.waitKey(0)\n",
    "# cv2.destroyAllWindows()\n"
   ]
  },
  {
   "cell_type": "code",
   "execution_count": 15,
   "id": "6f32e307",
   "metadata": {},
   "outputs": [],
   "source": [
    "# Define a list to store the matched templates & locations\n",
    "matched_locations = []\n",
    "matched_templates = []"
   ]
  },
  {
   "cell_type": "code",
   "execution_count": null,
   "id": "80309e5e",
   "metadata": {},
   "outputs": [],
   "source": []
  }
 ],
 "metadata": {
  "kernelspec": {
   "display_name": "Python 3 (ipykernel)",
   "language": "python",
   "name": "python3"
  },
  "language_info": {
   "codemirror_mode": {
    "name": "ipython",
    "version": 3
   },
   "file_extension": ".py",
   "mimetype": "text/x-python",
   "name": "python",
   "nbconvert_exporter": "python",
   "pygments_lexer": "ipython3",
   "version": "3.9.13"
  },
  "varInspector": {
   "cols": {
    "lenName": 16,
    "lenType": 16,
    "lenVar": 40
   },
   "kernels_config": {
    "python": {
     "delete_cmd_postfix": "",
     "delete_cmd_prefix": "del ",
     "library": "var_list.py",
     "varRefreshCmd": "print(var_dic_list())"
    },
    "r": {
     "delete_cmd_postfix": ") ",
     "delete_cmd_prefix": "rm(",
     "library": "var_list.r",
     "varRefreshCmd": "cat(var_dic_list()) "
    }
   },
   "types_to_exclude": [
    "module",
    "function",
    "builtin_function_or_method",
    "instance",
    "_Feature"
   ],
   "window_display": false
  }
 },
 "nbformat": 4,
 "nbformat_minor": 5
}
