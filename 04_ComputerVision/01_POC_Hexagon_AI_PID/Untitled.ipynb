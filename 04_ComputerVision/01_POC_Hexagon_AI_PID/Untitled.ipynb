{
 "cells": [
  {
   "cell_type": "code",
   "execution_count": 5,
   "id": "47ca855e",
   "metadata": {},
   "outputs": [],
   "source": [
    "import os\n",
    "from tensorflow.keras.preprocessing.image import load_img, img_to_array"
   ]
  },
  {
   "cell_type": "code",
   "execution_count": 3,
   "id": "9a912be2",
   "metadata": {},
   "outputs": [],
   "source": [
    "train_dir = 'C:/Users/lsreeram/Downloads/_/Hex/AI PID/01 Train_Dataset/'\n",
    "# Get the list of symbol icon files\n",
    "symbol_icon_files = os.listdir(train_dir)\n",
    "\n",
    "# Set the input image dimensions\n",
    "input_shape = (32, 32, 3)\n",
    "input_shape = (64, 64, 3)\n",
    "\n",
    "# Initialize lists to store images and labels\n",
    "images = []\n",
    "labels = []"
   ]
  },
  {
   "cell_type": "code",
   "execution_count": null,
   "id": "ff5c1a98",
   "metadata": {},
   "outputs": [],
   "source": [
    "# Initialize a dictionary to store symbol indices and filenames\n",
    "symbol_index_to_filename = {}\n",
    "\n",
    "# Load symbol icons and their labels\n",
    "for i, symbol_icon_filename in enumerate(symbol_icon_files):\n",
    "    label, ext = os.path.splitext(symbol_icon_filename)\n",
    "    if ext.lower() in ['.jpeg', '.jpg', '.png']:\n",
    "        # Add the filename to the dictionary with the corresponding symbol index\n",
    "        symbol_index_to_filename[i] = symbol_icon_filename\n",
    "        label = os.path.splitext(symbol_icon_filename)[0]  # Use the symbol_icon_filename as the label\n",
    "        ext = os.path.splitext(symbol_icon_filename)[1]\n",
    "        image_path = os.path.join(train_dir, symbol_icon_filename)\n",
    "        image = load_img(image_path, target_size=input_shape[:2])\n",
    "        image_array = img_to_array(image)\n",
    "        images.append(image_array)\n",
    "        labels.append(label)\n",
    "\n",
    "# Convert the data into NumPy arrays\n",
    "images = np.array(images)\n",
    "labels = np.array(labels)\n",
    "\n",
    "# Normalize the image data\n",
    "images = images / 255.0"
   ]
  },
  {
   "cell_type": "code",
   "execution_count": 8,
   "id": "d668993d",
   "metadata": {},
   "outputs": [
    {
     "ename": "error",
     "evalue": "OpenCV(4.7.0) D:\\a\\opencv-python\\opencv-python\\opencv\\modules\\imgproc\\src\\resize.cpp:4062: error: (-215:Assertion failed) !ssize.empty() in function 'cv::resize'\n",
     "output_type": "error",
     "traceback": [
      "\u001b[1;31m---------------------------------------------------------------------------\u001b[0m",
      "\u001b[1;31merror\u001b[0m                                     Traceback (most recent call last)",
      "\u001b[1;32m~\\AppData\\Local\\Temp\\ipykernel_18388\\3880732300.py\u001b[0m in \u001b[0;36m<module>\u001b[1;34m\u001b[0m\n\u001b[0;32m      6\u001b[0m \u001b[1;33m\u001b[0m\u001b[0m\n\u001b[0;32m      7\u001b[0m \u001b[1;31m# Preprocess symbol icon (resize, normalize, etc.)\u001b[0m\u001b[1;33m\u001b[0m\u001b[1;33m\u001b[0m\u001b[0m\n\u001b[1;32m----> 8\u001b[1;33m \u001b[0msymbol_icon\u001b[0m \u001b[1;33m=\u001b[0m \u001b[0mcv2\u001b[0m\u001b[1;33m.\u001b[0m\u001b[0mresize\u001b[0m\u001b[1;33m(\u001b[0m\u001b[0msymbol_icon\u001b[0m\u001b[1;33m,\u001b[0m \u001b[1;33m(\u001b[0m\u001b[1;36m64\u001b[0m\u001b[1;33m,\u001b[0m \u001b[1;36m64\u001b[0m\u001b[1;33m)\u001b[0m\u001b[1;33m)\u001b[0m\u001b[1;33m\u001b[0m\u001b[1;33m\u001b[0m\u001b[0m\n\u001b[0m\u001b[0;32m      9\u001b[0m \u001b[0msymbol_icon\u001b[0m \u001b[1;33m=\u001b[0m \u001b[0msymbol_icon\u001b[0m \u001b[1;33m/\u001b[0m \u001b[1;36m255.0\u001b[0m  \u001b[1;31m# Normalize pixel values to the range [0, 1]\u001b[0m\u001b[1;33m\u001b[0m\u001b[1;33m\u001b[0m\u001b[0m\n\u001b[0;32m     10\u001b[0m \u001b[1;33m\u001b[0m\u001b[0m\n",
      "\u001b[1;31merror\u001b[0m: OpenCV(4.7.0) D:\\a\\opencv-python\\opencv-python\\opencv\\modules\\imgproc\\src\\resize.cpp:4062: error: (-215:Assertion failed) !ssize.empty() in function 'cv::resize'\n"
     ]
    }
   ],
   "source": [
    "import cv2\n",
    "\n",
    "# Load symbol icon image\n",
    "symbol_icon = cv2.imread('2-way Valve.jpeg', cv2.IMREAD_GRAYSCALE)\n",
    "\n",
    "\n",
    "# Preprocess symbol icon (resize, normalize, etc.)\n",
    "symbol_icon = cv2.resize(symbol_icon, (64, 64))\n",
    "symbol_icon = symbol_icon / 255.0  # Normalize pixel values to the range [0, 1]\n",
    "\n",
    "# Load PDF page image\n",
    "pdf_page = cv2.imread('Test.png', cv2.IMREAD_GRAYSCALE)"
   ]
  },
  {
   "cell_type": "code",
   "execution_count": null,
   "id": "8d8c6729",
   "metadata": {},
   "outputs": [],
   "source": [
    "\n",
    "\n",
    "# Preprocess PDF page (resize, normalize, etc.)\n",
    "pdf_page = cv2.resize(pdf_page, (desired_width, desired_height))\n",
    "pdf_page = pdf_page / 255.0  # Normalize pixel values to the range [0, 1]\n",
    "\n",
    "# Perform symbol recognition using the trained model\n",
    "symbol_prediction = model.predict(pdf_page)\n",
    "\n",
    "# Find the index of the predicted symbol with the highest confidence\n",
    "predicted_symbol_index = np.argmax(symbol_prediction)\n",
    "\n",
    "# Get the corresponding symbol label from your dataset\n",
    "predicted_symbol = symbol_labels[predicted_symbol_index]\n",
    "\n",
    "# Print the predicted symbol\n",
    "print(\"Predicted symbol:\", predicted_symbol)\n"
   ]
  },
  {
   "cell_type": "code",
   "execution_count": null,
   "id": "efb1ee65",
   "metadata": {},
   "outputs": [],
   "source": []
  }
 ],
 "metadata": {
  "kernelspec": {
   "display_name": "Python 3 (ipykernel)",
   "language": "python",
   "name": "python3"
  },
  "language_info": {
   "codemirror_mode": {
    "name": "ipython",
    "version": 3
   },
   "file_extension": ".py",
   "mimetype": "text/x-python",
   "name": "python",
   "nbconvert_exporter": "python",
   "pygments_lexer": "ipython3",
   "version": "3.9.13"
  },
  "varInspector": {
   "cols": {
    "lenName": 16,
    "lenType": 16,
    "lenVar": 40
   },
   "kernels_config": {
    "python": {
     "delete_cmd_postfix": "",
     "delete_cmd_prefix": "del ",
     "library": "var_list.py",
     "varRefreshCmd": "print(var_dic_list())"
    },
    "r": {
     "delete_cmd_postfix": ") ",
     "delete_cmd_prefix": "rm(",
     "library": "var_list.r",
     "varRefreshCmd": "cat(var_dic_list()) "
    }
   },
   "types_to_exclude": [
    "module",
    "function",
    "builtin_function_or_method",
    "instance",
    "_Feature"
   ],
   "window_display": false
  }
 },
 "nbformat": 4,
 "nbformat_minor": 5
}
