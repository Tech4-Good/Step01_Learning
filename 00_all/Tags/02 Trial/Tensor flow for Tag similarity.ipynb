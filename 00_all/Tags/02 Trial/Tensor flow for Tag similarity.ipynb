{
 "cells": [
  {
   "cell_type": "code",
   "execution_count": 27,
   "id": "6291695a",
   "metadata": {},
   "outputs": [],
   "source": [
    "import pandas as pd\n",
    "import numpy as np\n",
    "from sklearn.metrics.pairwise import cosine_similarity\n",
    "from tensorflow.keras.preprocessing.text import Tokenizer\n",
    "from tensorflow.keras.preprocessing.sequence import pad_sequences"
   ]
  },
  {
   "cell_type": "code",
   "execution_count": 28,
   "id": "359b8acc",
   "metadata": {},
   "outputs": [],
   "source": [
    "# Input data\n",
    "df = pd.read_csv('Aliasing_Master.csv')"
   ]
  },
  {
   "cell_type": "code",
   "execution_count": 29,
   "id": "f0a4763c",
   "metadata": {},
   "outputs": [
    {
     "data": {
      "text/html": [
       "<div>\n",
       "<style scoped>\n",
       "    .dataframe tbody tr th:only-of-type {\n",
       "        vertical-align: middle;\n",
       "    }\n",
       "\n",
       "    .dataframe tbody tr th {\n",
       "        vertical-align: top;\n",
       "    }\n",
       "\n",
       "    .dataframe thead th {\n",
       "        text-align: right;\n",
       "    }\n",
       "</style>\n",
       "<table border=\"1\" class=\"dataframe\">\n",
       "  <thead>\n",
       "    <tr style=\"text-align: right;\">\n",
       "      <th></th>\n",
       "      <th>PID</th>\n",
       "      <th>SPI</th>\n",
       "      <th>PDS</th>\n",
       "    </tr>\n",
       "  </thead>\n",
       "  <tbody>\n",
       "    <tr>\n",
       "      <th>129</th>\n",
       "      <td>JE-CRC301-TT-130064A</td>\n",
       "      <td>C301FE   060009</td>\n",
       "      <td>MH-CRC301-M160001</td>\n",
       "    </tr>\n",
       "    <tr>\n",
       "      <th>130</th>\n",
       "      <td>JE-CRC301-TT-200068B</td>\n",
       "      <td>C301FT   060009</td>\n",
       "      <td>ES-CRC301-004-8FB</td>\n",
       "    </tr>\n",
       "    <tr>\n",
       "      <th>131</th>\n",
       "      <td>JE-CRC301-PSV-060040</td>\n",
       "      <td>C301FIC  060009</td>\n",
       "      <td>JWCRC301BC00453E1</td>\n",
       "    </tr>\n",
       "    <tr>\n",
       "      <th>132</th>\n",
       "      <td>JE-CRC301-PT-150086</td>\n",
       "      <td>C301FV   060009</td>\n",
       "      <td>JWCRC301CE0001FFD</td>\n",
       "    </tr>\n",
       "    <tr>\n",
       "      <th>133</th>\n",
       "      <td>JE-CRC301-PV-175010</td>\n",
       "      <td>C301FE   060010</td>\n",
       "      <td>JB-CRC301-AH3008-E</td>\n",
       "    </tr>\n",
       "  </tbody>\n",
       "</table>\n",
       "</div>"
      ],
      "text/plain": [
       "                      PID              SPI                 PDS\n",
       "129  JE-CRC301-TT-130064A  C301FE   060009   MH-CRC301-M160001\n",
       "130  JE-CRC301-TT-200068B  C301FT   060009   ES-CRC301-004-8FB\n",
       "131  JE-CRC301-PSV-060040  C301FIC  060009   JWCRC301BC00453E1\n",
       "132   JE-CRC301-PT-150086  C301FV   060009   JWCRC301CE0001FFD\n",
       "133   JE-CRC301-PV-175010  C301FE   060010  JB-CRC301-AH3008-E"
      ]
     },
     "execution_count": 29,
     "metadata": {},
     "output_type": "execute_result"
    }
   ],
   "source": [
    "df.tail()"
   ]
  },
  {
   "cell_type": "code",
   "execution_count": 30,
   "id": "bbfbd765",
   "metadata": {},
   "outputs": [
    {
     "ename": "ValueError",
     "evalue": "cannot reshape array of size 34500 into shape (134,newaxis)",
     "output_type": "error",
     "traceback": [
      "\u001b[1;31m---------------------------------------------------------------------------\u001b[0m",
      "\u001b[1;31mValueError\u001b[0m                                Traceback (most recent call last)",
      "\u001b[1;32m~\\AppData\\Local\\Temp\\ipykernel_4028\\3782405118.py\u001b[0m in \u001b[0;36m<module>\u001b[1;34m\u001b[0m\n\u001b[0;32m     27\u001b[0m \u001b[1;33m\u001b[0m\u001b[0m\n\u001b[0;32m     28\u001b[0m \u001b[1;31m# Reshape arrays for similarity calculation\u001b[0m\u001b[1;33m\u001b[0m\u001b[1;33m\u001b[0m\u001b[0m\n\u001b[1;32m---> 29\u001b[1;33m \u001b[0mreshaped_PID\u001b[0m \u001b[1;33m=\u001b[0m \u001b[0membeddings\u001b[0m\u001b[1;33m[\u001b[0m\u001b[0mpadded_sequences_PID\u001b[0m\u001b[1;33m.\u001b[0m\u001b[0mflatten\u001b[0m\u001b[1;33m(\u001b[0m\u001b[1;33m)\u001b[0m\u001b[1;33m]\u001b[0m\u001b[1;33m.\u001b[0m\u001b[0mreshape\u001b[0m\u001b[1;33m(\u001b[0m\u001b[0mlen\u001b[0m\u001b[1;33m(\u001b[0m\u001b[0mdf\u001b[0m\u001b[1;33m)\u001b[0m\u001b[1;33m,\u001b[0m \u001b[1;33m-\u001b[0m\u001b[1;36m1\u001b[0m\u001b[1;33m)\u001b[0m\u001b[1;33m\u001b[0m\u001b[1;33m\u001b[0m\u001b[0m\n\u001b[0m\u001b[0;32m     30\u001b[0m \u001b[0mreshaped_SPI\u001b[0m \u001b[1;33m=\u001b[0m \u001b[0membeddings\u001b[0m\u001b[1;33m[\u001b[0m\u001b[0mpadded_sequences_SPI\u001b[0m\u001b[1;33m.\u001b[0m\u001b[0mflatten\u001b[0m\u001b[1;33m(\u001b[0m\u001b[1;33m)\u001b[0m\u001b[1;33m]\u001b[0m\u001b[1;33m.\u001b[0m\u001b[0mreshape\u001b[0m\u001b[1;33m(\u001b[0m\u001b[0mlen\u001b[0m\u001b[1;33m(\u001b[0m\u001b[0mdf\u001b[0m\u001b[1;33m)\u001b[0m\u001b[1;33m,\u001b[0m \u001b[1;33m-\u001b[0m\u001b[1;36m1\u001b[0m\u001b[1;33m)\u001b[0m\u001b[1;33m\u001b[0m\u001b[1;33m\u001b[0m\u001b[0m\n\u001b[0;32m     31\u001b[0m \u001b[1;33m\u001b[0m\u001b[0m\n",
      "\u001b[1;31mValueError\u001b[0m: cannot reshape array of size 34500 into shape (134,newaxis)"
     ]
    }
   ],
   "source": [
    "# Set cutoff score for similarity\n",
    "cutoff_score = 0.8\n",
    "\n",
    "# Convert data to lowercase\n",
    "df['PID'] = df['PID'].str.lower()\n",
    "df['SPI'] = df['SPI'].str.lower()\n",
    "\n",
    "# Create tokenizer and fit on feature data\n",
    "tokenizer = Tokenizer(char_level=True, lower=True)\n",
    "tokenizer.fit_on_texts(str(df['PID']) + str(df['SPI']))\n",
    "\n",
    "# Convert feature data to sequences\n",
    "sequences_PID = tokenizer.texts_to_sequences(str(df['PID']))\n",
    "sequences_SPI = tokenizer.texts_to_sequences(str(df['SPI']))\n",
    "\n",
    "# Pad sequences to have equal length\n",
    "max_length = max(len(seq) for seq in sequences_PID + sequences_SPI)\n",
    "padded_sequences_PID = pad_sequences(sequences_PID, maxlen=max_length)\n",
    "padded_sequences_SPI = pad_sequences(sequences_SPI, maxlen=max_length)\n",
    "\n",
    "# Create character-level embeddings\n",
    "embedding_dim = 100  # Adjust the dimension as needed\n",
    "num_chars = len(tokenizer.word_index) + 1\n",
    "embeddings = np.zeros((num_chars + 1, embedding_dim))\n",
    "for char, char_index in tokenizer.word_index.items():\n",
    "    embeddings[char_index] = np.random.uniform(-1, 1, embedding_dim)\n",
    "\n",
    "# Reshape arrays for similarity calculation\n",
    "reshaped_PID = embeddings[padded_sequences_PID.flatten()].reshape(len(df), -1)\n",
    "reshaped_SPI = embeddings[padded_sequences_SPI.flatten()].reshape(len(df), -1)\n",
    "\n",
    "# Calculate similarity using cosine similarity\n",
    "similarity_matrix = cosine_similarity(reshaped_PID, reshaped_SPI)\n",
    "\n",
    "# Find the best match and all matches for each observation\n",
    "best_matches = []\n",
    "all_matches = []\n",
    "for i in range(len(df)):\n",
    "    similarity_scores = similarity_matrix[i]\n",
    "    best_match_index = np.argmax(similarity_scores)\n",
    "    best_match_score = np.max(similarity_scores)\n",
    "    best_match = df['SPI'][best_match_index]\n",
    "    all_matches_indices = np.where(similarity_scores >= cutoff_score)[0]\n",
    "    all_matches_text = [df['SPI'][index] for index in all_matches_indices]\n",
    "    best_matches.append(best_match)\n",
    "    all_matches.append(all_matches_text)\n",
    "\n",
    "# Create new features in the dataframe\n",
    "df['BestMatch'] = best\n",
    "\n"
   ]
  },
  {
   "cell_type": "code",
   "execution_count": null,
   "id": "9b896fbd",
   "metadata": {},
   "outputs": [],
   "source": []
  }
 ],
 "metadata": {
  "kernelspec": {
   "display_name": "Python 3 (ipykernel)",
   "language": "python",
   "name": "python3"
  },
  "language_info": {
   "codemirror_mode": {
    "name": "ipython",
    "version": 3
   },
   "file_extension": ".py",
   "mimetype": "text/x-python",
   "name": "python",
   "nbconvert_exporter": "python",
   "pygments_lexer": "ipython3",
   "version": "3.9.13"
  },
  "varInspector": {
   "cols": {
    "lenName": 16,
    "lenType": 16,
    "lenVar": 40
   },
   "kernels_config": {
    "python": {
     "delete_cmd_postfix": "",
     "delete_cmd_prefix": "del ",
     "library": "var_list.py",
     "varRefreshCmd": "print(var_dic_list())"
    },
    "r": {
     "delete_cmd_postfix": ") ",
     "delete_cmd_prefix": "rm(",
     "library": "var_list.r",
     "varRefreshCmd": "cat(var_dic_list()) "
    }
   },
   "types_to_exclude": [
    "module",
    "function",
    "builtin_function_or_method",
    "instance",
    "_Feature"
   ],
   "window_display": false
  }
 },
 "nbformat": 4,
 "nbformat_minor": 5
}
