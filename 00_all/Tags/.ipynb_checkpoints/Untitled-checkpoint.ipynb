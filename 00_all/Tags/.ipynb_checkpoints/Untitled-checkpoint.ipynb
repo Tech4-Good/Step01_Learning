{
 "cells": [
  {
   "cell_type": "markdown",
   "id": "0873599a",
   "metadata": {},
   "source": [
    "https://pbpython.com/record-linking.html"
   ]
  },
  {
   "cell_type": "code",
   "execution_count": 3,
   "id": "a735af37",
   "metadata": {},
   "outputs": [
    {
     "name": "stdout",
     "output_type": "stream",
     "text": [
      "Collecting fuzzymatcher\n",
      "  Downloading fuzzymatcher-0.0.6-py3-none-any.whl (15 kB)\n",
      "Requirement already satisfied: pandas in c:\\programdata\\anaconda3\\lib\\site-packages (from fuzzymatcher) (1.4.4)\n",
      "Collecting metaphone\n",
      "  Downloading Metaphone-0.6.tar.gz (14 kB)\n",
      "  Preparing metadata (setup.py): started\n",
      "  Preparing metadata (setup.py): finished with status 'done'\n",
      "Requirement already satisfied: python-dateutil in c:\\programdata\\anaconda3\\lib\\site-packages (from fuzzymatcher) (2.8.2)\n",
      "Collecting python-Levenshtein\n",
      "  Downloading python_Levenshtein-0.20.9-py3-none-any.whl (9.4 kB)\n",
      "Collecting rapidfuzz\n",
      "  Downloading rapidfuzz-2.15.0-cp39-cp39-win_amd64.whl (1.1 MB)\n",
      "     ---------------------------------------- 1.1/1.1 MB 2.0 MB/s eta 0:00:00\n",
      "Requirement already satisfied: numpy>=1.18.5 in c:\\programdata\\anaconda3\\lib\\site-packages (from pandas->fuzzymatcher) (1.21.5)\n",
      "Requirement already satisfied: pytz>=2020.1 in c:\\programdata\\anaconda3\\lib\\site-packages (from pandas->fuzzymatcher) (2022.1)\n",
      "Requirement already satisfied: six>=1.5 in c:\\programdata\\anaconda3\\lib\\site-packages (from python-dateutil->fuzzymatcher) (1.16.0)\n",
      "Collecting Levenshtein==0.20.9\n",
      "  Downloading Levenshtein-0.20.9-cp39-cp39-win_amd64.whl (101 kB)\n",
      "     -------------------------------------- 101.3/101.3 kB 5.7 MB/s eta 0:00:00\n",
      "Building wheels for collected packages: metaphone\n",
      "  Building wheel for metaphone (setup.py): started\n",
      "  Building wheel for metaphone (setup.py): finished with status 'done'\n",
      "  Created wheel for metaphone: filename=Metaphone-0.6-py3-none-any.whl size=13901 sha256=99486711ed227a79bdab55498f0f10a69529106e1321d0e64d5027adbabf766e\n",
      "  Stored in directory: c:\\users\\lsreeram\\appdata\\local\\pip\\cache\\wheels\\b2\\9e\\d9\\26be7687b8fe36cd6cacbec34e825a3dbcd3bae54017cfb385\n",
      "Successfully built metaphone\n",
      "Installing collected packages: metaphone, rapidfuzz, Levenshtein, python-Levenshtein, fuzzymatcher\n",
      "Successfully installed Levenshtein-0.20.9 fuzzymatcher-0.0.6 metaphone-0.6 python-Levenshtein-0.20.9 rapidfuzz-2.15.0\n"
     ]
    }
   ],
   "source": [
    "!pip install fuzzymatcher"
   ]
  },
  {
   "cell_type": "code",
   "execution_count": 4,
   "id": "6accad66",
   "metadata": {},
   "outputs": [],
   "source": [
    "import pandas as pd\n",
    "from pathlib import Path\n",
    "import fuzzymatcher"
   ]
  },
  {
   "cell_type": "code",
   "execution_count": null,
   "id": "b0014993",
   "metadata": {},
   "outputs": [],
   "source": [
    "hospital_accounts = pd.read_csv('hospital_account_info.csv')\n",
    "hospital_reimbursement = pd.read_csv('hospital_reimbursement.csv')"
   ]
  },
  {
   "cell_type": "code",
   "execution_count": null,
   "id": "ef664e5f",
   "metadata": {},
   "outputs": [],
   "source": [
    "master=pd.read_excel('Aliasing_Mater.xlsx')\n",
    "spid_unique = master['PID'].unique().tolist()\n",
    "spi_unique = master['SPI'].unique().tolist()\n",
    "\n",
    "print(len(spid_unique))\n",
    "print(len(spi_unique))\n",
    "\n",
    "spid_small=spid_unique[:10000]\n",
    "spi_small=spi_unique[:10000]"
   ]
  },
  {
   "cell_type": "code",
   "execution_count": null,
   "id": "f8e0c9e3",
   "metadata": {},
   "outputs": [],
   "source": [
    "left_on = ['PID']\n",
    "\n",
    "right_on = ['SPI']"
   ]
  }
 ],
 "metadata": {
  "kernelspec": {
   "display_name": "Python 3 (ipykernel)",
   "language": "python",
   "name": "python3"
  },
  "language_info": {
   "codemirror_mode": {
    "name": "ipython",
    "version": 3
   },
   "file_extension": ".py",
   "mimetype": "text/x-python",
   "name": "python",
   "nbconvert_exporter": "python",
   "pygments_lexer": "ipython3",
   "version": "3.9.13"
  },
  "varInspector": {
   "cols": {
    "lenName": 16,
    "lenType": 16,
    "lenVar": 40
   },
   "kernels_config": {
    "python": {
     "delete_cmd_postfix": "",
     "delete_cmd_prefix": "del ",
     "library": "var_list.py",
     "varRefreshCmd": "print(var_dic_list())"
    },
    "r": {
     "delete_cmd_postfix": ") ",
     "delete_cmd_prefix": "rm(",
     "library": "var_list.r",
     "varRefreshCmd": "cat(var_dic_list()) "
    }
   },
   "types_to_exclude": [
    "module",
    "function",
    "builtin_function_or_method",
    "instance",
    "_Feature"
   ],
   "window_display": false
  }
 },
 "nbformat": 4,
 "nbformat_minor": 5
}
