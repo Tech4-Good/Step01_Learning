{
 "cells": [
  {
   "cell_type": "markdown",
   "id": "b400588e",
   "metadata": {},
   "source": [
    "# Part 1"
   ]
  },
  {
   "cell_type": "markdown",
   "id": "8173281a",
   "metadata": {},
   "source": [
    "In this assignment you are required to scrape all products from this URL:\n",
    "    \n",
    "https://www.amazon.in/s?k=bags&crid=2M096C61O4MLT&qid=1653308124&sprefix=ba%2Caps%2C283&ref=sr_pg_1\n",
    "    \n",
    "Need to scrape atleast 20 pages of product listing pages.\n",
    "\n",
    "Items to scrape\n",
    "\n",
    "• Product URL\n",
    "\n",
    "• Product Name\n",
    "\n",
    "• Product Price\n",
    "\n",
    "• Rating\n",
    "\n",
    "• Number of reviews"
   ]
  },
  {
   "cell_type": "markdown",
   "id": "72ceef62",
   "metadata": {},
   "source": [
    "#### Step 1 - Import Pre-Requisites"
   ]
  },
  {
   "cell_type": "code",
   "execution_count": 3,
   "id": "019f2c3e",
   "metadata": {},
   "outputs": [],
   "source": [
    "import pandas as pd\n",
    "from bs4 import BeautifulSoup\n",
    "import requests\n",
    "import re"
   ]
  },
  {
   "cell_type": "markdown",
   "id": "e5dd3af8",
   "metadata": {},
   "source": [
    "#### Step 2 - Define User Agent & Access Assignment URL"
   ]
  },
  {
   "cell_type": "code",
   "execution_count": 4,
   "id": "026eb4f2",
   "metadata": {},
   "outputs": [],
   "source": [
    "headers = {'User-Agent': 'Mozilla/5.0',  'Accept-Language': 'en-US, en;q=0.5'}\n",
    "#headers = {'User-Agent': 'Chrome/111.0.5563.65'}\n",
    "URL = 'https://www.amazon.in/s?k=bags&crid=2M096C61O4MLT&qid=1653308124&sprefix=ba%2Caps%2C283&ref=sr_pg_1'\n",
    "webpage = requests.get(URL, headers=headers)\n",
    "soup = BeautifulSoup(webpage.content, \"lxml\")"
   ]
  },
  {
   "cell_type": "markdown",
   "id": "b672ee6c",
   "metadata": {},
   "source": [
    "#### Step 3 - Loop through the webpage element tag to obtain required information"
   ]
  },
  {
   "cell_type": "code",
   "execution_count": 12,
   "id": "a5ebacbe",
   "metadata": {},
   "outputs": [
    {
     "data": {
      "text/html": [
       "<div>\n",
       "<style scoped>\n",
       "    .dataframe tbody tr th:only-of-type {\n",
       "        vertical-align: middle;\n",
       "    }\n",
       "\n",
       "    .dataframe tbody tr th {\n",
       "        vertical-align: top;\n",
       "    }\n",
       "\n",
       "    .dataframe thead th {\n",
       "        text-align: right;\n",
       "    }\n",
       "</style>\n",
       "<table border=\"1\" class=\"dataframe\">\n",
       "  <thead>\n",
       "    <tr style=\"text-align: right;\">\n",
       "      <th></th>\n",
       "      <th>Product Name</th>\n",
       "      <th>Price</th>\n",
       "      <th>User_Rating</th>\n",
       "      <th>Reviews Count</th>\n",
       "    </tr>\n",
       "  </thead>\n",
       "  <tbody>\n",
       "    <tr>\n",
       "      <th>0</th>\n",
       "      <td>American Tourister 32 Ltrs Black Casual Backpa...</td>\n",
       "      <td>1,199</td>\n",
       "      <td>4.0</td>\n",
       "      <td>(52,302)</td>\n",
       "    </tr>\n",
       "    <tr>\n",
       "      <th>1</th>\n",
       "      <td>Skybags Brat Black 46 Cms Casual Backpack</td>\n",
       "      <td>659</td>\n",
       "      <td>4.1</td>\n",
       "      <td>(3,775)</td>\n",
       "    </tr>\n",
       "    <tr>\n",
       "      <th>2</th>\n",
       "      <td>Wesley Milestone 2.0 Casual Waterproof Laptop ...</td>\n",
       "      <td>565</td>\n",
       "      <td>4.3</td>\n",
       "      <td>(9,815)</td>\n",
       "    </tr>\n",
       "    <tr>\n",
       "      <th>3</th>\n",
       "      <td>Kuber Industries Women's Handkerchief Set (Cre...</td>\n",
       "      <td>313</td>\n",
       "      <td>3.8</td>\n",
       "      <td>(482)</td>\n",
       "    </tr>\n",
       "    <tr>\n",
       "      <th>4</th>\n",
       "      <td>Fiesto Fashion PU Leather Handbags With Sling ...</td>\n",
       "      <td>615</td>\n",
       "      <td>3.9</td>\n",
       "      <td>(4,102)</td>\n",
       "    </tr>\n",
       "  </tbody>\n",
       "</table>\n",
       "</div>"
      ],
      "text/plain": [
       "                                        Product Name  Price User_Rating  \\\n",
       "0  American Tourister 32 Ltrs Black Casual Backpa...  1,199         4.0   \n",
       "1         Skybags Brat Black 46 Cms Casual Backpack     659         4.1   \n",
       "2  Wesley Milestone 2.0 Casual Waterproof Laptop ...    565         4.3   \n",
       "3  Kuber Industries Women's Handkerchief Set (Cre...    313         3.8   \n",
       "4  Fiesto Fashion PU Leather Handbags With Sling ...    615         3.9   \n",
       "\n",
       "  Reviews Count  \n",
       "0      (52,302)  \n",
       "1       (3,775)  \n",
       "2       (9,815)  \n",
       "3         (482)  \n",
       "4       (4,102)  "
      ]
     },
     "execution_count": 12,
     "metadata": {},
     "output_type": "execute_result"
    }
   ],
   "source": [
    "alls = []\n",
    "\n",
    "for d in soup.findAll('div', attrs={'class':'aok-relative'}):\n",
    "    \n",
    "    name = d.find('a', attrs={'class':'a-link-normal s-underline-text s-underline-link-text s-link-style a-text-normal'})\n",
    "    price= d.find('span', attrs={'class':'a-price-whole'})\n",
    "    rating = d.find('span', attrs={'class':'a-size-base'})\n",
    "    reviews_count = d.find('span', attrs={'class':'a-size-base s-underline-text'})\n",
    "\n",
    "    all1=[]\n",
    "    \n",
    "    if name is not None:\n",
    "        all1.append(name.text)\n",
    "        #alt_name.text prints extra trailing whitespace at end, fix needed.\n",
    "    else:\n",
    "        all1.append('Unknown Product Name')\n",
    "        \n",
    "    if price is not None:\n",
    "        all1.append(price.text)\n",
    "    else:\n",
    "        all1.append('N/A')\n",
    "        \n",
    "    if rating is not None:\n",
    "        all1.append(rating.text)\n",
    "    else:\n",
    "        all1.append('0')\n",
    "        \n",
    "    if reviews_count is not None:\n",
    "        all1.append(reviews_count.text)\n",
    "        alls.append(all1)\n",
    "\n",
    "csv_headers = [ 'Product Name', 'Price', 'User_Rating', 'Reviews Count']\n",
    "df_Part1 = pd.DataFrame(alls)\n",
    "df_Part1.columns=csv_headers\n",
    "\n",
    "df_Part1.to_csv('Amazon_products_Part1.csv')\n",
    "df_Part1.head()\n",
    "#df.tail()"
   ]
  },
  {
   "cell_type": "code",
   "execution_count": 13,
   "id": "9be34cdd",
   "metadata": {
    "scrolled": true
   },
   "outputs": [
    {
     "data": {
      "text/html": [
       "<div>\n",
       "<style scoped>\n",
       "    .dataframe tbody tr th:only-of-type {\n",
       "        vertical-align: middle;\n",
       "    }\n",
       "\n",
       "    .dataframe tbody tr th {\n",
       "        vertical-align: top;\n",
       "    }\n",
       "\n",
       "    .dataframe thead th {\n",
       "        text-align: right;\n",
       "    }\n",
       "</style>\n",
       "<table border=\"1\" class=\"dataframe\">\n",
       "  <thead>\n",
       "    <tr style=\"text-align: right;\">\n",
       "      <th></th>\n",
       "      <th>Product Name</th>\n",
       "      <th>Price</th>\n",
       "      <th>User_Rating</th>\n",
       "      <th>Reviews Count</th>\n",
       "    </tr>\n",
       "  </thead>\n",
       "  <tbody>\n",
       "    <tr>\n",
       "      <th>31</th>\n",
       "      <td>Mi Step Out 12 L Mini Backpack (Small Size, Bl...</td>\n",
       "      <td>398</td>\n",
       "      <td>4.1</td>\n",
       "      <td>(8,162)</td>\n",
       "    </tr>\n",
       "    <tr>\n",
       "      <th>32</th>\n",
       "      <td>Gear Classic 20L Faux Leather Water Resistant ...</td>\n",
       "      <td>1,075</td>\n",
       "      <td>4.4</td>\n",
       "      <td>(5,456)</td>\n",
       "    </tr>\n",
       "    <tr>\n",
       "      <th>33</th>\n",
       "      <td>Safari Quill Laptop Backpack 26 Ltrs Water Res...</td>\n",
       "      <td>799</td>\n",
       "      <td>3.9</td>\n",
       "      <td>(717)</td>\n",
       "    </tr>\n",
       "    <tr>\n",
       "      <th>34</th>\n",
       "      <td>ADISA 35L Large Laptop Backpack Office Bag Col...</td>\n",
       "      <td>599</td>\n",
       "      <td>4.0</td>\n",
       "      <td>(32)</td>\n",
       "    </tr>\n",
       "    <tr>\n",
       "      <th>35</th>\n",
       "      <td>ADISA Light Weight Laptop Backpack 32 Ltrs</td>\n",
       "      <td>499</td>\n",
       "      <td>4.0</td>\n",
       "      <td>(5,650)</td>\n",
       "    </tr>\n",
       "  </tbody>\n",
       "</table>\n",
       "</div>"
      ],
      "text/plain": [
       "                                         Product Name  Price User_Rating  \\\n",
       "31  Mi Step Out 12 L Mini Backpack (Small Size, Bl...    398         4.1   \n",
       "32  Gear Classic 20L Faux Leather Water Resistant ...  1,075         4.4   \n",
       "33  Safari Quill Laptop Backpack 26 Ltrs Water Res...    799         3.9   \n",
       "34  ADISA 35L Large Laptop Backpack Office Bag Col...    599         4.0   \n",
       "35        ADISA Light Weight Laptop Backpack 32 Ltrs     499         4.0   \n",
       "\n",
       "   Reviews Count  \n",
       "31       (8,162)  \n",
       "32       (5,456)  \n",
       "33         (717)  \n",
       "34          (32)  \n",
       "35       (5,650)  "
      ]
     },
     "execution_count": 13,
     "metadata": {},
     "output_type": "execute_result"
    }
   ],
   "source": [
    "df_Part1.tail()"
   ]
  },
  {
   "cell_type": "markdown",
   "id": "c2f59b9d",
   "metadata": {},
   "source": [
    "# Part 2"
   ]
  },
  {
   "cell_type": "markdown",
   "id": "a20d3cd8",
   "metadata": {},
   "source": [
    "With the Product URL received in the above case, hit each URL, and add below items:\n",
    "    \n",
    "• Description\n",
    "\n",
    "• ASIN\n",
    "\n",
    "• Product Description\n",
    "\n",
    "• Manufacturer"
   ]
  },
  {
   "cell_type": "code",
   "execution_count": 18,
   "id": "bb035dbe",
   "metadata": {},
   "outputs": [
    {
     "data": {
      "text/html": [
       "<div>\n",
       "<style scoped>\n",
       "    .dataframe tbody tr th:only-of-type {\n",
       "        vertical-align: middle;\n",
       "    }\n",
       "\n",
       "    .dataframe tbody tr th {\n",
       "        vertical-align: top;\n",
       "    }\n",
       "\n",
       "    .dataframe thead th {\n",
       "        text-align: right;\n",
       "    }\n",
       "</style>\n",
       "<table border=\"1\" class=\"dataframe\">\n",
       "  <thead>\n",
       "    <tr style=\"text-align: right;\">\n",
       "      <th></th>\n",
       "      <th>Product Name</th>\n",
       "      <th>Product Description</th>\n",
       "      <th>URL_links</th>\n",
       "    </tr>\n",
       "  </thead>\n",
       "  <tbody>\n",
       "    <tr>\n",
       "      <th>0</th>\n",
       "      <td>N/A</td>\n",
       "      <td>N/A</td>\n",
       "      <td>/b/ref=sxts_spks_0_0_dbb31dc2-f6c4-487f-9f15-0...</td>\n",
       "    </tr>\n",
       "    <tr>\n",
       "      <th>1</th>\n",
       "      <td>N/A</td>\n",
       "      <td>N/A</td>\n",
       "      <td>/American-Tourister-AMT-SCH-02/dp/B07CJCGM1M/r...</td>\n",
       "    </tr>\n",
       "    <tr>\n",
       "      <th>2</th>\n",
       "      <td>N/A</td>\n",
       "      <td>N/A</td>\n",
       "      <td>/Skybags-Brat-Black-Casual-Backpack/dp/B08Z1HH...</td>\n",
       "    </tr>\n",
       "    <tr>\n",
       "      <th>3</th>\n",
       "      <td>N/A</td>\n",
       "      <td>N/A</td>\n",
       "      <td>/Wesley-Milestone-Waterproof-Backpack-Business...</td>\n",
       "    </tr>\n",
       "    <tr>\n",
       "      <th>4</th>\n",
       "      <td>N/A</td>\n",
       "      <td>N/A</td>\n",
       "      <td>/Kuber-Industries-Handcrafted-Embroidered-Hand...</td>\n",
       "    </tr>\n",
       "  </tbody>\n",
       "</table>\n",
       "</div>"
      ],
      "text/plain": [
       "  Product Name Product Description  \\\n",
       "0          N/A                 N/A   \n",
       "1          N/A                 N/A   \n",
       "2          N/A                 N/A   \n",
       "3          N/A                 N/A   \n",
       "4          N/A                 N/A   \n",
       "\n",
       "                                           URL_links  \n",
       "0  /b/ref=sxts_spks_0_0_dbb31dc2-f6c4-487f-9f15-0...  \n",
       "1  /American-Tourister-AMT-SCH-02/dp/B07CJCGM1M/r...  \n",
       "2  /Skybags-Brat-Black-Casual-Backpack/dp/B08Z1HH...  \n",
       "3  /Wesley-Milestone-Waterproof-Backpack-Business...  \n",
       "4  /Kuber-Industries-Handcrafted-Embroidered-Hand...  "
      ]
     },
     "execution_count": 18,
     "metadata": {},
     "output_type": "execute_result"
    }
   ],
   "source": [
    "#Get Links\n",
    "\n",
    "links_list=[]\n",
    "results=[]\n",
    "# Fetch links as List of Tag Objects\n",
    "links = soup.find_all(\"a\", attrs={'class':'a-link-normal s-no-outline'})\n",
    "# Store the links\n",
    "links_list = []\n",
    "# Loop for extracting links from Tag Objects\n",
    "\n",
    "for link in links:\n",
    "    links_list.append(link.get('href'))\n",
    "    # Loop for extracting product details from each link\n",
    "\n",
    "for link in links_list:\n",
    "    new_webpage = requests.get(\"https://www.amazon.in\" + link, headers=headers)\n",
    "    new_soup = BeautifulSoup(new_webpage.content, \"lxml\")\n",
    "    # Function calls to display all necessary product information\n",
    "    res1=[]\n",
    "    try:\n",
    "        # Outer Tag Object\n",
    "        title = soup.find(\"span\", attrs={\"id\":'productTitle'})\n",
    "        # Inner NavigatableString Object\n",
    "        title_value = title.string\n",
    "        # Title as a string value\n",
    "        title_string = title_value.strip()\n",
    "        res1.append(title_string)\n",
    "        \n",
    "    except AttributeError:\n",
    "        title_string = 'N/A'\n",
    "        res1.append(title_string)\n",
    "    try:\n",
    "        feature = soup.find('ul', attrs={'class':'a-unordered-list a-vertical a-spacing-mini'})\n",
    "        res1.append(feature.text)\n",
    "    except AttributeError:\n",
    "        res1.append('N/A')\n",
    "        results.append(res1)\n",
    "\n",
    "csv2_headers = ['Product Name','Product Description']\n",
    "df_Part2=pd.DataFrame(results)\n",
    "df_Part2.columns=csv2_headers\n",
    "df_Part2['URL_links']=pd.DataFrame(links_list)\n",
    "\n",
    "df_Part2.to_csv('Amazon_products_Part2.csv')\n",
    "df_Part2.head()"
   ]
  },
  {
   "cell_type": "code",
   "execution_count": 19,
   "id": "1ba38101",
   "metadata": {},
   "outputs": [
    {
     "data": {
      "text/html": [
       "<div>\n",
       "<style scoped>\n",
       "    .dataframe tbody tr th:only-of-type {\n",
       "        vertical-align: middle;\n",
       "    }\n",
       "\n",
       "    .dataframe tbody tr th {\n",
       "        vertical-align: top;\n",
       "    }\n",
       "\n",
       "    .dataframe thead th {\n",
       "        text-align: right;\n",
       "    }\n",
       "</style>\n",
       "<table border=\"1\" class=\"dataframe\">\n",
       "  <thead>\n",
       "    <tr style=\"text-align: right;\">\n",
       "      <th></th>\n",
       "      <th>Product Name</th>\n",
       "      <th>Product Description</th>\n",
       "      <th>URL_links</th>\n",
       "    </tr>\n",
       "  </thead>\n",
       "  <tbody>\n",
       "    <tr>\n",
       "      <th>27</th>\n",
       "      <td>N/A</td>\n",
       "      <td>N/A</td>\n",
       "      <td>/ADISA-Laptop-Backpack-Office-College/dp/B0BPV...</td>\n",
       "    </tr>\n",
       "    <tr>\n",
       "      <th>28</th>\n",
       "      <td>N/A</td>\n",
       "      <td>N/A</td>\n",
       "      <td>/ADISA-BP005-Weight-Casual-Backpack/dp/B07F3X4...</td>\n",
       "    </tr>\n",
       "  </tbody>\n",
       "</table>\n",
       "</div>"
      ],
      "text/plain": [
       "   Product Name Product Description  \\\n",
       "27          N/A                 N/A   \n",
       "28          N/A                 N/A   \n",
       "\n",
       "                                            URL_links  \n",
       "27  /ADISA-Laptop-Backpack-Office-College/dp/B0BPV...  \n",
       "28  /ADISA-BP005-Weight-Casual-Backpack/dp/B07F3X4...  "
      ]
     },
     "execution_count": 19,
     "metadata": {},
     "output_type": "execute_result"
    }
   ],
   "source": [
    "df_Part2.tail(2)"
   ]
  },
  {
   "cell_type": "code",
   "execution_count": 22,
   "id": "12eb326d",
   "metadata": {},
   "outputs": [
    {
     "data": {
      "text/plain": [
       "(36, 4)"
      ]
     },
     "execution_count": 22,
     "metadata": {},
     "output_type": "execute_result"
    }
   ],
   "source": [
    "df_Part1.shape"
   ]
  },
  {
   "cell_type": "code",
   "execution_count": null,
   "id": "7aba2205",
   "metadata": {},
   "outputs": [],
   "source": []
  }
 ],
 "metadata": {
  "kernelspec": {
   "display_name": "Python 3 (ipykernel)",
   "language": "python",
   "name": "python3"
  },
  "language_info": {
   "codemirror_mode": {
    "name": "ipython",
    "version": 3
   },
   "file_extension": ".py",
   "mimetype": "text/x-python",
   "name": "python",
   "nbconvert_exporter": "python",
   "pygments_lexer": "ipython3",
   "version": "3.9.13"
  }
 },
 "nbformat": 4,
 "nbformat_minor": 5
}
