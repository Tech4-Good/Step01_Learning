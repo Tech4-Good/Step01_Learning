{
 "cells": [
  {
   "cell_type": "markdown",
   "id": "c7b16222",
   "metadata": {},
   "source": [
    "# Week 1"
   ]
  },
  {
   "cell_type": "markdown",
   "id": "542a85b4",
   "metadata": {},
   "source": [
    "## Week 1 Learning videos"
   ]
  },
  {
   "cell_type": "code",
   "execution_count": null,
   "id": "bcfdff82",
   "metadata": {},
   "outputs": [],
   "source": [
    "import numpy as np\n",
    "import pandas as pd\n",
    "import matplotlib.pyplot as plt\n",
    "import seaborn as sns\n",
    "import os"
   ]
  },
  {
   "cell_type": "markdown",
   "id": "d1fa3b47",
   "metadata": {},
   "source": [
    "Fix\n",
    "Can we plot corelation of all variables wrt target / predictor variable?"
   ]
  },
  {
   "cell_type": "code",
   "execution_count": null,
   "id": "27af1790",
   "metadata": {},
   "outputs": [],
   "source": [
    "os.chdir('C:/Users/lsreeram/Downloads/_/GL/04 Data Mining/Week 1/Learning Videos')"
   ]
  },
  {
   "cell_type": "code",
   "execution_count": null,
   "id": "74ef7076",
   "metadata": {},
   "outputs": [],
   "source": [
    "df =pd.read_excel('Delhi_Pollution_data+29.xlsx')"
   ]
  },
  {
   "cell_type": "code",
   "execution_count": null,
   "id": "02359c52",
   "metadata": {},
   "outputs": [],
   "source": [
    "df.head()"
   ]
  },
  {
   "cell_type": "code",
   "execution_count": null,
   "id": "94830364",
   "metadata": {},
   "outputs": [],
   "source": [
    "df.info()"
   ]
  },
  {
   "cell_type": "code",
   "execution_count": null,
   "id": "b71507af",
   "metadata": {},
   "outputs": [],
   "source": [
    "df.duplicated().sum()"
   ]
  },
  {
   "cell_type": "code",
   "execution_count": null,
   "id": "f620d65c",
   "metadata": {},
   "outputs": [],
   "source": [
    "df.isnull().sum()"
   ]
  },
  {
   "cell_type": "code",
   "execution_count": null,
   "id": "673a41d5",
   "metadata": {},
   "outputs": [],
   "source": [
    "df['City'].value_counts()"
   ]
  },
  {
   "cell_type": "code",
   "execution_count": null,
   "id": "7cdaea44",
   "metadata": {},
   "outputs": [],
   "source": [
    "df['AQI'].value_counts()"
   ]
  },
  {
   "cell_type": "code",
   "execution_count": null,
   "id": "65e6043a",
   "metadata": {},
   "outputs": [],
   "source": [
    "df_pca = df.drop(['City', 'Date', 'AQI', 'AQI_Bucket'], axis = 1)"
   ]
  },
  {
   "cell_type": "code",
   "execution_count": null,
   "id": "9b6e96b3",
   "metadata": {},
   "outputs": [],
   "source": [
    "df_pca.head(3)"
   ]
  },
  {
   "cell_type": "code",
   "execution_count": null,
   "id": "0a03ae38",
   "metadata": {},
   "outputs": [],
   "source": [
    "len(df_pca.columns)"
   ]
  },
  {
   "cell_type": "code",
   "execution_count": null,
   "id": "23fa7532",
   "metadata": {},
   "outputs": [],
   "source": [
    "plt.figure(figsize = (12,8))\n",
    "for i in range(len(df_pca.columns)):\n",
    "    plt.subplot(3,4, i+1)\n",
    "    sns.boxplot(y = df_pca[df_pca.columns[i]], data = df_pca)\n",
    "    plt.title('Boxplot of {}'.format(df_pca.columns[i]))\n",
    "    plt.tight_layout()\n",
    "                "
   ]
  },
  {
   "cell_type": "code",
   "execution_count": null,
   "id": "5631e13a",
   "metadata": {},
   "outputs": [],
   "source": [
    "def remove_outlier(col):\n",
    "    Q1,Q3=col.quantile([0.25, 0.75])\n",
    "    IQR=Q3-Q1\n",
    "    lower_range=Q1-(1.5*IQR)\n",
    "    upper_range=Q3+(1.5*IQR)\n",
    "    return lower_range, upper_range"
   ]
  },
  {
   "cell_type": "code",
   "execution_count": null,
   "id": "41f12479",
   "metadata": {},
   "outputs": [],
   "source": [
    "for i in df_pca.columns:\n",
    "    LL,UL=remove_outlier(df_pca[i])\n",
    "    df_pca[i] = np.where(df_pca[i] > UL, UL, df_pca[i])\n",
    "    df_pca[i] = np.where(df_pca[i] < LL, LL, df_pca[i])"
   ]
  },
  {
   "cell_type": "code",
   "execution_count": null,
   "id": "6169dc71",
   "metadata": {},
   "outputs": [],
   "source": [
    "plt.figure(figsize = (12,8))\n",
    "for i in range(len(df_pca.columns)):\n",
    "    plt.subplot(3,4, i+1)\n",
    "    sns.boxplot(y = df_pca[df_pca.columns[i]], data = df_pca)\n",
    "    plt.title('Boxplot of {}'.format(df_pca.columns[i]))\n",
    "    plt.tight_layout()"
   ]
  },
  {
   "cell_type": "code",
   "execution_count": null,
   "id": "f15609ad",
   "metadata": {},
   "outputs": [],
   "source": [
    "df_pca.describe().T"
   ]
  },
  {
   "cell_type": "code",
   "execution_count": null,
   "id": "e57b1cef",
   "metadata": {},
   "outputs": [],
   "source": [
    "#Scale the data\n",
    "from scipy.stats import zscore\n",
    "df_pca_scaled = df_pca.apply(zscore)"
   ]
  },
  {
   "cell_type": "code",
   "execution_count": null,
   "id": "f294d128",
   "metadata": {},
   "outputs": [],
   "source": [
    "df_pca_scaled.head()"
   ]
  },
  {
   "cell_type": "code",
   "execution_count": null,
   "id": "0b90dbc2",
   "metadata": {},
   "outputs": [],
   "source": [
    "df_pca_scaled.describe().T"
   ]
  },
  {
   "cell_type": "code",
   "execution_count": null,
   "id": "89aa1884",
   "metadata": {
    "scrolled": true
   },
   "outputs": [],
   "source": [
    "plt.figure(figsize=(10,8))\n",
    "sns.heatmap(df_pca_scaled.corr(), annot=True, fmt='.2f');"
   ]
  },
  {
   "cell_type": "code",
   "execution_count": null,
   "id": "78c97cc5",
   "metadata": {},
   "outputs": [],
   "source": [
    "!pip install factor-analyzer"
   ]
  },
  {
   "cell_type": "code",
   "execution_count": null,
   "id": "965197ed",
   "metadata": {},
   "outputs": [],
   "source": [
    "#Fix : How do we create H0, H1?\n",
    "\n",
    "#Confirm the statistical significance of correlations\n",
    "#H0: Correlations are not significant, H1: There are significant correlations\n",
    "#Reject H0 if p-value < 0.05\n",
    "from factor_analyzer.factor_analyzer import calculate_bartlett_sphericity\n",
    "chi_square_value,p_value=calculate_bartlett_sphericity(df_pca_scaled)\n",
    "p_value"
   ]
  },
  {
   "cell_type": "code",
   "execution_count": null,
   "id": "e7ad0c63",
   "metadata": {},
   "outputs": [],
   "source": [
    "#Confirm the adequacy of sample size. \n",
    "#Note: Above 0.7 is good, below 0.5 is not acceptable\n",
    "from factor_analyzer.factor_analyzer import calculate_kmo\n",
    "kmo_all,kmo_model=calculate_kmo(df_pca_scaled)\n",
    "kmo_model"
   ]
  },
  {
   "cell_type": "code",
   "execution_count": null,
   "id": "65a84046",
   "metadata": {},
   "outputs": [],
   "source": [
    "#Fix what is random_state?\n",
    "#Fix: What is pca_transformed for?\n",
    "\n",
    "#Apply PCA taking all features\n",
    "from sklearn.decomposition import PCA\n",
    "pca = PCA(n_components=12, random_state=123)\n",
    "pca_transformed = pca.fit_transform(df_pca_scaled)"
   ]
  },
  {
   "cell_type": "code",
   "execution_count": null,
   "id": "d9cf11a6",
   "metadata": {},
   "outputs": [],
   "source": [
    "#Extract eigen vectors\n",
    "pca.components_"
   ]
  },
  {
   "cell_type": "code",
   "execution_count": null,
   "id": "bbf9cae2",
   "metadata": {},
   "outputs": [],
   "source": [
    "pca.explained_variance_"
   ]
  },
  {
   "cell_type": "code",
   "execution_count": null,
   "id": "0c9845e7",
   "metadata": {},
   "outputs": [],
   "source": [
    "pca.explained_variance_ratio_"
   ]
  },
  {
   "cell_type": "code",
   "execution_count": null,
   "id": "2459d5fb",
   "metadata": {},
   "outputs": [],
   "source": [
    "#Create a dataframe containing the loadings or coefficients of all PCs\n",
    "df_extracted_loadings = pd.DataFrame(pca.components_.T, \n",
    "                                     columns = ['PC1','PC2', 'PC3', 'PC4', 'PC5', 'PC6',\n",
    "                                               'PC7','PC8', 'PC9', 'PC10', 'PC11', 'PC12'],\n",
    "                                    index = df_pca_scaled.columns)"
   ]
  },
  {
   "cell_type": "code",
   "execution_count": null,
   "id": "9a53af84",
   "metadata": {},
   "outputs": [],
   "source": [
    "#Create a scree plot\n",
    "plt.figure(figsize=(8,5))\n",
    "sns.lineplot(y=pca.explained_variance_ratio_ ,x=range(1,13),marker='o')\n",
    "plt.xlabel('Number of Components',fontsize=10)\n",
    "plt.ylabel('Variance Explained',fontsize=10)\n",
    "plt.title('Scree Plot',fontsize=12)\n",
    "plt.grid()\n",
    "plt.show()"
   ]
  },
  {
   "cell_type": "code",
   "execution_count": null,
   "id": "01cb6c5e",
   "metadata": {},
   "outputs": [],
   "source": [
    "#Check the cumlative explained variance ratio to find a cut off for selecting the number of PCs\n",
    "np.cumsum(pca.explained_variance_ratio_)"
   ]
  },
  {
   "cell_type": "code",
   "execution_count": null,
   "id": "fb687839",
   "metadata": {},
   "outputs": [],
   "source": [
    "#Fix how do we choose based on variance?\n",
    "\n",
    "#Choose the PCs basis cumulative explained variance\n",
    "df_selected = df_extracted_loadings[['PC1','PC2', 'PC3', 'PC4', 'PC5']]"
   ]
  },
  {
   "cell_type": "code",
   "execution_count": null,
   "id": "576de99a",
   "metadata": {},
   "outputs": [],
   "source": [
    "#Check the selected PCs\n",
    "df_selected"
   ]
  },
  {
   "cell_type": "code",
   "execution_count": null,
   "id": "435574be",
   "metadata": {},
   "outputs": [],
   "source": [
    "#Check as to how the original features matter to each PC\n",
    "#Note: Here we are only considering the absolute values\n",
    "plt.figure(figsize = (12,8))\n",
    "for i in range(len(df_selected.columns)):\n",
    "    plt.subplot(3,2,i+1)\n",
    "    abs(df_selected[df_selected.columns[i]]).T.sort_values(ascending = False).plot.bar()\n",
    "    plt.yticks(np.arange(0,1.2,.2))\n",
    "    plt.title('Abs. loadings of {}'.format(df_selected.columns[i]))\n",
    "    plt.tight_layout()"
   ]
  },
  {
   "cell_type": "code",
   "execution_count": null,
   "id": "6cff2a32",
   "metadata": {},
   "outputs": [],
   "source": [
    "#Compare how the original features influence various PCs\n",
    "plt.figure(figsize = (12,8))\n",
    "sns.heatmap(abs(df_selected), annot = True, cmap = 'Blues',fmt = '.2f');"
   ]
  },
  {
   "cell_type": "code",
   "execution_count": null,
   "id": "6aeb69ad",
   "metadata": {},
   "outputs": [],
   "source": [
    "#In order to calculate PC scores we need loadings, below:\n",
    "df_selected"
   ]
  },
  {
   "cell_type": "code",
   "execution_count": null,
   "id": "b173581d",
   "metadata": {},
   "outputs": [],
   "source": [
    "#...and we need the original scaled features\n",
    "df_pca_scaled.iloc[0]"
   ]
  },
  {
   "cell_type": "code",
   "execution_count": null,
   "id": "238838a9",
   "metadata": {},
   "outputs": [],
   "source": [
    "#What is feature & what is loadings, score?\n",
    "\n",
    "#We need to perform a dot product between the loadings and features to obtain the scores\n",
    "for i in df_selected.columns:\n",
    "    pc_score = np.dot(df_selected[i], df_pca_scaled.iloc[0])\n",
    "    print(round(pc_score, 6), end = ' ')"
   ]
  },
  {
   "cell_type": "code",
   "execution_count": null,
   "id": "18620255",
   "metadata": {},
   "outputs": [],
   "source": [
    "#Above step involves a lot of hard work. Let's do it the easier way\n",
    "#Extract the required(as per the cumulative explained variance) number of PCs\n",
    "pca = PCA(n_components=5, random_state=123)\n",
    "pca_final = pca.fit_transform(df_pca_scaled)"
   ]
  },
  {
   "cell_type": "code",
   "execution_count": null,
   "id": "85c4c128",
   "metadata": {},
   "outputs": [],
   "source": [
    "#Fix What are we scaling?\n",
    "#Just create a dataframe out of fit_transformed scaled data above\n",
    "#Note: Notice the output of cell 34 and the first row of the dataframe below\n",
    "pca_final_df = pd.DataFrame(pca_final, columns = df_selected.columns)\n",
    "pca_final_df.head(10)"
   ]
  },
  {
   "cell_type": "code",
   "execution_count": null,
   "id": "a7c31ff7",
   "metadata": {},
   "outputs": [],
   "source": [
    "#Check for presence of correlations among teh PCs\n",
    "plt.figure(figsize = (10,8))\n",
    "sns.heatmap(pca_final_df.corr(), annot=True,fmt='.2f');"
   ]
  },
  {
   "cell_type": "markdown",
   "id": "a6fc8d3a",
   "metadata": {},
   "source": [
    "## Week 1 Practice"
   ]
  },
  {
   "cell_type": "code",
   "execution_count": null,
   "id": "2d510b0d",
   "metadata": {},
   "outputs": [],
   "source": [
    "os.chdir('C:/Users/lsreeram/Downloads/_/GL/04 Data Mining/Week 1/Practice Quiz')"
   ]
  },
  {
   "cell_type": "code",
   "execution_count": null,
   "id": "fdc42fce",
   "metadata": {},
   "outputs": [],
   "source": [
    "df= pd.read_csv('Redwine Quality.csv')"
   ]
  },
  {
   "cell_type": "code",
   "execution_count": null,
   "id": "c1a616fd",
   "metadata": {},
   "outputs": [],
   "source": [
    "df_pca.head(3)"
   ]
  },
  {
   "cell_type": "code",
   "execution_count": null,
   "id": "a3e3e6fa",
   "metadata": {},
   "outputs": [],
   "source": [
    "df_pca.info()"
   ]
  },
  {
   "cell_type": "code",
   "execution_count": null,
   "id": "9960c9f5",
   "metadata": {},
   "outputs": [],
   "source": [
    "df.isnull().sum()"
   ]
  },
  {
   "cell_type": "code",
   "execution_count": null,
   "id": "2ae0843a",
   "metadata": {
    "scrolled": true
   },
   "outputs": [],
   "source": [
    "#Check for presence of duplicate rows\n",
    "df.duplicated().sum()"
   ]
  },
  {
   "cell_type": "code",
   "execution_count": null,
   "id": "146fab1c",
   "metadata": {},
   "outputs": [],
   "source": [
    "df_pca= df.drop(['Unnamed: 0'], axis=1)"
   ]
  },
  {
   "cell_type": "code",
   "execution_count": null,
   "id": "675a3df5",
   "metadata": {},
   "outputs": [],
   "source": [
    "df_pca.head(3)"
   ]
  },
  {
   "cell_type": "code",
   "execution_count": null,
   "id": "8e43b960",
   "metadata": {},
   "outputs": [],
   "source": [
    "len(df_pca.columns)"
   ]
  },
  {
   "cell_type": "code",
   "execution_count": null,
   "id": "9dbdd3dd",
   "metadata": {},
   "outputs": [],
   "source": [
    "plt.figure(figsize= (12,8))\n",
    "\n",
    "for i in range(len(df.columns)):\n",
    "    plt.subplot(3,4, i+1)\n",
    "    sns.boxplot(y=df_pca.columns[i], data=df_pca)\n",
    "    plt.title('Boxplot of {}'.format(df_pca.columns[i]))\n",
    "    plt.tight_layout()\n"
   ]
  },
  {
   "cell_type": "code",
   "execution_count": null,
   "id": "2dc30a84",
   "metadata": {},
   "outputs": [],
   "source": [
    "def remove_outlier(col):\n",
    "    Q1,Q3=col.quantile([.25,.75])\n",
    "    IQR = Q3-Q1\n",
    "    lower_range = Q1-(IQR*1.5)\n",
    "    upper_range = Q3+ (IQR*1.5)\n",
    "    return lower_range, upper_range"
   ]
  },
  {
   "cell_type": "code",
   "execution_count": null,
   "id": "0ee9e503",
   "metadata": {},
   "outputs": [],
   "source": [
    "feature_list = df_pca.columns\n",
    "#Cap & floor the values beyond the outlier boundaries\n",
    "for i in feature_list:\n",
    "    LL, UL = remove_outlier(df_pca[i])\n",
    "    df_pca[i] = np.where(df_pca[i] > UL, UL, df_pca[i])\n",
    "    df_pca[i] = np.where(df_pca[i] < LL, LL, df_pca[i])"
   ]
  },
  {
   "cell_type": "code",
   "execution_count": null,
   "id": "d03ba3de",
   "metadata": {},
   "outputs": [],
   "source": [
    "plt.figure(figsize=(12,8))\n",
    "for i in range(len(feature_list)):\n",
    "    plt.subplot(3,4,i+1)\n",
    "    sns.boxplot(y=df_pca.columns[i], data=df_pca)\n",
    "    plt.title('Boxplot of {}'.format(df_pca.columns[i]))\n",
    "    plt.tight_layout()"
   ]
  },
  {
   "cell_type": "code",
   "execution_count": null,
   "id": "2f7eebb5",
   "metadata": {},
   "outputs": [],
   "source": [
    "df_pca.describe().T"
   ]
  },
  {
   "cell_type": "code",
   "execution_count": null,
   "id": "f075ee00",
   "metadata": {},
   "outputs": [],
   "source": [
    "from scipy.stats import zscore\n",
    "df_pca_scaled=df_pca.apply(zscore)"
   ]
  },
  {
   "cell_type": "code",
   "execution_count": null,
   "id": "52267532",
   "metadata": {},
   "outputs": [],
   "source": [
    "df_pca_scaled.head(3)"
   ]
  },
  {
   "cell_type": "code",
   "execution_count": null,
   "id": "6ed4f329",
   "metadata": {},
   "outputs": [],
   "source": [
    "df_pca_scaled.describe().T"
   ]
  },
  {
   "cell_type": "code",
   "execution_count": null,
   "id": "196ee4c7",
   "metadata": {},
   "outputs": [],
   "source": [
    "plt.figure(figsize=(10,8))\n",
    "sns.heatmap(df_pca_scaled.corr(), annot=True, fmt='.2f');"
   ]
  },
  {
   "cell_type": "code",
   "execution_count": null,
   "id": "9e2a5733",
   "metadata": {},
   "outputs": [],
   "source": [
    "#Confirm the statistical significance of correlations\n",
    "#H0: Correlations are not significant, H1: There are significant correlations\n",
    "#Reject H0 if p-value < 0.05\n",
    "from factor_analyzer.factor_analyzer import calculate_bartlett_sphericity\n",
    "chi_square_value,p_value=calculate_bartlett_sphericity(df_pca_scaled)\n",
    "p_value"
   ]
  },
  {
   "cell_type": "code",
   "execution_count": null,
   "id": "07374b3f",
   "metadata": {},
   "outputs": [],
   "source": [
    "#Fix how do we proceed?\n",
    "\n",
    "#Confirm the adequacy of sample size. \n",
    "#Note: Above 0.7 is good, below 0.5 is not acceptable\n",
    "from factor_analyzer.factor_analyzer import calculate_kmo\n",
    "kmo_all,kmo_model=calculate_kmo(df_pca_scaled)\n",
    "kmo_model"
   ]
  },
  {
   "cell_type": "code",
   "execution_count": null,
   "id": "de57f741",
   "metadata": {},
   "outputs": [],
   "source": [
    "#Apply PCA taking all features\n",
    "from sklearn.decomposition import PCA\n",
    "pca = PCA(n_components=11, random_state=123)\n",
    "pca_transformed = pca.fit_transform(df_pca_scaled)"
   ]
  },
  {
   "cell_type": "code",
   "execution_count": null,
   "id": "675e99d5",
   "metadata": {},
   "outputs": [],
   "source": [
    "#Extract eigen vectors\n",
    "pca.components_"
   ]
  },
  {
   "cell_type": "code",
   "execution_count": null,
   "id": "c20f8ac6",
   "metadata": {},
   "outputs": [],
   "source": [
    "pca.explained_variance_"
   ]
  },
  {
   "cell_type": "code",
   "execution_count": null,
   "id": "cb08fa64",
   "metadata": {},
   "outputs": [],
   "source": [
    "pca.explained_variance_ratio_"
   ]
  },
  {
   "cell_type": "code",
   "execution_count": null,
   "id": "4fa65d35",
   "metadata": {},
   "outputs": [],
   "source": [
    "#Create a dataframe containing the loadings or coefficients of all PCs\n",
    "df_extracted_loadings = pd.DataFrame(pca.components_.T, \n",
    "                                     columns = ['PC1','PC2', 'PC3', 'PC4', 'PC5', 'PC6',\n",
    "                                               'PC7','PC8', 'PC9', 'PC10', 'PC11'],\n",
    "                                    index = df_pca_scaled.columns)"
   ]
  },
  {
   "cell_type": "code",
   "execution_count": null,
   "id": "612af64a",
   "metadata": {},
   "outputs": [],
   "source": [
    "df_extracted_loadings.head(3)"
   ]
  },
  {
   "cell_type": "code",
   "execution_count": null,
   "id": "abca5570",
   "metadata": {},
   "outputs": [],
   "source": [
    "#Create a scree plot\n",
    "plt.figure(figsize=(8,5))\n",
    "sns.lineplot(y=pca.explained_variance_ratio_ ,x=range(1,12),marker='o')\n",
    "plt.xlabel('Number of Components',fontsize=10)\n",
    "plt.ylabel('Variance Explained',fontsize=10)\n",
    "plt.title('Scree Plot',fontsize=12)\n",
    "plt.grid()\n",
    "plt.show()"
   ]
  },
  {
   "cell_type": "code",
   "execution_count": null,
   "id": "c0d4f3ed",
   "metadata": {},
   "outputs": [],
   "source": [
    "#Check the cumlative explained variance ratio to find a cut off for selecting the number of PCs\n",
    "np.cumsum(pca.explained_variance_ratio_)"
   ]
  },
  {
   "cell_type": "code",
   "execution_count": null,
   "id": "1680dd8b",
   "metadata": {},
   "outputs": [],
   "source": [
    "#Choose the PCs basis cumulative explained variance\n",
    "df_selected = df_extracted_loadings[['PC1','PC2', 'PC3', 'PC4', 'PC5','PC6']]"
   ]
  },
  {
   "cell_type": "code",
   "execution_count": null,
   "id": "00aea6ea",
   "metadata": {},
   "outputs": [],
   "source": [
    "#Check the selected PCs\n",
    "df_selected.head(3)"
   ]
  },
  {
   "cell_type": "code",
   "execution_count": null,
   "id": "d9aecb6c",
   "metadata": {},
   "outputs": [],
   "source": [
    "#Check as to how the original features matter to each PC\n",
    "#Note: Here we are only considering the absolute values\n",
    "plt.figure(figsize = (12,8))\n",
    "for i in range(len(df_selected.columns)):\n",
    "    plt.subplot(3,2,i+1)\n",
    "    abs(df_selected[df_selected.columns[i]]).T.sort_values(ascending = False).plot.bar()\n",
    "    plt.yticks(np.arange(0,1.2,.2))\n",
    "    plt.title('Abs. loadings of {}'.format(df_selected.columns[i]))\n",
    "    plt.tight_layout()"
   ]
  },
  {
   "cell_type": "code",
   "execution_count": null,
   "id": "40d403e9",
   "metadata": {},
   "outputs": [],
   "source": [
    "#Compare how the original features influence various PCs\n",
    "plt.figure(figsize = (12,8))\n",
    "sns.heatmap(abs(df_selected), annot = True, cmap = 'Blues',fmt = '.2f');"
   ]
  },
  {
   "cell_type": "code",
   "execution_count": null,
   "id": "480db50d",
   "metadata": {},
   "outputs": [],
   "source": [
    "#...and we need the original scaled features\n",
    "df_pca_scaled.iloc[0]"
   ]
  },
  {
   "cell_type": "code",
   "execution_count": null,
   "id": "497f5f15",
   "metadata": {},
   "outputs": [],
   "source": [
    "#We need to perform a dot product between the loadings and features to obtain the scores\n",
    "for i in df_selected.columns:\n",
    "    pc_score = np.dot(df_selected[i], df_pca_scaled.iloc[0])\n",
    "    print(round(pc_score, 6), end = ' ')"
   ]
  },
  {
   "cell_type": "code",
   "execution_count": null,
   "id": "ace68d60",
   "metadata": {},
   "outputs": [],
   "source": [
    "#Above step involves a lot of hard work. Let's do it the easier way\n",
    "#Extract the required(as per the cumulative explained variance) number of PCs\n",
    "pca = PCA(n_components=6, random_state=123)\n",
    "pca_final = pca.fit_transform(df_pca_scaled)"
   ]
  },
  {
   "cell_type": "code",
   "execution_count": null,
   "id": "99ecef0b",
   "metadata": {},
   "outputs": [],
   "source": [
    "#Just create a dataframe out of fit_transformed scaled data above\n",
    "#Note: Notice the output of cell 34 and the first row of the dataframe below\n",
    "pca_final_df = pd.DataFrame(pca_final, columns = df_selected.columns)\n",
    "pca_final_df.head(10)"
   ]
  },
  {
   "cell_type": "code",
   "execution_count": null,
   "id": "5b52337f",
   "metadata": {},
   "outputs": [],
   "source": [
    "#Check for presence of correlations among teh PCs\n",
    "plt.figure(figsize = (10,8))\n",
    "sns.heatmap(pca_final_df.corr(), annot=True,fmt='.2f');"
   ]
  },
  {
   "cell_type": "code",
   "execution_count": null,
   "id": "2e8ec93b",
   "metadata": {},
   "outputs": [],
   "source": [
    "# Practice Test:\n",
    "\n",
    "# Python code to demonstrate the\n",
    "# use of numpy.cov\n",
    "import numpy as np\n",
    " \n",
    "x = [1.23, 2.12, 3.34, 4.5]\n",
    " \n",
    "y = [2.56, 2.89, 3.76, 3.95]\n",
    " \n",
    "# find out covariance with respect  rows\n",
    "cov_mat = np.stack((x, y), axis = 1)\n",
    " \n",
    "print(\"shape of matrix x and y:\", np.shape(cov_mat))\n",
    " \n",
    "print(\"shape of covariance matrix:\", np.shape(np.cov(cov_mat)))\n",
    " \n",
    "print(np.cov(cov_mat))"
   ]
  },
  {
   "cell_type": "markdown",
   "id": "959d7191",
   "metadata": {},
   "source": [
    "## Week 1 Graded"
   ]
  },
  {
   "cell_type": "code",
   "execution_count": null,
   "id": "e0a5ff20",
   "metadata": {},
   "outputs": [],
   "source": [
    "#Import the basic libraries to get started with EDA\n",
    "import numpy as np\n",
    "import pandas as pd\n",
    "import matplotlib.pyplot as plt\n",
    "import seaborn as sns\n",
    "import os"
   ]
  },
  {
   "cell_type": "code",
   "execution_count": null,
   "id": "4bb34e99",
   "metadata": {},
   "outputs": [],
   "source": [
    "import os\n",
    "os.chdir('C:/Users/lsreeram/Downloads/_/GL/04 Data Mining/Week 1/Graded Quiz')"
   ]
  },
  {
   "cell_type": "code",
   "execution_count": null,
   "id": "6eafefad",
   "metadata": {},
   "outputs": [],
   "source": [
    "df =pd.read_csv('Smoking.csv')"
   ]
  },
  {
   "cell_type": "code",
   "execution_count": null,
   "id": "1fb5fb1c",
   "metadata": {
    "scrolled": true
   },
   "outputs": [],
   "source": [
    "df.head(3)"
   ]
  },
  {
   "cell_type": "code",
   "execution_count": null,
   "id": "76bbd4ed",
   "metadata": {},
   "outputs": [],
   "source": [
    "df['systolic'].describe()"
   ]
  },
  {
   "cell_type": "code",
   "execution_count": null,
   "id": "c55b746a",
   "metadata": {},
   "outputs": [],
   "source": [
    "df.info()"
   ]
  },
  {
   "cell_type": "code",
   "execution_count": null,
   "id": "4dbed15e",
   "metadata": {},
   "outputs": [],
   "source": [
    "#Check for presence of duplicate rows\n",
    "df.duplicated().sum()"
   ]
  },
  {
   "cell_type": "code",
   "execution_count": null,
   "id": "4e9737fc",
   "metadata": {},
   "outputs": [],
   "source": [
    "#Check for presence of missing values in each feature\n",
    "df.isnull().sum()"
   ]
  },
  {
   "cell_type": "code",
   "execution_count": null,
   "id": "e565903f",
   "metadata": {},
   "outputs": [],
   "source": [
    "#Drop all columns other than the ones suitable for PCA\n",
    "df_pca = df.drop(['ID','smoking'], axis = 1)"
   ]
  },
  {
   "cell_type": "code",
   "execution_count": null,
   "id": "5c07f757",
   "metadata": {},
   "outputs": [],
   "source": [
    "#Check the number of features\n",
    "len(df_pca.columns)"
   ]
  },
  {
   "cell_type": "code",
   "execution_count": null,
   "id": "a5afc782",
   "metadata": {},
   "outputs": [],
   "source": [
    "#Check for presence of outliers in each feature\n",
    "plt.figure(figsize = (12,8))\n",
    "feature_list = df_pca.columns\n",
    "for i in range(len(feature_list)):\n",
    "    plt.subplot(4, 4, i + 1)\n",
    "    sns.boxplot(y = df_pca[feature_list[i]], data = df_pca)\n",
    "    plt.title('Boxplot of {}'.format(feature_list[i]))\n",
    "    plt.tight_layout()"
   ]
  },
  {
   "cell_type": "code",
   "execution_count": null,
   "id": "77a1c2d9",
   "metadata": {},
   "outputs": [],
   "source": [
    "#Scale the data\n",
    "from scipy.stats import zscore\n",
    "df_pca_scaled = df_pca.apply(zscore)"
   ]
  },
  {
   "cell_type": "code",
   "execution_count": null,
   "id": "0b15a261",
   "metadata": {
    "scrolled": true
   },
   "outputs": [],
   "source": [
    "df_pca_scaled.head(3)"
   ]
  },
  {
   "cell_type": "code",
   "execution_count": null,
   "id": "bbabcee1",
   "metadata": {},
   "outputs": [],
   "source": [
    "df_pca_scaled['systolic'].describe()"
   ]
  },
  {
   "cell_type": "code",
   "execution_count": null,
   "id": "9eda722f",
   "metadata": {},
   "outputs": [],
   "source": [
    "#Check for presence of correlations\n",
    "plt.figure(figsize = (10,8))\n",
    "sns.heatmap(df_pca_scaled.corr(), annot=True,fmt='.2f');"
   ]
  },
  {
   "cell_type": "code",
   "execution_count": null,
   "id": "c83a1220",
   "metadata": {},
   "outputs": [],
   "source": [
    "#Confirm the statistical significance of correlations\n",
    "#H0: Correlations are not significant, H1: There are significant correlations\n",
    "#Reject H0 if p-value < 0.05\n",
    "from factor_analyzer.factor_analyzer import calculate_bartlett_sphericity\n",
    "chi_square_value,p_value=calculate_bartlett_sphericity(df_pca_scaled)\n",
    "p_value"
   ]
  },
  {
   "cell_type": "code",
   "execution_count": null,
   "id": "4ff6d0b9",
   "metadata": {},
   "outputs": [],
   "source": [
    "#Confirm the adequacy of sample size. \n",
    "#Note: Above 0.7 is good, below 0.5 is not acceptable\n",
    "from factor_analyzer.factor_analyzer import calculate_kmo\n",
    "kmo_all,kmo_model=calculate_kmo(df_pca_scaled)\n",
    "kmo_model"
   ]
  },
  {
   "cell_type": "code",
   "execution_count": null,
   "id": "721ae50a",
   "metadata": {},
   "outputs": [],
   "source": [
    "#Apply PCA taking all features\n",
    "from sklearn.decomposition import PCA\n",
    "pca = PCA(n_components=8, random_state=42)\n",
    "pca_transformed = pca.fit_transform(df_pca_scaled)"
   ]
  },
  {
   "cell_type": "code",
   "execution_count": null,
   "id": "2f620bf7",
   "metadata": {},
   "outputs": [],
   "source": [
    "#Extract eigen vectors\n",
    "pca.components_"
   ]
  },
  {
   "cell_type": "code",
   "execution_count": null,
   "id": "6c64e5c4",
   "metadata": {},
   "outputs": [],
   "source": [
    "#Check the eigen values\n",
    "#Note: This is always returned in descending order\n",
    "pca.explained_variance_"
   ]
  },
  {
   "cell_type": "code",
   "execution_count": null,
   "id": "eb9ab0b7",
   "metadata": {},
   "outputs": [],
   "source": [
    "#Check the explained variance for each PC\n",
    "#Note: Explained variance = (eigen value of each PC)/(sum of eigen values of all PCs)\n",
    "pca.explained_variance_ratio_"
   ]
  },
  {
   "cell_type": "code",
   "execution_count": null,
   "id": "6f33df9f",
   "metadata": {},
   "outputs": [],
   "source": [
    "#Create a dataframe containing the loadings or coefficients of all PCs\n",
    "df_extracted_loadings = pd.DataFrame(pca.components_.T, \n",
    "                                     columns = ['PC1','PC2', 'PC3', 'PC4', 'PC5', 'PC6',\n",
    "                                               'PC7','PC8'],\n",
    "                                    index = df_pca_scaled.columns)"
   ]
  },
  {
   "cell_type": "code",
   "execution_count": null,
   "id": "24c7fb73",
   "metadata": {},
   "outputs": [],
   "source": [
    "df_extracted_loadings"
   ]
  },
  {
   "cell_type": "code",
   "execution_count": null,
   "id": "8ceb3d1e",
   "metadata": {},
   "outputs": [],
   "source": [
    "#Create a scree plot\n",
    "plt.figure(figsize=(8,5))\n",
    "sns.lineplot(y=pca.explained_variance_ratio_ ,x=range(1,9),marker='o')\n",
    "plt.xlabel('Number of Components',fontsize=10)\n",
    "plt.ylabel('Variance Explained',fontsize=10)\n",
    "plt.title('Scree Plot',fontsize=12)\n",
    "plt.grid()\n",
    "plt.show()"
   ]
  },
  {
   "cell_type": "code",
   "execution_count": null,
   "id": "dcae1758",
   "metadata": {},
   "outputs": [],
   "source": [
    "#Check the cumlative explained variance ratio to find a cut off for selecting the number of PCs\n",
    "np.cumsum(pca.explained_variance_ratio_)"
   ]
  },
  {
   "cell_type": "code",
   "execution_count": null,
   "id": "6a97cb7e",
   "metadata": {},
   "outputs": [],
   "source": [
    "#Choose the PCs basis cumulative explained variance\n",
    "df_selected = df_extracted_loadings[['PC1','PC2', 'PC3', 'PC4', 'PC5']]"
   ]
  },
  {
   "cell_type": "code",
   "execution_count": null,
   "id": "0b297324",
   "metadata": {},
   "outputs": [],
   "source": [
    "#Check the selected PCs\n",
    "df_selected"
   ]
  },
  {
   "cell_type": "code",
   "execution_count": null,
   "id": "5c0362a6",
   "metadata": {},
   "outputs": [],
   "source": [
    "## Graded"
   ]
  },
  {
   "cell_type": "code",
   "execution_count": null,
   "id": "b26b8dae",
   "metadata": {},
   "outputs": [],
   "source": [
    "a=np.arange(10,26).reshape(4,4)"
   ]
  },
  {
   "cell_type": "code",
   "execution_count": null,
   "id": "c5675aaf",
   "metadata": {
    "scrolled": true
   },
   "outputs": [],
   "source": [
    "a"
   ]
  },
  {
   "cell_type": "code",
   "execution_count": null,
   "id": "c793c358",
   "metadata": {},
   "outputs": [],
   "source": [
    "import numpy as np\n",
    "from numpy.linalg import eig"
   ]
  },
  {
   "cell_type": "code",
   "execution_count": null,
   "id": "d32d893b",
   "metadata": {},
   "outputs": [],
   "source": [
    "w,v=eig(a)\n",
    "print('E-value:', w)\n",
    "#print('E-vector', v)"
   ]
  },
  {
   "cell_type": "markdown",
   "id": "4f8cfb36",
   "metadata": {},
   "source": [
    "## Week 2"
   ]
  },
  {
   "cell_type": "markdown",
   "id": "a91ff54c",
   "metadata": {},
   "source": [
    "### Hierarchical Clustering"
   ]
  },
  {
   "cell_type": "code",
   "execution_count": null,
   "id": "6a2fcf58",
   "metadata": {},
   "outputs": [],
   "source": [
    "from matplotlib import pyplot as plt\n",
    "import numpy as np\n",
    "import pandas as pd"
   ]
  },
  {
   "cell_type": "code",
   "execution_count": null,
   "id": "efe78bc1",
   "metadata": {},
   "outputs": [],
   "source": [
    "import os\n",
    "os.chdir('C:/Users/lsreeram/Downloads/_/GL/04 Data Mining/Week 2')"
   ]
  },
  {
   "cell_type": "code",
   "execution_count": null,
   "id": "521c7da6",
   "metadata": {},
   "outputs": [],
   "source": [
    "df =pd.read_csv('nutrientcomposition_new.csv')"
   ]
  },
  {
   "cell_type": "code",
   "execution_count": null,
   "id": "c9d7667a",
   "metadata": {},
   "outputs": [],
   "source": [
    "df.head()"
   ]
  },
  {
   "cell_type": "code",
   "execution_count": null,
   "id": "752c07dd",
   "metadata": {},
   "outputs": [],
   "source": [
    "df.iloc[:, 1:5].describe()"
   ]
  },
  {
   "cell_type": "code",
   "execution_count": null,
   "id": "b3b9e2d8",
   "metadata": {},
   "outputs": [],
   "source": [
    "data= df.iloc[:, 1:5]\n",
    "#data=df[['Protein','Fat', 'vitaminC', 'Fibre']]\n",
    "data.head()"
   ]
  },
  {
   "cell_type": "code",
   "execution_count": null,
   "id": "4f845219",
   "metadata": {},
   "outputs": [],
   "source": [
    "from scipy.cluster.hierarchy import dendrogram,linkage"
   ]
  },
  {
   "cell_type": "code",
   "execution_count": null,
   "id": "f72d0f58",
   "metadata": {},
   "outputs": [],
   "source": [
    "wardlink = linkage(data, method='ward')"
   ]
  },
  {
   "cell_type": "code",
   "execution_count": null,
   "id": "f9ca2870",
   "metadata": {},
   "outputs": [],
   "source": [
    "dendrogram(wardlink)\n",
    "\n",
    "##Fix what is C1 etc at end?\n",
    "##Fix how to change colors?"
   ]
  },
  {
   "cell_type": "code",
   "execution_count": null,
   "id": "da0ea5b7",
   "metadata": {},
   "outputs": [],
   "source": [
    "dend = dendrogram(wardlink)"
   ]
  },
  {
   "cell_type": "raw",
   "id": "0141a753",
   "metadata": {},
   "source": [
    "#truncate #Show only last 10 merges\n",
    "\n",
    "\n",
    "\n",
    "\n",
    "dend = dendrogram(wardlink, truncate_mode='lastp', p=10)"
   ]
  },
  {
   "cell_type": "code",
   "execution_count": null,
   "id": "5a31b131",
   "metadata": {},
   "outputs": [],
   "source": [
    "#Assign cluster to records using fcluster\n",
    "from scipy.cluster.hierarchy import fcluster"
   ]
  },
  {
   "cell_type": "code",
   "execution_count": null,
   "id": "b1be978a",
   "metadata": {},
   "outputs": [],
   "source": [
    "#Method1\n",
    "clusters = fcluster(wardlink, 3, criterion='maxclust')\n",
    "clusters"
   ]
  },
  {
   "cell_type": "code",
   "execution_count": null,
   "id": "14a47d7d",
   "metadata": {},
   "outputs": [],
   "source": [
    "#method2 #fix use 22, or 23\n",
    "clusters = fcluster(wardlink, 23, criterion='distance')\n",
    "clusters"
   ]
  },
  {
   "cell_type": "code",
   "execution_count": null,
   "id": "bbf9b4d3",
   "metadata": {},
   "outputs": [],
   "source": [
    "df['cluster']=clusters"
   ]
  },
  {
   "cell_type": "code",
   "execution_count": null,
   "id": "0346d621",
   "metadata": {},
   "outputs": [],
   "source": [
    "df.head()"
   ]
  },
  {
   "cell_type": "code",
   "execution_count": null,
   "id": "0ee43d09",
   "metadata": {},
   "outputs": [],
   "source": [
    "##Save as csv\n",
    "df.to_csv('hc.csv')"
   ]
  },
  {
   "cell_type": "code",
   "execution_count": null,
   "id": "10c4b2b1",
   "metadata": {},
   "outputs": [],
   "source": [
    "## Fix - Alcoholic bevarage still got cluster3 shouldn;t it be in cluster1?\n",
    "##So many unknown items in cluster1."
   ]
  },
  {
   "cell_type": "markdown",
   "id": "f93eebd8",
   "metadata": {},
   "source": [
    "### Non Hierarchial - K means"
   ]
  },
  {
   "cell_type": "code",
   "execution_count": null,
   "id": "429396a6",
   "metadata": {},
   "outputs": [],
   "source": [
    "## k-nearest , k means difference\n",
    "##Fix what to do when Silhouette score is 0?\n",
    "#Heading is shown as silscore -traintest & overfitting..what do they mean?\n",
    "#WSS - is computed from what attributes and formula?"
   ]
  },
  {
   "cell_type": "code",
   "execution_count": null,
   "id": "aa885645",
   "metadata": {},
   "outputs": [],
   "source": [
    "df= pd.read_csv('Cust_Spend_Data_New.csv')"
   ]
  },
  {
   "cell_type": "code",
   "execution_count": null,
   "id": "b349a2ec",
   "metadata": {
    "scrolled": true
   },
   "outputs": [],
   "source": [
    "df.head()\n",
    "#Unnecessary columns are identified"
   ]
  },
  {
   "cell_type": "code",
   "execution_count": null,
   "id": "81fd3a14",
   "metadata": {
    "scrolled": true
   },
   "outputs": [],
   "source": [
    "df.info();"
   ]
  },
  {
   "cell_type": "code",
   "execution_count": null,
   "id": "fe7b21b2",
   "metadata": {
    "scrolled": true
   },
   "outputs": [],
   "source": [
    "df.describe()\n",
    "#Scaling is needed as variation is similar across columns, we can use z scale technique"
   ]
  },
  {
   "cell_type": "code",
   "execution_count": null,
   "id": "accc24e0",
   "metadata": {},
   "outputs": [],
   "source": [
    "df.duplicated().sum()"
   ]
  },
  {
   "cell_type": "code",
   "execution_count": null,
   "id": "e478ad88",
   "metadata": {},
   "outputs": [],
   "source": [
    "from matplotlib import pyplot as plt\n",
    "import numpy as np\n",
    "import pandas as pd\n",
    "import seaborn as sns\n",
    "from sklearn.cluster import KMeans\n",
    "%matplotlib inline"
   ]
  },
  {
   "cell_type": "code",
   "execution_count": null,
   "id": "f75bc1a3",
   "metadata": {},
   "outputs": [],
   "source": [
    "cust_df=df.iloc[:,2:7]\n",
    "cust_df.head()"
   ]
  },
  {
   "cell_type": "code",
   "execution_count": null,
   "id": "38b47667",
   "metadata": {},
   "outputs": [],
   "source": [
    "#Standard scaler function. uses zscore computation/ mean 0, std deviation 1\n",
    "#Under pre-processing module\n",
    "from sklearn.preprocessing import StandardScaler"
   ]
  },
  {
   "cell_type": "code",
   "execution_count": null,
   "id": "354345ff",
   "metadata": {},
   "outputs": [],
   "source": [
    "x=StandardScaler()"
   ]
  },
  {
   "cell_type": "code",
   "execution_count": null,
   "id": "e51c46f1",
   "metadata": {},
   "outputs": [],
   "source": [
    "scaled_df=x.fit_transform(cust_df)"
   ]
  },
  {
   "cell_type": "code",
   "execution_count": null,
   "id": "0a42786d",
   "metadata": {},
   "outputs": [],
   "source": [
    "scaled_df\n",
    "#apply kmeans algorithm on array"
   ]
  },
  {
   "cell_type": "code",
   "execution_count": null,
   "id": "632feed5",
   "metadata": {},
   "outputs": [],
   "source": [
    "#Kmeans k value determination\n",
    "k_means = KMeans(n_clusters=2)"
   ]
  },
  {
   "cell_type": "code",
   "execution_count": null,
   "id": "8c71b99d",
   "metadata": {},
   "outputs": [],
   "source": [
    "k_means.fit(scaled_df)"
   ]
  },
  {
   "cell_type": "code",
   "execution_count": null,
   "id": "c0c1f28b",
   "metadata": {},
   "outputs": [],
   "source": [
    "k_means.labels_"
   ]
  },
  {
   "cell_type": "code",
   "execution_count": null,
   "id": "c8908add",
   "metadata": {},
   "outputs": [],
   "source": [
    "k_means.inertia_"
   ]
  },
  {
   "cell_type": "code",
   "execution_count": null,
   "id": "49e6223c",
   "metadata": {},
   "outputs": [],
   "source": [
    "#Kmeans k value determination\n",
    "k_means = KMeans(n_clusters=3)\n",
    "k_means.fit(scaled_df)\n",
    "k_means.inertia_"
   ]
  },
  {
   "cell_type": "code",
   "execution_count": null,
   "id": "8d1c1f91",
   "metadata": {},
   "outputs": [],
   "source": [
    "#Kmeans k value determination\n",
    "k_means = KMeans(n_clusters=4)\n",
    "k_means.fit(scaled_df)\n",
    "k_means.inertia_"
   ]
  },
  {
   "cell_type": "code",
   "execution_count": null,
   "id": "56e18903",
   "metadata": {},
   "outputs": [],
   "source": [
    "#Kmeans k value determination\n",
    "k_means = KMeans(n_clusters=5)\n",
    "k_means.fit(scaled_df)\n",
    "k_means.inertia_"
   ]
  },
  {
   "cell_type": "code",
   "execution_count": null,
   "id": "7fd027a1",
   "metadata": {},
   "outputs": [],
   "source": [
    "#Kmeans k value determination\n",
    "k_means = KMeans(n_clusters=6)\n",
    "k_means.fit(scaled_df)\n",
    "k_means.inertia_"
   ]
  },
  {
   "cell_type": "code",
   "execution_count": null,
   "id": "758924fe",
   "metadata": {},
   "outputs": [],
   "source": [
    "#Kmeans k value determination\n",
    "k_means = KMeans(n_clusters=7)\n",
    "k_means.fit(scaled_df)\n",
    "k_means.inertia_"
   ]
  },
  {
   "cell_type": "code",
   "execution_count": null,
   "id": "4c902e48",
   "metadata": {},
   "outputs": [],
   "source": [
    "#Kmeans k value determination\n",
    "k_means = KMeans(n_clusters=1)\n",
    "k_means.fit(scaled_df)\n",
    "k_means.inertia_"
   ]
  },
  {
   "cell_type": "code",
   "execution_count": null,
   "id": "eecc0d14",
   "metadata": {},
   "outputs": [],
   "source": [
    "wss =[] \n",
    "for i in range(1,11):\n",
    "    KM = KMeans(n_clusters=i)\n",
    "    KM.fit(scaled_df)\n",
    "    wss.append(KM.inertia_)"
   ]
  },
  {
   "cell_type": "code",
   "execution_count": null,
   "id": "8bd1dbc3",
   "metadata": {},
   "outputs": [],
   "source": [
    "wss"
   ]
  },
  {
   "cell_type": "code",
   "execution_count": null,
   "id": "5c4fc93f",
   "metadata": {},
   "outputs": [],
   "source": [
    "plt.plot(range(1,11), wss)"
   ]
  },
  {
   "cell_type": "code",
   "execution_count": null,
   "id": "50f3915e",
   "metadata": {},
   "outputs": [],
   "source": [
    "#Kmeans k value determination\n",
    "k_means = KMeans(n_clusters=3)\n",
    "k_means.fit(scaled_df)\n",
    "labels = k_means.labels_"
   ]
  },
  {
   "cell_type": "code",
   "execution_count": null,
   "id": "a6aa77f4",
   "metadata": {},
   "outputs": [],
   "source": [
    "df[\"Clus_kmeans\"] = labels\n",
    "df.head(5)"
   ]
  },
  {
   "cell_type": "code",
   "execution_count": null,
   "id": "bf8d05b7",
   "metadata": {},
   "outputs": [],
   "source": [
    "from sklearn.metrics import silhouette_samples, silhouette_score"
   ]
  },
  {
   "cell_type": "code",
   "execution_count": null,
   "id": "e2f9adaf",
   "metadata": {},
   "outputs": [],
   "source": [
    "sil_width = silhouette_samples(scaled_df,labels)\n",
    "df[\"sil_width\"] = sil_width\n",
    "df.head(5)"
   ]
  },
  {
   "cell_type": "code",
   "execution_count": null,
   "id": "64f5d923",
   "metadata": {},
   "outputs": [],
   "source": [
    "silhouette_samples(scaled_df,labels).min()"
   ]
  },
  {
   "cell_type": "code",
   "execution_count": null,
   "id": "71416792",
   "metadata": {},
   "outputs": [],
   "source": [
    "df.to_csv('km.csv')"
   ]
  },
  {
   "cell_type": "markdown",
   "id": "8c1ce55e",
   "metadata": {},
   "source": [
    "### Graded"
   ]
  },
  {
   "cell_type": "code",
   "execution_count": 1,
   "id": "15e96d66",
   "metadata": {},
   "outputs": [],
   "source": [
    "from matplotlib import pyplot as plt\n",
    "import numpy as np\n",
    "import pandas as pd\n",
    "import seaborn as sns\n",
    "from sklearn.cluster import KMeans\n",
    "%matplotlib inline\n",
    "\n",
    "import os\n",
    "os.chdir('C:/Users/lsreeram/Downloads/_/GL/04 Data Mining/Week 2/Graded')\n"
   ]
  },
  {
   "cell_type": "code",
   "execution_count": 52,
   "id": "57dfe546",
   "metadata": {},
   "outputs": [
    {
     "data": {
      "text/html": [
       "<div>\n",
       "<style scoped>\n",
       "    .dataframe tbody tr th:only-of-type {\n",
       "        vertical-align: middle;\n",
       "    }\n",
       "\n",
       "    .dataframe tbody tr th {\n",
       "        vertical-align: top;\n",
       "    }\n",
       "\n",
       "    .dataframe thead th {\n",
       "        text-align: right;\n",
       "    }\n",
       "</style>\n",
       "<table border=\"1\" class=\"dataframe\">\n",
       "  <thead>\n",
       "    <tr style=\"text-align: right;\">\n",
       "      <th></th>\n",
       "      <th>Calories</th>\n",
       "      <th>Total Fat (g)</th>\n",
       "      <th>Cholesterol (mg)</th>\n",
       "    </tr>\n",
       "  </thead>\n",
       "  <tbody>\n",
       "    <tr>\n",
       "      <th>0</th>\n",
       "      <td>3</td>\n",
       "      <td>0.1</td>\n",
       "      <td>0</td>\n",
       "    </tr>\n",
       "    <tr>\n",
       "      <th>1</th>\n",
       "      <td>4</td>\n",
       "      <td>0.1</td>\n",
       "      <td>0</td>\n",
       "    </tr>\n",
       "    <tr>\n",
       "      <th>2</th>\n",
       "      <td>5</td>\n",
       "      <td>0.1</td>\n",
       "      <td>0</td>\n",
       "    </tr>\n",
       "    <tr>\n",
       "      <th>3</th>\n",
       "      <td>5</td>\n",
       "      <td>0.1</td>\n",
       "      <td>0</td>\n",
       "    </tr>\n",
       "    <tr>\n",
       "      <th>4</th>\n",
       "      <td>70</td>\n",
       "      <td>0.1</td>\n",
       "      <td>10</td>\n",
       "    </tr>\n",
       "  </tbody>\n",
       "</table>\n",
       "</div>"
      ],
      "text/plain": [
       "   Calories   Total Fat (g)  Cholesterol (mg)\n",
       "0         3             0.1                 0\n",
       "1         4             0.1                 0\n",
       "2         5             0.1                 0\n",
       "3         5             0.1                 0\n",
       "4        70             0.1                10"
      ]
     },
     "execution_count": 52,
     "metadata": {},
     "output_type": "execute_result"
    }
   ],
   "source": [
    "df= pd.read_csv('Drinks_Menu.csv')\n",
    "df.head()"
   ]
  },
  {
   "cell_type": "code",
   "execution_count": 53,
   "id": "3961a880",
   "metadata": {},
   "outputs": [
    {
     "data": {
      "text/html": [
       "<div>\n",
       "<style scoped>\n",
       "    .dataframe tbody tr th:only-of-type {\n",
       "        vertical-align: middle;\n",
       "    }\n",
       "\n",
       "    .dataframe tbody tr th {\n",
       "        vertical-align: top;\n",
       "    }\n",
       "\n",
       "    .dataframe thead th {\n",
       "        text-align: right;\n",
       "    }\n",
       "</style>\n",
       "<table border=\"1\" class=\"dataframe\">\n",
       "  <thead>\n",
       "    <tr style=\"text-align: right;\">\n",
       "      <th></th>\n",
       "      <th>Calories</th>\n",
       "      <th>Total Fat (g)</th>\n",
       "      <th>Cholesterol (mg)</th>\n",
       "    </tr>\n",
       "  </thead>\n",
       "  <tbody>\n",
       "    <tr>\n",
       "      <th>count</th>\n",
       "      <td>242.000000</td>\n",
       "      <td>242.000000</td>\n",
       "      <td>242.000000</td>\n",
       "    </tr>\n",
       "    <tr>\n",
       "      <th>mean</th>\n",
       "      <td>193.871901</td>\n",
       "      <td>2.904959</td>\n",
       "      <td>35.991736</td>\n",
       "    </tr>\n",
       "    <tr>\n",
       "      <th>std</th>\n",
       "      <td>102.863303</td>\n",
       "      <td>2.944376</td>\n",
       "      <td>20.795186</td>\n",
       "    </tr>\n",
       "    <tr>\n",
       "      <th>min</th>\n",
       "      <td>0.000000</td>\n",
       "      <td>0.000000</td>\n",
       "      <td>0.000000</td>\n",
       "    </tr>\n",
       "    <tr>\n",
       "      <th>25%</th>\n",
       "      <td>120.000000</td>\n",
       "      <td>0.200000</td>\n",
       "      <td>21.000000</td>\n",
       "    </tr>\n",
       "    <tr>\n",
       "      <th>50%</th>\n",
       "      <td>185.000000</td>\n",
       "      <td>2.500000</td>\n",
       "      <td>34.000000</td>\n",
       "    </tr>\n",
       "    <tr>\n",
       "      <th>75%</th>\n",
       "      <td>260.000000</td>\n",
       "      <td>4.500000</td>\n",
       "      <td>50.750000</td>\n",
       "    </tr>\n",
       "    <tr>\n",
       "      <th>max</th>\n",
       "      <td>510.000000</td>\n",
       "      <td>15.000000</td>\n",
       "      <td>90.000000</td>\n",
       "    </tr>\n",
       "  </tbody>\n",
       "</table>\n",
       "</div>"
      ],
      "text/plain": [
       "         Calories   Total Fat (g)  Cholesterol (mg)\n",
       "count  242.000000      242.000000        242.000000\n",
       "mean   193.871901        2.904959         35.991736\n",
       "std    102.863303        2.944376         20.795186\n",
       "min      0.000000        0.000000          0.000000\n",
       "25%    120.000000        0.200000         21.000000\n",
       "50%    185.000000        2.500000         34.000000\n",
       "75%    260.000000        4.500000         50.750000\n",
       "max    510.000000       15.000000         90.000000"
      ]
     },
     "execution_count": 53,
     "metadata": {},
     "output_type": "execute_result"
    }
   ],
   "source": [
    "df.describe()"
   ]
  },
  {
   "cell_type": "code",
   "execution_count": 4,
   "id": "8dfe4ea2",
   "metadata": {
    "scrolled": true
   },
   "outputs": [
    {
     "name": "stdout",
     "output_type": "stream",
     "text": [
      "<class 'pandas.core.frame.DataFrame'>\n",
      "RangeIndex: 242 entries, 0 to 241\n",
      "Data columns (total 3 columns):\n",
      " #   Column            Non-Null Count  Dtype  \n",
      "---  ------            --------------  -----  \n",
      " 0   Calories          242 non-null    int64  \n",
      " 1    Total Fat (g)    242 non-null    float64\n",
      " 2   Cholesterol (mg)  242 non-null    int64  \n",
      "dtypes: float64(1), int64(2)\n",
      "memory usage: 5.8 KB\n"
     ]
    }
   ],
   "source": [
    "df.info()"
   ]
  },
  {
   "cell_type": "code",
   "execution_count": 54,
   "id": "ab1b4742",
   "metadata": {},
   "outputs": [
    {
     "name": "stdout",
     "output_type": "stream",
     "text": [
      "510\n",
      "0\n"
     ]
    }
   ],
   "source": [
    "\n",
    "print(df['Calories'].max())\n",
    "print(df['Calories'].min())"
   ]
  },
  {
   "cell_type": "code",
   "execution_count": 6,
   "id": "44883910",
   "metadata": {},
   "outputs": [
    {
     "data": {
      "text/plain": [
       "28"
      ]
     },
     "execution_count": 6,
     "metadata": {},
     "output_type": "execute_result"
    }
   ],
   "source": [
    "df.duplicated().sum()\n",
    "#Ignore"
   ]
  },
  {
   "cell_type": "markdown",
   "id": "313e34c5",
   "metadata": {},
   "source": [
    "### Scaling"
   ]
  },
  {
   "cell_type": "code",
   "execution_count": 55,
   "id": "97c569dc",
   "metadata": {
    "scrolled": false
   },
   "outputs": [
    {
     "data": {
      "text/plain": [
       "array([[-1.85943369e+00, -9.54623867e-01, -1.73435956e+00],\n",
       "       [-1.84969190e+00, -9.54623867e-01, -1.73435956e+00],\n",
       "       [-1.83995011e+00, -9.54623867e-01, -1.73435956e+00],\n",
       "       [-1.83995011e+00, -9.54623867e-01, -1.73435956e+00],\n",
       "       [-1.20673386e+00, -9.54623867e-01, -1.25248239e+00],\n",
       "       [-9.14480206e-01,  2.02513018e-01, -1.25248239e+00],\n",
       "       [-1.20673386e+00, -1.37821360e-01, -1.44523326e+00],\n",
       "       [-9.14480206e-01, -9.20590430e-01, -1.01154381e+00],\n",
       "       [-4.27390780e-01,  1.05334896e+00, -1.01154381e+00],\n",
       "       [-8.17062320e-01,  5.42847397e-01, -1.25248239e+00],\n",
       "       [-6.22226550e-01, -8.86556992e-01, -8.18792942e-01],\n",
       "       [-3.77192390e-02,  1.39368334e+00, -8.18792942e-01],\n",
       "       [-4.27390780e-01,  7.13014586e-01, -1.10791924e+00],\n",
       "       [-2.32555009e-01, -8.52523554e-01, -5.29666640e-01],\n",
       "       [ 4.49370187e-01,  2.07435210e+00, -5.77854357e-01],\n",
       "       [-3.77192390e-02,  1.39368334e+00, -9.63356092e-01],\n",
       "       [-8.17062320e-01, -4.78155738e-01, -7.22417508e-01],\n",
       "       [-6.22226550e-01,  3.72680207e-01, -7.22417508e-01],\n",
       "       [-8.17062320e-01,  2.02513018e-01, -8.18792942e-01],\n",
       "       [-2.32555009e-01, -3.07988549e-01, -1.92352622e-01],\n",
       "       [ 5.96986462e-02,  1.05334896e+00, -1.92352622e-01],\n",
       "       [-1.35137124e-01,  7.13014586e-01, -3.85103490e-01],\n",
       "       [ 2.54534417e-01, -1.37821360e-01,  3.37712264e-01],\n",
       "       [ 6.44205957e-01,  1.73401772e+00,  2.89524547e-01],\n",
       "       [ 3.51952302e-01,  1.39368334e+00,  4.85859625e-02],\n",
       "       [ 8.39041728e-01,  3.23458293e-02,  8.67777150e-01],\n",
       "       [ 1.42354904e+00,  2.75502085e+00,  8.19589433e-01],\n",
       "       [ 9.36459613e-01,  2.07435210e+00,  5.30463131e-01],\n",
       "       [-9.14480206e-01, -9.54623867e-01, -8.18792942e-01],\n",
       "       [-6.22226550e-01,  2.02513018e-01, -8.66980658e-01],\n",
       "       [-8.17062320e-01, -1.37821360e-01, -9.63356092e-01],\n",
       "       [-4.27390780e-01, -9.20590430e-01, -3.85103490e-01],\n",
       "       [ 5.96986462e-02,  7.13014586e-01, -3.85103490e-01],\n",
       "       [-3.29972895e-01,  3.72680207e-01, -6.26042074e-01],\n",
       "       [ 5.96986462e-02, -8.86556992e-01,  4.85859625e-02],\n",
       "       [ 5.46788072e-01,  1.05334896e+00,  4.85859625e-02],\n",
       "       [ 1.57116531e-01,  7.13014586e-01, -2.40540339e-01],\n",
       "       [ 5.46788072e-01, -8.86556992e-01,  5.30463131e-01],\n",
       "       [ 1.22871327e+00,  2.07435210e+00,  4.82275415e-01],\n",
       "       [ 7.41623842e-01,  1.39368334e+00,  1.44961396e-01],\n",
       "       [-1.83995011e+00, -9.88657305e-01, -1.68617185e+00],\n",
       "       [-1.79124117e+00, -9.88657305e-01, -1.63798413e+00],\n",
       "       [-1.74253223e+00, -9.88657305e-01, -1.58979641e+00],\n",
       "       [-1.64511434e+00, -9.88657305e-01, -1.54160869e+00],\n",
       "       [-1.40156963e+00, -9.54623867e-01, -1.34885783e+00],\n",
       "       [-1.10931598e+00,  3.23458293e-02, -1.34885783e+00],\n",
       "       [-1.40156963e+00, -4.78155738e-01, -1.54160869e+00],\n",
       "       [-1.30415175e+00, -9.54623867e-01, -1.30067011e+00],\n",
       "       [-1.01189809e+00,  2.02513018e-01, -1.30067011e+00],\n",
       "       [-1.20673386e+00,  3.23458293e-02, -1.39704554e+00],\n",
       "       [-1.10931598e+00, -9.20590430e-01, -1.15610696e+00],\n",
       "       [-7.19644435e-01,  3.72680207e-01, -1.15610696e+00],\n",
       "       [-9.14480206e-01,  2.02513018e-01, -1.30067011e+00],\n",
       "       [-8.17062320e-01, -9.20590430e-01, -9.63356092e-01],\n",
       "       [-4.27390780e-01,  1.05334896e+00, -9.63356092e-01],\n",
       "       [-7.19644435e-01,  5.42847397e-01, -1.20429468e+00],\n",
       "       [-1.83995011e+00, -9.88657305e-01, -1.68617185e+00],\n",
       "       [-1.79124117e+00, -9.88657305e-01, -1.63798413e+00],\n",
       "       [-1.30415175e+00, -9.54623867e-01, -1.30067011e+00],\n",
       "       [-9.14480206e-01, -9.20590430e-01, -1.05973153e+00],\n",
       "       [-7.19644435e-01, -8.86556992e-01, -8.66980658e-01],\n",
       "       [-3.29972895e-01, -8.86556992e-01, -5.77854357e-01],\n",
       "       [-9.14480206e-01, -6.48322927e-01, -9.15168375e-01],\n",
       "       [-7.19644435e-01,  3.72680207e-01, -9.63356092e-01],\n",
       "       [-9.14480206e-01,  3.23458293e-02, -1.05973153e+00],\n",
       "       [-5.24808665e-01, -6.48322927e-01, -5.29666640e-01],\n",
       "       [-1.35137124e-01,  7.13014586e-01, -5.29666640e-01],\n",
       "       [-4.27390780e-01,  5.42847397e-01, -7.22417508e-01],\n",
       "       [-3.77192390e-02, -6.48322927e-01, -4.77894713e-02],\n",
       "       [ 4.49370187e-01,  1.39368334e+00, -9.59771882e-02],\n",
       "       [ 5.96986462e-02,  7.13014586e-01, -3.36915773e-01],\n",
       "       [ 4.49370187e-01, -6.48322927e-01,  3.37712264e-01],\n",
       "       [ 1.03387750e+00,  1.73401772e+00,  3.37712264e-01],\n",
       "       [ 5.46788072e-01,  1.39368334e+00,  3.98245594e-04],\n",
       "       [-1.35137124e-01,  3.23458293e-02, -2.40540339e-01],\n",
       "       [ 5.96986462e-02,  1.05334896e+00, -2.40540339e-01],\n",
       "       [-1.35137124e-01,  7.13014586e-01, -3.85103490e-01],\n",
       "       [ 7.41623842e-01,  5.42847397e-01,  5.30463131e-01],\n",
       "       [ 1.13129538e+00,  2.07435210e+00,  4.82275415e-01],\n",
       "       [ 8.39041728e-01,  1.73401772e+00,  2.89524547e-01],\n",
       "       [ 1.52096692e+00,  1.05334896e+00,  1.20509117e+00],\n",
       "       [ 2.00805635e+00,  2.75502085e+00,  1.20509117e+00],\n",
       "       [ 1.71580269e+00,  2.41468648e+00,  9.64152583e-01],\n",
       "       [ 2.49514578e+00,  1.39368334e+00,  2.02428236e+00],\n",
       "       [ 3.07965309e+00,  4.11635837e+00,  1.97609464e+00],\n",
       "       [ 2.59256366e+00,  3.43568961e+00,  1.63878062e+00],\n",
       "       [-6.22226550e-01, -4.78155738e-01, -4.81478923e-01],\n",
       "       [-4.27390780e-01,  5.42847397e-01, -4.81478923e-01],\n",
       "       [-6.22226550e-01,  2.02513018e-01, -6.26042074e-01],\n",
       "       [-3.77192390e-02, -3.07988549e-01,  4.85859625e-02],\n",
       "       [ 3.51952302e-01,  1.39368334e+00,  4.85859625e-02],\n",
       "       [ 5.96986462e-02,  1.05334896e+00, -1.92352622e-01],\n",
       "       [ 4.49370187e-01, -1.37821360e-01,  5.78650848e-01],\n",
       "       [ 9.36459613e-01,  2.07435210e+00,  5.30463131e-01],\n",
       "       [ 5.46788072e-01,  1.39368334e+00,  2.41336830e-01],\n",
       "       [ 1.22871327e+00,  3.23458293e-02,  1.30146660e+00],\n",
       "       [ 1.81322058e+00,  2.75502085e+00,  1.30146660e+00],\n",
       "       [ 1.32613115e+00,  2.07435210e+00,  9.15964867e-01],\n",
       "       [-5.24808665e-01, -9.88657305e-01, -4.77894713e-02],\n",
       "       [ 1.57116531e-01, -9.88657305e-01,  8.19589433e-01],\n",
       "       [ 8.39041728e-01, -9.88657305e-01,  1.63878062e+00],\n",
       "       [ 1.61838481e+00, -9.88657305e-01,  2.55434724e+00],\n",
       "       [-1.88865906e+00, -9.88657305e-01, -1.73435956e+00],\n",
       "       [-1.88865906e+00, -9.88657305e-01, -1.73435956e+00],\n",
       "       [-1.88865906e+00, -9.88657305e-01, -1.73435956e+00],\n",
       "       [-1.88865906e+00, -9.88657305e-01, -1.73435956e+00],\n",
       "       [-9.14480206e-01, -9.54623867e-01, -6.74229791e-01],\n",
       "       [-7.19644435e-01, -3.07988549e-01, -6.74229791e-01],\n",
       "       [-8.17062320e-01, -4.78155738e-01, -7.70605225e-01],\n",
       "       [-3.29972895e-01, -9.20590430e-01, -9.59771882e-02],\n",
       "       [-3.77192390e-02,  2.02513018e-01, -9.59771882e-02],\n",
       "       [-3.29972895e-01, -1.37821360e-01, -2.40540339e-01],\n",
       "       [ 1.57116531e-01, -9.20590430e-01,  4.34087698e-01],\n",
       "       [ 4.49370187e-01,  5.42847397e-01,  4.34087698e-01],\n",
       "       [ 2.54534417e-01,  2.02513018e-01,  2.41336830e-01],\n",
       "       [ 6.44205957e-01, -8.86556992e-01,  1.01234030e+00],\n",
       "       [ 1.13129538e+00,  1.05334896e+00,  9.64152583e-01],\n",
       "       [ 8.39041728e-01,  5.42847397e-01,  7.23213999e-01],\n",
       "       [-6.22226550e-01, -9.20590430e-01, -4.81478923e-01],\n",
       "       [-2.32555009e-01,  3.72680207e-01, -4.81478923e-01],\n",
       "       [-5.24808665e-01,  3.23458293e-02, -6.74229791e-01],\n",
       "       [ 1.57116531e-01, -8.52523554e-01,  2.89524547e-01],\n",
       "       [ 6.44205957e-01,  1.05334896e+00,  2.41336830e-01],\n",
       "       [ 3.51952302e-01,  5.42847397e-01,  3.98245594e-04],\n",
       "       [ 9.36459613e-01, -8.18490116e-01,  1.01234030e+00],\n",
       "       [ 1.52096692e+00,  1.73401772e+00,  1.01234030e+00],\n",
       "       [ 1.13129538e+00,  1.05334896e+00,  6.75026282e-01],\n",
       "       [ 1.71580269e+00, -8.18490116e-01,  1.78334377e+00],\n",
       "       [ 2.49514578e+00,  2.41468648e+00,  1.73515605e+00],\n",
       "       [ 1.91063846e+00,  1.73401772e+00,  1.34965432e+00],\n",
       "       [-1.10931598e+00, -9.54623867e-01, -9.63356092e-01],\n",
       "       [-1.01189809e+00, -3.07988549e-01, -1.01154381e+00],\n",
       "       [-1.10931598e+00, -4.78155738e-01, -1.05973153e+00],\n",
       "       [-7.19644435e-01, -9.54623867e-01, -6.26042074e-01],\n",
       "       [-5.24808665e-01,  3.23458293e-02, -6.26042074e-01],\n",
       "       [-6.22226550e-01, -1.37821360e-01, -7.22417508e-01],\n",
       "       [-4.27390780e-01, -9.20590430e-01, -2.40540339e-01],\n",
       "       [-3.77192390e-02,  3.72680207e-01, -2.40540339e-01],\n",
       "       [-2.32555009e-01,  2.02513018e-01, -4.33291206e-01],\n",
       "       [-3.77192390e-02, -9.20590430e-01,  1.44961396e-01],\n",
       "       [ 3.51952302e-01,  7.13014586e-01,  9.67736794e-02],\n",
       "       [ 1.57116531e-01,  3.72680207e-01, -9.59771882e-02],\n",
       "       [-1.10931598e+00, -9.54623867e-01, -9.63356092e-01],\n",
       "       [-1.01189809e+00, -3.07988549e-01, -1.01154381e+00],\n",
       "       [-1.10931598e+00, -4.78155738e-01, -1.05973153e+00],\n",
       "       [-7.19644435e-01, -9.54623867e-01, -6.26042074e-01],\n",
       "       [-5.24808665e-01,  3.23458293e-02, -6.26042074e-01],\n",
       "       [-6.22226550e-01, -1.37821360e-01, -7.22417508e-01],\n",
       "       [-4.27390780e-01, -9.20590430e-01, -2.40540339e-01],\n",
       "       [-3.77192390e-02,  3.72680207e-01, -2.40540339e-01],\n",
       "       [-2.32555009e-01,  2.02513018e-01, -4.33291206e-01],\n",
       "       [-3.77192390e-02, -9.20590430e-01,  1.44961396e-01],\n",
       "       [ 3.51952302e-01,  7.13014586e-01,  9.67736794e-02],\n",
       "       [ 1.57116531e-01,  3.72680207e-01, -9.59771882e-02],\n",
       "       [-1.30415175e+00, -9.88657305e-01, -1.01154381e+00],\n",
       "       [-1.01189809e+00, -9.54623867e-01, -7.22417508e-01],\n",
       "       [-6.22226550e-01, -9.54623867e-01, -2.40540339e-01],\n",
       "       [-1.10931598e+00, -9.54623867e-01, -8.66980658e-01],\n",
       "       [-1.01189809e+00, -6.48322927e-01, -8.66980658e-01],\n",
       "       [-1.10931598e+00, -6.48322927e-01, -9.15168375e-01],\n",
       "       [-8.17062320e-01, -9.54623867e-01, -5.77854357e-01],\n",
       "       [-7.19644435e-01, -4.78155738e-01, -5.77854357e-01],\n",
       "       [-8.17062320e-01, -6.48322927e-01, -6.26042074e-01],\n",
       "       [-3.29972895e-01, -9.54623867e-01,  3.98245594e-04],\n",
       "       [-1.35137124e-01, -3.07988549e-01,  3.98245594e-04],\n",
       "       [-2.32555009e-01, -4.78155738e-01, -9.59771882e-02],\n",
       "       [-1.30415175e+00, -9.88657305e-01, -1.01154381e+00],\n",
       "       [-1.10931598e+00, -9.88657305e-01, -7.22417508e-01],\n",
       "       [-7.19644435e-01, -9.88657305e-01, -2.40540339e-01],\n",
       "       [-9.14480206e-01, -9.88657305e-01, -5.29666640e-01],\n",
       "       [-6.22226550e-01, -9.88657305e-01, -1.44164905e-01],\n",
       "       [-3.77192390e-02, -9.88657305e-01,  6.26838565e-01],\n",
       "       [ 8.39041728e-01, -1.37821360e-01,  8.19589433e-01],\n",
       "       [ 1.03387750e+00,  7.13014586e-01,  8.19589433e-01],\n",
       "       [ 9.36459613e-01,  5.42847397e-01,  7.23213999e-01],\n",
       "       [ 6.44205957e-01, -6.48322927e-01,  8.67777150e-01],\n",
       "       [ 7.41623842e-01, -4.78155738e-01,  8.19589433e-01],\n",
       "       [ 7.41623842e-01, -4.78155738e-01,  8.19589433e-01],\n",
       "       [ 9.36459613e-01, -6.48322927e-01,  1.06052802e+00],\n",
       "       [ 9.36459613e-01, -3.07988549e-01,  1.06052802e+00],\n",
       "       [ 9.36459613e-01, -3.07988549e-01,  1.06052802e+00],\n",
       "       [-3.29972895e-01, -9.54623867e-01,  3.98245594e-04],\n",
       "       [-1.35137124e-01, -1.37821360e-01,  3.98245594e-04],\n",
       "       [-3.29972895e-01, -4.78155738e-01, -4.77894713e-02],\n",
       "       [ 2.54534417e-01, -9.54623867e-01,  7.23213999e-01],\n",
       "       [ 4.49370187e-01,  3.23458293e-02,  6.75026282e-01],\n",
       "       [ 2.54534417e-01, -4.78155738e-01,  6.26838565e-01],\n",
       "       [ 1.13129538e+00, -9.54623867e-01,  1.63878062e+00],\n",
       "       [ 1.52096692e+00,  7.13014586e-01,  1.63878062e+00],\n",
       "       [ 1.13129538e+00, -1.37821360e-01,  1.54240519e+00],\n",
       "       [-1.35137124e-01, -8.18490116e-01,  2.89524547e-01],\n",
       "       [ 5.96986462e-02,  3.23458293e-02,  2.89524547e-01],\n",
       "       [-1.35137124e-01, -3.07988549e-01,  1.93149113e-01],\n",
       "       [ 6.44205957e-01, -6.48322927e-01,  1.20509117e+00],\n",
       "       [ 9.36459613e-01,  3.72680207e-01,  1.20509117e+00],\n",
       "       [ 6.44205957e-01, -1.37821360e-01,  1.10871573e+00],\n",
       "       [ 1.42354904e+00, -6.48322927e-01,  2.12065779e+00],\n",
       "       [ 1.91063846e+00,  1.05334896e+00,  2.12065779e+00],\n",
       "       [ 1.52096692e+00,  3.23458293e-02,  2.02428236e+00],\n",
       "       [-1.35137124e-01, -9.54623867e-01,  2.89524547e-01],\n",
       "       [ 5.96986462e-02, -1.37821360e-01,  2.89524547e-01],\n",
       "       [-1.35137124e-01, -4.78155738e-01,  1.93149113e-01],\n",
       "       [ 8.39041728e-01, -9.54623867e-01,  1.15690345e+00],\n",
       "       [ 8.39041728e-01,  2.02513018e-01,  1.15690345e+00],\n",
       "       [ 6.44205957e-01, -4.78155738e-01,  1.06052802e+00],\n",
       "       [ 1.32613115e+00, -9.54623867e-01,  2.02428236e+00],\n",
       "       [ 1.71580269e+00,  7.13014586e-01,  2.02428236e+00],\n",
       "       [ 1.42354904e+00, -1.37821360e-01,  1.87971920e+00],\n",
       "       [ 2.54534417e-01,  3.23458293e-02,  5.30463131e-01],\n",
       "       [ 4.49370187e-01,  7.13014586e-01,  5.30463131e-01],\n",
       "       [ 2.54534417e-01,  3.72680207e-01,  4.34087698e-01],\n",
       "       [ 1.13129538e+00,  3.72680207e-01,  1.49421747e+00],\n",
       "       [ 1.42354904e+00,  1.39368334e+00,  1.49421747e+00],\n",
       "       [ 1.13129538e+00,  1.05334896e+00,  1.39784204e+00],\n",
       "       [ 2.20289212e+00,  7.13014586e-01,  2.60253496e+00],\n",
       "       [ 2.59256366e+00,  2.41468648e+00,  2.60253496e+00],\n",
       "       [ 2.30031001e+00,  1.73401772e+00,  2.50615952e+00],\n",
       "       [-1.01189809e+00, -9.54623867e-01, -7.70605225e-01],\n",
       "       [-7.19644435e-01, -9.54623867e-01, -4.81478923e-01],\n",
       "       [-3.29972895e-01, -9.54623867e-01, -9.59771882e-02],\n",
       "       [-8.17062320e-01, -8.18490116e-01, -5.77854357e-01],\n",
       "       [-4.27390780e-01, -6.48322927e-01, -1.44164905e-01],\n",
       "       [ 1.57116531e-01, -6.48322927e-01,  4.82275415e-01],\n",
       "       [-9.14480206e-01, -9.54623867e-01, -6.26042074e-01],\n",
       "       [-4.27390780e-01, -9.54623867e-01, -1.44164905e-01],\n",
       "       [ 5.96986462e-02, -9.54623867e-01,  3.85899981e-01],\n",
       "       [-4.27390780e-01,  3.23458293e-02, -2.88728056e-01],\n",
       "       [ 2.54534417e-01,  3.72680207e-01,  3.37712264e-01],\n",
       "       [ 9.36459613e-01,  7.13014586e-01,  1.06052802e+00],\n",
       "       [-2.32555009e-01, -9.54623867e-01,  1.44961396e-01],\n",
       "       [-3.77192390e-02,  3.23458293e-02,  9.67736794e-02],\n",
       "       [-2.32555009e-01, -4.78155738e-01,  4.85859625e-02],\n",
       "       [ 3.51952302e-01, -9.20590430e-01,  8.19589433e-01],\n",
       "       [ 6.44205957e-01,  3.72680207e-01,  8.19589433e-01],\n",
       "       [ 4.49370187e-01, -3.07988549e-01,  7.23213999e-01],\n",
       "       [ 1.13129538e+00, -9.20590430e-01,  1.63878062e+00],\n",
       "       [ 1.52096692e+00,  1.05334896e+00,  1.63878062e+00],\n",
       "       [ 1.22871327e+00,  1.00412705e-01,  1.49421747e+00],\n",
       "       [-2.32555009e-01, -9.54623867e-01,  1.44961396e-01],\n",
       "       [ 5.96986462e-02,  2.02513018e-01,  1.44961396e-01],\n",
       "       [-1.35137124e-01, -4.78155738e-01,  4.85859625e-02],\n",
       "       [ 4.49370187e-01, -9.54623867e-01,  9.64152583e-01]])"
      ]
     },
     "execution_count": 55,
     "metadata": {},
     "output_type": "execute_result"
    }
   ],
   "source": [
    "from sklearn.preprocessing import StandardScaler\n",
    "X = StandardScaler()\n",
    "scaled_df = X.fit_transform(df)\n",
    "scaled_df"
   ]
  },
  {
   "cell_type": "code",
   "execution_count": 56,
   "id": "f26cfbc5",
   "metadata": {
    "scrolled": true
   },
   "outputs": [
    {
     "name": "stdout",
     "output_type": "stream",
     "text": [
      "     Calories  Column_B  Column_C\n",
      "0   -1.859434 -0.954624 -1.734360\n",
      "1   -1.849692 -0.954624 -1.734360\n",
      "2   -1.839950 -0.954624 -1.734360\n",
      "3   -1.839950 -0.954624 -1.734360\n",
      "4   -1.206734 -0.954624 -1.252482\n",
      "..        ...       ...       ...\n",
      "237  1.228713  0.100413  1.494217\n",
      "238 -0.232555 -0.954624  0.144961\n",
      "239  0.059699  0.202513  0.144961\n",
      "240 -0.135137 -0.478156  0.048586\n",
      "241  0.449370 -0.954624  0.964153\n",
      "\n",
      "[242 rows x 3 columns]\n",
      "<class 'pandas.core.frame.DataFrame'>\n"
     ]
    }
   ],
   "source": [
    "## my_array = np.array([[11,22,33],[44,55,66]])\n",
    "\n",
    "df_new = pd.DataFrame(scaled_df, columns = ['Calories','Column_B','Column_C'])\n",
    "\n",
    "print(df_new)\n",
    "print(type(df_new))"
   ]
  },
  {
   "cell_type": "code",
   "execution_count": 57,
   "id": "a59061d1",
   "metadata": {},
   "outputs": [
    {
     "name": "stdout",
     "output_type": "stream",
     "text": [
      "3.0796530866607674\n",
      "-1.8886590573815827\n"
     ]
    }
   ],
   "source": [
    "print(df_new['Calories'].max())\n",
    "print(df_new['Calories'].min())"
   ]
  },
  {
   "cell_type": "markdown",
   "id": "77e68c5a",
   "metadata": {},
   "source": [
    "### Hierarchical - Agglomerate"
   ]
  },
  {
   "cell_type": "code",
   "execution_count": 9,
   "id": "fb52b0e1",
   "metadata": {},
   "outputs": [
    {
     "data": {
      "image/png": "[encoded data removed]",
      "text/plain": [
       "<Figure size 640x480 with 1 Axes>"
      ]
     },
     "metadata": {},
     "output_type": "display_data"
    }
   ],
   "source": [
    "from scipy.cluster.hierarchy import dendrogram,linkage\n",
    "wardlink = linkage(df, method='ward')\n",
    "dend = dendrogram(wardlink)"
   ]
  },
  {
   "cell_type": "code",
   "execution_count": 10,
   "id": "4a342751",
   "metadata": {},
   "outputs": [
    {
     "data": {
      "image/png": "[encoded data removed]",
      "text/plain": [
       "<Figure size 640x480 with 1 Axes>"
      ]
     },
     "metadata": {},
     "output_type": "display_data"
    }
   ],
   "source": [
    "dend = dendrogram(wardlink,\n",
    "                 truncate_mode='lastp',\n",
    "                 p = 10,\n",
    "                 )"
   ]
  },
  {
   "cell_type": "code",
   "execution_count": 12,
   "id": "0095ccc1",
   "metadata": {},
   "outputs": [],
   "source": [
    "from scipy.cluster.hierarchy import fcluster"
   ]
  },
  {
   "cell_type": "code",
   "execution_count": 13,
   "id": "698f5144",
   "metadata": {},
   "outputs": [
    {
     "data": {
      "text/plain": [
       "array([2, 2, 2, 2, 2, 2, 2, 2, 2, 2, 2, 2, 2, 2, 2, 2, 2, 2, 2, 2, 2, 2,\n",
       "       2, 2, 2, 1, 1, 1, 2, 2, 2, 2, 2, 2, 2, 2, 2, 2, 1, 2, 2, 2, 2, 2,\n",
       "       2, 2, 2, 2, 2, 2, 2, 2, 2, 2, 2, 2, 2, 2, 2, 2, 2, 2, 2, 2, 2, 2,\n",
       "       2, 2, 2, 2, 2, 2, 1, 2, 2, 2, 2, 2, 1, 2, 1, 1, 1, 1, 1, 1, 2, 2,\n",
       "       2, 2, 2, 2, 2, 1, 2, 1, 1, 1, 2, 2, 1, 1, 2, 2, 2, 2, 2, 2, 2, 2,\n",
       "       2, 2, 2, 2, 2, 2, 1, 1, 2, 2, 2, 2, 2, 2, 1, 1, 1, 1, 1, 1, 2, 2,\n",
       "       2, 2, 2, 2, 2, 2, 2, 2, 2, 2, 2, 2, 2, 2, 2, 2, 2, 2, 2, 2, 2, 2,\n",
       "       2, 2, 2, 2, 2, 2, 2, 2, 2, 2, 2, 2, 2, 2, 2, 2, 2, 2, 1, 1, 1, 2,\n",
       "       2, 2, 1, 1, 1, 2, 2, 2, 2, 2, 2, 1, 1, 1, 2, 2, 2, 2, 1, 2, 1, 1,\n",
       "       1, 2, 2, 2, 1, 1, 2, 1, 1, 1, 2, 2, 2, 1, 1, 1, 1, 1, 1, 2, 2, 2,\n",
       "       2, 2, 2, 2, 2, 2, 2, 2, 1, 2, 2, 2, 2, 2, 2, 1, 1, 1, 2, 2, 2, 2],\n",
       "      dtype=int32)"
      ]
     },
     "execution_count": 13,
     "metadata": {},
     "output_type": "execute_result"
    }
   ],
   "source": [
    "#Method 1\n",
    "\n",
    "clusters = fcluster(wardlink, 2, criterion='maxclust')\n",
    "clusters"
   ]
  },
  {
   "cell_type": "code",
   "execution_count": 14,
   "id": "9b8545ac",
   "metadata": {},
   "outputs": [],
   "source": [
    "df['clusters'] = clusters"
   ]
  },
  {
   "cell_type": "code",
   "execution_count": 15,
   "id": "30d39651",
   "metadata": {},
   "outputs": [
    {
     "data": {
      "text/html": [
       "<div>\n",
       "<style scoped>\n",
       "    .dataframe tbody tr th:only-of-type {\n",
       "        vertical-align: middle;\n",
       "    }\n",
       "\n",
       "    .dataframe tbody tr th {\n",
       "        vertical-align: top;\n",
       "    }\n",
       "\n",
       "    .dataframe thead th {\n",
       "        text-align: right;\n",
       "    }\n",
       "</style>\n",
       "<table border=\"1\" class=\"dataframe\">\n",
       "  <thead>\n",
       "    <tr style=\"text-align: right;\">\n",
       "      <th></th>\n",
       "      <th>Calories</th>\n",
       "      <th>Total Fat (g)</th>\n",
       "      <th>Cholesterol (mg)</th>\n",
       "      <th>clusters</th>\n",
       "    </tr>\n",
       "  </thead>\n",
       "  <tbody>\n",
       "    <tr>\n",
       "      <th>0</th>\n",
       "      <td>3</td>\n",
       "      <td>0.1</td>\n",
       "      <td>0</td>\n",
       "      <td>2</td>\n",
       "    </tr>\n",
       "    <tr>\n",
       "      <th>1</th>\n",
       "      <td>4</td>\n",
       "      <td>0.1</td>\n",
       "      <td>0</td>\n",
       "      <td>2</td>\n",
       "    </tr>\n",
       "    <tr>\n",
       "      <th>2</th>\n",
       "      <td>5</td>\n",
       "      <td>0.1</td>\n",
       "      <td>0</td>\n",
       "      <td>2</td>\n",
       "    </tr>\n",
       "    <tr>\n",
       "      <th>3</th>\n",
       "      <td>5</td>\n",
       "      <td>0.1</td>\n",
       "      <td>0</td>\n",
       "      <td>2</td>\n",
       "    </tr>\n",
       "    <tr>\n",
       "      <th>4</th>\n",
       "      <td>70</td>\n",
       "      <td>0.1</td>\n",
       "      <td>10</td>\n",
       "      <td>2</td>\n",
       "    </tr>\n",
       "  </tbody>\n",
       "</table>\n",
       "</div>"
      ],
      "text/plain": [
       "   Calories   Total Fat (g)  Cholesterol (mg)  clusters\n",
       "0         3             0.1                 0         2\n",
       "1         4             0.1                 0         2\n",
       "2         5             0.1                 0         2\n",
       "3         5             0.1                 0         2\n",
       "4        70             0.1                10         2"
      ]
     },
     "execution_count": 15,
     "metadata": {},
     "output_type": "execute_result"
    }
   ],
   "source": [
    "df.head()"
   ]
  },
  {
   "cell_type": "markdown",
   "id": "5cccf19a",
   "metadata": {},
   "source": [
    "### K Means"
   ]
  },
  {
   "cell_type": "code",
   "execution_count": 16,
   "id": "a08d7288",
   "metadata": {},
   "outputs": [
    {
     "name": "stderr",
     "output_type": "stream",
     "text": [
      "C:\\ProgramData\\Anaconda3\\lib\\site-packages\\sklearn\\cluster\\_kmeans.py:1036: UserWarning: KMeans is known to have a memory leak on Windows with MKL, when there are less chunks than available threads. You can avoid it by setting the environment variable OMP_NUM_THREADS=1.\n",
      "  warnings.warn(\n"
     ]
    },
    {
     "data": {
      "text/plain": [
       "[<matplotlib.lines.Line2D at 0x245090ad400>]"
      ]
     },
     "execution_count": 16,
     "metadata": {},
     "output_type": "execute_result"
    },
    {
     "data": {
      "image/png": "[encoded data removed]",
      "text/plain": [
       "<Figure size 640x480 with 1 Axes>"
      ]
     },
     "metadata": {},
     "output_type": "display_data"
    }
   ],
   "source": [
    "wss =[] \n",
    "\n",
    "for i in range(1,11):\n",
    "    KM = KMeans(n_clusters=i)\n",
    "    KM.fit(scaled_df)\n",
    "    wss.append(KM.inertia_)\n",
    "\n",
    "plt.plot(range(1,11), wss)"
   ]
  },
  {
   "cell_type": "code",
   "execution_count": 24,
   "id": "20d87cb5",
   "metadata": {},
   "outputs": [
    {
     "data": {
      "text/plain": [
       "[725.9999999999998,\n",
       " 359.8766566722338,\n",
       " 255.38517611312926,\n",
       " 187.3340804406436,\n",
       " 146.105997026588,\n",
       " 121.28808276343263,\n",
       " 105.03627178051633,\n",
       " 91.36405343323513,\n",
       " 79.78911881930074,\n",
       " 70.08723579352717]"
      ]
     },
     "execution_count": 24,
     "metadata": {},
     "output_type": "execute_result"
    }
   ],
   "source": [
    "wss"
   ]
  },
  {
   "cell_type": "code",
   "execution_count": 47,
   "id": "82627e21",
   "metadata": {},
   "outputs": [],
   "source": [
    "k_means = KMeans(n_clusters = 3)\n",
    "k_means.fit(scaled_df)\n",
    "labels = k_means.labels_"
   ]
  },
  {
   "cell_type": "code",
   "execution_count": 48,
   "id": "de992fba",
   "metadata": {},
   "outputs": [
    {
     "data": {
      "text/html": [
       "<div>\n",
       "<style scoped>\n",
       "    .dataframe tbody tr th:only-of-type {\n",
       "        vertical-align: middle;\n",
       "    }\n",
       "\n",
       "    .dataframe tbody tr th {\n",
       "        vertical-align: top;\n",
       "    }\n",
       "\n",
       "    .dataframe thead th {\n",
       "        text-align: right;\n",
       "    }\n",
       "</style>\n",
       "<table border=\"1\" class=\"dataframe\">\n",
       "  <thead>\n",
       "    <tr style=\"text-align: right;\">\n",
       "      <th></th>\n",
       "      <th>Calories</th>\n",
       "      <th>Total Fat (g)</th>\n",
       "      <th>Cholesterol (mg)</th>\n",
       "      <th>clusters</th>\n",
       "      <th>Clus_kmeans</th>\n",
       "      <th>sil_width</th>\n",
       "    </tr>\n",
       "  </thead>\n",
       "  <tbody>\n",
       "    <tr>\n",
       "      <th>0</th>\n",
       "      <td>3</td>\n",
       "      <td>0.1</td>\n",
       "      <td>0</td>\n",
       "      <td>2</td>\n",
       "      <td>1</td>\n",
       "      <td>0.548014</td>\n",
       "    </tr>\n",
       "    <tr>\n",
       "      <th>1</th>\n",
       "      <td>4</td>\n",
       "      <td>0.1</td>\n",
       "      <td>0</td>\n",
       "      <td>2</td>\n",
       "      <td>1</td>\n",
       "      <td>0.548874</td>\n",
       "    </tr>\n",
       "    <tr>\n",
       "      <th>2</th>\n",
       "      <td>5</td>\n",
       "      <td>0.1</td>\n",
       "      <td>0</td>\n",
       "      <td>2</td>\n",
       "      <td>1</td>\n",
       "      <td>0.549660</td>\n",
       "    </tr>\n",
       "    <tr>\n",
       "      <th>3</th>\n",
       "      <td>5</td>\n",
       "      <td>0.1</td>\n",
       "      <td>0</td>\n",
       "      <td>2</td>\n",
       "      <td>1</td>\n",
       "      <td>0.549660</td>\n",
       "    </tr>\n",
       "    <tr>\n",
       "      <th>4</th>\n",
       "      <td>70</td>\n",
       "      <td>0.1</td>\n",
       "      <td>10</td>\n",
       "      <td>2</td>\n",
       "      <td>1</td>\n",
       "      <td>0.603502</td>\n",
       "    </tr>\n",
       "  </tbody>\n",
       "</table>\n",
       "</div>"
      ],
      "text/plain": [
       "   Calories   Total Fat (g)  Cholesterol (mg)  clusters  Clus_kmeans  \\\n",
       "0         3             0.1                 0         2            1   \n",
       "1         4             0.1                 0         2            1   \n",
       "2         5             0.1                 0         2            1   \n",
       "3         5             0.1                 0         2            1   \n",
       "4        70             0.1                10         2            1   \n",
       "\n",
       "   sil_width  \n",
       "0   0.548014  \n",
       "1   0.548874  \n",
       "2   0.549660  \n",
       "3   0.549660  \n",
       "4   0.603502  "
      ]
     },
     "execution_count": 48,
     "metadata": {},
     "output_type": "execute_result"
    }
   ],
   "source": [
    "df[\"Clus_kmeans\"] = labels\n",
    "df.head(5)"
   ]
  },
  {
   "cell_type": "code",
   "execution_count": 49,
   "id": "4f5b8015",
   "metadata": {
    "scrolled": true
   },
   "outputs": [
    {
     "data": {
      "text/html": [
       "<div>\n",
       "<style scoped>\n",
       "    .dataframe tbody tr th:only-of-type {\n",
       "        vertical-align: middle;\n",
       "    }\n",
       "\n",
       "    .dataframe tbody tr th {\n",
       "        vertical-align: top;\n",
       "    }\n",
       "\n",
       "    .dataframe thead th {\n",
       "        text-align: right;\n",
       "    }\n",
       "</style>\n",
       "<table border=\"1\" class=\"dataframe\">\n",
       "  <thead>\n",
       "    <tr style=\"text-align: right;\">\n",
       "      <th></th>\n",
       "      <th>Calories</th>\n",
       "      <th>Total Fat (g)</th>\n",
       "      <th>Cholesterol (mg)</th>\n",
       "      <th>clusters</th>\n",
       "      <th>Clus_kmeans</th>\n",
       "      <th>sil_width</th>\n",
       "    </tr>\n",
       "  </thead>\n",
       "  <tbody>\n",
       "    <tr>\n",
       "      <th>0</th>\n",
       "      <td>3</td>\n",
       "      <td>0.1</td>\n",
       "      <td>0</td>\n",
       "      <td>2</td>\n",
       "      <td>1</td>\n",
       "      <td>0.554278</td>\n",
       "    </tr>\n",
       "    <tr>\n",
       "      <th>1</th>\n",
       "      <td>4</td>\n",
       "      <td>0.1</td>\n",
       "      <td>0</td>\n",
       "      <td>2</td>\n",
       "      <td>1</td>\n",
       "      <td>0.555155</td>\n",
       "    </tr>\n",
       "    <tr>\n",
       "      <th>2</th>\n",
       "      <td>5</td>\n",
       "      <td>0.1</td>\n",
       "      <td>0</td>\n",
       "      <td>2</td>\n",
       "      <td>1</td>\n",
       "      <td>0.555953</td>\n",
       "    </tr>\n",
       "    <tr>\n",
       "      <th>3</th>\n",
       "      <td>5</td>\n",
       "      <td>0.1</td>\n",
       "      <td>0</td>\n",
       "      <td>2</td>\n",
       "      <td>1</td>\n",
       "      <td>0.555953</td>\n",
       "    </tr>\n",
       "    <tr>\n",
       "      <th>4</th>\n",
       "      <td>70</td>\n",
       "      <td>0.1</td>\n",
       "      <td>10</td>\n",
       "      <td>2</td>\n",
       "      <td>1</td>\n",
       "      <td>0.610354</td>\n",
       "    </tr>\n",
       "  </tbody>\n",
       "</table>\n",
       "</div>"
      ],
      "text/plain": [
       "   Calories   Total Fat (g)  Cholesterol (mg)  clusters  Clus_kmeans  \\\n",
       "0         3             0.1                 0         2            1   \n",
       "1         4             0.1                 0         2            1   \n",
       "2         5             0.1                 0         2            1   \n",
       "3         5             0.1                 0         2            1   \n",
       "4        70             0.1                10         2            1   \n",
       "\n",
       "   sil_width  \n",
       "0   0.554278  \n",
       "1   0.555155  \n",
       "2   0.555953  \n",
       "3   0.555953  \n",
       "4   0.610354  "
      ]
     },
     "execution_count": 49,
     "metadata": {},
     "output_type": "execute_result"
    }
   ],
   "source": [
    "from sklearn.metrics import silhouette_samples, silhouette_score\n",
    "silhouette_score(scaled_df,labels)\n",
    "sil_width = silhouette_samples(scaled_df,labels)\n",
    "df[\"sil_width\"] = sil_width\n",
    "df.head(5)"
   ]
  },
  {
   "cell_type": "code",
   "execution_count": 50,
   "id": "2f2d1976",
   "metadata": {},
   "outputs": [
    {
     "data": {
      "text/plain": [
       "-0.04997378232838186"
      ]
     },
     "execution_count": 50,
     "metadata": {},
     "output_type": "execute_result"
    }
   ],
   "source": [
    "silhouette_samples(scaled_df,labels).min()"
   ]
  },
  {
   "cell_type": "code",
   "execution_count": 51,
   "id": "ef36c8f0",
   "metadata": {},
   "outputs": [
    {
     "data": {
      "text/plain": [
       "0.37501416927869285"
      ]
     },
     "execution_count": 51,
     "metadata": {},
     "output_type": "execute_result"
    }
   ],
   "source": [
    "silhouette_score(scaled_df,labels)"
   ]
  },
  {
   "cell_type": "code",
   "execution_count": 22,
   "id": "8d649ad7",
   "metadata": {},
   "outputs": [],
   "source": [
    "df.to_csv('both.csv')"
   ]
  },
  {
   "cell_type": "code",
   "execution_count": null,
   "id": "df74c468",
   "metadata": {},
   "outputs": [],
   "source": []
  }
 ],
 "metadata": {
  "kernelspec": {
   "display_name": "Python 3 (ipykernel)",
   "language": "python",
   "name": "python3"
  },
  "language_info": {
   "codemirror_mode": {
    "name": "ipython",
    "version": 3
   },
   "file_extension": ".py",
   "mimetype": "text/x-python",
   "name": "python",
   "nbconvert_exporter": "python",
   "pygments_lexer": "ipython3",
   "version": "3.9.13"
  },
  "varInspector": {
   "cols": {
    "lenName": 16,
    "lenType": 16,
    "lenVar": 40
   },
   "kernels_config": {
    "python": {
     "delete_cmd_postfix": "",
     "delete_cmd_prefix": "del ",
     "library": "var_list.py",
     "varRefreshCmd": "print(var_dic_list())"
    },
    "r": {
     "delete_cmd_postfix": ") ",
     "delete_cmd_prefix": "rm(",
     "library": "var_list.r",
     "varRefreshCmd": "cat(var_dic_list()) "
    }
   },
   "types_to_exclude": [
    "module",
    "function",
    "builtin_function_or_method",
    "instance",
    "_Feature"
   ],
   "window_display": false
  }
 },
 "nbformat": 4,
 "nbformat_minor": 5
}
