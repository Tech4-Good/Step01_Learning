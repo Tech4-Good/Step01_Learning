{
 "cells": [
  {
   "cell_type": "code",
   "execution_count": null,
   "id": "f54bdbcd",
   "metadata": {},
   "outputs": [],
   "source": [
    "import numpy as np\n",
    "import pandas as pd\n",
    "import matplotlib.pyplot as plt\n",
    "import seaborn as sns\n",
    "%matplotlib inline\n",
    "\n",
    "# For randomized data splitting\n",
    "from sklearn.model_selection import train_test_split\n",
    "\n",
    "# To build linear regression_model\n",
    "import statsmodels.api as sm\n",
    "\n",
    "# To check model performance\n",
    "from sklearn.metrics import mean_absolute_error, mean_squared_error"
   ]
  },
  {
   "cell_type": "code",
   "execution_count": null,
   "id": "98fe1efb",
   "metadata": {},
   "outputs": [],
   "source": [
    "import os\n",
    "os.chdir('C:/Users/lsreeram/Downloads/_/GL/05 Predictive Modeling/Week1/01HandsOn')"
   ]
  },
  {
   "cell_type": "code",
   "execution_count": null,
   "id": "ebc9dd3e",
   "metadata": {},
   "outputs": [],
   "source": [
    "cars_df = pd.read_csv('auto-mpg.csv')\n",
    "cars_df.head(3)"
   ]
  },
  {
   "cell_type": "code",
   "execution_count": null,
   "id": "0f55040d",
   "metadata": {},
   "outputs": [],
   "source": [
    "# let's check column types and number of values\n",
    "cars_df.info()"
   ]
  },
  {
   "cell_type": "markdown",
   "id": "0f43d9d9",
   "metadata": {},
   "source": [
    "Fix: horsepower is object"
   ]
  },
  {
   "cell_type": "code",
   "execution_count": null,
   "id": "932a0239",
   "metadata": {},
   "outputs": [],
   "source": [
    "cars_df_eda = cars_df.drop(['car name'],axis=1)"
   ]
  },
  {
   "cell_type": "markdown",
   "id": "709a8674",
   "metadata": {},
   "source": [
    "### Missing values"
   ]
  },
  {
   "cell_type": "code",
   "execution_count": null,
   "id": "0a3478f5",
   "metadata": {},
   "outputs": [],
   "source": [
    "cars_df_eda.isnull().sum()"
   ]
  },
  {
   "cell_type": "code",
   "execution_count": null,
   "id": "b91f6ed9",
   "metadata": {},
   "outputs": [],
   "source": [
    "cars_df_eda.duplicated().sum()"
   ]
  },
  {
   "cell_type": "code",
   "execution_count": null,
   "id": "70f06372",
   "metadata": {},
   "outputs": [],
   "source": [
    "cars_df_eda.describe()"
   ]
  },
  {
   "cell_type": "code",
   "execution_count": null,
   "id": "30d19661",
   "metadata": {},
   "outputs": [],
   "source": [
    "hpIsDigit = pd.DataFrame(cars_df_eda.horsepower.str.isdigit())\n",
    "cars_df_eda[hpIsDigit['horsepower']==False]"
   ]
  },
  {
   "cell_type": "code",
   "execution_count": null,
   "id": "7cb225b5",
   "metadata": {},
   "outputs": [],
   "source": [
    "cars_df_eda[hpIsDigit['horsepower']==False].count()"
   ]
  },
  {
   "cell_type": "code",
   "execution_count": null,
   "id": "1e3eb647",
   "metadata": {},
   "outputs": [],
   "source": [
    "cars_df_eda = cars_df_eda.replace(\"?\", np.nan)\n",
    "cars_df_eda[hpIsDigit[\"horsepower\"] == False]"
   ]
  },
  {
   "cell_type": "code",
   "execution_count": null,
   "id": "72816e3b",
   "metadata": {},
   "outputs": [],
   "source": [
    "# checking column medians\n",
    "cars_df_eda.median()"
   ]
  },
  {
   "cell_type": "code",
   "execution_count": null,
   "id": "f2766ccb",
   "metadata": {},
   "outputs": [],
   "source": [
    "medianFiller = lambda x: x.fillna(x.median())\n",
    "cars_df_eda = cars_df_eda.apply(medianFiller, axis=0)"
   ]
  },
  {
   "cell_type": "code",
   "execution_count": null,
   "id": "78238df8",
   "metadata": {},
   "outputs": [],
   "source": [
    "# let's convert the horsepower column from object type to float type\n",
    "cars_df_eda[\"horsepower\"] = cars_df_eda[\"horsepower\"].astype(float)"
   ]
  },
  {
   "cell_type": "code",
   "execution_count": null,
   "id": "eaccb9e9",
   "metadata": {},
   "outputs": [],
   "source": [
    "cars_df_eda[\"origin\"] = cars_df_eda[\"origin\"].replace({1: \"america\", 2: \"europe\", 3: \"asia\"})\n",
    "cars_df_eda.head()"
   ]
  },
  {
   "cell_type": "markdown",
   "id": "d4260440",
   "metadata": {},
   "source": [
    "### BIivariate Analysis"
   ]
  },
  {
   "cell_type": "code",
   "execution_count": null,
   "id": "9fabb33c",
   "metadata": {},
   "outputs": [],
   "source": [
    "cData_attr = cars_df_eda.iloc[:, 0:7]\n",
    "sns.pairplot(cData_attr, kind='kde')"
   ]
  },
  {
   "cell_type": "code",
   "execution_count": null,
   "id": "1707f3b7",
   "metadata": {},
   "outputs": [],
   "source": [
    "cData_attr = cars_df_eda.iloc[:, 0:7]\n",
    "sns.pairplot(cData_attr, diag_kind='kde');"
   ]
  },
  {
   "cell_type": "markdown",
   "id": "300e2bda",
   "metadata": {},
   "source": [
    "### Dummies"
   ]
  },
  {
   "cell_type": "code",
   "execution_count": null,
   "id": "9518190e",
   "metadata": {},
   "outputs": [],
   "source": [
    "# drop_first=True will drop one of the three origin columns\n",
    "cars_df_eda = pd.get_dummies(cars_df_eda, columns=[\"origin\"], drop_first=True)\n",
    "cars_df_eda.head()"
   ]
  },
  {
   "cell_type": "markdown",
   "id": "ee43c7cb",
   "metadata": {},
   "source": [
    "### Split Data"
   ]
  },
  {
   "cell_type": "code",
   "execution_count": null,
   "id": "42d9ee02",
   "metadata": {},
   "outputs": [],
   "source": [
    "# independent variables\n",
    "X = cars_df_eda.drop([\"mpg\"], axis=1)\n",
    "# dependent variable\n",
    "y = cars_df_eda[[\"mpg\"]]"
   ]
  },
  {
   "cell_type": "code",
   "execution_count": null,
   "id": "ca15852c",
   "metadata": {},
   "outputs": [],
   "source": [
    "X=sm.add_constant(X)"
   ]
  },
  {
   "cell_type": "code",
   "execution_count": null,
   "id": "d5ea74ae",
   "metadata": {},
   "outputs": [],
   "source": [
    "X_train, X_test, y_train, y_test = train_test_split(\n",
    "    X, y, test_size=0.30, random_state=1\n",
    ")"
   ]
  },
  {
   "cell_type": "code",
   "execution_count": null,
   "id": "d47d6ca5",
   "metadata": {},
   "outputs": [],
   "source": [
    "print(X_train.head())"
   ]
  },
  {
   "cell_type": "code",
   "execution_count": null,
   "id": "f56c3f50",
   "metadata": {},
   "outputs": [],
   "source": [
    "print(X_test.head())"
   ]
  },
  {
   "cell_type": "markdown",
   "id": "72ff2b6f",
   "metadata": {},
   "source": [
    "### Fit Model"
   ]
  },
  {
   "cell_type": "code",
   "execution_count": null,
   "id": "33e688e4",
   "metadata": {},
   "outputs": [],
   "source": [
    "olsmod = sm.OLS(y_train, X_train)\n",
    "olsres = olsmod.fit()"
   ]
  },
  {
   "cell_type": "code",
   "execution_count": null,
   "id": "3b500ed4",
   "metadata": {},
   "outputs": [],
   "source": [
    "# let's print the regression summary\n",
    "print(olsres.summary())"
   ]
  },
  {
   "cell_type": "markdown",
   "id": "89c2d6d3",
   "metadata": {},
   "source": [
    "# Week 4 - CART"
   ]
  },
  {
   "cell_type": "markdown",
   "id": "bce965eb",
   "metadata": {},
   "source": [
    "### Libraries"
   ]
  },
  {
   "cell_type": "code",
   "execution_count": 1,
   "id": "2f42946c",
   "metadata": {},
   "outputs": [],
   "source": [
    "import os\n",
    "import pandas as pd\n",
    "import numpy as np\n",
    "import seaborn as sns\n",
    "import matplotlib.pyplot as plt\n",
    "%matplotlib inline\n",
    "\n",
    "from sklearn.tree import DecisionTreeClassifier\n",
    "from sklearn.model_selection import train_test_split\n",
    "from sklearn.metrics import classification_report, confusion_matrix\n",
    "#from sklearn.cross_validation import train_test_split"
   ]
  },
  {
   "cell_type": "code",
   "execution_count": 2,
   "id": "0c701293",
   "metadata": {},
   "outputs": [],
   "source": [
    "from IPython.display import Image\n",
    "from six import StringIO\n",
    "from sklearn.tree import export_graphviz\n",
    "import pydot\n",
    "\n",
    "##--conda install pydot\n",
    "##--conda install -c anaconda graphviz"
   ]
  },
  {
   "cell_type": "markdown",
   "id": "0b8a4482",
   "metadata": {},
   "source": [
    "### Dataset"
   ]
  },
  {
   "cell_type": "code",
   "execution_count": 3,
   "id": "680e4ff6",
   "metadata": {},
   "outputs": [],
   "source": [
    " os.chdir('C:/Users/lsreeram/Downloads/_/GL/05 Predictive Modeling/Week4/Practice')"
   ]
  },
  {
   "cell_type": "code",
   "execution_count": 4,
   "id": "57cc1792",
   "metadata": {},
   "outputs": [],
   "source": [
    "iris = pd.read_csv('iris.csv')"
   ]
  },
  {
   "cell_type": "code",
   "execution_count": 5,
   "id": "7fa4fde3",
   "metadata": {},
   "outputs": [
    {
     "data": {
      "text/html": [
       "<div>\n",
       "<style scoped>\n",
       "    .dataframe tbody tr th:only-of-type {\n",
       "        vertical-align: middle;\n",
       "    }\n",
       "\n",
       "    .dataframe tbody tr th {\n",
       "        vertical-align: top;\n",
       "    }\n",
       "\n",
       "    .dataframe thead th {\n",
       "        text-align: right;\n",
       "    }\n",
       "</style>\n",
       "<table border=\"1\" class=\"dataframe\">\n",
       "  <thead>\n",
       "    <tr style=\"text-align: right;\">\n",
       "      <th></th>\n",
       "      <th>Id</th>\n",
       "      <th>SepalLengthCm</th>\n",
       "      <th>SepalWidthCm</th>\n",
       "      <th>PetalLengthCm</th>\n",
       "      <th>PetalWidthCm</th>\n",
       "      <th>Species</th>\n",
       "    </tr>\n",
       "  </thead>\n",
       "  <tbody>\n",
       "    <tr>\n",
       "      <th>0</th>\n",
       "      <td>1</td>\n",
       "      <td>5.1</td>\n",
       "      <td>3.5</td>\n",
       "      <td>1.4</td>\n",
       "      <td>0.2</td>\n",
       "      <td>Iris-setosa</td>\n",
       "    </tr>\n",
       "    <tr>\n",
       "      <th>1</th>\n",
       "      <td>2</td>\n",
       "      <td>4.9</td>\n",
       "      <td>3.0</td>\n",
       "      <td>1.4</td>\n",
       "      <td>0.2</td>\n",
       "      <td>Iris-setosa</td>\n",
       "    </tr>\n",
       "    <tr>\n",
       "      <th>2</th>\n",
       "      <td>3</td>\n",
       "      <td>4.7</td>\n",
       "      <td>3.2</td>\n",
       "      <td>1.3</td>\n",
       "      <td>0.2</td>\n",
       "      <td>Iris-setosa</td>\n",
       "    </tr>\n",
       "  </tbody>\n",
       "</table>\n",
       "</div>"
      ],
      "text/plain": [
       "   Id  SepalLengthCm  SepalWidthCm  PetalLengthCm  PetalWidthCm      Species\n",
       "0   1            5.1           3.5            1.4           0.2  Iris-setosa\n",
       "1   2            4.9           3.0            1.4           0.2  Iris-setosa\n",
       "2   3            4.7           3.2            1.3           0.2  Iris-setosa"
      ]
     },
     "execution_count": 5,
     "metadata": {},
     "output_type": "execute_result"
    }
   ],
   "source": [
    "iris.head(3)"
   ]
  },
  {
   "cell_type": "code",
   "execution_count": 6,
   "id": "ef82ac10",
   "metadata": {},
   "outputs": [],
   "source": [
    "iris.drop('Id', axis=1, inplace=True)"
   ]
  },
  {
   "cell_type": "code",
   "execution_count": 7,
   "id": "177ac06e",
   "metadata": {},
   "outputs": [
    {
     "data": {
      "text/html": [
       "<div>\n",
       "<style scoped>\n",
       "    .dataframe tbody tr th:only-of-type {\n",
       "        vertical-align: middle;\n",
       "    }\n",
       "\n",
       "    .dataframe tbody tr th {\n",
       "        vertical-align: top;\n",
       "    }\n",
       "\n",
       "    .dataframe thead th {\n",
       "        text-align: right;\n",
       "    }\n",
       "</style>\n",
       "<table border=\"1\" class=\"dataframe\">\n",
       "  <thead>\n",
       "    <tr style=\"text-align: right;\">\n",
       "      <th></th>\n",
       "      <th>SepalLengthCm</th>\n",
       "      <th>SepalWidthCm</th>\n",
       "      <th>PetalLengthCm</th>\n",
       "      <th>PetalWidthCm</th>\n",
       "      <th>Species</th>\n",
       "    </tr>\n",
       "  </thead>\n",
       "  <tbody>\n",
       "    <tr>\n",
       "      <th>0</th>\n",
       "      <td>5.1</td>\n",
       "      <td>3.5</td>\n",
       "      <td>1.4</td>\n",
       "      <td>0.2</td>\n",
       "      <td>Iris-setosa</td>\n",
       "    </tr>\n",
       "    <tr>\n",
       "      <th>1</th>\n",
       "      <td>4.9</td>\n",
       "      <td>3.0</td>\n",
       "      <td>1.4</td>\n",
       "      <td>0.2</td>\n",
       "      <td>Iris-setosa</td>\n",
       "    </tr>\n",
       "    <tr>\n",
       "      <th>2</th>\n",
       "      <td>4.7</td>\n",
       "      <td>3.2</td>\n",
       "      <td>1.3</td>\n",
       "      <td>0.2</td>\n",
       "      <td>Iris-setosa</td>\n",
       "    </tr>\n",
       "  </tbody>\n",
       "</table>\n",
       "</div>"
      ],
      "text/plain": [
       "   SepalLengthCm  SepalWidthCm  PetalLengthCm  PetalWidthCm      Species\n",
       "0            5.1           3.5            1.4           0.2  Iris-setosa\n",
       "1            4.9           3.0            1.4           0.2  Iris-setosa\n",
       "2            4.7           3.2            1.3           0.2  Iris-setosa"
      ]
     },
     "execution_count": 7,
     "metadata": {},
     "output_type": "execute_result"
    }
   ],
   "source": [
    "iris.head(3)"
   ]
  },
  {
   "cell_type": "code",
   "execution_count": 8,
   "id": "52dc6f61",
   "metadata": {},
   "outputs": [],
   "source": [
    "#Fix - replace categories"
   ]
  },
  {
   "cell_type": "code",
   "execution_count": 9,
   "id": "d15dec07",
   "metadata": {},
   "outputs": [],
   "source": [
    "X= iris.drop('Species', axis=1)\n",
    "y = iris['Species']"
   ]
  },
  {
   "cell_type": "markdown",
   "id": "174883cf",
   "metadata": {},
   "source": [
    "### Split Data into train test"
   ]
  },
  {
   "cell_type": "code",
   "execution_count": 10,
   "id": "c6bfb017",
   "metadata": {},
   "outputs": [],
   "source": [
    "X_train,X_test, y_train, y_test = train_test_split(X,y, test_size=.3, random_state=123)"
   ]
  },
  {
   "cell_type": "markdown",
   "id": "b55c3d1e",
   "metadata": {},
   "source": [
    "## CART decision tree- Normal"
   ]
  },
  {
   "cell_type": "code",
   "execution_count": 11,
   "id": "85eb79b1",
   "metadata": {},
   "outputs": [],
   "source": [
    "dtree = DecisionTreeClassifier(criterion='gini')"
   ]
  },
  {
   "cell_type": "code",
   "execution_count": null,
   "id": "35b1adcc",
   "metadata": {},
   "outputs": [],
   "source": [
    "dtree.fit(X_train,y_train)"
   ]
  },
  {
   "cell_type": "markdown",
   "id": "8db04540",
   "metadata": {},
   "source": [
    "### Predictions"
   ]
  },
  {
   "cell_type": "code",
   "execution_count": null,
   "id": "1b04272b",
   "metadata": {},
   "outputs": [],
   "source": [
    "dtree_predictions= dtree.predict(X_test)"
   ]
  },
  {
   "cell_type": "markdown",
   "id": "900ed27b",
   "metadata": {},
   "source": [
    "### Model Evaluation"
   ]
  },
  {
   "cell_type": "code",
   "execution_count": null,
   "id": "584ae6e2",
   "metadata": {},
   "outputs": [],
   "source": [
    "print(confusion_matrix(y_test,dtree_predictions))"
   ]
  },
  {
   "cell_type": "code",
   "execution_count": null,
   "id": "0a9e0521",
   "metadata": {
    "scrolled": true
   },
   "outputs": [],
   "source": [
    "print(classification_report(y_test, dtree_predictions))"
   ]
  },
  {
   "cell_type": "markdown",
   "id": "bcad3f0a",
   "metadata": {},
   "source": [
    "### Playing"
   ]
  },
  {
   "cell_type": "code",
   "execution_count": null,
   "id": "01d1bc22",
   "metadata": {},
   "outputs": [],
   "source": [
    "dtree.predict([[4.9, 2.5, 4.5, 1.7]])"
   ]
  },
  {
   "cell_type": "code",
   "execution_count": null,
   "id": "ef12c33b",
   "metadata": {},
   "outputs": [],
   "source": [
    "iris['Species'].value_counts()"
   ]
  },
  {
   "cell_type": "markdown",
   "id": "71e792be",
   "metadata": {},
   "source": [
    "### Tree Visualizing"
   ]
  },
  {
   "cell_type": "code",
   "execution_count": null,
   "id": "7aa657d3",
   "metadata": {},
   "outputs": [],
   "source": [
    "train_char_label=['Iris-setosa','Iris-versicolor','Iris-virginica']"
   ]
  },
  {
   "cell_type": "code",
   "execution_count": null,
   "id": "43433682",
   "metadata": {},
   "outputs": [],
   "source": [
    "list(X_train)"
   ]
  },
  {
   "cell_type": "code",
   "execution_count": null,
   "id": "7bf6cb02",
   "metadata": {},
   "outputs": [],
   "source": [
    "iris_dot_data_1 = StringIO()\n",
    "export_graphviz(dtree,out_file= iris_dot_data_1,feature_names=list(X_train), filled=True,class_names=train_char_label)\n",
    "graph = pydot.graph_from_dot_data(iris_dot_data_1.getvalue())"
   ]
  },
  {
   "cell_type": "code",
   "execution_count": null,
   "id": "5d1cb894",
   "metadata": {
    "scrolled": true
   },
   "outputs": [],
   "source": [
    "Image(graph[0].create_png())"
   ]
  },
  {
   "cell_type": "markdown",
   "id": "ad9b51fc",
   "metadata": {},
   "source": [
    "### Model feature Importance"
   ]
  },
  {
   "cell_type": "code",
   "execution_count": null,
   "id": "56e55603",
   "metadata": {
    "scrolled": true
   },
   "outputs": [],
   "source": [
    "dtree.feature_importances_"
   ]
  },
  {
   "cell_type": "code",
   "execution_count": null,
   "id": "f2e69ef4",
   "metadata": {},
   "outputs": [],
   "source": [
    "pd.DataFrame(dtree.feature_importances_, columns=['Imp'], index=X_train.columns)"
   ]
  },
  {
   "cell_type": "markdown",
   "id": "815d2c0c",
   "metadata": {},
   "source": [
    "## Regularized Decision Tree"
   ]
  },
  {
   "cell_type": "code",
   "execution_count": 28,
   "id": "9a901ed7",
   "metadata": {},
   "outputs": [],
   "source": [
    "reg_dtree = DecisionTreeClassifier(criterion='gini', max_depth=7, min_samples_leaf=10,min_samples_split=20)"
   ]
  },
  {
   "cell_type": "code",
   "execution_count": 29,
   "id": "e796ca38",
   "metadata": {
    "scrolled": true
   },
   "outputs": [
    {
     "data": {
      "text/html": [
       "<style>#sk-container-id-2 {color: black;background-color: white;}#sk-container-id-2 pre{padding: 0;}#sk-container-id-2 div.sk-toggleable {background-color: white;}#sk-container-id-2 label.sk-toggleable__label {cursor: pointer;display: block;width: 100%;margin-bottom: 0;padding: 0.3em;box-sizing: border-box;text-align: center;}#sk-container-id-2 label.sk-toggleable__label-arrow:before {content: \"▸\";float: left;margin-right: 0.25em;color: #696969;}#sk-container-id-2 label.sk-toggleable__label-arrow:hover:before {color: black;}#sk-container-id-2 div.sk-estimator:hover label.sk-toggleable__label-arrow:before {color: black;}#sk-container-id-2 div.sk-toggleable__content {max-height: 0;max-width: 0;overflow: hidden;text-align: left;background-color: #f0f8ff;}#sk-container-id-2 div.sk-toggleable__content pre {margin: 0.2em;color: black;border-radius: 0.25em;background-color: #f0f8ff;}#sk-container-id-2 input.sk-toggleable__control:checked~div.sk-toggleable__content {max-height: 200px;max-width: 100%;overflow: auto;}#sk-container-id-2 input.sk-toggleable__control:checked~label.sk-toggleable__label-arrow:before {content: \"▾\";}#sk-container-id-2 div.sk-estimator input.sk-toggleable__control:checked~label.sk-toggleable__label {background-color: #d4ebff;}#sk-container-id-2 div.sk-label input.sk-toggleable__control:checked~label.sk-toggleable__label {background-color: #d4ebff;}#sk-container-id-2 input.sk-hidden--visually {border: 0;clip: rect(1px 1px 1px 1px);clip: rect(1px, 1px, 1px, 1px);height: 1px;margin: -1px;overflow: hidden;padding: 0;position: absolute;width: 1px;}#sk-container-id-2 div.sk-estimator {font-family: monospace;background-color: #f0f8ff;border: 1px dotted black;border-radius: 0.25em;box-sizing: border-box;margin-bottom: 0.5em;}#sk-container-id-2 div.sk-estimator:hover {background-color: #d4ebff;}#sk-container-id-2 div.sk-parallel-item::after {content: \"\";width: 100%;border-bottom: 1px solid gray;flex-grow: 1;}#sk-container-id-2 div.sk-label:hover label.sk-toggleable__label {background-color: #d4ebff;}#sk-container-id-2 div.sk-serial::before {content: \"\";position: absolute;border-left: 1px solid gray;box-sizing: border-box;top: 0;bottom: 0;left: 50%;z-index: 0;}#sk-container-id-2 div.sk-serial {display: flex;flex-direction: column;align-items: center;background-color: white;padding-right: 0.2em;padding-left: 0.2em;position: relative;}#sk-container-id-2 div.sk-item {position: relative;z-index: 1;}#sk-container-id-2 div.sk-parallel {display: flex;align-items: stretch;justify-content: center;background-color: white;position: relative;}#sk-container-id-2 div.sk-item::before, #sk-container-id-2 div.sk-parallel-item::before {content: \"\";position: absolute;border-left: 1px solid gray;box-sizing: border-box;top: 0;bottom: 0;left: 50%;z-index: -1;}#sk-container-id-2 div.sk-parallel-item {display: flex;flex-direction: column;z-index: 1;position: relative;background-color: white;}#sk-container-id-2 div.sk-parallel-item:first-child::after {align-self: flex-end;width: 50%;}#sk-container-id-2 div.sk-parallel-item:last-child::after {align-self: flex-start;width: 50%;}#sk-container-id-2 div.sk-parallel-item:only-child::after {width: 0;}#sk-container-id-2 div.sk-dashed-wrapped {border: 1px dashed gray;margin: 0 0.4em 0.5em 0.4em;box-sizing: border-box;padding-bottom: 0.4em;background-color: white;}#sk-container-id-2 div.sk-label label {font-family: monospace;font-weight: bold;display: inline-block;line-height: 1.2em;}#sk-container-id-2 div.sk-label-container {text-align: center;}#sk-container-id-2 div.sk-container {/* jupyter's `normalize.less` sets `[hidden] { display: none; }` but bootstrap.min.css set `[hidden] { display: none !important; }` so we also need the `!important` here to be able to override the default hidden behavior on the sphinx rendered scikit-learn.org. See: https://github.com/scikit-learn/scikit-learn/issues/21755 */display: inline-block !important;position: relative;}#sk-container-id-2 div.sk-text-repr-fallback {display: none;}</style><div id=\"sk-container-id-2\" class=\"sk-top-container\"><div class=\"sk-text-repr-fallback\"><pre>DecisionTreeClassifier(max_depth=7, min_samples_leaf=10, min_samples_split=20)</pre><b>In a Jupyter environment, please rerun this cell to show the HTML representation or trust the notebook. <br />On GitHub, the HTML representation is unable to render, please try loading this page with nbviewer.org.</b></div><div class=\"sk-container\" hidden><div class=\"sk-item\"><div class=\"sk-estimator sk-toggleable\"><input class=\"sk-toggleable__control sk-hidden--visually\" id=\"sk-estimator-id-2\" type=\"checkbox\" checked><label for=\"sk-estimator-id-2\" class=\"sk-toggleable__label sk-toggleable__label-arrow\">DecisionTreeClassifier</label><div class=\"sk-toggleable__content\"><pre>DecisionTreeClassifier(max_depth=7, min_samples_leaf=10, min_samples_split=20)</pre></div></div></div></div></div>"
      ],
      "text/plain": [
       "DecisionTreeClassifier(max_depth=7, min_samples_leaf=10, min_samples_split=20)"
      ]
     },
     "execution_count": 29,
     "metadata": {},
     "output_type": "execute_result"
    }
   ],
   "source": [
    "reg_dtree.fit(X_train,y_train)"
   ]
  },
  {
   "cell_type": "markdown",
   "id": "30f2903b",
   "metadata": {},
   "source": [
    "### Predictions"
   ]
  },
  {
   "cell_type": "code",
   "execution_count": 14,
   "id": "25860089",
   "metadata": {},
   "outputs": [],
   "source": [
    "reg_dtree_predictions = reg_dtree.predict(X_test)"
   ]
  },
  {
   "cell_type": "markdown",
   "id": "2f8c5053",
   "metadata": {},
   "source": [
    "### Model Evaluation"
   ]
  },
  {
   "cell_type": "code",
   "execution_count": 16,
   "id": "6ead0f57",
   "metadata": {},
   "outputs": [
    {
     "name": "stdout",
     "output_type": "stream",
     "text": [
      "[[18  0  0]\n",
      " [ 0 10  0]\n",
      " [ 0  2 15]]\n"
     ]
    }
   ],
   "source": [
    "print(confusion_matrix(y_test,reg_dtree_predictions))"
   ]
  },
  {
   "cell_type": "code",
   "execution_count": 17,
   "id": "f4c7f526",
   "metadata": {
    "scrolled": true
   },
   "outputs": [
    {
     "name": "stdout",
     "output_type": "stream",
     "text": [
      "                 precision    recall  f1-score   support\n",
      "\n",
      "    Iris-setosa       1.00      1.00      1.00        18\n",
      "Iris-versicolor       0.83      1.00      0.91        10\n",
      " Iris-virginica       1.00      0.88      0.94        17\n",
      "\n",
      "       accuracy                           0.96        45\n",
      "      macro avg       0.94      0.96      0.95        45\n",
      "   weighted avg       0.96      0.96      0.96        45\n",
      "\n"
     ]
    }
   ],
   "source": [
    "print(classification_report(y_test, reg_dtree_predictions))"
   ]
  },
  {
   "cell_type": "markdown",
   "id": "1ed9273b",
   "metadata": {},
   "source": [
    "### Playing"
   ]
  },
  {
   "cell_type": "code",
   "execution_count": 30,
   "id": "f5c24563",
   "metadata": {},
   "outputs": [
    {
     "name": "stderr",
     "output_type": "stream",
     "text": [
      "C:\\Users\\lsreeram\\AppData\\Roaming\\Python\\Python39\\site-packages\\sklearn\\base.py:439: UserWarning: X does not have valid feature names, but DecisionTreeClassifier was fitted with feature names\n",
      "  warnings.warn(\n"
     ]
    },
    {
     "data": {
      "text/plain": [
       "array(['Iris-versicolor'], dtype=object)"
      ]
     },
     "execution_count": 30,
     "metadata": {},
     "output_type": "execute_result"
    }
   ],
   "source": [
    "reg_dtree.predict([[4.9, 2.5, 4.5, 1.7]])"
   ]
  },
  {
   "cell_type": "markdown",
   "id": "8ee1ffc9",
   "metadata": {},
   "source": [
    "### Tree Visualizing"
   ]
  },
  {
   "cell_type": "code",
   "execution_count": 20,
   "id": "11aad88b",
   "metadata": {},
   "outputs": [],
   "source": [
    "train_char_label=['Iris-setosa','Iris-versicolor','Iris-virginica']"
   ]
  },
  {
   "cell_type": "code",
   "execution_count": 21,
   "id": "5ba8c9b3",
   "metadata": {},
   "outputs": [
    {
     "data": {
      "text/plain": [
       "['SepalLengthCm', 'SepalWidthCm', 'PetalLengthCm', 'PetalWidthCm']"
      ]
     },
     "execution_count": 21,
     "metadata": {},
     "output_type": "execute_result"
    }
   ],
   "source": [
    "list(X_train)"
   ]
  },
  {
   "cell_type": "code",
   "execution_count": 22,
   "id": "14c27e0a",
   "metadata": {},
   "outputs": [],
   "source": [
    "iris_dot_data_1 = StringIO()\n",
    "export_graphviz(reg_dtree,out_file= iris_dot_data_1,feature_names=list(X_train), filled=True,class_names=train_char_label)\n",
    "graph = pydot.graph_from_dot_data(iris_dot_data_1.getvalue())"
   ]
  },
  {
   "cell_type": "code",
   "execution_count": 23,
   "id": "b10a7361",
   "metadata": {
    "scrolled": false
   },
   "outputs": [
    {
     "data": {
      "image/png": "[encoded data removed]",
      "text/plain": [
       "<IPython.core.display.Image object>"
      ]
     },
     "execution_count": 23,
     "metadata": {},
     "output_type": "execute_result"
    }
   ],
   "source": [
    "Image(graph[0].create_png())"
   ]
  },
  {
   "cell_type": "markdown",
   "id": "43e5cc22",
   "metadata": {},
   "source": [
    "### Regularized Model feature Importance"
   ]
  },
  {
   "cell_type": "code",
   "execution_count": 24,
   "id": "fd899b2f",
   "metadata": {
    "scrolled": true
   },
   "outputs": [
    {
     "data": {
      "text/plain": [
       "array([0.        , 0.        , 0.54381549, 0.45618451])"
      ]
     },
     "execution_count": 24,
     "metadata": {},
     "output_type": "execute_result"
    }
   ],
   "source": [
    "reg_dtree.feature_importances_"
   ]
  },
  {
   "cell_type": "code",
   "execution_count": 25,
   "id": "fe1245ba",
   "metadata": {
    "scrolled": true
   },
   "outputs": [
    {
     "data": {
      "text/html": [
       "<div>\n",
       "<style scoped>\n",
       "    .dataframe tbody tr th:only-of-type {\n",
       "        vertical-align: middle;\n",
       "    }\n",
       "\n",
       "    .dataframe tbody tr th {\n",
       "        vertical-align: top;\n",
       "    }\n",
       "\n",
       "    .dataframe thead th {\n",
       "        text-align: right;\n",
       "    }\n",
       "</style>\n",
       "<table border=\"1\" class=\"dataframe\">\n",
       "  <thead>\n",
       "    <tr style=\"text-align: right;\">\n",
       "      <th></th>\n",
       "      <th>Imp</th>\n",
       "    </tr>\n",
       "  </thead>\n",
       "  <tbody>\n",
       "    <tr>\n",
       "      <th>SepalLengthCm</th>\n",
       "      <td>0.000000</td>\n",
       "    </tr>\n",
       "    <tr>\n",
       "      <th>SepalWidthCm</th>\n",
       "      <td>0.000000</td>\n",
       "    </tr>\n",
       "    <tr>\n",
       "      <th>PetalLengthCm</th>\n",
       "      <td>0.543815</td>\n",
       "    </tr>\n",
       "    <tr>\n",
       "      <th>PetalWidthCm</th>\n",
       "      <td>0.456185</td>\n",
       "    </tr>\n",
       "  </tbody>\n",
       "</table>\n",
       "</div>"
      ],
      "text/plain": [
       "                    Imp\n",
       "SepalLengthCm  0.000000\n",
       "SepalWidthCm   0.000000\n",
       "PetalLengthCm  0.543815\n",
       "PetalWidthCm   0.456185"
      ]
     },
     "execution_count": 25,
     "metadata": {},
     "output_type": "execute_result"
    }
   ],
   "source": [
    "pd.DataFrame(reg_dtree.feature_importances_, columns=['Imp'], index=X_train.columns)"
   ]
  },
  {
   "cell_type": "markdown",
   "id": "cd722e77",
   "metadata": {},
   "source": [
    "### Probabilities"
   ]
  },
  {
   "cell_type": "code",
   "execution_count": 26,
   "id": "a62cb9ec",
   "metadata": {},
   "outputs": [],
   "source": [
    "ytrain_predict = reg_dtree.predict(X_train)\n",
    "ytest_predict = reg_dtree.predict(X_test)"
   ]
  },
  {
   "cell_type": "code",
   "execution_count": 27,
   "id": "3dfdea0d",
   "metadata": {},
   "outputs": [],
   "source": [
    "ytrain_predict_prob = reg_dtree.predict_proba(X_train)\n",
    "ytest_predict_prob = reg_dtree.predict_proba(X_test)"
   ]
  },
  {
   "cell_type": "code",
   "execution_count": null,
   "id": "87e359f8",
   "metadata": {},
   "outputs": [],
   "source": []
  }
 ],
 "metadata": {
  "kernelspec": {
   "display_name": "Python 3 (ipykernel)",
   "language": "python",
   "name": "python3"
  },
  "language_info": {
   "codemirror_mode": {
    "name": "ipython",
    "version": 3
   },
   "file_extension": ".py",
   "mimetype": "text/x-python",
   "name": "python",
   "nbconvert_exporter": "python",
   "pygments_lexer": "ipython3",
   "version": "3.9.13"
  },
  "varInspector": {
   "cols": {
    "lenName": 16,
    "lenType": 16,
    "lenVar": 40
   },
   "kernels_config": {
    "python": {
     "delete_cmd_postfix": "",
     "delete_cmd_prefix": "del ",
     "library": "var_list.py",
     "varRefreshCmd": "print(var_dic_list())"
    },
    "r": {
     "delete_cmd_postfix": ") ",
     "delete_cmd_prefix": "rm(",
     "library": "var_list.r",
     "varRefreshCmd": "cat(var_dic_list()) "
    }
   },
   "types_to_exclude": [
    "module",
    "function",
    "builtin_function_or_method",
    "instance",
    "_Feature"
   ],
   "window_display": false
  }
 },
 "nbformat": 4,
 "nbformat_minor": 5
}
