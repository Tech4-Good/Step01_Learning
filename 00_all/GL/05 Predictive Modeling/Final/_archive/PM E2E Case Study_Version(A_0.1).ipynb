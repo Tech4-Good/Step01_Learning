{
 "cells": [
  {
   "cell_type": "markdown",
   "metadata": {
    "colab_type": "text",
    "id": "rApPHbYBc702"
   },
   "source": [
    "# Regression Case Study\n",
    "\n",
    "**PROBLEM STATEMENT** \n",
    "There is a huge demand of used cars in the Indian Market today. As sale of new car have slowed down in the recent past, the pre-owned car market has continued to grow over the past year and is larger than the new car market now. Consider this: In 2018-19, while new car sales were recorded at 3.6 million units, around 4 million second-hand cars were bought and sold. There is a slowdown in new car sales and that could mean that the demand is shifting towards the pre-owned market. In fact, some car sellers replace their old cars with pre-owned cars instead of buying new ones.\n",
    "\n",
    "The goal of the case is as follows:\n",
    "\n",
    "- The one major factor that holds anyone back while buying a used car is the price(target variable).You will be predicting the Price of used cars with the data collected from various sources and distributed across various locations in India.\n",
    "- Compare different models and find out which one is the most suitable in this case in predicting the prices."
   ]
  },
  {
   "cell_type": "markdown",
   "metadata": {},
   "source": [
    "**Data Dictionary**"
   ]
  },
  {
   "cell_type": "markdown",
   "metadata": {},
   "source": [
    "1. **Name:** The brand and model of the car.\n",
    "2. **Location:** The location in which the car is being sold or is available for purchase.\n",
    "3. **Year:** The year or edition of the model.\n",
    "4. **Kilometers_Driven:** The total kilometers driven in the car by the previous owner(s) in KM.\n",
    "5. **Fuel_Type:** The type of fuel used by the car.\n",
    "6. **Transmission:** The type of transmission used by the car.\n",
    "7. **Owner_Type:** Whether the ownership is Firsthand, Second hand or other.\n",
    "8. **Mileage:** The standard mileage offered by the car company in kmpl or km/kg\n",
    "9. **Engine:** The displacement volume of the engine in cc.\n",
    "10. **Power:** The maximum power of the engine in bhp.\n",
    "11. **Seats:** The number of seats in the car.\n",
    "12. **New_Price:** The price of a new car of the same model.\n",
    "13. **Price:** The price of the used car in INR Lakhs.\n",
    "\n"
   ]
  },
  {
   "cell_type": "code",
   "execution_count": 1,
   "metadata": {
    "ExecuteTime": {
     "end_time": "2020-05-12T13:14:21.767109Z",
     "start_time": "2020-05-12T13:14:21.758879Z"
    }
   },
   "outputs": [],
   "source": [
    "import numpy as np\n",
    "import pandas as pd\n",
    "import matplotlib.pyplot as plt\n",
    "%matplotlib inline\n",
    "import seaborn as sns\n",
    "from sklearn.preprocessing import StandardScaler\n",
    "from sklearn.model_selection import train_test_split\n",
    "from sklearn.linear_model import LinearRegression\n",
    "from sklearn import tree\n",
    "from sklearn.metrics import mean_squared_error\n",
    "from sklearn.metrics import mean_absolute_error\n",
    "from sklearn.model_selection import GridSearchCV\n",
    "from sklearn.tree import DecisionTreeClassifier\n",
    "from sklearn.discriminant_analysis import LinearDiscriminantAnalysis\n",
    "from sklearn.linear_model import LogisticRegression\n",
    "from sklearn.metrics import accuracy_score\n",
    "from sklearn.metrics import roc_auc_score,roc_curve\n",
    "from sklearn.metrics import roc_auc_score,roc_curve,classification_report,confusion_matrix,plot_confusion_matrix"
   ]
  },
  {
   "cell_type": "markdown",
   "metadata": {},
   "source": [
    "**Read the data**"
   ]
  },
  {
   "cell_type": "code",
   "execution_count": 2,
   "metadata": {
    "ExecuteTime": {
     "end_time": "2020-05-12T13:14:24.019418Z",
     "start_time": "2020-05-12T13:14:23.931546Z"
    }
   },
   "outputs": [],
   "source": [
    "cars=pd.read_csv('Cars.csv')"
   ]
  },
  {
   "cell_type": "code",
   "execution_count": 3,
   "metadata": {},
   "outputs": [
    {
     "data": {
      "text/plain": [
       "Name                  object\n",
       "Location              object\n",
       "Year                 float64\n",
       "Kilometers_Driven    float64\n",
       "Fuel_Type             object\n",
       "Transmission          object\n",
       "Owner_Type            object\n",
       "Mileage               object\n",
       "Engine                object\n",
       "Power                 object\n",
       "Colour                object\n",
       "Seats                float64\n",
       "No. of Doors         float64\n",
       "New_Price             object\n",
       "Price                float64\n",
       "dtype: object"
      ]
     },
     "execution_count": 3,
     "metadata": {},
     "output_type": "execute_result"
    }
   ],
   "source": [
    "cars.dtypes"
   ]
  },
  {
   "cell_type": "markdown",
   "metadata": {},
   "source": [
    "**Check the Head**"
   ]
  },
  {
   "cell_type": "code",
   "execution_count": 4,
   "metadata": {
    "ExecuteTime": {
     "end_time": "2020-05-12T13:14:25.191120Z",
     "start_time": "2020-05-12T13:14:25.156248Z"
    }
   },
   "outputs": [
    {
     "data": {
      "text/html": [
       "<div>\n",
       "<style scoped>\n",
       "    .dataframe tbody tr th:only-of-type {\n",
       "        vertical-align: middle;\n",
       "    }\n",
       "\n",
       "    .dataframe tbody tr th {\n",
       "        vertical-align: top;\n",
       "    }\n",
       "\n",
       "    .dataframe thead th {\n",
       "        text-align: right;\n",
       "    }\n",
       "</style>\n",
       "<table border=\"1\" class=\"dataframe\">\n",
       "  <thead>\n",
       "    <tr style=\"text-align: right;\">\n",
       "      <th></th>\n",
       "      <th>Name</th>\n",
       "      <th>Location</th>\n",
       "      <th>Year</th>\n",
       "      <th>Kilometers_Driven</th>\n",
       "      <th>Fuel_Type</th>\n",
       "      <th>Transmission</th>\n",
       "      <th>Owner_Type</th>\n",
       "      <th>Mileage</th>\n",
       "      <th>Engine</th>\n",
       "      <th>Power</th>\n",
       "      <th>Colour</th>\n",
       "      <th>Seats</th>\n",
       "      <th>No. of Doors</th>\n",
       "      <th>New_Price</th>\n",
       "      <th>Price</th>\n",
       "    </tr>\n",
       "  </thead>\n",
       "  <tbody>\n",
       "    <tr>\n",
       "      <th>0</th>\n",
       "      <td>Mahindra Scorpio</td>\n",
       "      <td>Pune</td>\n",
       "      <td>2012.0</td>\n",
       "      <td>99000.0</td>\n",
       "      <td>Diesel</td>\n",
       "      <td>Manual</td>\n",
       "      <td>Third</td>\n",
       "      <td>12.05 kmpl</td>\n",
       "      <td>2179 CC</td>\n",
       "      <td>120 bhp</td>\n",
       "      <td>Black/Silver</td>\n",
       "      <td>8.0</td>\n",
       "      <td>5.0</td>\n",
       "      <td>NaN</td>\n",
       "      <td>6.00</td>\n",
       "    </tr>\n",
       "    <tr>\n",
       "      <th>1</th>\n",
       "      <td>Maruti Baleno</td>\n",
       "      <td>Kochi</td>\n",
       "      <td>2018.0</td>\n",
       "      <td>18678.0</td>\n",
       "      <td>Petrol</td>\n",
       "      <td>Manual</td>\n",
       "      <td>First</td>\n",
       "      <td>21.1 kmpl</td>\n",
       "      <td>998 CC</td>\n",
       "      <td>100 bhp</td>\n",
       "      <td>Others</td>\n",
       "      <td>5.0</td>\n",
       "      <td>4.0</td>\n",
       "      <td>NaN</td>\n",
       "      <td>8.32</td>\n",
       "    </tr>\n",
       "    <tr>\n",
       "      <th>2</th>\n",
       "      <td>Mahindra Xylo</td>\n",
       "      <td>Bangalore</td>\n",
       "      <td>2013.0</td>\n",
       "      <td>197000.0</td>\n",
       "      <td>Diesel</td>\n",
       "      <td>Manual</td>\n",
       "      <td>First</td>\n",
       "      <td>11.68 kmpl</td>\n",
       "      <td>2498 CC</td>\n",
       "      <td>112 bhp</td>\n",
       "      <td>White</td>\n",
       "      <td>7.0</td>\n",
       "      <td>5.0</td>\n",
       "      <td>NaN</td>\n",
       "      <td>4.00</td>\n",
       "    </tr>\n",
       "    <tr>\n",
       "      <th>3</th>\n",
       "      <td>Hyundai Grand</td>\n",
       "      <td>Delhi</td>\n",
       "      <td>2014.0</td>\n",
       "      <td>45000.0</td>\n",
       "      <td>Diesel</td>\n",
       "      <td>Manual</td>\n",
       "      <td>First</td>\n",
       "      <td>24.0 kmpl</td>\n",
       "      <td>1120 CC</td>\n",
       "      <td>70 bhp</td>\n",
       "      <td>White</td>\n",
       "      <td>5.0</td>\n",
       "      <td>4.0</td>\n",
       "      <td>NaN</td>\n",
       "      <td>3.49</td>\n",
       "    </tr>\n",
       "    <tr>\n",
       "      <th>4</th>\n",
       "      <td>Toyota Innova</td>\n",
       "      <td>Delhi</td>\n",
       "      <td>2011.0</td>\n",
       "      <td>65000.0</td>\n",
       "      <td>Diesel</td>\n",
       "      <td>Manual</td>\n",
       "      <td>First</td>\n",
       "      <td>12.8 kmpl</td>\n",
       "      <td>2494 CC</td>\n",
       "      <td>102 bhp</td>\n",
       "      <td>Others</td>\n",
       "      <td>8.0</td>\n",
       "      <td>5.0</td>\n",
       "      <td>NaN</td>\n",
       "      <td>6.40</td>\n",
       "    </tr>\n",
       "  </tbody>\n",
       "</table>\n",
       "</div>"
      ],
      "text/plain": [
       "               Name   Location    Year  Kilometers_Driven Fuel_Type  \\\n",
       "0  Mahindra Scorpio       Pune  2012.0            99000.0    Diesel   \n",
       "1     Maruti Baleno      Kochi  2018.0            18678.0    Petrol   \n",
       "2     Mahindra Xylo  Bangalore  2013.0           197000.0    Diesel   \n",
       "3     Hyundai Grand      Delhi  2014.0            45000.0    Diesel   \n",
       "4     Toyota Innova      Delhi  2011.0            65000.0    Diesel   \n",
       "\n",
       "  Transmission Owner_Type     Mileage   Engine    Power        Colour  Seats  \\\n",
       "0       Manual      Third  12.05 kmpl  2179 CC  120 bhp  Black/Silver    8.0   \n",
       "1       Manual      First   21.1 kmpl   998 CC  100 bhp        Others    5.0   \n",
       "2       Manual      First  11.68 kmpl  2498 CC  112 bhp         White    7.0   \n",
       "3       Manual      First   24.0 kmpl  1120 CC   70 bhp         White    5.0   \n",
       "4       Manual      First   12.8 kmpl  2494 CC  102 bhp        Others    8.0   \n",
       "\n",
       "   No. of Doors New_Price  Price  \n",
       "0           5.0       NaN   6.00  \n",
       "1           4.0       NaN   8.32  \n",
       "2           5.0       NaN   4.00  \n",
       "3           4.0       NaN   3.49  \n",
       "4           5.0       NaN   6.40  "
      ]
     },
     "execution_count": 4,
     "metadata": {},
     "output_type": "execute_result"
    }
   ],
   "source": [
    "cars.head()"
   ]
  },
  {
   "cell_type": "code",
   "execution_count": 5,
   "metadata": {
    "ExecuteTime": {
     "end_time": "2020-05-12T13:14:26.770322Z",
     "start_time": "2020-05-12T13:14:26.767366Z"
    }
   },
   "outputs": [],
   "source": [
    "#cars =cars[cars['Year'] >= 2000] - remove older data if resale of vehicles of tht year not allowed anymore"
   ]
  },
  {
   "cell_type": "markdown",
   "metadata": {},
   "source": [
    "**Get the info**"
   ]
  },
  {
   "cell_type": "code",
   "execution_count": 6,
   "metadata": {
    "ExecuteTime": {
     "end_time": "2020-05-12T13:14:36.237412Z",
     "start_time": "2020-05-12T13:14:36.229432Z"
    }
   },
   "outputs": [
    {
     "name": "stdout",
     "output_type": "stream",
     "text": [
      "<class 'pandas.core.frame.DataFrame'>\n",
      "RangeIndex: 5961 entries, 0 to 5960\n",
      "Data columns (total 15 columns):\n",
      " #   Column             Non-Null Count  Dtype  \n",
      "---  ------             --------------  -----  \n",
      " 0   Name               5961 non-null   object \n",
      " 1   Location           5950 non-null   object \n",
      " 2   Year               5959 non-null   float64\n",
      " 3   Kilometers_Driven  5953 non-null   float64\n",
      " 4   Fuel_Type          5961 non-null   object \n",
      " 5   Transmission       5934 non-null   object \n",
      " 6   Owner_Type         5946 non-null   object \n",
      " 7   Mileage            5959 non-null   object \n",
      " 8   Engine             5944 non-null   object \n",
      " 9   Power              5929 non-null   object \n",
      " 10  Colour             5950 non-null   object \n",
      " 11  Seats              5956 non-null   float64\n",
      " 12  No. of Doors       5960 non-null   float64\n",
      " 13  New_Price          824 non-null    object \n",
      " 14  Price              5961 non-null   float64\n",
      "dtypes: float64(5), object(10)\n",
      "memory usage: 698.7+ KB\n"
     ]
    }
   ],
   "source": [
    "cars.info()"
   ]
  },
  {
   "cell_type": "markdown",
   "metadata": {},
   "source": [
    "**Get the Summary Statistics**"
   ]
  },
  {
   "cell_type": "code",
   "execution_count": 7,
   "metadata": {
    "ExecuteTime": {
     "end_time": "2020-04-29T03:47:51.568372Z",
     "start_time": "2020-04-29T03:47:51.494890Z"
    }
   },
   "outputs": [
    {
     "data": {
      "text/html": [
       "<div>\n",
       "<style scoped>\n",
       "    .dataframe tbody tr th:only-of-type {\n",
       "        vertical-align: middle;\n",
       "    }\n",
       "\n",
       "    .dataframe tbody tr th {\n",
       "        vertical-align: top;\n",
       "    }\n",
       "\n",
       "    .dataframe thead th {\n",
       "        text-align: right;\n",
       "    }\n",
       "</style>\n",
       "<table border=\"1\" class=\"dataframe\">\n",
       "  <thead>\n",
       "    <tr style=\"text-align: right;\">\n",
       "      <th></th>\n",
       "      <th>count</th>\n",
       "      <th>unique</th>\n",
       "      <th>top</th>\n",
       "      <th>freq</th>\n",
       "      <th>mean</th>\n",
       "      <th>std</th>\n",
       "      <th>min</th>\n",
       "      <th>25%</th>\n",
       "      <th>50%</th>\n",
       "      <th>75%</th>\n",
       "      <th>max</th>\n",
       "    </tr>\n",
       "  </thead>\n",
       "  <tbody>\n",
       "    <tr>\n",
       "      <th>Name</th>\n",
       "      <td>5961</td>\n",
       "      <td>212</td>\n",
       "      <td>Maruti Swift</td>\n",
       "      <td>343</td>\n",
       "      <td>NaN</td>\n",
       "      <td>NaN</td>\n",
       "      <td>NaN</td>\n",
       "      <td>NaN</td>\n",
       "      <td>NaN</td>\n",
       "      <td>NaN</td>\n",
       "      <td>NaN</td>\n",
       "    </tr>\n",
       "    <tr>\n",
       "      <th>Location</th>\n",
       "      <td>5950</td>\n",
       "      <td>11</td>\n",
       "      <td>Mumbai</td>\n",
       "      <td>781</td>\n",
       "      <td>NaN</td>\n",
       "      <td>NaN</td>\n",
       "      <td>NaN</td>\n",
       "      <td>NaN</td>\n",
       "      <td>NaN</td>\n",
       "      <td>NaN</td>\n",
       "      <td>NaN</td>\n",
       "    </tr>\n",
       "    <tr>\n",
       "      <th>Year</th>\n",
       "      <td>5959.0</td>\n",
       "      <td>NaN</td>\n",
       "      <td>NaN</td>\n",
       "      <td>NaN</td>\n",
       "      <td>2013.389159</td>\n",
       "      <td>3.243051</td>\n",
       "      <td>1998.0</td>\n",
       "      <td>2011.5</td>\n",
       "      <td>2014.0</td>\n",
       "      <td>2016.0</td>\n",
       "      <td>2019.0</td>\n",
       "    </tr>\n",
       "    <tr>\n",
       "      <th>Kilometers_Driven</th>\n",
       "      <td>5953.0</td>\n",
       "      <td>NaN</td>\n",
       "      <td>NaN</td>\n",
       "      <td>NaN</td>\n",
       "      <td>58711.100118</td>\n",
       "      <td>91712.207172</td>\n",
       "      <td>171.0</td>\n",
       "      <td>33931.0</td>\n",
       "      <td>53000.0</td>\n",
       "      <td>73000.0</td>\n",
       "      <td>6500000.0</td>\n",
       "    </tr>\n",
       "    <tr>\n",
       "      <th>Fuel_Type</th>\n",
       "      <td>5961</td>\n",
       "      <td>5</td>\n",
       "      <td>Diesel</td>\n",
       "      <td>3188</td>\n",
       "      <td>NaN</td>\n",
       "      <td>NaN</td>\n",
       "      <td>NaN</td>\n",
       "      <td>NaN</td>\n",
       "      <td>NaN</td>\n",
       "      <td>NaN</td>\n",
       "      <td>NaN</td>\n",
       "    </tr>\n",
       "    <tr>\n",
       "      <th>Transmission</th>\n",
       "      <td>5934</td>\n",
       "      <td>2</td>\n",
       "      <td>Manual</td>\n",
       "      <td>4225</td>\n",
       "      <td>NaN</td>\n",
       "      <td>NaN</td>\n",
       "      <td>NaN</td>\n",
       "      <td>NaN</td>\n",
       "      <td>NaN</td>\n",
       "      <td>NaN</td>\n",
       "      <td>NaN</td>\n",
       "    </tr>\n",
       "    <tr>\n",
       "      <th>Owner_Type</th>\n",
       "      <td>5946</td>\n",
       "      <td>4</td>\n",
       "      <td>First</td>\n",
       "      <td>4875</td>\n",
       "      <td>NaN</td>\n",
       "      <td>NaN</td>\n",
       "      <td>NaN</td>\n",
       "      <td>NaN</td>\n",
       "      <td>NaN</td>\n",
       "      <td>NaN</td>\n",
       "      <td>NaN</td>\n",
       "    </tr>\n",
       "    <tr>\n",
       "      <th>Mileage</th>\n",
       "      <td>5959</td>\n",
       "      <td>439</td>\n",
       "      <td>18.9 kmpl</td>\n",
       "      <td>172</td>\n",
       "      <td>NaN</td>\n",
       "      <td>NaN</td>\n",
       "      <td>NaN</td>\n",
       "      <td>NaN</td>\n",
       "      <td>NaN</td>\n",
       "      <td>NaN</td>\n",
       "      <td>NaN</td>\n",
       "    </tr>\n",
       "    <tr>\n",
       "      <th>Engine</th>\n",
       "      <td>5944</td>\n",
       "      <td>143</td>\n",
       "      <td>1197 CC</td>\n",
       "      <td>606</td>\n",
       "      <td>NaN</td>\n",
       "      <td>NaN</td>\n",
       "      <td>NaN</td>\n",
       "      <td>NaN</td>\n",
       "      <td>NaN</td>\n",
       "      <td>NaN</td>\n",
       "      <td>NaN</td>\n",
       "    </tr>\n",
       "    <tr>\n",
       "      <th>Power</th>\n",
       "      <td>5929</td>\n",
       "      <td>369</td>\n",
       "      <td>74 bhp</td>\n",
       "      <td>233</td>\n",
       "      <td>NaN</td>\n",
       "      <td>NaN</td>\n",
       "      <td>NaN</td>\n",
       "      <td>NaN</td>\n",
       "      <td>NaN</td>\n",
       "      <td>NaN</td>\n",
       "      <td>NaN</td>\n",
       "    </tr>\n",
       "    <tr>\n",
       "      <th>Colour</th>\n",
       "      <td>5950</td>\n",
       "      <td>3</td>\n",
       "      <td>White</td>\n",
       "      <td>2115</td>\n",
       "      <td>NaN</td>\n",
       "      <td>NaN</td>\n",
       "      <td>NaN</td>\n",
       "      <td>NaN</td>\n",
       "      <td>NaN</td>\n",
       "      <td>NaN</td>\n",
       "      <td>NaN</td>\n",
       "    </tr>\n",
       "    <tr>\n",
       "      <th>Seats</th>\n",
       "      <td>5956.0</td>\n",
       "      <td>NaN</td>\n",
       "      <td>NaN</td>\n",
       "      <td>NaN</td>\n",
       "      <td>5.26914</td>\n",
       "      <td>0.789048</td>\n",
       "      <td>2.0</td>\n",
       "      <td>5.0</td>\n",
       "      <td>5.0</td>\n",
       "      <td>5.0</td>\n",
       "      <td>10.0</td>\n",
       "    </tr>\n",
       "    <tr>\n",
       "      <th>No. of Doors</th>\n",
       "      <td>5960.0</td>\n",
       "      <td>NaN</td>\n",
       "      <td>NaN</td>\n",
       "      <td>NaN</td>\n",
       "      <td>4.114933</td>\n",
       "      <td>0.344757</td>\n",
       "      <td>2.0</td>\n",
       "      <td>4.0</td>\n",
       "      <td>4.0</td>\n",
       "      <td>4.0</td>\n",
       "      <td>5.0</td>\n",
       "    </tr>\n",
       "    <tr>\n",
       "      <th>New_Price</th>\n",
       "      <td>824</td>\n",
       "      <td>540</td>\n",
       "      <td>4.78 Lakh</td>\n",
       "      <td>6</td>\n",
       "      <td>NaN</td>\n",
       "      <td>NaN</td>\n",
       "      <td>NaN</td>\n",
       "      <td>NaN</td>\n",
       "      <td>NaN</td>\n",
       "      <td>NaN</td>\n",
       "      <td>NaN</td>\n",
       "    </tr>\n",
       "    <tr>\n",
       "      <th>Price</th>\n",
       "      <td>5961.0</td>\n",
       "      <td>NaN</td>\n",
       "      <td>NaN</td>\n",
       "      <td>NaN</td>\n",
       "      <td>9.528103</td>\n",
       "      <td>11.214382</td>\n",
       "      <td>0.44</td>\n",
       "      <td>3.5</td>\n",
       "      <td>5.66</td>\n",
       "      <td>10.0</td>\n",
       "      <td>160.0</td>\n",
       "    </tr>\n",
       "  </tbody>\n",
       "</table>\n",
       "</div>"
      ],
      "text/plain": [
       "                    count unique           top  freq          mean  \\\n",
       "Name                 5961    212  Maruti Swift   343           NaN   \n",
       "Location             5950     11        Mumbai   781           NaN   \n",
       "Year               5959.0    NaN           NaN   NaN   2013.389159   \n",
       "Kilometers_Driven  5953.0    NaN           NaN   NaN  58711.100118   \n",
       "Fuel_Type            5961      5        Diesel  3188           NaN   \n",
       "Transmission         5934      2        Manual  4225           NaN   \n",
       "Owner_Type           5946      4         First  4875           NaN   \n",
       "Mileage              5959    439     18.9 kmpl   172           NaN   \n",
       "Engine               5944    143       1197 CC   606           NaN   \n",
       "Power                5929    369        74 bhp   233           NaN   \n",
       "Colour               5950      3         White  2115           NaN   \n",
       "Seats              5956.0    NaN           NaN   NaN       5.26914   \n",
       "No. of Doors       5960.0    NaN           NaN   NaN      4.114933   \n",
       "New_Price             824    540     4.78 Lakh     6           NaN   \n",
       "Price              5961.0    NaN           NaN   NaN      9.528103   \n",
       "\n",
       "                            std     min      25%      50%      75%        max  \n",
       "Name                        NaN     NaN      NaN      NaN      NaN        NaN  \n",
       "Location                    NaN     NaN      NaN      NaN      NaN        NaN  \n",
       "Year                   3.243051  1998.0   2011.5   2014.0   2016.0     2019.0  \n",
       "Kilometers_Driven  91712.207172   171.0  33931.0  53000.0  73000.0  6500000.0  \n",
       "Fuel_Type                   NaN     NaN      NaN      NaN      NaN        NaN  \n",
       "Transmission                NaN     NaN      NaN      NaN      NaN        NaN  \n",
       "Owner_Type                  NaN     NaN      NaN      NaN      NaN        NaN  \n",
       "Mileage                     NaN     NaN      NaN      NaN      NaN        NaN  \n",
       "Engine                      NaN     NaN      NaN      NaN      NaN        NaN  \n",
       "Power                       NaN     NaN      NaN      NaN      NaN        NaN  \n",
       "Colour                      NaN     NaN      NaN      NaN      NaN        NaN  \n",
       "Seats                  0.789048     2.0      5.0      5.0      5.0       10.0  \n",
       "No. of Doors           0.344757     2.0      4.0      4.0      4.0        5.0  \n",
       "New_Price                   NaN     NaN      NaN      NaN      NaN        NaN  \n",
       "Price                 11.214382    0.44      3.5     5.66     10.0      160.0  "
      ]
     },
     "execution_count": 7,
     "metadata": {},
     "output_type": "execute_result"
    }
   ],
   "source": [
    "cars.describe(include='all').T"
   ]
  },
  {
   "cell_type": "markdown",
   "metadata": {},
   "source": [
    "**Check for Null Values**"
   ]
  },
  {
   "cell_type": "code",
   "execution_count": 8,
   "metadata": {
    "ExecuteTime": {
     "end_time": "2020-04-29T03:47:52.035325Z",
     "start_time": "2020-04-29T03:47:52.024261Z"
    }
   },
   "outputs": [
    {
     "data": {
      "text/plain": [
       "Name                    0\n",
       "Location               11\n",
       "Year                    2\n",
       "Kilometers_Driven       8\n",
       "Fuel_Type               0\n",
       "Transmission           27\n",
       "Owner_Type             15\n",
       "Mileage                 2\n",
       "Engine                 17\n",
       "Power                  32\n",
       "Colour                 11\n",
       "Seats                   5\n",
       "No. of Doors            1\n",
       "New_Price            5137\n",
       "Price                   0\n",
       "dtype: int64"
      ]
     },
     "execution_count": 8,
     "metadata": {},
     "output_type": "execute_result"
    }
   ],
   "source": [
    "cars.isnull().sum()"
   ]
  },
  {
   "cell_type": "markdown",
   "metadata": {},
   "source": [
    "**% Null values**"
   ]
  },
  {
   "cell_type": "code",
   "execution_count": 9,
   "metadata": {
    "ExecuteTime": {
     "end_time": "2020-04-29T03:47:52.515084Z",
     "start_time": "2020-04-29T03:47:52.481900Z"
    }
   },
   "outputs": [
    {
     "data": {
      "text/plain": [
       "Name                  0.000000\n",
       "Location              0.208808\n",
       "Year                  0.037965\n",
       "Kilometers_Driven     0.151860\n",
       "Fuel_Type             0.000000\n",
       "Transmission          0.512528\n",
       "Owner_Type            0.284738\n",
       "Mileage               0.037965\n",
       "Engine                0.322703\n",
       "Power                 0.607441\n",
       "Colour                0.208808\n",
       "Seats                 0.094913\n",
       "No. of Doors          0.018983\n",
       "New_Price            97.513288\n",
       "Price                 0.000000\n",
       "dtype: float64"
      ]
     },
     "execution_count": 9,
     "metadata": {},
     "output_type": "execute_result"
    }
   ],
   "source": [
    "cars.isnull().sum()/cars.isnull().sum().sum()*100"
   ]
  },
  {
   "cell_type": "markdown",
   "metadata": {},
   "source": [
    "**Since New_Price has over 97% Null values, we would drop this column for now**"
   ]
  },
  {
   "cell_type": "code",
   "execution_count": 10,
   "metadata": {
    "ExecuteTime": {
     "end_time": "2020-04-29T03:47:53.012521Z",
     "start_time": "2020-04-29T03:47:53.006685Z"
    }
   },
   "outputs": [],
   "source": [
    "cars=cars.drop('New_Price',axis=1)"
   ]
  },
  {
   "cell_type": "code",
   "execution_count": 11,
   "metadata": {},
   "outputs": [
    {
     "data": {
      "text/html": [
       "<div>\n",
       "<style scoped>\n",
       "    .dataframe tbody tr th:only-of-type {\n",
       "        vertical-align: middle;\n",
       "    }\n",
       "\n",
       "    .dataframe tbody tr th {\n",
       "        vertical-align: top;\n",
       "    }\n",
       "\n",
       "    .dataframe thead th {\n",
       "        text-align: right;\n",
       "    }\n",
       "</style>\n",
       "<table border=\"1\" class=\"dataframe\">\n",
       "  <thead>\n",
       "    <tr style=\"text-align: right;\">\n",
       "      <th></th>\n",
       "      <th>Name</th>\n",
       "      <th>Location</th>\n",
       "      <th>Year</th>\n",
       "      <th>Kilometers_Driven</th>\n",
       "      <th>Fuel_Type</th>\n",
       "      <th>Transmission</th>\n",
       "      <th>Owner_Type</th>\n",
       "      <th>Mileage</th>\n",
       "      <th>Engine</th>\n",
       "      <th>Power</th>\n",
       "      <th>Colour</th>\n",
       "      <th>Seats</th>\n",
       "      <th>No. of Doors</th>\n",
       "      <th>Price</th>\n",
       "    </tr>\n",
       "  </thead>\n",
       "  <tbody>\n",
       "    <tr>\n",
       "      <th>0</th>\n",
       "      <td>Mahindra Scorpio</td>\n",
       "      <td>Pune</td>\n",
       "      <td>2012.0</td>\n",
       "      <td>99000.0</td>\n",
       "      <td>Diesel</td>\n",
       "      <td>Manual</td>\n",
       "      <td>Third</td>\n",
       "      <td>12.05 kmpl</td>\n",
       "      <td>2179 CC</td>\n",
       "      <td>120 bhp</td>\n",
       "      <td>Black/Silver</td>\n",
       "      <td>8.0</td>\n",
       "      <td>5.0</td>\n",
       "      <td>6.00</td>\n",
       "    </tr>\n",
       "    <tr>\n",
       "      <th>1</th>\n",
       "      <td>Maruti Baleno</td>\n",
       "      <td>Kochi</td>\n",
       "      <td>2018.0</td>\n",
       "      <td>18678.0</td>\n",
       "      <td>Petrol</td>\n",
       "      <td>Manual</td>\n",
       "      <td>First</td>\n",
       "      <td>21.1 kmpl</td>\n",
       "      <td>998 CC</td>\n",
       "      <td>100 bhp</td>\n",
       "      <td>Others</td>\n",
       "      <td>5.0</td>\n",
       "      <td>4.0</td>\n",
       "      <td>8.32</td>\n",
       "    </tr>\n",
       "    <tr>\n",
       "      <th>2</th>\n",
       "      <td>Mahindra Xylo</td>\n",
       "      <td>Bangalore</td>\n",
       "      <td>2013.0</td>\n",
       "      <td>197000.0</td>\n",
       "      <td>Diesel</td>\n",
       "      <td>Manual</td>\n",
       "      <td>First</td>\n",
       "      <td>11.68 kmpl</td>\n",
       "      <td>2498 CC</td>\n",
       "      <td>112 bhp</td>\n",
       "      <td>White</td>\n",
       "      <td>7.0</td>\n",
       "      <td>5.0</td>\n",
       "      <td>4.00</td>\n",
       "    </tr>\n",
       "    <tr>\n",
       "      <th>3</th>\n",
       "      <td>Hyundai Grand</td>\n",
       "      <td>Delhi</td>\n",
       "      <td>2014.0</td>\n",
       "      <td>45000.0</td>\n",
       "      <td>Diesel</td>\n",
       "      <td>Manual</td>\n",
       "      <td>First</td>\n",
       "      <td>24.0 kmpl</td>\n",
       "      <td>1120 CC</td>\n",
       "      <td>70 bhp</td>\n",
       "      <td>White</td>\n",
       "      <td>5.0</td>\n",
       "      <td>4.0</td>\n",
       "      <td>3.49</td>\n",
       "    </tr>\n",
       "    <tr>\n",
       "      <th>4</th>\n",
       "      <td>Toyota Innova</td>\n",
       "      <td>Delhi</td>\n",
       "      <td>2011.0</td>\n",
       "      <td>65000.0</td>\n",
       "      <td>Diesel</td>\n",
       "      <td>Manual</td>\n",
       "      <td>First</td>\n",
       "      <td>12.8 kmpl</td>\n",
       "      <td>2494 CC</td>\n",
       "      <td>102 bhp</td>\n",
       "      <td>Others</td>\n",
       "      <td>8.0</td>\n",
       "      <td>5.0</td>\n",
       "      <td>6.40</td>\n",
       "    </tr>\n",
       "  </tbody>\n",
       "</table>\n",
       "</div>"
      ],
      "text/plain": [
       "               Name   Location    Year  Kilometers_Driven Fuel_Type  \\\n",
       "0  Mahindra Scorpio       Pune  2012.0            99000.0    Diesel   \n",
       "1     Maruti Baleno      Kochi  2018.0            18678.0    Petrol   \n",
       "2     Mahindra Xylo  Bangalore  2013.0           197000.0    Diesel   \n",
       "3     Hyundai Grand      Delhi  2014.0            45000.0    Diesel   \n",
       "4     Toyota Innova      Delhi  2011.0            65000.0    Diesel   \n",
       "\n",
       "  Transmission Owner_Type     Mileage   Engine    Power        Colour  Seats  \\\n",
       "0       Manual      Third  12.05 kmpl  2179 CC  120 bhp  Black/Silver    8.0   \n",
       "1       Manual      First   21.1 kmpl   998 CC  100 bhp        Others    5.0   \n",
       "2       Manual      First  11.68 kmpl  2498 CC  112 bhp         White    7.0   \n",
       "3       Manual      First   24.0 kmpl  1120 CC   70 bhp         White    5.0   \n",
       "4       Manual      First   12.8 kmpl  2494 CC  102 bhp        Others    8.0   \n",
       "\n",
       "   No. of Doors  Price  \n",
       "0           5.0   6.00  \n",
       "1           4.0   8.32  \n",
       "2           5.0   4.00  \n",
       "3           4.0   3.49  \n",
       "4           5.0   6.40  "
      ]
     },
     "execution_count": 11,
     "metadata": {},
     "output_type": "execute_result"
    }
   ],
   "source": [
    "cars.head()"
   ]
  },
  {
   "cell_type": "markdown",
   "metadata": {},
   "source": [
    "**Check for Duplicates**"
   ]
  },
  {
   "cell_type": "code",
   "execution_count": 12,
   "metadata": {},
   "outputs": [
    {
     "data": {
      "text/plain": [
       "2"
      ]
     },
     "execution_count": 12,
     "metadata": {},
     "output_type": "execute_result"
    }
   ],
   "source": [
    "cars.duplicated().sum()"
   ]
  },
  {
   "cell_type": "code",
   "execution_count": 13,
   "metadata": {},
   "outputs": [],
   "source": [
    "cars.drop_duplicates(inplace=True)"
   ]
  },
  {
   "cell_type": "markdown",
   "metadata": {},
   "source": [
    "**Check for Object Data Type**"
   ]
  },
  {
   "cell_type": "code",
   "execution_count": 14,
   "metadata": {
    "ExecuteTime": {
     "end_time": "2020-04-29T03:47:53.515420Z",
     "start_time": "2020-04-29T03:47:53.493942Z"
    }
   },
   "outputs": [
    {
     "data": {
      "text/html": [
       "<div>\n",
       "<style scoped>\n",
       "    .dataframe tbody tr th:only-of-type {\n",
       "        vertical-align: middle;\n",
       "    }\n",
       "\n",
       "    .dataframe tbody tr th {\n",
       "        vertical-align: top;\n",
       "    }\n",
       "\n",
       "    .dataframe thead th {\n",
       "        text-align: right;\n",
       "    }\n",
       "</style>\n",
       "<table border=\"1\" class=\"dataframe\">\n",
       "  <thead>\n",
       "    <tr style=\"text-align: right;\">\n",
       "      <th></th>\n",
       "      <th>Name</th>\n",
       "      <th>Location</th>\n",
       "      <th>Fuel_Type</th>\n",
       "      <th>Transmission</th>\n",
       "      <th>Owner_Type</th>\n",
       "      <th>Mileage</th>\n",
       "      <th>Engine</th>\n",
       "      <th>Power</th>\n",
       "      <th>Colour</th>\n",
       "    </tr>\n",
       "  </thead>\n",
       "  <tbody>\n",
       "    <tr>\n",
       "      <th>0</th>\n",
       "      <td>Mahindra Scorpio</td>\n",
       "      <td>Pune</td>\n",
       "      <td>Diesel</td>\n",
       "      <td>Manual</td>\n",
       "      <td>Third</td>\n",
       "      <td>12.05 kmpl</td>\n",
       "      <td>2179 CC</td>\n",
       "      <td>120 bhp</td>\n",
       "      <td>Black/Silver</td>\n",
       "    </tr>\n",
       "    <tr>\n",
       "      <th>1</th>\n",
       "      <td>Maruti Baleno</td>\n",
       "      <td>Kochi</td>\n",
       "      <td>Petrol</td>\n",
       "      <td>Manual</td>\n",
       "      <td>First</td>\n",
       "      <td>21.1 kmpl</td>\n",
       "      <td>998 CC</td>\n",
       "      <td>100 bhp</td>\n",
       "      <td>Others</td>\n",
       "    </tr>\n",
       "    <tr>\n",
       "      <th>2</th>\n",
       "      <td>Mahindra Xylo</td>\n",
       "      <td>Bangalore</td>\n",
       "      <td>Diesel</td>\n",
       "      <td>Manual</td>\n",
       "      <td>First</td>\n",
       "      <td>11.68 kmpl</td>\n",
       "      <td>2498 CC</td>\n",
       "      <td>112 bhp</td>\n",
       "      <td>White</td>\n",
       "    </tr>\n",
       "    <tr>\n",
       "      <th>3</th>\n",
       "      <td>Hyundai Grand</td>\n",
       "      <td>Delhi</td>\n",
       "      <td>Diesel</td>\n",
       "      <td>Manual</td>\n",
       "      <td>First</td>\n",
       "      <td>24.0 kmpl</td>\n",
       "      <td>1120 CC</td>\n",
       "      <td>70 bhp</td>\n",
       "      <td>White</td>\n",
       "    </tr>\n",
       "    <tr>\n",
       "      <th>4</th>\n",
       "      <td>Toyota Innova</td>\n",
       "      <td>Delhi</td>\n",
       "      <td>Diesel</td>\n",
       "      <td>Manual</td>\n",
       "      <td>First</td>\n",
       "      <td>12.8 kmpl</td>\n",
       "      <td>2494 CC</td>\n",
       "      <td>102 bhp</td>\n",
       "      <td>Others</td>\n",
       "    </tr>\n",
       "  </tbody>\n",
       "</table>\n",
       "</div>"
      ],
      "text/plain": [
       "               Name   Location Fuel_Type Transmission Owner_Type     Mileage  \\\n",
       "0  Mahindra Scorpio       Pune    Diesel       Manual      Third  12.05 kmpl   \n",
       "1     Maruti Baleno      Kochi    Petrol       Manual      First   21.1 kmpl   \n",
       "2     Mahindra Xylo  Bangalore    Diesel       Manual      First  11.68 kmpl   \n",
       "3     Hyundai Grand      Delhi    Diesel       Manual      First   24.0 kmpl   \n",
       "4     Toyota Innova      Delhi    Diesel       Manual      First   12.8 kmpl   \n",
       "\n",
       "    Engine    Power        Colour  \n",
       "0  2179 CC  120 bhp  Black/Silver  \n",
       "1   998 CC  100 bhp        Others  \n",
       "2  2498 CC  112 bhp         White  \n",
       "3  1120 CC   70 bhp         White  \n",
       "4  2494 CC  102 bhp        Others  "
      ]
     },
     "execution_count": 14,
     "metadata": {},
     "output_type": "execute_result"
    }
   ],
   "source": [
    "cars.select_dtypes(include='object').head()"
   ]
  },
  {
   "cell_type": "markdown",
   "metadata": {},
   "source": [
    "- It seems that the columns Mileage, Engine , Power needs to be cleaned and converted to Float/int dtype"
   ]
  },
  {
   "cell_type": "code",
   "execution_count": 15,
   "metadata": {
    "ExecuteTime": {
     "end_time": "2020-04-29T03:47:54.054807Z",
     "start_time": "2020-04-29T03:47:54.021217Z"
    },
    "colab": {},
    "colab_type": "code",
    "id": "r5FxLpsGFlN1"
   },
   "outputs": [],
   "source": [
    "cars['Mileage'] = cars['Mileage'].str.replace(',','').str.replace('kmpl','').str.replace('km/kg','').astype('float')"
   ]
  },
  {
   "cell_type": "code",
   "execution_count": 16,
   "metadata": {
    "ExecuteTime": {
     "end_time": "2020-04-29T03:47:54.540939Z",
     "start_time": "2020-04-29T03:47:54.517793Z"
    },
    "colab": {},
    "colab_type": "code",
    "id": "t6om6y2HFuX1"
   },
   "outputs": [],
   "source": [
    "cars['Engine'] = cars['Engine'].str.replace(',','').str.replace('CC','').astype('float')"
   ]
  },
  {
   "cell_type": "code",
   "execution_count": 17,
   "metadata": {
    "ExecuteTime": {
     "end_time": "2020-04-29T03:47:55.037863Z",
     "start_time": "2020-04-29T03:47:55.019686Z"
    },
    "colab": {},
    "colab_type": "code",
    "id": "uHMSmRm_F3kE"
   },
   "outputs": [],
   "source": [
    "cars['Power'] = cars['Power'].replace('null bhp', 0)\n",
    "cars['Power'] = cars['Power'].str.replace(',','').str.replace('bhp','').astype('float')"
   ]
  },
  {
   "cell_type": "code",
   "execution_count": 18,
   "metadata": {
    "ExecuteTime": {
     "end_time": "2020-04-29T03:47:55.587732Z",
     "start_time": "2020-04-29T03:47:55.573635Z"
    }
   },
   "outputs": [
    {
     "data": {
      "text/html": [
       "<div>\n",
       "<style scoped>\n",
       "    .dataframe tbody tr th:only-of-type {\n",
       "        vertical-align: middle;\n",
       "    }\n",
       "\n",
       "    .dataframe tbody tr th {\n",
       "        vertical-align: top;\n",
       "    }\n",
       "\n",
       "    .dataframe thead th {\n",
       "        text-align: right;\n",
       "    }\n",
       "</style>\n",
       "<table border=\"1\" class=\"dataframe\">\n",
       "  <thead>\n",
       "    <tr style=\"text-align: right;\">\n",
       "      <th></th>\n",
       "      <th>Name</th>\n",
       "      <th>Location</th>\n",
       "      <th>Fuel_Type</th>\n",
       "      <th>Transmission</th>\n",
       "      <th>Owner_Type</th>\n",
       "      <th>Colour</th>\n",
       "    </tr>\n",
       "  </thead>\n",
       "  <tbody>\n",
       "    <tr>\n",
       "      <th>0</th>\n",
       "      <td>Mahindra Scorpio</td>\n",
       "      <td>Pune</td>\n",
       "      <td>Diesel</td>\n",
       "      <td>Manual</td>\n",
       "      <td>Third</td>\n",
       "      <td>Black/Silver</td>\n",
       "    </tr>\n",
       "    <tr>\n",
       "      <th>1</th>\n",
       "      <td>Maruti Baleno</td>\n",
       "      <td>Kochi</td>\n",
       "      <td>Petrol</td>\n",
       "      <td>Manual</td>\n",
       "      <td>First</td>\n",
       "      <td>Others</td>\n",
       "    </tr>\n",
       "    <tr>\n",
       "      <th>2</th>\n",
       "      <td>Mahindra Xylo</td>\n",
       "      <td>Bangalore</td>\n",
       "      <td>Diesel</td>\n",
       "      <td>Manual</td>\n",
       "      <td>First</td>\n",
       "      <td>White</td>\n",
       "    </tr>\n",
       "    <tr>\n",
       "      <th>3</th>\n",
       "      <td>Hyundai Grand</td>\n",
       "      <td>Delhi</td>\n",
       "      <td>Diesel</td>\n",
       "      <td>Manual</td>\n",
       "      <td>First</td>\n",
       "      <td>White</td>\n",
       "    </tr>\n",
       "    <tr>\n",
       "      <th>4</th>\n",
       "      <td>Toyota Innova</td>\n",
       "      <td>Delhi</td>\n",
       "      <td>Diesel</td>\n",
       "      <td>Manual</td>\n",
       "      <td>First</td>\n",
       "      <td>Others</td>\n",
       "    </tr>\n",
       "  </tbody>\n",
       "</table>\n",
       "</div>"
      ],
      "text/plain": [
       "               Name   Location Fuel_Type Transmission Owner_Type        Colour\n",
       "0  Mahindra Scorpio       Pune    Diesel       Manual      Third  Black/Silver\n",
       "1     Maruti Baleno      Kochi    Petrol       Manual      First        Others\n",
       "2     Mahindra Xylo  Bangalore    Diesel       Manual      First         White\n",
       "3     Hyundai Grand      Delhi    Diesel       Manual      First         White\n",
       "4     Toyota Innova      Delhi    Diesel       Manual      First        Others"
      ]
     },
     "execution_count": 18,
     "metadata": {},
     "output_type": "execute_result"
    }
   ],
   "source": [
    "cars.select_dtypes(include='object').head()"
   ]
  },
  {
   "cell_type": "markdown",
   "metadata": {},
   "source": [
    "**Create a new column 'Brand' which has the brand name of the Cars**"
   ]
  },
  {
   "cell_type": "code",
   "execution_count": 19,
   "metadata": {
    "ExecuteTime": {
     "end_time": "2020-04-29T03:47:56.062187Z",
     "start_time": "2020-04-29T03:47:56.049475Z"
    },
    "scrolled": true
   },
   "outputs": [],
   "source": [
    "cars['Brand']=cars.Name.apply(lambda x:x.split(' ')[0])"
   ]
  },
  {
   "cell_type": "code",
   "execution_count": 20,
   "metadata": {},
   "outputs": [
    {
     "data": {
      "text/plain": [
       "Maruti           1187\n",
       "Hyundai          1100\n",
       "Honda             601\n",
       "Toyota            410\n",
       "Mercedes-Benz     318\n",
       "Volkswagen        315\n",
       "Ford              298\n",
       "Mahindra          272\n",
       "BMW               267\n",
       "Audi              236\n",
       "Tata              184\n",
       "Skoda             173\n",
       "Renault           143\n",
       "Chevrolet         113\n",
       "Nissan             91\n",
       "Land               57\n",
       "Jaguar             40\n",
       "Mitsubishi         27\n",
       "Mini               26\n",
       "Fiat               25\n",
       "Volvo              21\n",
       "Porsche            18\n",
       "Jeep               15\n",
       "Datsun             13\n",
       "Force               3\n",
       "ISUZU               2\n",
       "Isuzu               1\n",
       "Smart               1\n",
       "Lamborghini         1\n",
       "Bentley             1\n",
       "Name: Brand, dtype: int64"
      ]
     },
     "execution_count": 20,
     "metadata": {},
     "output_type": "execute_result"
    }
   ],
   "source": [
    "cars.Brand.value_counts()"
   ]
  },
  {
   "cell_type": "markdown",
   "metadata": {},
   "source": [
    "- Brand Isuzu is available twice in different cases ('ISUZU', 'Isuzu'). To avoid this being considered as 2 different brands, correct to single format"
   ]
  },
  {
   "cell_type": "code",
   "execution_count": 21,
   "metadata": {},
   "outputs": [],
   "source": [
    "cars['Brand'] = cars['Brand'].str.replace('ISUZU', 'Isuzu')"
   ]
  },
  {
   "cell_type": "markdown",
   "metadata": {},
   "source": [
    "**Create a new column 'Model' which has the Model name of the Cars**"
   ]
  },
  {
   "cell_type": "code",
   "execution_count": 22,
   "metadata": {
    "ExecuteTime": {
     "end_time": "2020-04-29T03:47:56.574001Z",
     "start_time": "2020-04-29T03:47:56.558993Z"
    }
   },
   "outputs": [],
   "source": [
    "cars['Model']=cars.Name.apply(lambda x: ' '.join(x.split(' ')[1:]))"
   ]
  },
  {
   "cell_type": "code",
   "execution_count": 23,
   "metadata": {},
   "outputs": [
    {
     "data": {
      "text/plain": [
       "1                     3\n",
       "1000                  1\n",
       "3                    98\n",
       "5                    68\n",
       "6                     7\n",
       "7                    13\n",
       "800                  12\n",
       "A                     8\n",
       "A-Star               17\n",
       "A3                    4\n",
       "A4                   78\n",
       "A6                   49\n",
       "A7                    3\n",
       "A8                    2\n",
       "Accent               18\n",
       "Accord               26\n",
       "Alto                142\n",
       "Amaze               106\n",
       "Ameo                 19\n",
       "Aspire                4\n",
       "Aveo                 14\n",
       "Avventura             4\n",
       "B                    12\n",
       "BR-V                  3\n",
       "BRV                   5\n",
       "Baleno               62\n",
       "Beat                 46\n",
       "Beetle                1\n",
       "Bolero               15\n",
       "Bolt                  4\n",
       "Boxster               1\n",
       "Brio                 60\n",
       "C-Class               3\n",
       "CLA                  13\n",
       "CLS-Class             1\n",
       "CR-V                 26\n",
       "Camry                11\n",
       "Captiva               2\n",
       "Captur                3\n",
       "Cayenne               7\n",
       "Cayman                2\n",
       "Cedia                 2\n",
       "Celerio              58\n",
       "Ciaz                 71\n",
       "City                265\n",
       "Civic                32\n",
       "Classic               1\n",
       "Clubman               1\n",
       "Compass              15\n",
       "Continental           1\n",
       "Cooper               24\n",
       "Corolla              68\n",
       "Countryman            1\n",
       "Creta                93\n",
       "CrossPolo             4\n",
       "Cruze                18\n",
       "D-MAX                 2\n",
       "Duster               83\n",
       "Dzire                24\n",
       "E                     1\n",
       "E-Class              88\n",
       "EON                  61\n",
       "EcoSport             42\n",
       "Ecosport             53\n",
       "Eeco                 18\n",
       "Elantra              22\n",
       "Elite                14\n",
       "Endeavour            38\n",
       "Enjoy                 3\n",
       "Ertiga               75\n",
       "Esteem                5\n",
       "Etios                60\n",
       "Evalia                1\n",
       "F                     1\n",
       "Fabia                11\n",
       "Fiesta               40\n",
       "Figo                100\n",
       "Fluence               4\n",
       "Fortuner            101\n",
       "Fortwo                1\n",
       "Freestyle             3\n",
       "Fusion                1\n",
       "GL-Class             11\n",
       "GLA                  18\n",
       "GLC                   8\n",
       "GLE                  12\n",
       "GLS                   2\n",
       "GO                    6\n",
       "Gallardo              1\n",
       "Getz                 10\n",
       "Grand               156\n",
       "Grande                5\n",
       "Hexa                  4\n",
       "Ignis                 6\n",
       "Ikon                 15\n",
       "Indica               40\n",
       "Indigo               31\n",
       "Innova              164\n",
       "Jazz                 57\n",
       "Jeep                  2\n",
       "Jetta                24\n",
       "KUV                  14\n",
       "KWID                 40\n",
       "Koleos                3\n",
       "Lancer                2\n",
       "Laura                29\n",
       "Linea                12\n",
       "Logan                 2\n",
       "M-Class              23\n",
       "MUX                   1\n",
       "Manza                16\n",
       "Micra                33\n",
       "Mobilio              16\n",
       "Montero               1\n",
       "Mustang               1\n",
       "Nano                 25\n",
       "New                 102\n",
       "Nexon                 3\n",
       "NuvoSport             3\n",
       "Octavia              31\n",
       "Omni                 13\n",
       "One                   3\n",
       "Optra                12\n",
       "Outlander             2\n",
       "Pajero               20\n",
       "Panamera              8\n",
       "Passat                8\n",
       "Petra                 1\n",
       "Platinum              1\n",
       "Polo                151\n",
       "Prius                 1\n",
       "Pulse                 5\n",
       "Punto                 2\n",
       "Q3                   27\n",
       "Q5                   30\n",
       "Q7                   38\n",
       "Qualis                4\n",
       "Quanto                5\n",
       "R-Class               4\n",
       "RS5                   2\n",
       "Rapid                47\n",
       "Redi                  1\n",
       "Renault               2\n",
       "Ritz                 64\n",
       "Rover Discovery      12\n",
       "Rover Freelander     17\n",
       "Rover Range          28\n",
       "S                    17\n",
       "S-Class               5\n",
       "S-Cross               3\n",
       "S60                   7\n",
       "S80                   2\n",
       "SL-Class              1\n",
       "SLC                   2\n",
       "SLK-Class             3\n",
       "SX4                  37\n",
       "Safari                9\n",
       "Sail                  8\n",
       "Santa                17\n",
       "Santro               71\n",
       "Scala                 5\n",
       "Scorpio              61\n",
       "Siena                 1\n",
       "Sonata                6\n",
       "Spark                10\n",
       "Ssangyong            13\n",
       "Sumo                  4\n",
       "Sunny                26\n",
       "Superb               49\n",
       "Swift               343\n",
       "TT                    3\n",
       "TUV                   9\n",
       "Teana                 2\n",
       "Terrano              26\n",
       "Thar                  6\n",
       "Tiago                11\n",
       "Tigor                 5\n",
       "Tiguan                1\n",
       "Tucson                4\n",
       "V40                   4\n",
       "Vento               107\n",
       "Verito                4\n",
       "Verna               170\n",
       "Vitara               43\n",
       "WR-V                  1\n",
       "WRV                   4\n",
       "Wagon               153\n",
       "X-Trail               3\n",
       "X1                   32\n",
       "X3                   14\n",
       "X5                   24\n",
       "X6                    6\n",
       "XC60                  6\n",
       "XC90                  2\n",
       "XE                    3\n",
       "XF                   30\n",
       "XJ                    6\n",
       "XUV300                1\n",
       "XUV500              113\n",
       "Xcent                59\n",
       "Xenon                 3\n",
       "Xylo                 21\n",
       "Yeti                  6\n",
       "Z4                    2\n",
       "Zen                  29\n",
       "Zest                 21\n",
       "i10                 156\n",
       "i20                 247\n",
       "redi-GO               6\n",
       "Name: Model, dtype: int64"
      ]
     },
     "execution_count": 23,
     "metadata": {},
     "output_type": "execute_result"
    }
   ],
   "source": [
    "pd.options.display.max_rows=300\n",
    "cars['Model'].value_counts().sort_index(ascending=True)"
   ]
  },
  {
   "cell_type": "markdown",
   "metadata": {},
   "source": [
    "- Model Ecosport is available twice in different cases ('Ecosport', 'EcoSport'). To avoid this being considered as 2 different models, correct to single format."
   ]
  },
  {
   "cell_type": "code",
   "execution_count": 24,
   "metadata": {},
   "outputs": [],
   "source": [
    "cars['Model'] = cars['Model'].str.replace('EcoSport', 'Ecosport')"
   ]
  },
  {
   "cell_type": "code",
   "execution_count": 25,
   "metadata": {
    "ExecuteTime": {
     "end_time": "2020-04-29T03:47:57.567741Z",
     "start_time": "2020-04-29T03:47:57.096586Z"
    }
   },
   "outputs": [
    {
     "data": {
      "image/png": "[encoded data removed]",
      "text/plain": [
       "<Figure size 1200x700 with 1 Axes>"
      ]
     },
     "metadata": {},
     "output_type": "display_data"
    }
   ],
   "source": [
    "plt.figure(figsize=(12,7))\n",
    "sns.countplot(y=(cars.Brand),palette='PuRd_r');"
   ]
  },
  {
   "cell_type": "code",
   "execution_count": 26,
   "metadata": {
    "ExecuteTime": {
     "end_time": "2020-04-29T03:47:58.360428Z",
     "start_time": "2020-04-29T03:47:58.016403Z"
    }
   },
   "outputs": [
    {
     "data": {
      "image/png": "[encoded data removed]",
      "text/plain": [
       "<Figure size 1200x700 with 1 Axes>"
      ]
     },
     "metadata": {},
     "output_type": "display_data"
    }
   ],
   "source": [
    "plt.figure(figsize=(12,7))\n",
    "sns.barplot(y=cars.Model.value_counts()[cars.Model.value_counts()>90].index,\n",
    "            x=cars.Model.value_counts()[cars.Model.value_counts()>90].values,palette='PuRd_r');"
   ]
  },
  {
   "cell_type": "markdown",
   "metadata": {},
   "source": [
    "- There is a car by the Model name 'New', let's check which car is it\n",
    "- There is a car by the Model name '3', let's check which car is it\n"
   ]
  },
  {
   "cell_type": "code",
   "execution_count": 27,
   "metadata": {
    "ExecuteTime": {
     "end_time": "2020-04-29T03:47:58.894660Z",
     "start_time": "2020-04-29T03:47:58.871502Z"
    }
   },
   "outputs": [
    {
     "data": {
      "text/html": [
       "<div>\n",
       "<style scoped>\n",
       "    .dataframe tbody tr th:only-of-type {\n",
       "        vertical-align: middle;\n",
       "    }\n",
       "\n",
       "    .dataframe tbody tr th {\n",
       "        vertical-align: top;\n",
       "    }\n",
       "\n",
       "    .dataframe thead th {\n",
       "        text-align: right;\n",
       "    }\n",
       "</style>\n",
       "<table border=\"1\" class=\"dataframe\">\n",
       "  <thead>\n",
       "    <tr style=\"text-align: right;\">\n",
       "      <th></th>\n",
       "      <th>Name</th>\n",
       "      <th>Location</th>\n",
       "      <th>Year</th>\n",
       "      <th>Kilometers_Driven</th>\n",
       "      <th>Fuel_Type</th>\n",
       "      <th>Transmission</th>\n",
       "      <th>Owner_Type</th>\n",
       "      <th>Mileage</th>\n",
       "      <th>Engine</th>\n",
       "      <th>Power</th>\n",
       "      <th>Colour</th>\n",
       "      <th>Seats</th>\n",
       "      <th>No. of Doors</th>\n",
       "      <th>Price</th>\n",
       "      <th>Brand</th>\n",
       "      <th>Model</th>\n",
       "    </tr>\n",
       "  </thead>\n",
       "  <tbody>\n",
       "    <tr>\n",
       "      <th>71</th>\n",
       "      <td>Mercedes-Benz New</td>\n",
       "      <td>Hyderabad</td>\n",
       "      <td>2012.0</td>\n",
       "      <td>86000.0</td>\n",
       "      <td>Diesel</td>\n",
       "      <td>Automatic</td>\n",
       "      <td>First</td>\n",
       "      <td>14.84</td>\n",
       "      <td>2143.0</td>\n",
       "      <td>170.0</td>\n",
       "      <td>White</td>\n",
       "      <td>5.0</td>\n",
       "      <td>4.0</td>\n",
       "      <td>19.0</td>\n",
       "      <td>Mercedes-Benz</td>\n",
       "      <td>New</td>\n",
       "    </tr>\n",
       "    <tr>\n",
       "      <th>279</th>\n",
       "      <td>Mercedes-Benz New</td>\n",
       "      <td>Jaipur</td>\n",
       "      <td>2009.0</td>\n",
       "      <td>116000.0</td>\n",
       "      <td>Diesel</td>\n",
       "      <td>Manual</td>\n",
       "      <td>Second</td>\n",
       "      <td>15.80</td>\n",
       "      <td>2148.0</td>\n",
       "      <td>170.0</td>\n",
       "      <td>White</td>\n",
       "      <td>5.0</td>\n",
       "      <td>4.0</td>\n",
       "      <td>8.5</td>\n",
       "      <td>Mercedes-Benz</td>\n",
       "      <td>New</td>\n",
       "    </tr>\n",
       "  </tbody>\n",
       "</table>\n",
       "</div>"
      ],
      "text/plain": [
       "                  Name   Location    Year  Kilometers_Driven Fuel_Type  \\\n",
       "71   Mercedes-Benz New  Hyderabad  2012.0            86000.0    Diesel   \n",
       "279  Mercedes-Benz New     Jaipur  2009.0           116000.0    Diesel   \n",
       "\n",
       "    Transmission Owner_Type  Mileage  Engine  Power Colour  Seats  \\\n",
       "71     Automatic      First    14.84  2143.0  170.0  White    5.0   \n",
       "279       Manual     Second    15.80  2148.0  170.0  White    5.0   \n",
       "\n",
       "     No. of Doors  Price          Brand Model  \n",
       "71            4.0   19.0  Mercedes-Benz   New  \n",
       "279           4.0    8.5  Mercedes-Benz   New  "
      ]
     },
     "execution_count": 27,
     "metadata": {},
     "output_type": "execute_result"
    }
   ],
   "source": [
    "cars[cars['Model']=='New'].head(2) # so it is a Mercedes Benz"
   ]
  },
  {
   "cell_type": "code",
   "execution_count": 28,
   "metadata": {
    "ExecuteTime": {
     "end_time": "2020-04-29T03:47:59.420971Z",
     "start_time": "2020-04-29T03:47:59.397737Z"
    },
    "scrolled": true
   },
   "outputs": [
    {
     "data": {
      "text/html": [
       "<div>\n",
       "<style scoped>\n",
       "    .dataframe tbody tr th:only-of-type {\n",
       "        vertical-align: middle;\n",
       "    }\n",
       "\n",
       "    .dataframe tbody tr th {\n",
       "        vertical-align: top;\n",
       "    }\n",
       "\n",
       "    .dataframe thead th {\n",
       "        text-align: right;\n",
       "    }\n",
       "</style>\n",
       "<table border=\"1\" class=\"dataframe\">\n",
       "  <thead>\n",
       "    <tr style=\"text-align: right;\">\n",
       "      <th></th>\n",
       "      <th>Name</th>\n",
       "      <th>Location</th>\n",
       "      <th>Year</th>\n",
       "      <th>Kilometers_Driven</th>\n",
       "      <th>Fuel_Type</th>\n",
       "      <th>Transmission</th>\n",
       "      <th>Owner_Type</th>\n",
       "      <th>Mileage</th>\n",
       "      <th>Engine</th>\n",
       "      <th>Power</th>\n",
       "      <th>Colour</th>\n",
       "      <th>Seats</th>\n",
       "      <th>No. of Doors</th>\n",
       "      <th>Price</th>\n",
       "      <th>Brand</th>\n",
       "      <th>Model</th>\n",
       "    </tr>\n",
       "  </thead>\n",
       "  <tbody>\n",
       "    <tr>\n",
       "      <th>22</th>\n",
       "      <td>BMW 3</td>\n",
       "      <td>Mumbai</td>\n",
       "      <td>2014.0</td>\n",
       "      <td>48000.0</td>\n",
       "      <td>Diesel</td>\n",
       "      <td>Automatic</td>\n",
       "      <td>First</td>\n",
       "      <td>21.76</td>\n",
       "      <td>1995.0</td>\n",
       "      <td>190.0</td>\n",
       "      <td>Others</td>\n",
       "      <td>5.0</td>\n",
       "      <td>4.0</td>\n",
       "      <td>26.5</td>\n",
       "      <td>BMW</td>\n",
       "      <td>3</td>\n",
       "    </tr>\n",
       "    <tr>\n",
       "      <th>35</th>\n",
       "      <td>BMW 3</td>\n",
       "      <td>Chennai</td>\n",
       "      <td>2009.0</td>\n",
       "      <td>137000.0</td>\n",
       "      <td>Diesel</td>\n",
       "      <td>Automatic</td>\n",
       "      <td>Second</td>\n",
       "      <td>13.20</td>\n",
       "      <td>1995.0</td>\n",
       "      <td>170.0</td>\n",
       "      <td>Others</td>\n",
       "      <td>5.0</td>\n",
       "      <td>4.0</td>\n",
       "      <td>9.0</td>\n",
       "      <td>BMW</td>\n",
       "      <td>3</td>\n",
       "    </tr>\n",
       "  </tbody>\n",
       "</table>\n",
       "</div>"
      ],
      "text/plain": [
       "     Name Location    Year  Kilometers_Driven Fuel_Type Transmission  \\\n",
       "22  BMW 3   Mumbai  2014.0            48000.0    Diesel    Automatic   \n",
       "35  BMW 3  Chennai  2009.0           137000.0    Diesel    Automatic   \n",
       "\n",
       "   Owner_Type  Mileage  Engine  Power  Colour  Seats  No. of Doors  Price  \\\n",
       "22      First    21.76  1995.0  190.0  Others    5.0           4.0   26.5   \n",
       "35     Second    13.20  1995.0  170.0  Others    5.0           4.0    9.0   \n",
       "\n",
       "   Brand Model  \n",
       "22   BMW     3  \n",
       "35   BMW     3  "
      ]
     },
     "execution_count": 28,
     "metadata": {},
     "output_type": "execute_result"
    }
   ],
   "source": [
    "cars[cars['Model']=='3'].head(2) # so it is a BMW"
   ]
  },
  {
   "cell_type": "markdown",
   "metadata": {},
   "source": [
    "**Bin the cars as per average Price of the Brand**\n",
    "- 'Budget_Friendly'\n",
    "- 'Medium_Range'\n",
    "- 'TopNotch_Cars'"
   ]
  },
  {
   "cell_type": "code",
   "execution_count": 29,
   "metadata": {
    "ExecuteTime": {
     "end_time": "2020-04-29T03:47:59.887570Z",
     "start_time": "2020-04-29T03:47:59.878071Z"
    }
   },
   "outputs": [
    {
     "data": {
      "text/plain": [
       "count    5959.000000\n",
       "mean        9.529916\n",
       "std        11.215743\n",
       "min         0.440000\n",
       "25%         3.500000\n",
       "50%         5.660000\n",
       "75%        10.000000\n",
       "max       160.000000\n",
       "Name: Price, dtype: float64"
      ]
     },
     "execution_count": 29,
     "metadata": {},
     "output_type": "execute_result"
    }
   ],
   "source": [
    "cars.Price.describe()"
   ]
  },
  {
   "cell_type": "code",
   "execution_count": 30,
   "metadata": {
    "ExecuteTime": {
     "end_time": "2020-04-29T03:48:00.488654Z",
     "start_time": "2020-04-29T03:48:00.435015Z"
    }
   },
   "outputs": [
    {
     "data": {
      "text/plain": [
       "Brand\n",
       "Audi              25.131356\n",
       "BMW               24.823970\n",
       "Bentley           59.000000\n",
       "Chevrolet          2.451327\n",
       "Datsun             2.538462\n",
       "Fiat               2.800000\n",
       "Force              9.333333\n",
       "Ford               6.429530\n",
       "Honda              4.935108\n",
       "Hyundai            4.861818\n",
       "Isuzu             14.666667\n",
       "Jaguar            37.300000\n",
       "Jeep              18.333333\n",
       "Lamborghini      120.000000\n",
       "Land              39.456140\n",
       "Mahindra           7.610294\n",
       "Maruti             4.058972\n",
       "Mercedes-Benz     26.433962\n",
       "Mini              26.538462\n",
       "Mitsubishi        10.629630\n",
       "Nissan             4.274725\n",
       "Porsche           48.055556\n",
       "Renault            5.307692\n",
       "Skoda              7.075145\n",
       "Smart              3.000000\n",
       "Tata               3.065217\n",
       "Toyota            11.131707\n",
       "Volkswagen         4.790476\n",
       "Volvo             18.523810\n",
       "Name: Price, dtype: float64"
      ]
     },
     "execution_count": 30,
     "metadata": {},
     "output_type": "execute_result"
    }
   ],
   "source": [
    "#Binning the Car Companies based on avg prices of each car Company.\n",
    "cars['Price'] = cars['Price'].astype('int')\n",
    "cars_2 = cars.copy()\n",
    "t = cars_2.groupby(['Brand'])['Price'].mean()\n",
    "t"
   ]
  },
  {
   "cell_type": "code",
   "execution_count": 31,
   "metadata": {},
   "outputs": [
    {
     "data": {
      "text/html": [
       "<div>\n",
       "<style scoped>\n",
       "    .dataframe tbody tr th:only-of-type {\n",
       "        vertical-align: middle;\n",
       "    }\n",
       "\n",
       "    .dataframe tbody tr th {\n",
       "        vertical-align: top;\n",
       "    }\n",
       "\n",
       "    .dataframe thead th {\n",
       "        text-align: right;\n",
       "    }\n",
       "</style>\n",
       "<table border=\"1\" class=\"dataframe\">\n",
       "  <thead>\n",
       "    <tr style=\"text-align: right;\">\n",
       "      <th></th>\n",
       "      <th>Name</th>\n",
       "      <th>Location</th>\n",
       "      <th>Year</th>\n",
       "      <th>Kilometers_Driven</th>\n",
       "      <th>Fuel_Type</th>\n",
       "      <th>Transmission</th>\n",
       "      <th>Owner_Type</th>\n",
       "      <th>Mileage</th>\n",
       "      <th>Engine</th>\n",
       "      <th>Power</th>\n",
       "      <th>Colour</th>\n",
       "      <th>Seats</th>\n",
       "      <th>No. of Doors</th>\n",
       "      <th>Price</th>\n",
       "      <th>Brand</th>\n",
       "      <th>Model</th>\n",
       "      <th>Cars_Category</th>\n",
       "    </tr>\n",
       "  </thead>\n",
       "  <tbody>\n",
       "    <tr>\n",
       "      <th>0</th>\n",
       "      <td>Mahindra Scorpio</td>\n",
       "      <td>Pune</td>\n",
       "      <td>2012.0</td>\n",
       "      <td>99000.0</td>\n",
       "      <td>Diesel</td>\n",
       "      <td>Manual</td>\n",
       "      <td>Third</td>\n",
       "      <td>12.05</td>\n",
       "      <td>2179.0</td>\n",
       "      <td>120.0</td>\n",
       "      <td>Black/Silver</td>\n",
       "      <td>8.0</td>\n",
       "      <td>5.0</td>\n",
       "      <td>6</td>\n",
       "      <td>Mahindra</td>\n",
       "      <td>Scorpio</td>\n",
       "      <td>Budget_Friendly</td>\n",
       "    </tr>\n",
       "    <tr>\n",
       "      <th>1</th>\n",
       "      <td>Maruti Baleno</td>\n",
       "      <td>Kochi</td>\n",
       "      <td>2018.0</td>\n",
       "      <td>18678.0</td>\n",
       "      <td>Petrol</td>\n",
       "      <td>Manual</td>\n",
       "      <td>First</td>\n",
       "      <td>21.10</td>\n",
       "      <td>998.0</td>\n",
       "      <td>100.0</td>\n",
       "      <td>Others</td>\n",
       "      <td>5.0</td>\n",
       "      <td>4.0</td>\n",
       "      <td>8</td>\n",
       "      <td>Maruti</td>\n",
       "      <td>Baleno</td>\n",
       "      <td>Budget_Friendly</td>\n",
       "    </tr>\n",
       "    <tr>\n",
       "      <th>2</th>\n",
       "      <td>Mahindra Xylo</td>\n",
       "      <td>Bangalore</td>\n",
       "      <td>2013.0</td>\n",
       "      <td>197000.0</td>\n",
       "      <td>Diesel</td>\n",
       "      <td>Manual</td>\n",
       "      <td>First</td>\n",
       "      <td>11.68</td>\n",
       "      <td>2498.0</td>\n",
       "      <td>112.0</td>\n",
       "      <td>White</td>\n",
       "      <td>7.0</td>\n",
       "      <td>5.0</td>\n",
       "      <td>4</td>\n",
       "      <td>Mahindra</td>\n",
       "      <td>Xylo</td>\n",
       "      <td>Budget_Friendly</td>\n",
       "    </tr>\n",
       "    <tr>\n",
       "      <th>3</th>\n",
       "      <td>Hyundai Grand</td>\n",
       "      <td>Delhi</td>\n",
       "      <td>2014.0</td>\n",
       "      <td>45000.0</td>\n",
       "      <td>Diesel</td>\n",
       "      <td>Manual</td>\n",
       "      <td>First</td>\n",
       "      <td>24.00</td>\n",
       "      <td>1120.0</td>\n",
       "      <td>70.0</td>\n",
       "      <td>White</td>\n",
       "      <td>5.0</td>\n",
       "      <td>4.0</td>\n",
       "      <td>3</td>\n",
       "      <td>Hyundai</td>\n",
       "      <td>Grand</td>\n",
       "      <td>Budget_Friendly</td>\n",
       "    </tr>\n",
       "    <tr>\n",
       "      <th>4</th>\n",
       "      <td>Toyota Innova</td>\n",
       "      <td>Delhi</td>\n",
       "      <td>2011.0</td>\n",
       "      <td>65000.0</td>\n",
       "      <td>Diesel</td>\n",
       "      <td>Manual</td>\n",
       "      <td>First</td>\n",
       "      <td>12.80</td>\n",
       "      <td>2494.0</td>\n",
       "      <td>102.0</td>\n",
       "      <td>Others</td>\n",
       "      <td>8.0</td>\n",
       "      <td>5.0</td>\n",
       "      <td>6</td>\n",
       "      <td>Toyota</td>\n",
       "      <td>Innova</td>\n",
       "      <td>Not_Budget_Friendly</td>\n",
       "    </tr>\n",
       "  </tbody>\n",
       "</table>\n",
       "</div>"
      ],
      "text/plain": [
       "               Name   Location    Year  Kilometers_Driven Fuel_Type  \\\n",
       "0  Mahindra Scorpio       Pune  2012.0            99000.0    Diesel   \n",
       "1     Maruti Baleno      Kochi  2018.0            18678.0    Petrol   \n",
       "2     Mahindra Xylo  Bangalore  2013.0           197000.0    Diesel   \n",
       "3     Hyundai Grand      Delhi  2014.0            45000.0    Diesel   \n",
       "4     Toyota Innova      Delhi  2011.0            65000.0    Diesel   \n",
       "\n",
       "  Transmission Owner_Type  Mileage  Engine  Power        Colour  Seats  \\\n",
       "0       Manual      Third    12.05  2179.0  120.0  Black/Silver    8.0   \n",
       "1       Manual      First    21.10   998.0  100.0        Others    5.0   \n",
       "2       Manual      First    11.68  2498.0  112.0         White    7.0   \n",
       "3       Manual      First    24.00  1120.0   70.0         White    5.0   \n",
       "4       Manual      First    12.80  2494.0  102.0        Others    8.0   \n",
       "\n",
       "   No. of Doors  Price     Brand    Model        Cars_Category  \n",
       "0           5.0      6  Mahindra  Scorpio      Budget_Friendly  \n",
       "1           4.0      8    Maruti   Baleno      Budget_Friendly  \n",
       "2           5.0      4  Mahindra     Xylo      Budget_Friendly  \n",
       "3           4.0      3   Hyundai    Grand      Budget_Friendly  \n",
       "4           5.0      6    Toyota   Innova  Not_Budget_Friendly  "
      ]
     },
     "execution_count": 31,
     "metadata": {},
     "output_type": "execute_result"
    }
   ],
   "source": [
    "cars_2 = cars_2.merge(t.reset_index(), how='left',on='Brand')\n",
    "bins = [0,10,160]\n",
    "label =['Budget_Friendly','Not_Budget_Friendly']\n",
    "cars['Cars_Category'] = pd.cut(cars_2['Price_y'],bins,right=False,labels=label)\n",
    "cars.head()"
   ]
  },
  {
   "cell_type": "code",
   "execution_count": 32,
   "metadata": {
    "ExecuteTime": {
     "end_time": "2020-04-29T03:48:01.091258Z",
     "start_time": "2020-04-29T03:48:01.076195Z"
    }
   },
   "outputs": [
    {
     "data": {
      "text/plain": [
       "Budget_Friendly        4518\n",
       "Not_Budget_Friendly    1439\n",
       "Name: Cars_Category, dtype: int64"
      ]
     },
     "execution_count": 32,
     "metadata": {},
     "output_type": "execute_result"
    }
   ],
   "source": [
    "cars.Cars_Category.value_counts()"
   ]
  },
  {
   "cell_type": "code",
   "execution_count": 33,
   "metadata": {},
   "outputs": [
    {
     "data": {
      "text/plain": [
       "Brand                             \n",
       "Audi           Not_Budget_Friendly     225\n",
       "               Budget_Friendly          11\n",
       "BMW            Not_Budget_Friendly     258\n",
       "               Budget_Friendly           9\n",
       "Bentley        Not_Budget_Friendly       1\n",
       "               Budget_Friendly           0\n",
       "Chevrolet      Budget_Friendly         109\n",
       "               Not_Budget_Friendly       4\n",
       "Datsun         Budget_Friendly          12\n",
       "               Not_Budget_Friendly       1\n",
       "Fiat           Budget_Friendly          24\n",
       "               Not_Budget_Friendly       1\n",
       "Force          Budget_Friendly           3\n",
       "               Not_Budget_Friendly       0\n",
       "Ford           Budget_Friendly         294\n",
       "               Not_Budget_Friendly       4\n",
       "Honda          Budget_Friendly         592\n",
       "               Not_Budget_Friendly       9\n",
       "Hyundai        Budget_Friendly        1083\n",
       "               Not_Budget_Friendly      16\n",
       "Isuzu          Not_Budget_Friendly       3\n",
       "               Budget_Friendly           0\n",
       "Jaguar         Not_Budget_Friendly      39\n",
       "               Budget_Friendly           1\n",
       "Jeep           Not_Budget_Friendly      14\n",
       "               Budget_Friendly           1\n",
       "Lamborghini    Not_Budget_Friendly       1\n",
       "               Budget_Friendly           0\n",
       "Land           Not_Budget_Friendly      55\n",
       "               Budget_Friendly           2\n",
       "Mahindra       Budget_Friendly         269\n",
       "               Not_Budget_Friendly       3\n",
       "Maruti         Budget_Friendly        1179\n",
       "               Not_Budget_Friendly       8\n",
       "Mercedes-Benz  Not_Budget_Friendly     306\n",
       "               Budget_Friendly          11\n",
       "Mini           Not_Budget_Friendly      24\n",
       "               Budget_Friendly           2\n",
       "Mitsubishi     Not_Budget_Friendly      24\n",
       "               Budget_Friendly           3\n",
       "Nissan         Budget_Friendly          91\n",
       "               Not_Budget_Friendly       0\n",
       "Porsche        Not_Budget_Friendly      16\n",
       "               Budget_Friendly           2\n",
       "Renault        Budget_Friendly         140\n",
       "               Not_Budget_Friendly       3\n",
       "Skoda          Budget_Friendly         168\n",
       "               Not_Budget_Friendly       5\n",
       "Smart          Budget_Friendly           1\n",
       "               Not_Budget_Friendly       0\n",
       "Tata           Budget_Friendly         181\n",
       "               Not_Budget_Friendly       3\n",
       "Toyota         Not_Budget_Friendly     393\n",
       "               Budget_Friendly          17\n",
       "Volkswagen     Budget_Friendly         312\n",
       "               Not_Budget_Friendly       3\n",
       "Volvo          Not_Budget_Friendly      20\n",
       "               Budget_Friendly           1\n",
       "Name: Cars_Category, dtype: int64"
      ]
     },
     "execution_count": 33,
     "metadata": {},
     "output_type": "execute_result"
    }
   ],
   "source": [
    "cars.groupby(['Brand']).Cars_Category.value_counts()"
   ]
  },
  {
   "cell_type": "markdown",
   "metadata": {
    "ExecuteTime": {
     "end_time": "2020-04-17T09:18:54.214520Z",
     "start_time": "2020-04-17T09:18:54.209533Z"
    }
   },
   "source": [
    "**Create a new column 'CarAge'**\n",
    "\n",
    "Hint: Subtract Year by current year"
   ]
  },
  {
   "cell_type": "code",
   "execution_count": 34,
   "metadata": {
    "ExecuteTime": {
     "end_time": "2020-04-29T03:48:01.533467Z",
     "start_time": "2020-04-29T03:48:01.525518Z"
    }
   },
   "outputs": [],
   "source": [
    "import datetime\n",
    "now = datetime.datetime.now()\n",
    "now.year\n",
    "cars['CarAge']= now.year-cars.Year"
   ]
  },
  {
   "cell_type": "code",
   "execution_count": 35,
   "metadata": {
    "ExecuteTime": {
     "end_time": "2020-04-29T03:48:02.171772Z",
     "start_time": "2020-04-29T03:48:02.163146Z"
    }
   },
   "outputs": [
    {
     "data": {
      "text/plain": [
       "4.0     101\n",
       "5.0     298\n",
       "6.0     586\n",
       "7.0     739\n",
       "8.0     736\n",
       "9.0     793\n",
       "10.0    642\n",
       "11.0    573\n",
       "12.0    461\n",
       "13.0    338\n",
       "14.0    196\n",
       "15.0    170\n",
       "16.0    122\n",
       "17.0     75\n",
       "18.0     55\n",
       "19.0     28\n",
       "20.0     13\n",
       "21.0     14\n",
       "22.0      7\n",
       "23.0      4\n",
       "24.0      2\n",
       "25.0      4\n",
       "Name: CarAge, dtype: int64"
      ]
     },
     "execution_count": 35,
     "metadata": {},
     "output_type": "execute_result"
    }
   ],
   "source": [
    "cars.CarAge.value_counts().sort_index(ascending=True)"
   ]
  },
  {
   "cell_type": "markdown",
   "metadata": {},
   "source": [
    "**Check for Outliers**"
   ]
  },
  {
   "cell_type": "code",
   "execution_count": 36,
   "metadata": {
    "ExecuteTime": {
     "end_time": "2020-04-29T03:48:04.093577Z",
     "start_time": "2020-04-29T03:48:02.765100Z"
    }
   },
   "outputs": [
    {
     "name": "stdout",
     "output_type": "stream",
     "text": [
      "Shape before Outliers Treatment (5959, 18)\n"
     ]
    },
    {
     "data": {
      "image/png": "[encoded data removed]",
      "text/plain": [
       "<Figure size 2000x2000 with 5 Axes>"
      ]
     },
     "metadata": {},
     "output_type": "display_data"
    }
   ],
   "source": [
    "data_plot=cars[['Kilometers_Driven', 'Mileage', 'Engine', 'Power','CarAge']]\n",
    "fig=plt.figure(figsize=(20,20))\n",
    "for i in range(0,len(data_plot.columns)):\n",
    "    ax=fig.add_subplot(3,2,i+1)\n",
    "    sns.boxplot(data_plot[data_plot.columns[i]])\n",
    "    plt.tight_layout()\n",
    "print('Shape before Outliers Treatment',cars.shape)"
   ]
  },
  {
   "cell_type": "markdown",
   "metadata": {},
   "source": [
    "**Seems like Kilometers_Driven, Power, Engine have many outliers**"
   ]
  },
  {
   "cell_type": "markdown",
   "metadata": {},
   "source": [
    "**Outliers Treatment**"
   ]
  },
  {
   "cell_type": "code",
   "execution_count": 37,
   "metadata": {
    "ExecuteTime": {
     "end_time": "2020-04-29T03:48:04.566766Z",
     "start_time": "2020-04-29T03:48:04.555017Z"
    }
   },
   "outputs": [],
   "source": [
    "Q1 = cars.quantile(0.25) # Getting First quantile for all numerical variables\n",
    "Q3 = cars.quantile(0.75) # Getting Second quantile for all numerical variables\n",
    "IQR = Q3 - Q1          # Getting IQR values\n",
    "lower_range= Q1-(1.5 * IQR) #Getting Lower Limit for all numerical variables\n",
    "upper_range= Q3+(1.5 * IQR) #Getting Upper Limit for all numerical variables"
   ]
  },
  {
   "cell_type": "code",
   "execution_count": 38,
   "metadata": {
    "ExecuteTime": {
     "end_time": "2020-04-29T03:48:05.176874Z",
     "start_time": "2020-04-29T03:48:05.165985Z"
    }
   },
   "outputs": [
    {
     "data": {
      "text/plain": [
       "Year                  2006.00\n",
       "Kilometers_Driven   -24586.25\n",
       "Mileage                  6.50\n",
       "Engine                  19.00\n",
       "Power                  -19.65\n",
       "Seats                    5.00\n",
       "No. of Doors             4.00\n",
       "Price                   -7.50\n",
       "CarAge                   1.00\n",
       "dtype: float64"
      ]
     },
     "execution_count": 38,
     "metadata": {},
     "output_type": "execute_result"
    }
   ],
   "source": [
    "lower_range"
   ]
  },
  {
   "cell_type": "code",
   "execution_count": 39,
   "metadata": {
    "ExecuteTime": {
     "end_time": "2020-04-29T03:48:05.745846Z",
     "start_time": "2020-04-29T03:48:05.739532Z"
    }
   },
   "outputs": [
    {
     "data": {
      "text/plain": [
       "Year                   2022.00\n",
       "Kilometers_Driven    131551.75\n",
       "Mileage                  29.86\n",
       "Engine                 3163.00\n",
       "Power                   232.75\n",
       "Seats                     5.00\n",
       "No. of Doors              4.00\n",
       "Price                    20.50\n",
       "CarAge                   17.00\n",
       "dtype: float64"
      ]
     },
     "execution_count": 39,
     "metadata": {},
     "output_type": "execute_result"
    }
   ],
   "source": [
    "upper_range"
   ]
  },
  {
   "cell_type": "code",
   "execution_count": 40,
   "metadata": {
    "ExecuteTime": {
     "end_time": "2020-04-29T03:48:06.406018Z",
     "start_time": "2020-04-29T03:48:06.387356Z"
    }
   },
   "outputs": [],
   "source": [
    "cars['Kilometers_Driven']=np.where(cars['Kilometers_Driven']> 131603.50,131603.50,cars['Kilometers_Driven'])\n",
    "\n",
    "cars['Mileage']=np.where(cars['Mileage']> 29.86,29.86,cars['Mileage'])\n",
    "cars['Mileage']=np.where(cars['Mileage']< 6.5,6.5,cars['Mileage'])\n",
    "\n",
    "cars['Engine']=np.where(cars['Engine']< 19.00,19.00,cars['Engine'])\n",
    "cars['Engine']=np.where(cars['Engine']> 3163.00,3163.00,cars['Engine'])\n",
    "\n",
    "cars['Power']=np.where(cars['Power']> 232.75,232.75,cars['Power'])\n",
    "\n",
    "cars['CarAge']=np.where(cars['CarAge']> 15.25,15.25,cars['CarAge'])"
   ]
  },
  {
   "cell_type": "code",
   "execution_count": 41,
   "metadata": {
    "ExecuteTime": {
     "end_time": "2020-04-29T03:48:08.203927Z",
     "start_time": "2020-04-29T03:48:07.050942Z"
    }
   },
   "outputs": [
    {
     "name": "stdout",
     "output_type": "stream",
     "text": [
      "Shape After Outliers Treatment (5959, 18)\n"
     ]
    },
    {
     "data": {
      "image/png": "[encoded data removed]",
      "text/plain": [
       "<Figure size 2000x2000 with 5 Axes>"
      ]
     },
     "metadata": {},
     "output_type": "display_data"
    }
   ],
   "source": [
    "data_plot=cars[['Kilometers_Driven', 'Mileage', 'Engine', 'Power','CarAge']]\n",
    "fig=plt.figure(figsize=(20,20))\n",
    "for i in range(0,len(data_plot.columns)):\n",
    "    ax=fig.add_subplot(3,2,i+1)\n",
    "    sns.boxplot(data_plot[data_plot.columns[i]])\n",
    "    plt.tight_layout()\n",
    "\n",
    "print('Shape After Outliers Treatment',cars.shape)"
   ]
  },
  {
   "cell_type": "markdown",
   "metadata": {},
   "source": [
    "Since this was Outliers Treatment by imputing UL and LL in place of Outliers thus, the number of rows didn't change but had it been Outliers Removal, the number of rows would have changed"
   ]
  },
  {
   "cell_type": "markdown",
   "metadata": {},
   "source": [
    "**Null Values Imputation**"
   ]
  },
  {
   "cell_type": "code",
   "execution_count": 42,
   "metadata": {
    "ExecuteTime": {
     "end_time": "2020-04-29T03:48:09.942519Z",
     "start_time": "2020-04-29T03:48:09.927193Z"
    }
   },
   "outputs": [],
   "source": [
    "cols=cars.isnull().sum()[cars.isnull().sum()>0].index"
   ]
  },
  {
   "cell_type": "code",
   "execution_count": 43,
   "metadata": {},
   "outputs": [
    {
     "data": {
      "text/plain": [
       "Index(['Location', 'Year', 'Kilometers_Driven', 'Transmission', 'Owner_Type',\n",
       "       'Mileage', 'Engine', 'Power', 'Colour', 'Seats', 'No. of Doors',\n",
       "       'Cars_Category', 'CarAge'],\n",
       "      dtype='object')"
      ]
     },
     "execution_count": 43,
     "metadata": {},
     "output_type": "execute_result"
    }
   ],
   "source": [
    "cols"
   ]
  },
  {
   "cell_type": "code",
   "execution_count": 44,
   "metadata": {
    "ExecuteTime": {
     "end_time": "2020-04-29T03:48:10.602273Z",
     "start_time": "2020-04-29T03:48:10.577408Z"
    }
   },
   "outputs": [],
   "source": [
    "objects=cars[cols].select_dtypes(include=['object','category']).columns\n",
    "non_objects=cars[cols].select_dtypes(exclude=['object','category']).columns"
   ]
  },
  {
   "cell_type": "markdown",
   "metadata": {},
   "source": [
    "**Simple Imputer**\n",
    "\n",
    "The SimpleImputer class provides basic strategies for imputing missing values. Missing values can be imputed with a provided constant value, or using the statistics (mean, median or most frequent) of each column in which the missing values are located. This class also allows for different missing values encodings.\n",
    "\n",
    "\n",
    "<a href='https://scikit-learn.org/stable/modules/impute.html#impute'>scikit-learn</a>"
   ]
  },
  {
   "cell_type": "markdown",
   "metadata": {},
   "source": [
    "**Impute the Non-Object values using Median**"
   ]
  },
  {
   "cell_type": "code",
   "execution_count": 45,
   "metadata": {
    "ExecuteTime": {
     "end_time": "2020-04-29T03:48:11.247316Z",
     "start_time": "2020-04-29T03:48:11.231815Z"
    }
   },
   "outputs": [
    {
     "name": "stderr",
     "output_type": "stream",
     "text": [
      "C:\\Users\\Shikhar Shrivastava\\anaconda3\\lib\\site-packages\\sklearn\\impute\\_base.py:356: FutureWarning: The 'verbose' parameter was deprecated in version 1.1 and will be removed in 1.3. A warning will always be raised upon the removal of empty columns in the future version.\n",
      "  warnings.warn(\n"
     ]
    }
   ],
   "source": [
    "#you can use any other method as well\n",
    "from sklearn.impute import SimpleImputer\n",
    "imputer = SimpleImputer(missing_values = np.nan, strategy = 'median',verbose=0)\n",
    "imputer= imputer.fit(cars[non_objects].iloc[:,:])"
   ]
  },
  {
   "cell_type": "code",
   "execution_count": 46,
   "metadata": {
    "ExecuteTime": {
     "end_time": "2020-04-29T03:48:11.859927Z",
     "start_time": "2020-04-29T03:48:11.844458Z"
    }
   },
   "outputs": [],
   "source": [
    "cars[non_objects]=imputer.transform(cars[non_objects])"
   ]
  },
  {
   "cell_type": "markdown",
   "metadata": {},
   "source": [
    "**Impute the Object values using Mode**"
   ]
  },
  {
   "cell_type": "code",
   "execution_count": 47,
   "metadata": {
    "ExecuteTime": {
     "end_time": "2020-04-29T03:48:12.711729Z",
     "start_time": "2020-04-29T03:48:12.658825Z"
    }
   },
   "outputs": [
    {
     "name": "stderr",
     "output_type": "stream",
     "text": [
      "C:\\Users\\Shikhar Shrivastava\\anaconda3\\lib\\site-packages\\sklearn\\impute\\_base.py:356: FutureWarning: The 'verbose' parameter was deprecated in version 1.1 and will be removed in 1.3. A warning will always be raised upon the removal of empty columns in the future version.\n",
      "  warnings.warn(\n"
     ]
    }
   ],
   "source": [
    "from sklearn.impute import SimpleImputer\n",
    "imputer = SimpleImputer(missing_values = np.nan, strategy = 'most_frequent',verbose=0)\n",
    "imputer= imputer.fit(cars[objects].iloc[:,:])"
   ]
  },
  {
   "cell_type": "code",
   "execution_count": 48,
   "metadata": {
    "ExecuteTime": {
     "end_time": "2020-04-29T03:48:13.362597Z",
     "start_time": "2020-04-29T03:48:13.348527Z"
    }
   },
   "outputs": [],
   "source": [
    "cars[objects]=imputer.transform(cars[objects])"
   ]
  },
  {
   "cell_type": "code",
   "execution_count": 49,
   "metadata": {
    "ExecuteTime": {
     "end_time": "2020-04-29T03:48:13.994943Z",
     "start_time": "2020-04-29T03:48:13.978890Z"
    }
   },
   "outputs": [
    {
     "data": {
      "text/plain": [
       "Name                 0\n",
       "Location             0\n",
       "Year                 0\n",
       "Kilometers_Driven    0\n",
       "Fuel_Type            0\n",
       "Transmission         0\n",
       "Owner_Type           0\n",
       "Mileage              0\n",
       "Engine               0\n",
       "Power                0\n",
       "Colour               0\n",
       "Seats                0\n",
       "No. of Doors         0\n",
       "Price                0\n",
       "Brand                0\n",
       "Model                0\n",
       "Cars_Category        0\n",
       "CarAge               0\n",
       "dtype: int64"
      ]
     },
     "execution_count": 49,
     "metadata": {},
     "output_type": "execute_result"
    }
   ],
   "source": [
    "cars.isnull().sum()"
   ]
  },
  {
   "cell_type": "markdown",
   "metadata": {},
   "source": [
    "**There are no Null values now**"
   ]
  },
  {
   "cell_type": "markdown",
   "metadata": {},
   "source": [
    "**Correlation Plot**"
   ]
  },
  {
   "cell_type": "code",
   "execution_count": 50,
   "metadata": {},
   "outputs": [
    {
     "data": {
      "text/plain": [
       "<AxesSubplot: >"
      ]
     },
     "execution_count": 50,
     "metadata": {},
     "output_type": "execute_result"
    },
    {
     "data": {
      "image/png": "[encoded data removed]",
      "text/plain": [
       "<Figure size 1200x700 with 2 Axes>"
      ]
     },
     "metadata": {},
     "output_type": "display_data"
    }
   ],
   "source": [
    "X=cars.drop(['Price','Name','Year'],axis=1)\n",
    "\n",
    "plt.figure(figsize=(12,7))\n",
    "sns.heatmap(X.iloc[:].corr(),annot=True)"
   ]
  },
  {
   "cell_type": "markdown",
   "metadata": {},
   "source": [
    "- Engine & Power, Seats & No.of Doors -> highly correlated\n",
    "- For algorithms that are affected by correlation in independent variables, drop one of the variables in that set (Say: Engine and No. of Doors)"
   ]
  },
  {
   "cell_type": "markdown",
   "metadata": {},
   "source": [
    "### **Encode the Data**"
   ]
  },
  {
   "cell_type": "code",
   "execution_count": 51,
   "metadata": {},
   "outputs": [
    {
     "data": {
      "text/html": [
       "<div>\n",
       "<style scoped>\n",
       "    .dataframe tbody tr th:only-of-type {\n",
       "        vertical-align: middle;\n",
       "    }\n",
       "\n",
       "    .dataframe tbody tr th {\n",
       "        vertical-align: top;\n",
       "    }\n",
       "\n",
       "    .dataframe thead th {\n",
       "        text-align: right;\n",
       "    }\n",
       "</style>\n",
       "<table border=\"1\" class=\"dataframe\">\n",
       "  <thead>\n",
       "    <tr style=\"text-align: right;\">\n",
       "      <th></th>\n",
       "      <th>Name</th>\n",
       "      <th>Location</th>\n",
       "      <th>Fuel_Type</th>\n",
       "      <th>Transmission</th>\n",
       "      <th>Owner_Type</th>\n",
       "      <th>Colour</th>\n",
       "      <th>Brand</th>\n",
       "      <th>Model</th>\n",
       "      <th>Cars_Category</th>\n",
       "    </tr>\n",
       "  </thead>\n",
       "  <tbody>\n",
       "    <tr>\n",
       "      <th>count</th>\n",
       "      <td>5959</td>\n",
       "      <td>5959</td>\n",
       "      <td>5959</td>\n",
       "      <td>5959</td>\n",
       "      <td>5959</td>\n",
       "      <td>5959</td>\n",
       "      <td>5959</td>\n",
       "      <td>5959</td>\n",
       "      <td>5959</td>\n",
       "    </tr>\n",
       "    <tr>\n",
       "      <th>unique</th>\n",
       "      <td>212</td>\n",
       "      <td>11</td>\n",
       "      <td>5</td>\n",
       "      <td>2</td>\n",
       "      <td>4</td>\n",
       "      <td>3</td>\n",
       "      <td>29</td>\n",
       "      <td>208</td>\n",
       "      <td>2</td>\n",
       "    </tr>\n",
       "    <tr>\n",
       "      <th>top</th>\n",
       "      <td>Maruti Swift</td>\n",
       "      <td>Mumbai</td>\n",
       "      <td>Diesel</td>\n",
       "      <td>Manual</td>\n",
       "      <td>First</td>\n",
       "      <td>White</td>\n",
       "      <td>Maruti</td>\n",
       "      <td>Swift</td>\n",
       "      <td>Budget_Friendly</td>\n",
       "    </tr>\n",
       "    <tr>\n",
       "      <th>freq</th>\n",
       "      <td>343</td>\n",
       "      <td>792</td>\n",
       "      <td>3187</td>\n",
       "      <td>4250</td>\n",
       "      <td>4888</td>\n",
       "      <td>2126</td>\n",
       "      <td>1187</td>\n",
       "      <td>343</td>\n",
       "      <td>4520</td>\n",
       "    </tr>\n",
       "  </tbody>\n",
       "</table>\n",
       "</div>"
      ],
      "text/plain": [
       "                Name Location Fuel_Type Transmission Owner_Type Colour  \\\n",
       "count           5959     5959      5959         5959       5959   5959   \n",
       "unique           212       11         5            2          4      3   \n",
       "top     Maruti Swift   Mumbai    Diesel       Manual      First  White   \n",
       "freq             343      792      3187         4250       4888   2126   \n",
       "\n",
       "         Brand  Model    Cars_Category  \n",
       "count     5959   5959             5959  \n",
       "unique      29    208                2  \n",
       "top     Maruti  Swift  Budget_Friendly  \n",
       "freq      1187    343             4520  "
      ]
     },
     "execution_count": 51,
     "metadata": {},
     "output_type": "execute_result"
    }
   ],
   "source": [
    "cars.select_dtypes(include='object').describe()\n"
   ]
  },
  {
   "cell_type": "code",
   "execution_count": 52,
   "metadata": {},
   "outputs": [],
   "source": [
    "cars[\"Cars_Category\"]=cars[\"Cars_Category\"].replace({\"Budget_Friendly\":1,\"Not_Budget_Friendly\":0})"
   ]
  },
  {
   "cell_type": "markdown",
   "metadata": {},
   "source": [
    "There are two types of categorical data \n",
    "- Ordinal: Order based like 'good','bad','worst' or Clothing sizes\n",
    "- Nominal: Without any order or ranks like city names, Genders, etc\n",
    "\n",
    "Here, for now let us convert these into Categorical using pd.Categories to avoid high dimensionality because of OHE(get_dummies)\n",
    "\n",
    "You are free to use any encoding technique as long as it works.\n",
    "\n",
    "Also, rememeber that on Official Site of Scikit-learn's Label Encoder it is mentioned that \"This transformer should be used to encode target values, i.e. y, and not the input X.\" \n",
    "<a href=\"https://scikit-learn.org/stable/modules/generated/sklearn.preprocessing.LabelEncoder.html\">Link</a>"
   ]
  },
  {
   "cell_type": "code",
   "execution_count": 53,
   "metadata": {},
   "outputs": [],
   "source": [
    "for feature in cars.columns: \n",
    "    if cars[feature].dtype == 'object':\n",
    "        cars[feature] = pd.Categorical(cars[feature]).codes\n",
    "\n",
    "        cars.Cars_Category=pd.Categorical(cars.Cars_Category).codes"
   ]
  },
  {
   "cell_type": "code",
   "execution_count": 54,
   "metadata": {
    "ExecuteTime": {
     "end_time": "2020-04-29T03:51:04.352017Z",
     "start_time": "2020-04-29T03:51:04.343100Z"
    }
   },
   "outputs": [
    {
     "data": {
      "text/plain": [
       "Name                   int16\n",
       "Location                int8\n",
       "Year                 float64\n",
       "Kilometers_Driven    float64\n",
       "Fuel_Type               int8\n",
       "Transmission            int8\n",
       "Owner_Type              int8\n",
       "Mileage              float64\n",
       "Engine               float64\n",
       "Power                float64\n",
       "Colour                  int8\n",
       "Seats                float64\n",
       "No. of Doors         float64\n",
       "Price                  int32\n",
       "Brand                   int8\n",
       "Model                  int16\n",
       "Cars_Category           int8\n",
       "CarAge               float64\n",
       "dtype: object"
      ]
     },
     "execution_count": 54,
     "metadata": {},
     "output_type": "execute_result"
    }
   ],
   "source": [
    "cars.dtypes"
   ]
  },
  {
   "cell_type": "markdown",
   "metadata": {},
   "source": [
    "**Split the Data**"
   ]
  },
  {
   "cell_type": "code",
   "execution_count": 55,
   "metadata": {
    "ExecuteTime": {
     "end_time": "2020-04-29T03:52:37.483986Z",
     "start_time": "2020-04-29T03:52:37.472998Z"
    }
   },
   "outputs": [],
   "source": [
    "x=cars.drop(['Price','Name','Year'],axis=1) # Year is transformed to CarAge\n",
    "y=cars.Price"
   ]
  },
  {
   "cell_type": "code",
   "execution_count": 56,
   "metadata": {
    "ExecuteTime": {
     "end_time": "2020-04-29T03:52:38.073663Z",
     "start_time": "2020-04-29T03:52:38.060467Z"
    }
   },
   "outputs": [],
   "source": [
    "x_train,x_test,y_train,y_test=train_test_split(x,y,random_state=123,test_size=0.30)"
   ]
  },
  {
   "cell_type": "markdown",
   "metadata": {},
   "source": [
    "**Make 2 models using Decision Tree Regressor and Linear Regression and comparing the RMSE to find the best model**\n",
    "\n",
    "- Check Train and Test RMSE\n",
    "- Check Train and Test Scores"
   ]
  },
  {
   "cell_type": "code",
   "execution_count": 57,
   "metadata": {
    "ExecuteTime": {
     "end_time": "2020-04-29T04:27:18.506641Z",
     "start_time": "2020-04-29T04:26:35.721146Z"
    }
   },
   "outputs": [
    {
     "name": "stdout",
     "output_type": "stream",
     "text": [
      "                         Train RMSE  Test RMSE  Training Score  Test Score\n",
      "Linear Regression          6.135898   6.101724        0.702456    0.706992\n",
      "Decision Tree Regressor    0.018964   4.974656        0.999997    0.805240\n"
     ]
    }
   ],
   "source": [
    "dtr = tree.DecisionTreeRegressor(random_state=123)\n",
    "regression_model = LinearRegression()\n",
    "\n",
    "\n",
    "models=[regression_model,dtr]\n",
    "\n",
    "rmse_train=[]\n",
    "rmse_test=[]\n",
    "scores_train=[]\n",
    "scores_test=[]\n",
    "\n",
    "for i in models:  # Computation of RMSE and R2 values \n",
    "    i.fit(x_train,y_train)\n",
    "    scores_train.append(i.score(x_train, y_train))\n",
    "    scores_test.append(i.score(x_test, y_test))\n",
    "    rmse_train.append(np.sqrt(mean_squared_error(y_train,i.predict(x_train))))\n",
    "    rmse_test.append(np.sqrt(mean_squared_error(y_test,i.predict(x_test))))\n",
    "        \n",
    "print(pd.DataFrame({'Train RMSE': rmse_train,'Test RMSE': rmse_test,'Training Score':scores_train,'Test Score': scores_test},\n",
    "            index=['Linear Regression','Decision Tree Regressor']))"
   ]
  },
  {
   "cell_type": "markdown",
   "metadata": {},
   "source": [
    "**Looks like Decision Tree, is over-fitting because of the difference in values between train and test RMSE., Let's Grid Search to get the best parameters**"
   ]
  },
  {
   "cell_type": "markdown",
   "metadata": {},
   "source": [
    "**You can also visualise the tree and see where to prune it and decide the max_depth and other parameters**\n",
    "- Note : Hyperparameter tuning will be covered in coming sections \n",
    "\n",
    "**Grid Search on Decision Tree** (Pruning the tree)"
   ]
  },
  {
   "cell_type": "code",
   "execution_count": 58,
   "metadata": {
    "ExecuteTime": {
     "end_time": "2020-04-29T04:29:40.294458Z",
     "start_time": "2020-04-29T04:29:36.654288Z"
    }
   },
   "outputs": [
    {
     "name": "stdout",
     "output_type": "stream",
     "text": [
      "{'max_depth': 10, 'min_samples_leaf': 3, 'min_samples_split': 30}\n"
     ]
    }
   ],
   "source": [
    "param_grid = {\n",
    "    'max_depth': [10,15,20,25,30],\n",
    "    'min_samples_leaf': [3, 15,30],\n",
    "    'min_samples_split': [15,30,35,40,50],\n",
    "}\n",
    "\n",
    "dtr=tree.DecisionTreeRegressor(random_state=123)\n",
    "\n",
    "grid_search = GridSearchCV(estimator = dtr, param_grid = param_grid, cv = 3)\n",
    "\n",
    "\n",
    "grid_search.fit(x_train,y_train)\n",
    "\n",
    "print(grid_search.best_params_)\n"
   ]
  },
  {
   "cell_type": "markdown",
   "metadata": {},
   "source": [
    "Let us take Max_depth as 10, min_samples_leaf as 15 and Min_sample_split as 15. You are welcome to try other values as well."
   ]
  },
  {
   "cell_type": "code",
   "execution_count": 59,
   "metadata": {
    "ExecuteTime": {
     "end_time": "2020-04-29T04:44:17.242306Z",
     "start_time": "2020-04-29T04:43:33.701907Z"
    },
    "scrolled": true
   },
   "outputs": [
    {
     "name": "stdout",
     "output_type": "stream",
     "text": [
      "                         Train RMSE  Test RMSE  Training Score  Test Score\n",
      "Linear Regression          6.135898   6.101724        0.702456    0.706992\n",
      "Decision Tree Regressor    3.784989   4.957192        0.886780    0.806605\n"
     ]
    }
   ],
   "source": [
    "dtr = tree.DecisionTreeRegressor(max_depth=10,min_samples_split=15,min_samples_leaf=15,random_state=123)\n",
    "regression_model = LinearRegression()\n",
    "\n",
    "models=[regression_model,dtr]\n",
    "\n",
    "rmse_train=[]\n",
    "rmse_test=[]\n",
    "scores_train=[]\n",
    "scores_test=[]\n",
    "mape_train=[]\n",
    "mape_test=[]\n",
    "\n",
    "for i in models:\n",
    "    i.fit(x_train,y_train)\n",
    "    scores_train.append(i.score(x_train, y_train))\n",
    "    scores_test.append(i.score(x_test, y_test))\n",
    "    rmse_train.append(np.sqrt(mean_squared_error(y_train,i.predict(x_train))))\n",
    "    rmse_test.append(np.sqrt(mean_squared_error(y_test,i.predict(x_test))))\n",
    "   \n",
    "        \n",
    "        \n",
    "print(pd.DataFrame({'Train RMSE': rmse_train,'Test RMSE': rmse_test,'Training Score':scores_train,'Test Score': scores_test},\n",
    "            index=['Linear Regression','Decision Tree Regressor']))"
   ]
  },
  {
   "cell_type": "code",
   "execution_count": 60,
   "metadata": {},
   "outputs": [
    {
     "data": {
      "text/plain": [
       "Text(0.5, 0, 'Decision Tree Feature Importance')"
      ]
     },
     "execution_count": 60,
     "metadata": {},
     "output_type": "execute_result"
    },
    {
     "data": {
      "image/png": "[encoded data removed]",
      "text/plain": [
       "<Figure size 640x480 with 1 Axes>"
      ]
     },
     "metadata": {},
     "output_type": "display_data"
    }
   ],
   "source": [
    "sorted_idx = dtr.feature_importances_.argsort()\n",
    "plt.barh(x_train.columns,dtr.feature_importances_[sorted_idx])\n",
    "plt.xlabel(\"Decision Tree Feature Importance\")\n"
   ]
  },
  {
   "cell_type": "markdown",
   "metadata": {},
   "source": [
    "Note :\n",
    "    \n",
    "<b/>So from the above we are clearly able to see 'CarAge' is the most important feature and it has a most effect over the price of the car , whereas 'Location' is the least important feature and thus has the least effect on price of the car.</b>\n",
    "\n",
    "top 5 most important features are : <b/>['CarAge','Cars_Category','Model','Brand','No.of Doors']</b>"
   ]
  },
  {
   "cell_type": "markdown",
   "metadata": {},
   "source": [
    "##### Food For Thought "
   ]
  },
  {
   "cell_type": "markdown",
   "metadata": {},
   "source": [
    "> **So what do you think which algo performed well here?**\n",
    "\n",
    "Decision Tree or Linear Regression?\n",
    "\n",
    "> **Which performance metric will you prefer here?**\n",
    "\n",
    "RMSE or R Squared or MAPE?\n"
   ]
  },
  {
   "cell_type": "markdown",
   "metadata": {},
   "source": [
    "**Now, Go on explore the dataset and do more feature engineering, EDA and find out the best way to get better R Squared and lower RMSE**"
   ]
  },
  {
   "cell_type": "markdown",
   "metadata": {},
   "source": [
    "## ---------------------------------------------------------------------------------------------------------------------------"
   ]
  },
  {
   "cell_type": "markdown",
   "metadata": {},
   "source": [
    "# Classification Case Study"
   ]
  },
  {
   "cell_type": "markdown",
   "metadata": {},
   "source": [
    "### **Using the same dataset for all the customers having a budget of 10 lakh , build a best model to predict Price of any used car is  'Budget_Friendly' i.e. (having Price< 10 lakh) or 'Not_Budget_Friendly' .**\n",
    "\n"
   ]
  },
  {
   "cell_type": "code",
   "execution_count": 61,
   "metadata": {},
   "outputs": [
    {
     "data": {
      "text/html": [
       "<div>\n",
       "<style scoped>\n",
       "    .dataframe tbody tr th:only-of-type {\n",
       "        vertical-align: middle;\n",
       "    }\n",
       "\n",
       "    .dataframe tbody tr th {\n",
       "        vertical-align: top;\n",
       "    }\n",
       "\n",
       "    .dataframe thead th {\n",
       "        text-align: right;\n",
       "    }\n",
       "</style>\n",
       "<table border=\"1\" class=\"dataframe\">\n",
       "  <thead>\n",
       "    <tr style=\"text-align: right;\">\n",
       "      <th></th>\n",
       "      <th>Name</th>\n",
       "      <th>Location</th>\n",
       "      <th>Year</th>\n",
       "      <th>Kilometers_Driven</th>\n",
       "      <th>Fuel_Type</th>\n",
       "      <th>Transmission</th>\n",
       "      <th>Owner_Type</th>\n",
       "      <th>Mileage</th>\n",
       "      <th>Engine</th>\n",
       "      <th>Power</th>\n",
       "      <th>Colour</th>\n",
       "      <th>Seats</th>\n",
       "      <th>No. of Doors</th>\n",
       "      <th>Price</th>\n",
       "      <th>Brand</th>\n",
       "      <th>Model</th>\n",
       "      <th>Cars_Category</th>\n",
       "      <th>CarAge</th>\n",
       "    </tr>\n",
       "  </thead>\n",
       "  <tbody>\n",
       "    <tr>\n",
       "      <th>0</th>\n",
       "      <td>96</td>\n",
       "      <td>10</td>\n",
       "      <td>2012.0</td>\n",
       "      <td>99000.0</td>\n",
       "      <td>1</td>\n",
       "      <td>1</td>\n",
       "      <td>3</td>\n",
       "      <td>12.05</td>\n",
       "      <td>2179.0</td>\n",
       "      <td>120.0</td>\n",
       "      <td>0</td>\n",
       "      <td>8.0</td>\n",
       "      <td>5.0</td>\n",
       "      <td>6</td>\n",
       "      <td>15</td>\n",
       "      <td>160</td>\n",
       "      <td>1</td>\n",
       "      <td>11.0</td>\n",
       "    </tr>\n",
       "    <tr>\n",
       "      <th>1</th>\n",
       "      <td>108</td>\n",
       "      <td>7</td>\n",
       "      <td>2018.0</td>\n",
       "      <td>18678.0</td>\n",
       "      <td>4</td>\n",
       "      <td>1</td>\n",
       "      <td>0</td>\n",
       "      <td>21.10</td>\n",
       "      <td>998.0</td>\n",
       "      <td>100.0</td>\n",
       "      <td>1</td>\n",
       "      <td>5.0</td>\n",
       "      <td>4.0</td>\n",
       "      <td>8</td>\n",
       "      <td>16</td>\n",
       "      <td>25</td>\n",
       "      <td>1</td>\n",
       "      <td>5.0</td>\n",
       "    </tr>\n",
       "    <tr>\n",
       "      <th>2</th>\n",
       "      <td>103</td>\n",
       "      <td>1</td>\n",
       "      <td>2013.0</td>\n",
       "      <td>131603.5</td>\n",
       "      <td>1</td>\n",
       "      <td>1</td>\n",
       "      <td>0</td>\n",
       "      <td>11.68</td>\n",
       "      <td>2498.0</td>\n",
       "      <td>112.0</td>\n",
       "      <td>2</td>\n",
       "      <td>7.0</td>\n",
       "      <td>5.0</td>\n",
       "      <td>4</td>\n",
       "      <td>15</td>\n",
       "      <td>200</td>\n",
       "      <td>1</td>\n",
       "      <td>10.0</td>\n",
       "    </tr>\n",
       "    <tr>\n",
       "      <th>3</th>\n",
       "      <td>68</td>\n",
       "      <td>4</td>\n",
       "      <td>2014.0</td>\n",
       "      <td>45000.0</td>\n",
       "      <td>1</td>\n",
       "      <td>1</td>\n",
       "      <td>0</td>\n",
       "      <td>24.00</td>\n",
       "      <td>1120.0</td>\n",
       "      <td>70.0</td>\n",
       "      <td>2</td>\n",
       "      <td>5.0</td>\n",
       "      <td>4.0</td>\n",
       "      <td>3</td>\n",
       "      <td>9</td>\n",
       "      <td>89</td>\n",
       "      <td>1</td>\n",
       "      <td>9.0</td>\n",
       "    </tr>\n",
       "    <tr>\n",
       "      <th>4</th>\n",
       "      <td>195</td>\n",
       "      <td>4</td>\n",
       "      <td>2011.0</td>\n",
       "      <td>65000.0</td>\n",
       "      <td>1</td>\n",
       "      <td>1</td>\n",
       "      <td>0</td>\n",
       "      <td>12.80</td>\n",
       "      <td>2494.0</td>\n",
       "      <td>102.0</td>\n",
       "      <td>1</td>\n",
       "      <td>8.0</td>\n",
       "      <td>5.0</td>\n",
       "      <td>6</td>\n",
       "      <td>26</td>\n",
       "      <td>96</td>\n",
       "      <td>0</td>\n",
       "      <td>12.0</td>\n",
       "    </tr>\n",
       "  </tbody>\n",
       "</table>\n",
       "</div>"
      ],
      "text/plain": [
       "   Name  Location    Year  Kilometers_Driven  Fuel_Type  Transmission  \\\n",
       "0    96        10  2012.0            99000.0          1             1   \n",
       "1   108         7  2018.0            18678.0          4             1   \n",
       "2   103         1  2013.0           131603.5          1             1   \n",
       "3    68         4  2014.0            45000.0          1             1   \n",
       "4   195         4  2011.0            65000.0          1             1   \n",
       "\n",
       "   Owner_Type  Mileage  Engine  Power  Colour  Seats  No. of Doors  Price  \\\n",
       "0           3    12.05  2179.0  120.0       0    8.0           5.0      6   \n",
       "1           0    21.10   998.0  100.0       1    5.0           4.0      8   \n",
       "2           0    11.68  2498.0  112.0       2    7.0           5.0      4   \n",
       "3           0    24.00  1120.0   70.0       2    5.0           4.0      3   \n",
       "4           0    12.80  2494.0  102.0       1    8.0           5.0      6   \n",
       "\n",
       "   Brand  Model  Cars_Category  CarAge  \n",
       "0     15    160              1    11.0  \n",
       "1     16     25              1     5.0  \n",
       "2     15    200              1    10.0  \n",
       "3      9     89              1     9.0  \n",
       "4     26     96              0    12.0  "
      ]
     },
     "execution_count": 61,
     "metadata": {},
     "output_type": "execute_result"
    }
   ],
   "source": [
    "# Using the same dataframe\n",
    "# The target variable is 'Cars_Category' as per the problem statement\n",
    "\n",
    "cars.head()"
   ]
  },
  {
   "cell_type": "code",
   "execution_count": 62,
   "metadata": {},
   "outputs": [
    {
     "name": "stdout",
     "output_type": "stream",
     "text": [
      "<class 'pandas.core.frame.DataFrame'>\n",
      "Int64Index: 5959 entries, 0 to 5960\n",
      "Data columns (total 18 columns):\n",
      " #   Column             Non-Null Count  Dtype  \n",
      "---  ------             --------------  -----  \n",
      " 0   Name               5959 non-null   int16  \n",
      " 1   Location           5959 non-null   int8   \n",
      " 2   Year               5959 non-null   float64\n",
      " 3   Kilometers_Driven  5959 non-null   float64\n",
      " 4   Fuel_Type          5959 non-null   int8   \n",
      " 5   Transmission       5959 non-null   int8   \n",
      " 6   Owner_Type         5959 non-null   int8   \n",
      " 7   Mileage            5959 non-null   float64\n",
      " 8   Engine             5959 non-null   float64\n",
      " 9   Power              5959 non-null   float64\n",
      " 10  Colour             5959 non-null   int8   \n",
      " 11  Seats              5959 non-null   float64\n",
      " 12  No. of Doors       5959 non-null   float64\n",
      " 13  Price              5959 non-null   int32  \n",
      " 14  Brand              5959 non-null   int8   \n",
      " 15  Model              5959 non-null   int16  \n",
      " 16  Cars_Category      5959 non-null   int8   \n",
      " 17  CarAge             5959 non-null   float64\n",
      "dtypes: float64(8), int16(2), int32(1), int8(7)\n",
      "memory usage: 635.3 KB\n"
     ]
    }
   ],
   "source": [
    "cars.info() # all object columns "
   ]
  },
  {
   "cell_type": "code",
   "execution_count": 63,
   "metadata": {},
   "outputs": [
    {
     "data": {
      "text/plain": [
       "1    0.758517\n",
       "0    0.241483\n",
       "Name: Cars_Category, dtype: float64"
      ]
     },
     "execution_count": 63,
     "metadata": {},
     "output_type": "execute_result"
    }
   ],
   "source": [
    "cars.Cars_Category.value_counts(normalize=True) # percentage of two categories in target columns "
   ]
  },
  {
   "cell_type": "markdown",
   "metadata": {},
   "source": [
    "### Split the data"
   ]
  },
  {
   "cell_type": "code",
   "execution_count": 64,
   "metadata": {},
   "outputs": [],
   "source": [
    "x=cars.drop(['Cars_Category','Name','Year'],axis=1) # Name is transformed to Brand and model and Year is transformed to CarAge\n",
    "y=cars.Cars_Category"
   ]
  },
  {
   "cell_type": "code",
   "execution_count": 65,
   "metadata": {},
   "outputs": [],
   "source": [
    "x_train,x_test,y_train,y_test=train_test_split(x,y,random_state=100,test_size=0.30)"
   ]
  },
  {
   "cell_type": "markdown",
   "metadata": {},
   "source": [
    "### **Make 3 models using Decision Tree Classifier , Logistic Regression and LDA and comparing the Accuracy to find the best model**\n",
    "\n",
    "- Check Train and Test Accuracy to see that there is no huge Over/Under fitting "
   ]
  },
  {
   "cell_type": "code",
   "execution_count": 66,
   "metadata": {},
   "outputs": [
    {
     "name": "stdout",
     "output_type": "stream",
     "text": [
      "                          Train Accuracy  Test Accuracy\n",
      "Decision Tree Classifier        0.999760       0.940716\n",
      "LDA                             0.925438       0.930089\n",
      "Logistic Regression             0.910573       0.907159\n"
     ]
    },
    {
     "name": "stderr",
     "output_type": "stream",
     "text": [
      "C:\\Users\\Shikhar Shrivastava\\anaconda3\\lib\\site-packages\\sklearn\\linear_model\\_logistic.py:444: ConvergenceWarning: lbfgs failed to converge (status=1):\n",
      "STOP: TOTAL NO. of ITERATIONS REACHED LIMIT.\n",
      "\n",
      "Increase the number of iterations (max_iter) or scale the data as shown in:\n",
      "    https://scikit-learn.org/stable/modules/preprocessing.html\n",
      "Please also refer to the documentation for alternative solver options:\n",
      "    https://scikit-learn.org/stable/modules/linear_model.html#logistic-regression\n",
      "  n_iter_i = _check_optimize_result(\n"
     ]
    }
   ],
   "source": [
    "dtc = DecisionTreeClassifier()\n",
    "lda= LinearDiscriminantAnalysis()\n",
    "lor= LogisticRegression()\n",
    "\n",
    "\n",
    "models=[dtc,lda,lor]\n",
    "\n",
    "accuracy_train=[]\n",
    "accuracy_test=[]\n",
    "\n",
    "\n",
    "for i in models:  # Computation of RMSE and R2 values \n",
    "    i.fit(x_train,y_train)\n",
    "    accuracy_train.append(accuracy_score(y_train,i.predict(x_train)))\n",
    "    accuracy_test.append(accuracy_score(y_test,i.predict(x_test)))\n",
    "        \n",
    "print(pd.DataFrame({'Train Accuracy': accuracy_train,'Test Accuracy': accuracy_test},\n",
    "            index=['Decision Tree Classifier','LDA','Logistic Regression']))"
   ]
  },
  {
   "cell_type": "markdown",
   "metadata": {},
   "source": [
    "#### **Looks like Decision Tree Classifier, is under-fitting because train accuracy > test accuracy ., Let's Grid Search to get the best parameters  or prune the tree**"
   ]
  },
  {
   "cell_type": "markdown",
   "metadata": {},
   "source": [
    "#### Grid Search CV:"
   ]
  },
  {
   "cell_type": "code",
   "execution_count": 67,
   "metadata": {},
   "outputs": [
    {
     "name": "stdout",
     "output_type": "stream",
     "text": [
      "{'criterion': 'gini', 'max_depth': 10, 'min_samples_leaf': 3, 'min_samples_split': 30}\n"
     ]
    }
   ],
   "source": [
    "param_grid = {\n",
    "    'max_depth': [10,15,20,25,30],\n",
    "    'min_samples_leaf': [3, 15,30],\n",
    "    'min_samples_split': [15,30,35,40,50],\n",
    "    'criterion' :['gini', 'entropy']\n",
    "}\n",
    "\n",
    "dtr=tree.DecisionTreeClassifier()\n",
    "\n",
    "grid_search = GridSearchCV(estimator = dtr, param_grid = param_grid, cv = 3)\n",
    "\n",
    "\n",
    "grid_search.fit(x_train,y_train)\n",
    "\n",
    "print(grid_search.best_params_)"
   ]
  },
  {
   "cell_type": "code",
   "execution_count": 68,
   "metadata": {},
   "outputs": [
    {
     "name": "stdout",
     "output_type": "stream",
     "text": [
      "                          Train Accuracy  Test Accuracy\n",
      "Decision Tree Classifier        0.973867       0.967002\n",
      "LDA                             0.925438       0.930089\n",
      "Logistic Regression             0.910573       0.907159\n"
     ]
    },
    {
     "name": "stderr",
     "output_type": "stream",
     "text": [
      "C:\\Users\\Shikhar Shrivastava\\anaconda3\\lib\\site-packages\\sklearn\\linear_model\\_logistic.py:444: ConvergenceWarning: lbfgs failed to converge (status=1):\n",
      "STOP: TOTAL NO. of ITERATIONS REACHED LIMIT.\n",
      "\n",
      "Increase the number of iterations (max_iter) or scale the data as shown in:\n",
      "    https://scikit-learn.org/stable/modules/preprocessing.html\n",
      "Please also refer to the documentation for alternative solver options:\n",
      "    https://scikit-learn.org/stable/modules/linear_model.html#logistic-regression\n",
      "  n_iter_i = _check_optimize_result(\n"
     ]
    }
   ],
   "source": [
    "dtc = DecisionTreeClassifier(criterion='gini', max_depth=20, min_samples_leaf=3, min_samples_split=30)\n",
    "#Using best parameters in above \n",
    "lda= LinearDiscriminantAnalysis()\n",
    "lor= LogisticRegression()\n",
    "\n",
    "\n",
    "models=[dtc,lda,lor]\n",
    "\n",
    "accuracy_train=[]\n",
    "accuracy_test=[]\n",
    "\n",
    "\n",
    "for i in models:  # Computation of RMSE and R2 values \n",
    "    i.fit(x_train,y_train)\n",
    "    accuracy_train.append(accuracy_score(y_train,i.predict(x_train)))\n",
    "    accuracy_test.append(accuracy_score(y_test,i.predict(x_test)))\n",
    "        \n",
    "print(pd.DataFrame({'Train Accuracy': accuracy_train,'Test Accuracy': accuracy_test},\n",
    "            index=['Decision Tree Classifier','LDA','Logistic Regression']))"
   ]
  },
  {
   "cell_type": "markdown",
   "metadata": {},
   "source": [
    "#### Clearly now the underfitting of the model in Decison tree is reduced and Decison tree classifier results in the best accuracy score thus this model will be selected for classification "
   ]
  },
  {
   "cell_type": "markdown",
   "metadata": {},
   "source": [
    "### ROC AUC curve"
   ]
  },
  {
   "cell_type": "code",
   "execution_count": 69,
   "metadata": {},
   "outputs": [
    {
     "name": "stdout",
     "output_type": "stream",
     "text": [
      "AUC: 0.996\n"
     ]
    },
    {
     "data": {
      "image/png": "[encoded data removed]",
      "text/plain": [
       "<Figure size 640x480 with 1 Axes>"
      ]
     },
     "metadata": {},
     "output_type": "display_data"
    }
   ],
   "source": [
    "# predict probabilities\n",
    "probs = dtc.predict_proba(x_train)\n",
    "# keep probabilities for the positive outcome only\n",
    "probs = probs[:, 1]\n",
    "# calculate AUC\n",
    "auc = roc_auc_score(y_train, probs)\n",
    "print('AUC: %.3f' % auc)\n",
    "# calculate roc curve\n",
    "train_fpr, train_tpr, train_thresholds = roc_curve(y_train, probs)\n",
    "plt.plot([0, 1], [0, 1], linestyle='--')\n",
    "# plot the roc curve for the model\n",
    "plt.plot(train_fpr, train_tpr);"
   ]
  },
  {
   "cell_type": "code",
   "execution_count": 70,
   "metadata": {},
   "outputs": [
    {
     "name": "stdout",
     "output_type": "stream",
     "text": [
      "AUC: 0.996\n"
     ]
    },
    {
     "data": {
      "image/png": "[encoded data removed]",
      "text/plain": [
       "<Figure size 640x480 with 1 Axes>"
      ]
     },
     "metadata": {},
     "output_type": "display_data"
    }
   ],
   "source": [
    "# predict probabilities\n",
    "probs = dtc.predict_proba(x_test)\n",
    "# keep probabilities for the positive outcome only\n",
    "probs = probs[:, 1]\n",
    "# calculate AUC\n",
    "test_auc = roc_auc_score(y_test, probs)\n",
    "print('AUC: %.3f' % auc)\n",
    "# calculate roc curve\n",
    "test_fpr, test_tpr, test_thresholds = roc_curve(y_test, probs)\n",
    "plt.plot([0, 1], [0, 1], linestyle='--')\n",
    "# plot the roc curve for the model\n",
    "plt.plot(test_fpr, test_tpr);"
   ]
  },
  {
   "cell_type": "markdown",
   "metadata": {},
   "source": [
    "#### ROC AUC Curve values for best model indicates that there is high level of seperatibility among the classes of the target variable "
   ]
  },
  {
   "cell_type": "markdown",
   "metadata": {},
   "source": [
    "###  Classification report "
   ]
  },
  {
   "cell_type": "code",
   "execution_count": 71,
   "metadata": {},
   "outputs": [
    {
     "name": "stdout",
     "output_type": "stream",
     "text": [
      "              precision    recall  f1-score   support\n",
      "\n",
      "           0       0.95      0.94      0.95      1023\n",
      "           1       0.98      0.98      0.98      3148\n",
      "\n",
      "    accuracy                           0.97      4171\n",
      "   macro avg       0.97      0.96      0.96      4171\n",
      "weighted avg       0.97      0.97      0.97      4171\n",
      "\n"
     ]
    }
   ],
   "source": [
    "print(classification_report(y_train, dtc.predict(x_train)))#Trainig Classification report "
   ]
  },
  {
   "cell_type": "code",
   "execution_count": 72,
   "metadata": {},
   "outputs": [
    {
     "name": "stdout",
     "output_type": "stream",
     "text": [
      "              precision    recall  f1-score   support\n",
      "\n",
      "           0       0.93      0.93      0.93       416\n",
      "           1       0.98      0.98      0.98      1372\n",
      "\n",
      "    accuracy                           0.97      1788\n",
      "   macro avg       0.95      0.96      0.95      1788\n",
      "weighted avg       0.97      0.97      0.97      1788\n",
      "\n"
     ]
    }
   ],
   "source": [
    "print(classification_report(y_test, dtc.predict(x_test)))#Trainig Classification report "
   ]
  },
  {
   "cell_type": "markdown",
   "metadata": {},
   "source": [
    "### Inference on test data : "
   ]
  },
  {
   "cell_type": "markdown",
   "metadata": {},
   "source": [
    "For predicting price <10 lakh (Label 1: 'Budget Friendly' ):\n",
    "   \n",
    "   <b/>Precision (98%) – 98% of cars predicted are actually 'Budget Friendly' (price <10 lakh) out of all cars predicted to have (price <10 lakh).</b>\n",
    "   \n",
    "   <b/>Recall (98%) – Out of all the cars actually having (price <10 lakh), 98% of cars have been predicted correctly .</b>\n",
    "    \n",
    "For predicting price>= 10lakh (Label 0: 'Not Budget Friendly' ):\n",
    "\n",
    "   <b/>Precision (93%) – 93% of cars predicted are actually 'Not Budget Friendly' (price >=10 lakh) oout of all cars predicted to have (price >=10 lakh).</b>\n",
    "   \n",
    "   <b/>Recall (93%) – Out of all the cars actually having (price >=10 lakh), 93% of cars have been predicted correctly .</b></b>\n",
    " "
   ]
  },
  {
   "cell_type": "markdown",
   "metadata": {},
   "source": [
    "### Overall accuracy of the model – 97 % of total predictions are correct"
   ]
  },
  {
   "cell_type": "markdown",
   "metadata": {},
   "source": [
    "##### Accuracy, AUC, Precision and Recall for test data is almost inline with training data. \n",
    "This proves no overfitting or underfitting has happened, and overall the model is a good model for classification\n",
    "\n"
   ]
  },
  {
   "cell_type": "markdown",
   "metadata": {},
   "source": [
    "                                               Happy Learning"
   ]
  }
 ],
 "metadata": {
  "kernelspec": {
   "display_name": "Python 3 (ipykernel)",
   "language": "python",
   "name": "python3"
  },
  "language_info": {
   "codemirror_mode": {
    "name": "ipython",
    "version": 3
   },
   "file_extension": ".py",
   "mimetype": "text/x-python",
   "name": "python",
   "nbconvert_exporter": "python",
   "pygments_lexer": "ipython3",
   "version": "3.9.13"
  },
  "toc": {
   "base_numbering": 1,
   "nav_menu": {},
   "number_sections": true,
   "sideBar": true,
   "skip_h1_title": false,
   "title_cell": "Table of Contents",
   "title_sidebar": "Contents",
   "toc_cell": false,
   "toc_position": {},
   "toc_section_display": true,
   "toc_window_display": false
  },
  "varInspector": {
   "cols": {
    "lenName": 16,
    "lenType": 16,
    "lenVar": 40
   },
   "kernels_config": {
    "python": {
     "delete_cmd_postfix": "",
     "delete_cmd_prefix": "del ",
     "library": "var_list.py",
     "varRefreshCmd": "print(var_dic_list())"
    },
    "r": {
     "delete_cmd_postfix": ") ",
     "delete_cmd_prefix": "rm(",
     "library": "var_list.r",
     "varRefreshCmd": "cat(var_dic_list()) "
    }
   },
   "types_to_exclude": [
    "module",
    "function",
    "builtin_function_or_method",
    "instance",
    "_Feature"
   ],
   "window_display": false
  }
 },
 "nbformat": 4,
 "nbformat_minor": 4
}
