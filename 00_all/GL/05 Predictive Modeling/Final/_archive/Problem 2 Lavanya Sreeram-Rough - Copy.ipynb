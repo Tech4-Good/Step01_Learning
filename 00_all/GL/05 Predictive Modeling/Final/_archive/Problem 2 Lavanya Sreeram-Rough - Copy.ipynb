{
 "cells": [
  {
   "cell_type": "markdown",
   "id": "53fa927c",
   "metadata": {},
   "source": [
    "# Project - Predictive Modelling"
   ]
  },
  {
   "cell_type": "markdown",
   "id": "69b1248e",
   "metadata": {},
   "source": [
    "## Import Libraries"
   ]
  },
  {
   "cell_type": "markdown",
   "id": "bd1387a8",
   "metadata": {},
   "source": [
    "1. General libraries to work with data and visualize data:"
   ]
  },
  {
   "cell_type": "code",
   "execution_count": 3,
   "id": "4cb54b52",
   "metadata": {},
   "outputs": [],
   "source": [
    "import numpy as np\n",
    "import pandas as pd\n",
    "\n",
    "# For Visualization\n",
    "import matplotlib.pyplot as plt\n",
    "import seaborn as sns\n",
    "%matplotlib inline"
   ]
  },
  {
   "cell_type": "markdown",
   "id": "87c86f50",
   "metadata": {},
   "source": [
    "2. sklearn libraries to perform regression and classifications:"
   ]
  },
  {
   "cell_type": "code",
   "execution_count": 4,
   "id": "f41c6560",
   "metadata": {},
   "outputs": [],
   "source": [
    "# For randomized data splitting\n",
    "from sklearn.model_selection import train_test_split\n",
    "\n",
    "## 1. Logistic Regression\n",
    "from sklearn.linear_model import LogisticRegression\n",
    "\n",
    "## 2. Linear Discriminat Analysis\n",
    "from sklearn.discriminant_analysis import LinearDiscriminantAnalysis\n",
    "\n",
    "## 3. CART\n",
    "from sklearn.tree import DecisionTreeClassifier"
   ]
  },
  {
   "cell_type": "markdown",
   "id": "97806124",
   "metadata": {},
   "source": [
    "3. To check model performance:"
   ]
  },
  {
   "cell_type": "code",
   "execution_count": 5,
   "id": "419131e2",
   "metadata": {},
   "outputs": [],
   "source": [
    "from sklearn import metrics\n",
    "\n",
    "# calculate accuracy measures and confusion matrix\n",
    "\n",
    "from sklearn.metrics import accuracy_score, confusion_matrix, classification_report, roc_curve, roc_auc_score, r2_score, mean_squared_error\n",
    "from sklearn.model_selection import cross_val_score"
   ]
  },
  {
   "cell_type": "markdown",
   "id": "2f64951f",
   "metadata": {},
   "source": [
    "# 2 Logistic Regression, LDA, CART"
   ]
  },
  {
   "cell_type": "markdown",
   "id": "8e5719e3",
   "metadata": {},
   "source": [
    "Problem 2: Logistic Regression, LDA and CART\n",
    "\n",
    "You are a statistician at the Republic of Indonesia Ministry of Health and you are provided with a data of 1473 females collected from a Contraceptive Prevalence Survey. The samples are married women who were either not pregnant or do not know if they were at the time of the survey.\n",
    "\n",
    "The problem is to predict do/don't they use a contraceptive method of choice based on their demographic and socio-economic characteristics."
   ]
  },
  {
   "cell_type": "markdown",
   "id": "aa0949d9",
   "metadata": {},
   "source": [
    "## 2.1 Data Ingestion:\n",
    "\n",
    "Read the dataset. Do the descriptive statistics and do null value condition check, check for duplicates and outliers and write an inference on it. Perform Univariate and Bivariate Analysis and Multivariate Analysis."
   ]
  },
  {
   "cell_type": "markdown",
   "id": "0d7a21a9",
   "metadata": {},
   "source": [
    "### Import dataset and explore"
   ]
  },
  {
   "cell_type": "code",
   "execution_count": 6,
   "id": "caa1f2bd",
   "metadata": {},
   "outputs": [],
   "source": [
    "cData= pd.read_excel('Contraceptive_method_dataset.xlsx')"
   ]
  },
  {
   "cell_type": "code",
   "execution_count": 5,
   "id": "6bfc06ad",
   "metadata": {},
   "outputs": [
    {
     "data": {
      "text/plain": [
       "(1473, 10)"
      ]
     },
     "execution_count": 5,
     "metadata": {},
     "output_type": "execute_result"
    }
   ],
   "source": [
    "cData.shape"
   ]
  },
  {
   "cell_type": "markdown",
   "id": "15d93f0e",
   "metadata": {},
   "source": [
    "There are 1473 rows and 10 columns in the dataset"
   ]
  },
  {
   "cell_type": "code",
   "execution_count": 6,
   "id": "6735e825",
   "metadata": {},
   "outputs": [
    {
     "data": {
      "text/html": [
       "<div>\n",
       "<style scoped>\n",
       "    .dataframe tbody tr th:only-of-type {\n",
       "        vertical-align: middle;\n",
       "    }\n",
       "\n",
       "    .dataframe tbody tr th {\n",
       "        vertical-align: top;\n",
       "    }\n",
       "\n",
       "    .dataframe thead th {\n",
       "        text-align: right;\n",
       "    }\n",
       "</style>\n",
       "<table border=\"1\" class=\"dataframe\">\n",
       "  <thead>\n",
       "    <tr style=\"text-align: right;\">\n",
       "      <th></th>\n",
       "      <th>Wife_age</th>\n",
       "      <th>Wife_ education</th>\n",
       "      <th>Husband_education</th>\n",
       "      <th>No_of_children_born</th>\n",
       "      <th>Wife_religion</th>\n",
       "      <th>Wife_Working</th>\n",
       "      <th>Husband_Occupation</th>\n",
       "      <th>Standard_of_living_index</th>\n",
       "      <th>Media_exposure</th>\n",
       "      <th>Contraceptive_method_used</th>\n",
       "    </tr>\n",
       "  </thead>\n",
       "  <tbody>\n",
       "    <tr>\n",
       "      <th>0</th>\n",
       "      <td>24.0</td>\n",
       "      <td>Primary</td>\n",
       "      <td>Secondary</td>\n",
       "      <td>3.0</td>\n",
       "      <td>Scientology</td>\n",
       "      <td>No</td>\n",
       "      <td>2</td>\n",
       "      <td>High</td>\n",
       "      <td>Exposed</td>\n",
       "      <td>No</td>\n",
       "    </tr>\n",
       "    <tr>\n",
       "      <th>1</th>\n",
       "      <td>45.0</td>\n",
       "      <td>Uneducated</td>\n",
       "      <td>Secondary</td>\n",
       "      <td>10.0</td>\n",
       "      <td>Scientology</td>\n",
       "      <td>No</td>\n",
       "      <td>3</td>\n",
       "      <td>Very High</td>\n",
       "      <td>Exposed</td>\n",
       "      <td>No</td>\n",
       "    </tr>\n",
       "    <tr>\n",
       "      <th>2</th>\n",
       "      <td>43.0</td>\n",
       "      <td>Primary</td>\n",
       "      <td>Secondary</td>\n",
       "      <td>7.0</td>\n",
       "      <td>Scientology</td>\n",
       "      <td>No</td>\n",
       "      <td>3</td>\n",
       "      <td>Very High</td>\n",
       "      <td>Exposed</td>\n",
       "      <td>No</td>\n",
       "    </tr>\n",
       "    <tr>\n",
       "      <th>3</th>\n",
       "      <td>42.0</td>\n",
       "      <td>Secondary</td>\n",
       "      <td>Primary</td>\n",
       "      <td>9.0</td>\n",
       "      <td>Scientology</td>\n",
       "      <td>No</td>\n",
       "      <td>3</td>\n",
       "      <td>High</td>\n",
       "      <td>Exposed</td>\n",
       "      <td>No</td>\n",
       "    </tr>\n",
       "    <tr>\n",
       "      <th>4</th>\n",
       "      <td>36.0</td>\n",
       "      <td>Secondary</td>\n",
       "      <td>Secondary</td>\n",
       "      <td>8.0</td>\n",
       "      <td>Scientology</td>\n",
       "      <td>No</td>\n",
       "      <td>3</td>\n",
       "      <td>Low</td>\n",
       "      <td>Exposed</td>\n",
       "      <td>No</td>\n",
       "    </tr>\n",
       "  </tbody>\n",
       "</table>\n",
       "</div>"
      ],
      "text/plain": [
       "   Wife_age Wife_ education Husband_education  No_of_children_born  \\\n",
       "0      24.0         Primary         Secondary                  3.0   \n",
       "1      45.0      Uneducated         Secondary                 10.0   \n",
       "2      43.0         Primary         Secondary                  7.0   \n",
       "3      42.0       Secondary           Primary                  9.0   \n",
       "4      36.0       Secondary         Secondary                  8.0   \n",
       "\n",
       "  Wife_religion Wife_Working  Husband_Occupation Standard_of_living_index  \\\n",
       "0   Scientology           No                   2                     High   \n",
       "1   Scientology           No                   3                Very High   \n",
       "2   Scientology           No                   3                Very High   \n",
       "3   Scientology           No                   3                     High   \n",
       "4   Scientology           No                   3                      Low   \n",
       "\n",
       "  Media_exposure  Contraceptive_method_used  \n",
       "0         Exposed                        No  \n",
       "1         Exposed                        No  \n",
       "2         Exposed                        No  \n",
       "3         Exposed                        No  \n",
       "4         Exposed                        No  "
      ]
     },
     "execution_count": 6,
     "metadata": {},
     "output_type": "execute_result"
    }
   ],
   "source": [
    "cData.head()"
   ]
  },
  {
   "cell_type": "code",
   "execution_count": 7,
   "id": "ba5b7bfb",
   "metadata": {},
   "outputs": [
    {
     "data": {
      "text/html": [
       "<div>\n",
       "<style scoped>\n",
       "    .dataframe tbody tr th:only-of-type {\n",
       "        vertical-align: middle;\n",
       "    }\n",
       "\n",
       "    .dataframe tbody tr th {\n",
       "        vertical-align: top;\n",
       "    }\n",
       "\n",
       "    .dataframe thead th {\n",
       "        text-align: right;\n",
       "    }\n",
       "</style>\n",
       "<table border=\"1\" class=\"dataframe\">\n",
       "  <thead>\n",
       "    <tr style=\"text-align: right;\">\n",
       "      <th></th>\n",
       "      <th>Wife_age</th>\n",
       "      <th>Wife_ education</th>\n",
       "      <th>Husband_education</th>\n",
       "      <th>No_of_children_born</th>\n",
       "      <th>Wife_religion</th>\n",
       "      <th>Wife_Working</th>\n",
       "      <th>Husband_Occupation</th>\n",
       "      <th>Standard_of_living_index</th>\n",
       "      <th>Media_exposure</th>\n",
       "      <th>Contraceptive_method_used</th>\n",
       "    </tr>\n",
       "  </thead>\n",
       "  <tbody>\n",
       "    <tr>\n",
       "      <th>1468</th>\n",
       "      <td>33.0</td>\n",
       "      <td>Tertiary</td>\n",
       "      <td>Tertiary</td>\n",
       "      <td>NaN</td>\n",
       "      <td>Scientology</td>\n",
       "      <td>Yes</td>\n",
       "      <td>2</td>\n",
       "      <td>Very High</td>\n",
       "      <td>Exposed</td>\n",
       "      <td>Yes</td>\n",
       "    </tr>\n",
       "    <tr>\n",
       "      <th>1469</th>\n",
       "      <td>33.0</td>\n",
       "      <td>Tertiary</td>\n",
       "      <td>Tertiary</td>\n",
       "      <td>NaN</td>\n",
       "      <td>Scientology</td>\n",
       "      <td>No</td>\n",
       "      <td>1</td>\n",
       "      <td>Very High</td>\n",
       "      <td>Exposed</td>\n",
       "      <td>Yes</td>\n",
       "    </tr>\n",
       "    <tr>\n",
       "      <th>1470</th>\n",
       "      <td>39.0</td>\n",
       "      <td>Secondary</td>\n",
       "      <td>Secondary</td>\n",
       "      <td>NaN</td>\n",
       "      <td>Scientology</td>\n",
       "      <td>Yes</td>\n",
       "      <td>1</td>\n",
       "      <td>Very High</td>\n",
       "      <td>Exposed</td>\n",
       "      <td>Yes</td>\n",
       "    </tr>\n",
       "    <tr>\n",
       "      <th>1471</th>\n",
       "      <td>33.0</td>\n",
       "      <td>Secondary</td>\n",
       "      <td>Secondary</td>\n",
       "      <td>NaN</td>\n",
       "      <td>Scientology</td>\n",
       "      <td>Yes</td>\n",
       "      <td>2</td>\n",
       "      <td>Low</td>\n",
       "      <td>Exposed</td>\n",
       "      <td>Yes</td>\n",
       "    </tr>\n",
       "    <tr>\n",
       "      <th>1472</th>\n",
       "      <td>17.0</td>\n",
       "      <td>Secondary</td>\n",
       "      <td>Secondary</td>\n",
       "      <td>1.0</td>\n",
       "      <td>Scientology</td>\n",
       "      <td>No</td>\n",
       "      <td>2</td>\n",
       "      <td>Very High</td>\n",
       "      <td>Exposed</td>\n",
       "      <td>Yes</td>\n",
       "    </tr>\n",
       "  </tbody>\n",
       "</table>\n",
       "</div>"
      ],
      "text/plain": [
       "      Wife_age Wife_ education Husband_education  No_of_children_born  \\\n",
       "1468      33.0        Tertiary          Tertiary                  NaN   \n",
       "1469      33.0        Tertiary          Tertiary                  NaN   \n",
       "1470      39.0       Secondary         Secondary                  NaN   \n",
       "1471      33.0       Secondary         Secondary                  NaN   \n",
       "1472      17.0       Secondary         Secondary                  1.0   \n",
       "\n",
       "     Wife_religion Wife_Working  Husband_Occupation Standard_of_living_index  \\\n",
       "1468   Scientology          Yes                   2                Very High   \n",
       "1469   Scientology           No                   1                Very High   \n",
       "1470   Scientology          Yes                   1                Very High   \n",
       "1471   Scientology          Yes                   2                      Low   \n",
       "1472   Scientology           No                   2                Very High   \n",
       "\n",
       "     Media_exposure  Contraceptive_method_used  \n",
       "1468         Exposed                       Yes  \n",
       "1469         Exposed                       Yes  \n",
       "1470         Exposed                       Yes  \n",
       "1471         Exposed                       Yes  \n",
       "1472         Exposed                       Yes  "
      ]
     },
     "execution_count": 7,
     "metadata": {},
     "output_type": "execute_result"
    }
   ],
   "source": [
    "cData.tail()"
   ]
  },
  {
   "cell_type": "code",
   "execution_count": 8,
   "id": "8a7a491f",
   "metadata": {
    "scrolled": true
   },
   "outputs": [
    {
     "name": "stdout",
     "output_type": "stream",
     "text": [
      "<class 'pandas.core.frame.DataFrame'>\n",
      "RangeIndex: 1473 entries, 0 to 1472\n",
      "Data columns (total 10 columns):\n",
      " #   Column                     Non-Null Count  Dtype  \n",
      "---  ------                     --------------  -----  \n",
      " 0   Wife_age                   1402 non-null   float64\n",
      " 1   Wife_ education            1473 non-null   object \n",
      " 2   Husband_education          1473 non-null   object \n",
      " 3   No_of_children_born        1452 non-null   float64\n",
      " 4   Wife_religion              1473 non-null   object \n",
      " 5   Wife_Working               1473 non-null   object \n",
      " 6   Husband_Occupation         1473 non-null   int64  \n",
      " 7   Standard_of_living_index   1473 non-null   object \n",
      " 8   Media_exposure             1473 non-null   object \n",
      " 9   Contraceptive_method_used  1473 non-null   object \n",
      "dtypes: float64(2), int64(1), object(7)\n",
      "memory usage: 115.2+ KB\n"
     ]
    }
   ],
   "source": [
    "cData.info()"
   ]
  },
  {
   "cell_type": "code",
   "execution_count": 9,
   "id": "51ed9d8e",
   "metadata": {},
   "outputs": [
    {
     "data": {
      "text/plain": [
       "Wife_age                     float64\n",
       "Wife_ education               object\n",
       "Husband_education             object\n",
       "No_of_children_born          float64\n",
       "Wife_religion                 object\n",
       "Wife_Working                  object\n",
       "Husband_Occupation             int64\n",
       "Standard_of_living_index      object\n",
       "Media_exposure                object\n",
       "Contraceptive_method_used     object\n",
       "dtype: object"
      ]
     },
     "execution_count": 9,
     "metadata": {},
     "output_type": "execute_result"
    }
   ],
   "source": [
    "cData.dtypes"
   ]
  },
  {
   "cell_type": "markdown",
   "id": "e8e6d88b",
   "metadata": {},
   "source": [
    "Most of the numerical columns are of type float64, int64 already.\n",
    "\n",
    "'Husband_Occupation' data type is already encoded from categorical variable.\n",
    "\n",
    "Categorical columns like Education (both 'Wife_ education', 'Husband_education'), 'Wife_religion', 'Wife_Working' , 'Standard_of_living_index', 'Media_exposure', 'Contraceptive_method_used' are object type. These can be encoded."
   ]
  },
  {
   "cell_type": "code",
   "execution_count": 10,
   "id": "860fa958",
   "metadata": {},
   "outputs": [
    {
     "data": {
      "text/html": [
       "<div>\n",
       "<style scoped>\n",
       "    .dataframe tbody tr th:only-of-type {\n",
       "        vertical-align: middle;\n",
       "    }\n",
       "\n",
       "    .dataframe tbody tr th {\n",
       "        vertical-align: top;\n",
       "    }\n",
       "\n",
       "    .dataframe thead th {\n",
       "        text-align: right;\n",
       "    }\n",
       "</style>\n",
       "<table border=\"1\" class=\"dataframe\">\n",
       "  <thead>\n",
       "    <tr style=\"text-align: right;\">\n",
       "      <th></th>\n",
       "      <th>count</th>\n",
       "      <th>mean</th>\n",
       "      <th>std</th>\n",
       "      <th>min</th>\n",
       "      <th>25%</th>\n",
       "      <th>50%</th>\n",
       "      <th>75%</th>\n",
       "      <th>max</th>\n",
       "    </tr>\n",
       "  </thead>\n",
       "  <tbody>\n",
       "    <tr>\n",
       "      <th>Wife_age</th>\n",
       "      <td>1402.0</td>\n",
       "      <td>32.606277</td>\n",
       "      <td>8.274927</td>\n",
       "      <td>16.0</td>\n",
       "      <td>26.0</td>\n",
       "      <td>32.0</td>\n",
       "      <td>39.0</td>\n",
       "      <td>49.0</td>\n",
       "    </tr>\n",
       "    <tr>\n",
       "      <th>No_of_children_born</th>\n",
       "      <td>1452.0</td>\n",
       "      <td>3.254132</td>\n",
       "      <td>2.365212</td>\n",
       "      <td>0.0</td>\n",
       "      <td>1.0</td>\n",
       "      <td>3.0</td>\n",
       "      <td>4.0</td>\n",
       "      <td>16.0</td>\n",
       "    </tr>\n",
       "    <tr>\n",
       "      <th>Husband_Occupation</th>\n",
       "      <td>1473.0</td>\n",
       "      <td>2.137814</td>\n",
       "      <td>0.864857</td>\n",
       "      <td>1.0</td>\n",
       "      <td>1.0</td>\n",
       "      <td>2.0</td>\n",
       "      <td>3.0</td>\n",
       "      <td>4.0</td>\n",
       "    </tr>\n",
       "  </tbody>\n",
       "</table>\n",
       "</div>"
      ],
      "text/plain": [
       "                      count       mean       std   min   25%   50%   75%   max\n",
       "Wife_age             1402.0  32.606277  8.274927  16.0  26.0  32.0  39.0  49.0\n",
       "No_of_children_born  1452.0   3.254132  2.365212   0.0   1.0   3.0   4.0  16.0\n",
       "Husband_Occupation   1473.0   2.137814  0.864857   1.0   1.0   2.0   3.0   4.0"
      ]
     },
     "execution_count": 10,
     "metadata": {},
     "output_type": "execute_result"
    }
   ],
   "source": [
    "cData.describe().T"
   ]
  },
  {
   "cell_type": "code",
   "execution_count": 11,
   "id": "ec8ade6c",
   "metadata": {},
   "outputs": [
    {
     "data": {
      "text/html": [
       "<div>\n",
       "<style scoped>\n",
       "    .dataframe tbody tr th:only-of-type {\n",
       "        vertical-align: middle;\n",
       "    }\n",
       "\n",
       "    .dataframe tbody tr th {\n",
       "        vertical-align: top;\n",
       "    }\n",
       "\n",
       "    .dataframe thead th {\n",
       "        text-align: right;\n",
       "    }\n",
       "</style>\n",
       "<table border=\"1\" class=\"dataframe\">\n",
       "  <thead>\n",
       "    <tr style=\"text-align: right;\">\n",
       "      <th></th>\n",
       "      <th>count</th>\n",
       "      <th>unique</th>\n",
       "      <th>top</th>\n",
       "      <th>freq</th>\n",
       "    </tr>\n",
       "  </thead>\n",
       "  <tbody>\n",
       "    <tr>\n",
       "      <th>Wife_ education</th>\n",
       "      <td>1473</td>\n",
       "      <td>4</td>\n",
       "      <td>Tertiary</td>\n",
       "      <td>577</td>\n",
       "    </tr>\n",
       "    <tr>\n",
       "      <th>Husband_education</th>\n",
       "      <td>1473</td>\n",
       "      <td>4</td>\n",
       "      <td>Tertiary</td>\n",
       "      <td>899</td>\n",
       "    </tr>\n",
       "    <tr>\n",
       "      <th>Wife_religion</th>\n",
       "      <td>1473</td>\n",
       "      <td>2</td>\n",
       "      <td>Scientology</td>\n",
       "      <td>1253</td>\n",
       "    </tr>\n",
       "    <tr>\n",
       "      <th>Wife_Working</th>\n",
       "      <td>1473</td>\n",
       "      <td>2</td>\n",
       "      <td>No</td>\n",
       "      <td>1104</td>\n",
       "    </tr>\n",
       "    <tr>\n",
       "      <th>Standard_of_living_index</th>\n",
       "      <td>1473</td>\n",
       "      <td>4</td>\n",
       "      <td>Very High</td>\n",
       "      <td>684</td>\n",
       "    </tr>\n",
       "    <tr>\n",
       "      <th>Media_exposure</th>\n",
       "      <td>1473</td>\n",
       "      <td>2</td>\n",
       "      <td>Exposed</td>\n",
       "      <td>1364</td>\n",
       "    </tr>\n",
       "    <tr>\n",
       "      <th>Contraceptive_method_used</th>\n",
       "      <td>1473</td>\n",
       "      <td>2</td>\n",
       "      <td>Yes</td>\n",
       "      <td>844</td>\n",
       "    </tr>\n",
       "  </tbody>\n",
       "</table>\n",
       "</div>"
      ],
      "text/plain": [
       "                          count unique          top  freq\n",
       "Wife_ education            1473      4     Tertiary   577\n",
       "Husband_education          1473      4     Tertiary   899\n",
       "Wife_religion              1473      2  Scientology  1253\n",
       "Wife_Working               1473      2           No  1104\n",
       "Standard_of_living_index   1473      4    Very High   684\n",
       "Media_exposure             1473      2      Exposed  1364\n",
       "Contraceptive_method_used  1473      2          Yes   844"
      ]
     },
     "execution_count": 11,
     "metadata": {},
     "output_type": "execute_result"
    }
   ],
   "source": [
    "cData.describe(include='object').T"
   ]
  },
  {
   "cell_type": "markdown",
   "id": "c68fc37e",
   "metadata": {},
   "source": [
    "### Missing Values"
   ]
  },
  {
   "cell_type": "code",
   "execution_count": 12,
   "id": "70fd2f7a",
   "metadata": {
    "scrolled": true
   },
   "outputs": [
    {
     "data": {
      "text/plain": [
       "Wife_age                     71\n",
       "Wife_ education               0\n",
       "Husband_education             0\n",
       "No_of_children_born          21\n",
       "Wife_religion                 0\n",
       "Wife_Working                  0\n",
       "Husband_Occupation            0\n",
       "Standard_of_living_index      0\n",
       "Media_exposure                0\n",
       "Contraceptive_method_used     0\n",
       "dtype: int64"
      ]
     },
     "execution_count": 12,
     "metadata": {},
     "output_type": "execute_result"
    }
   ],
   "source": [
    "cData.isnull().sum()"
   ]
  },
  {
   "cell_type": "code",
   "execution_count": null,
   "id": "51069297",
   "metadata": {
    "scrolled": true
   },
   "outputs": [],
   "source": [
    "cData.apply(lambda x: x.isnull().value_counts())"
   ]
  },
  {
   "cell_type": "markdown",
   "id": "d7413778",
   "metadata": {},
   "source": [
    "There are 71 missing values in Wife_age column, 21 missing values in No_of_children_born column"
   ]
  },
  {
   "cell_type": "code",
   "execution_count": 7,
   "id": "aeda7989",
   "metadata": {},
   "outputs": [],
   "source": [
    "cData['Wife_age'].fillna(cData['Wife_age'].median(), inplace=True)"
   ]
  },
  {
   "cell_type": "code",
   "execution_count": 8,
   "id": "a9b85f79",
   "metadata": {
    "scrolled": true
   },
   "outputs": [
    {
     "data": {
      "text/html": [
       "<div>\n",
       "<style scoped>\n",
       "    .dataframe tbody tr th:only-of-type {\n",
       "        vertical-align: middle;\n",
       "    }\n",
       "\n",
       "    .dataframe tbody tr th {\n",
       "        vertical-align: top;\n",
       "    }\n",
       "\n",
       "    .dataframe thead th {\n",
       "        text-align: right;\n",
       "    }\n",
       "</style>\n",
       "<table border=\"1\" class=\"dataframe\">\n",
       "  <thead>\n",
       "    <tr style=\"text-align: right;\">\n",
       "      <th></th>\n",
       "      <th>No_of_children_born</th>\n",
       "    </tr>\n",
       "  </thead>\n",
       "  <tbody>\n",
       "    <tr>\n",
       "      <th>2.0</th>\n",
       "      <td>274</td>\n",
       "    </tr>\n",
       "    <tr>\n",
       "      <th>1.0</th>\n",
       "      <td>273</td>\n",
       "    </tr>\n",
       "    <tr>\n",
       "      <th>3.0</th>\n",
       "      <td>255</td>\n",
       "    </tr>\n",
       "    <tr>\n",
       "      <th>4.0</th>\n",
       "      <td>192</td>\n",
       "    </tr>\n",
       "    <tr>\n",
       "      <th>5.0</th>\n",
       "      <td>131</td>\n",
       "    </tr>\n",
       "    <tr>\n",
       "      <th>0.0</th>\n",
       "      <td>97</td>\n",
       "    </tr>\n",
       "    <tr>\n",
       "      <th>6.0</th>\n",
       "      <td>90</td>\n",
       "    </tr>\n",
       "    <tr>\n",
       "      <th>7.0</th>\n",
       "      <td>49</td>\n",
       "    </tr>\n",
       "    <tr>\n",
       "      <th>8.0</th>\n",
       "      <td>46</td>\n",
       "    </tr>\n",
       "    <tr>\n",
       "      <th>9.0</th>\n",
       "      <td>16</td>\n",
       "    </tr>\n",
       "    <tr>\n",
       "      <th>10.0</th>\n",
       "      <td>11</td>\n",
       "    </tr>\n",
       "    <tr>\n",
       "      <th>11.0</th>\n",
       "      <td>11</td>\n",
       "    </tr>\n",
       "    <tr>\n",
       "      <th>12.0</th>\n",
       "      <td>4</td>\n",
       "    </tr>\n",
       "    <tr>\n",
       "      <th>13.0</th>\n",
       "      <td>2</td>\n",
       "    </tr>\n",
       "    <tr>\n",
       "      <th>16.0</th>\n",
       "      <td>1</td>\n",
       "    </tr>\n",
       "  </tbody>\n",
       "</table>\n",
       "</div>"
      ],
      "text/plain": [
       "      No_of_children_born\n",
       "2.0                   274\n",
       "1.0                   273\n",
       "3.0                   255\n",
       "4.0                   192\n",
       "5.0                   131\n",
       "0.0                    97\n",
       "6.0                    90\n",
       "7.0                    49\n",
       "8.0                    46\n",
       "9.0                    16\n",
       "10.0                   11\n",
       "11.0                   11\n",
       "12.0                    4\n",
       "13.0                    2\n",
       "16.0                    1"
      ]
     },
     "execution_count": 8,
     "metadata": {},
     "output_type": "execute_result"
    }
   ],
   "source": [
    "cData['No_of_children_born'].value_counts().to_frame()"
   ]
  },
  {
   "cell_type": "code",
   "execution_count": 9,
   "id": "78c4c708",
   "metadata": {},
   "outputs": [],
   "source": [
    "cData['No_of_children_born'].fillna('2', inplace=True)\n",
    "#Fix 'No_of_children_born' with frequent. Mean, Median are not good options right?"
   ]
  },
  {
   "cell_type": "markdown",
   "id": "48ae5b92",
   "metadata": {},
   "source": [
    "Fix: drop null 'No_of_children_born'?"
   ]
  },
  {
   "cell_type": "code",
   "execution_count": 10,
   "id": "cb0d7849",
   "metadata": {},
   "outputs": [
    {
     "data": {
      "text/plain": [
       "Wife_age                     0\n",
       "Wife_ education              0\n",
       "Husband_education            0\n",
       "No_of_children_born          0\n",
       "Wife_religion                0\n",
       "Wife_Working                 0\n",
       "Husband_Occupation           0\n",
       "Standard_of_living_index     0\n",
       "Media_exposure               0\n",
       "Contraceptive_method_used    0\n",
       "dtype: int64"
      ]
     },
     "execution_count": 10,
     "metadata": {},
     "output_type": "execute_result"
    }
   ],
   "source": [
    "cData.isnull().sum()"
   ]
  },
  {
   "cell_type": "code",
   "execution_count": 11,
   "id": "d79223e3",
   "metadata": {},
   "outputs": [],
   "source": [
    "#fix\n",
    "# let's convert 'No_of_children_born' object column from object type to float type\n",
    "i='No_of_children_born'\n",
    "cData[i] = cData[i].astype(float)"
   ]
  },
  {
   "cell_type": "code",
   "execution_count": null,
   "id": "8059b6dd",
   "metadata": {
    "scrolled": true
   },
   "outputs": [],
   "source": [
    "cData.info()"
   ]
  },
  {
   "cell_type": "markdown",
   "id": "b4adbf64",
   "metadata": {},
   "source": [
    "### Outliers"
   ]
  },
  {
   "cell_type": "code",
   "execution_count": null,
   "id": "4fd424fe",
   "metadata": {},
   "outputs": [],
   "source": [
    "cData_out = cData.loc[:, [\n",
    "    'Wife_age', 'No_of_children_born','Husband_Occupation']]"
   ]
  },
  {
   "cell_type": "code",
   "execution_count": null,
   "id": "6c6ddba6",
   "metadata": {},
   "outputs": [],
   "source": [
    "#cData_out = cData.drop(['Contraceptive_method_used'], axis=1)\n",
    "plt.figure(figsize=(3, 10))\n",
    "\n",
    "feature_list = cData_out.columns\n",
    "for i in range(len(feature_list)):\n",
    "    plt.subplot(4,1, i + 1)\n",
    "    sns.boxplot(y = cData_out[feature_list[i]], data=cData_out,dodge=True)\n",
    "    plt.title(feature_list[i])\n",
    "    plt.tight_layout()"
   ]
  },
  {
   "cell_type": "markdown",
   "id": "5bdeba6a",
   "metadata": {},
   "source": [
    "The outliers are in the No_of_children_born category. It would be necessary to treat the outliers in this feature. However, we will proceed without treating them in this model."
   ]
  },
  {
   "cell_type": "markdown",
   "id": "0e181cd7",
   "metadata": {},
   "source": [
    "Fix\n",
    "\n",
    "https://wellsr.com/python/how-to-make-seaborn-boxplots-in-python/"
   ]
  },
  {
   "cell_type": "code",
   "execution_count": null,
   "id": "f043fb9c",
   "metadata": {},
   "outputs": [],
   "source": [
    "plt.figure(figsize=(10,6))\n",
    "sns.boxplot(x='No_of_children_born', y= 'Husband_education',hue='Contraceptive_method_used',  order = ['Uneducated',\"Primary\", \"Secondary\",'Tertiary'],data=cData)\n",
    "plt.title('Box Plot of Husband Education vs No of children')\n",
    "plt.show();"
   ]
  },
  {
   "cell_type": "code",
   "execution_count": null,
   "id": "65003c13",
   "metadata": {},
   "outputs": [],
   "source": [
    "plt.figure(figsize=(10,6))\n",
    "sns.boxplot(x='No_of_children_born', y= 'Wife_ education',hue='Contraceptive_method_used',  order = ['Uneducated',\"Primary\", \"Secondary\",'Tertiary'],data=cData)\n",
    "plt.title('Box Plot of Wife Education vs No of children')\n",
    "plt.show();"
   ]
  },
  {
   "cell_type": "code",
   "execution_count": null,
   "id": "a9388b52",
   "metadata": {},
   "outputs": [],
   "source": [
    "sns.boxplot(x='No_of_children_born', y='Wife_age', data=cData)\n",
    "plt.show();"
   ]
  },
  {
   "cell_type": "code",
   "execution_count": null,
   "id": "3c2e02c5",
   "metadata": {},
   "outputs": [],
   "source": [
    "sns.boxplot(x='No_of_children_born', y='Wife_age', hue='Contraceptive_method_used', data=cData)\n",
    "plt.show();"
   ]
  },
  {
   "cell_type": "code",
   "execution_count": null,
   "id": "c198b9bd",
   "metadata": {},
   "outputs": [],
   "source": [
    "plt.figure(figsize=(10,6))\n",
    "sns.boxplot(x='No_of_children_born', y= 'Wife_Working',hue='Contraceptive_method_used',data=cData)\n",
    "plt.title('Box Plot of Working Wife vs No of children')\n",
    "plt.show();"
   ]
  },
  {
   "cell_type": "code",
   "execution_count": null,
   "id": "d0705943",
   "metadata": {},
   "outputs": [],
   "source": [
    "k=6\n",
    "k_child_df = cData[cData['No_of_children_born']> k]\n",
    "k_child_df.describe(include='all').T"
   ]
  },
  {
   "cell_type": "markdown",
   "id": "a056c1c2",
   "metadata": {},
   "source": [
    "### Univariate Analysis"
   ]
  },
  {
   "cell_type": "code",
   "execution_count": null,
   "id": "14ea51d8",
   "metadata": {},
   "outputs": [],
   "source": []
  },
  {
   "cell_type": "markdown",
   "id": "4f96cb5e",
   "metadata": {},
   "source": [
    "### Bivariate Analysis"
   ]
  },
  {
   "cell_type": "code",
   "execution_count": null,
   "id": "e264e9c6",
   "metadata": {},
   "outputs": [],
   "source": [
    "sns.pairplot(cData, hue='Contraceptive_method_used', diag_kind='kde');"
   ]
  },
  {
   "cell_type": "markdown",
   "id": "264ceb9f",
   "metadata": {},
   "source": [
    "### Mutlivariate Analysis"
   ]
  },
  {
   "cell_type": "code",
   "execution_count": null,
   "id": "f55db0c6",
   "metadata": {},
   "outputs": [],
   "source": []
  },
  {
   "cell_type": "markdown",
   "id": "85bc14a3",
   "metadata": {
    "heading_collapsed": true
   },
   "source": [
    "## 2.2 Data Preparation\n",
    "\n",
    "Do not scale the data. Encode the data (having string values) for Modelling. Data Split: Split the data into train and test (70:30). Apply Logistic Regression and LDA (linear discriminant analysis) and CART."
   ]
  },
  {
   "cell_type": "markdown",
   "id": "46dbbea3",
   "metadata": {
    "hidden": true
   },
   "source": [
    "### 2.2.1 Encode Data"
   ]
  },
  {
   "cell_type": "code",
   "execution_count": null,
   "id": "8d61c043",
   "metadata": {
    "hidden": true
   },
   "outputs": [],
   "source": [
    "for i in cData.columns:\n",
    "    if cData[i].dtypes== 'object':\n",
    "        print(i, ': \\n')\n",
    "        print(cData[i].value_counts())\n",
    "        print('       ****       ')"
   ]
  },
  {
   "cell_type": "code",
   "execution_count": null,
   "id": "07ebd458",
   "metadata": {
    "hidden": true
   },
   "outputs": [],
   "source": [
    "## Convert the target variable to Nominal\n",
    "## We are coding up the 'Contraceptive_method_used' variable in #Fix Yes 0, No 1\n",
    "cData['Contraceptive_method_used']=np.where(cData['Contraceptive_method_used'] =='Yes', '0', cData['Contraceptive_method_used'])\n",
    "cData['Contraceptive_method_used']=np.where(cData['Contraceptive_method_used'] =='No', '1', cData['Contraceptive_method_used'])"
   ]
  },
  {
   "cell_type": "code",
   "execution_count": null,
   "id": "5503daaa",
   "metadata": {
    "hidden": true
   },
   "outputs": [],
   "source": [
    "#Fix Media_exposure 'Media_exposure ' name has extra white space in column name.\n",
    "cData = pd.get_dummies(cData, columns=['Media_exposure ','Standard_of_living_index', 'Wife_Working', 'Wife_religion', 'Husband_education','Wife_ education'], drop_first=True)\n",
    "cData.head()"
   ]
  },
  {
   "cell_type": "markdown",
   "id": "d9411e8f",
   "metadata": {
    "hidden": true
   },
   "source": [
    "Fix do we need turn all categorical variables via one hot encoding or nominal 1 2 3. If latter, which order?"
   ]
  },
  {
   "cell_type": "code",
   "execution_count": null,
   "id": "aa9a499b",
   "metadata": {
    "hidden": true
   },
   "outputs": [],
   "source": [
    "#fix\n",
    "# let's convert the object column from object type to float type\n",
    "for i in cData.columns:\n",
    "    if cData[i].dtypes== 'object':\n",
    "        cData[i] = cData[i].astype(float)"
   ]
  },
  {
   "cell_type": "code",
   "execution_count": null,
   "id": "9cc0b703",
   "metadata": {
    "hidden": true
   },
   "outputs": [],
   "source": [
    "cData.info()"
   ]
  },
  {
   "cell_type": "markdown",
   "id": "9155a044",
   "metadata": {
    "hidden": true
   },
   "source": [
    "### 2.2.2 Split Data"
   ]
  },
  {
   "cell_type": "code",
   "execution_count": null,
   "id": "cd150391",
   "metadata": {
    "hidden": true
   },
   "outputs": [],
   "source": [
    "X= cData.drop('Contraceptive_method_used', axis=1)\n",
    "y= cData['Contraceptive_method_used']\n",
    "\n",
    "X_train,X_test, y_train, y_test = train_test_split(X,y, test_size= .3, random_state= 1)"
   ]
  },
  {
   "cell_type": "code",
   "execution_count": null,
   "id": "d334958a",
   "metadata": {
    "hidden": true
   },
   "outputs": [],
   "source": [
    "X_train.head()"
   ]
  },
  {
   "cell_type": "code",
   "execution_count": null,
   "id": "6748419c",
   "metadata": {
    "hidden": true
   },
   "outputs": [],
   "source": [
    "X_test.head()"
   ]
  },
  {
   "cell_type": "markdown",
   "id": "486d3c4d",
   "metadata": {
    "hidden": true
   },
   "source": [
    "### 2.2.3 Logistic Regression, LDA, CART"
   ]
  },
  {
   "cell_type": "markdown",
   "id": "12a48f06",
   "metadata": {
    "hidden": true
   },
   "source": [
    "#### Logistic Regression"
   ]
  },
  {
   "cell_type": "code",
   "execution_count": null,
   "id": "d0c9fadd",
   "metadata": {
    "hidden": true
   },
   "outputs": [],
   "source": [
    "log_model = LogisticRegression(max_iter=1000)"
   ]
  },
  {
   "cell_type": "code",
   "execution_count": null,
   "id": "81b258be",
   "metadata": {
    "hidden": true
   },
   "outputs": [],
   "source": [
    "log_model.fit(X_train,y_train)"
   ]
  },
  {
   "cell_type": "code",
   "execution_count": null,
   "id": "9be2654d",
   "metadata": {
    "hidden": true
   },
   "outputs": [],
   "source": [
    "ytrain_predict_log = log_model.predict(X_train)\n",
    "ytrain_predict_log = log_model.predict(X_test)"
   ]
  },
  {
   "cell_type": "markdown",
   "id": "92bf4832",
   "metadata": {
    "hidden": true
   },
   "source": [
    "#### LDA"
   ]
  },
  {
   "cell_type": "code",
   "execution_count": null,
   "id": "df9c89c2",
   "metadata": {
    "hidden": true
   },
   "outputs": [],
   "source": [
    "lda = LinearDiscriminantAnalysis(n_components=1)\n",
    "lda.fit(X_train, y_train)"
   ]
  },
  {
   "cell_type": "code",
   "execution_count": null,
   "id": "9665bc4b",
   "metadata": {
    "hidden": true
   },
   "outputs": [],
   "source": [
    "#dtree_predictions= dtree.predict(X_test)\n",
    "ytrain_predict_lda = lda.predict(X_train)\n",
    "ytest_predict_lda = lda.predict(X_test)"
   ]
  },
  {
   "cell_type": "markdown",
   "id": "95e4c75b",
   "metadata": {
    "hidden": true
   },
   "source": [
    "#### CART"
   ]
  },
  {
   "cell_type": "code",
   "execution_count": null,
   "id": "b8e978d7",
   "metadata": {
    "hidden": true
   },
   "outputs": [],
   "source": [
    "dtree = DecisionTreeClassifier(criterion='gini')"
   ]
  },
  {
   "cell_type": "code",
   "execution_count": null,
   "id": "2ab7f649",
   "metadata": {
    "hidden": true
   },
   "outputs": [],
   "source": [
    "dtree.fit(X_train, y_train)"
   ]
  },
  {
   "cell_type": "code",
   "execution_count": null,
   "id": "855f9ca7",
   "metadata": {
    "hidden": true
   },
   "outputs": [],
   "source": [
    "#dtree_predictions= dtree.predict(X_test)\n",
    "ytrain_predict_cart = dtree.predict(X_train)\n",
    "ytest_predict_cart = dtree.predict(X_test)"
   ]
  },
  {
   "cell_type": "markdown",
   "id": "13e80c0c",
   "metadata": {},
   "source": [
    "## 2.3 Performance Metrics:\n",
    "Check the performance of Predictions on Train and Test sets using Accuracy, Confusion Matrix, Plot ROC curve and get ROC_AUC score for each model Final Model: Compare Both the models and write inference which model is best/optimized."
   ]
  },
  {
   "cell_type": "markdown",
   "id": "dc878329",
   "metadata": {},
   "source": [
    "### Accuracy"
   ]
  },
  {
   "cell_type": "code",
   "execution_count": null,
   "id": "e5a8d179",
   "metadata": {},
   "outputs": [],
   "source": [
    "model_score = log_model.score(X_test, y_test)\n",
    "print('Accuracy Score is ',model_score)"
   ]
  },
  {
   "cell_type": "markdown",
   "id": "5ed3b988",
   "metadata": {},
   "source": [
    "### Confusion Matrix"
   ]
  },
  {
   "cell_type": "code",
   "execution_count": 12,
   "id": "a5b3ec2c",
   "metadata": {},
   "outputs": [],
   "source": [
    "def conf_mat(y_test, y_predict):\n",
    "    # Compute confusion matrix\n",
    "    cm = metrics.confusion_matrix(y_test, y_predict)\n",
    "    plt.figure(figsize=(6, 4))\n",
    "    plt.clf()\n",
    "    plt.imshow(cm, interpolation='nearest', cmap=plt.cm.Blues)\n",
    "    classNames = ['Contraception Yes', 'Contraception No']\n",
    "    plt.title('Confusion Matrix - Test Data for {} Model'.format(model))\n",
    "    plt.ylabel('Actual (True) label')\n",
    "    plt.xlabel('Predicted label')\n",
    "    tick_marks = np.arange(len(classNames))\n",
    "    plt.xticks(tick_marks, classNames, rotation=45)\n",
    "    plt.yticks(tick_marks, classNames)\n",
    "    plt.xticks(rotation=45)\n",
    "    s = [['TN', 'FP'], ['FN', 'TP']]\n",
    "    for i in range(2):\n",
    "        for j in range(2):\n",
    "            plt.text(j, i, str(s[i][j]) + \" = \" + str(cm[i][j]))\n",
    "    plt.show()"
   ]
  },
  {
   "cell_type": "code",
   "execution_count": null,
   "id": "39cd9259",
   "metadata": {
    "scrolled": true
   },
   "outputs": [],
   "source": [
    "conf_mat(y_test, y_test_pred)"
   ]
  },
  {
   "cell_type": "code",
   "execution_count": null,
   "id": "bb125ce7",
   "metadata": {},
   "outputs": [],
   "source": [
    "# ALternate Way to print Confusion matrix"
   ]
  },
  {
   "cell_type": "code",
   "execution_count": null,
   "id": "8850073b",
   "metadata": {},
   "outputs": [],
   "source": [
    "def plot_confusion_matrix(y_true, y_pred, classes, cmap=plt.cm.Blues):\n",
    "    \"\"\"\n",
    "    This function prints and plots the confusion matrix.\n",
    "    \"\"\"\n",
    "    # Compute confusion matrix\n",
    "    cm = confusion_matrix(y_true, y_pred)\n",
    "\n",
    "    # Create figure and axis\n",
    "    fig, ax = plt.subplots(figsize=(4,3))\n",
    "    \n",
    "    # Plot the confusion matrix as heatmap\n",
    "    sns.heatmap(cm, annot=True, cmap=cmap, fmt='g', xticklabels=classes, yticklabels=classes, ax=ax)\n",
    "\n",
    "    # Set axis labels and title\n",
    "    ax.set_xlabel('Predicted label')\n",
    "    ax.set_ylabel('True label')\n",
    "    ax.set_title('Confusion matrix')\n",
    "    ax.xaxis.set_ticklabels(classes)\n",
    "    ax.yaxis.set_ticklabels(classes)\n",
    "    plt.xticks(rotation=45)\n",
    "\n",
    "    # Show plot\n",
    "    plt.show()\n"
   ]
  },
  {
   "cell_type": "code",
   "execution_count": null,
   "id": "1ae2a37f",
   "metadata": {},
   "outputs": [],
   "source": [
    "classNames = ['Contraception Yes', 'Contraception No']\n",
    "plot_confusion_matrix(y_test, y_test_pred,classNames)"
   ]
  },
  {
   "cell_type": "markdown",
   "id": "7707cf98",
   "metadata": {},
   "source": [
    "### ROC Curve"
   ]
  },
  {
   "cell_type": "code",
   "execution_count": null,
   "id": "d5ea0187",
   "metadata": {},
   "outputs": [],
   "source": [
    "probs=log_model.predict_proba(X_train)\n",
    "probs=probs[:,1]"
   ]
  },
  {
   "cell_type": "code",
   "execution_count": null,
   "id": "22d86441",
   "metadata": {
    "scrolled": true
   },
   "outputs": [],
   "source": [
    "y_true = np.array[0,1] #Fix"
   ]
  },
  {
   "cell_type": "code",
   "execution_count": null,
   "id": "43537bd9",
   "metadata": {},
   "outputs": [],
   "source": [
    "train_fpr, train_tpr, train_thresholds = roc_curve(y_train, probs)"
   ]
  },
  {
   "cell_type": "code",
   "execution_count": null,
   "id": "a48e505d",
   "metadata": {},
   "outputs": [],
   "source": [
    "plt.plot([0,1],[0,1], linestyle='--')\n",
    "plt.plot(train_fpr, train_tpr);"
   ]
  },
  {
   "cell_type": "code",
   "execution_count": null,
   "id": "1475281d",
   "metadata": {},
   "outputs": [],
   "source": []
  },
  {
   "cell_type": "markdown",
   "id": "a58ad6f3",
   "metadata": {},
   "source": [
    "### Best Model"
   ]
  },
  {
   "cell_type": "code",
   "execution_count": null,
   "id": "99c0f285",
   "metadata": {},
   "outputs": [],
   "source": []
  },
  {
   "cell_type": "markdown",
   "id": "7ec052b0",
   "metadata": {
    "heading_collapsed": true
   },
   "source": [
    "## 2.4 Inference:\n",
    "Basis on these predictions, what are the insights and recommendations.\n",
    "Please explain and summarise the various steps performed in this project. There should be proper business interpretation and actionable insights present."
   ]
  },
  {
   "cell_type": "code",
   "execution_count": null,
   "id": "393f8b87",
   "metadata": {
    "hidden": true
   },
   "outputs": [],
   "source": []
  },
  {
   "cell_type": "markdown",
   "id": "f35aa699",
   "metadata": {},
   "source": [
    "## Reflection Report\n",
    "\n",
    "Please reflect on all that you learnt and fill this reflection report. You have to copy the link and paste it on the URL bar of your respective browser.\n",
    "https://docs.google.com/forms/d/e/1FAIpQLScKuVyrmTTM7Pboh0IB4YIBUbJp2NrDZcsY4SCRn3ZUkwmLGg/viewform"
   ]
  },
  {
   "cell_type": "code",
   "execution_count": 13,
   "id": "78311904",
   "metadata": {},
   "outputs": [],
   "source": [
    "# Define the models\n",
    "models = [('Logistic Regression', LogisticRegression(max_iter=1000)),\n",
    "          ('LDA', LinearDiscriminantAnalysis(n_components=1)),\n",
    "          ('CART', DecisionTreeClassifier(criterion='gini'))]"
   ]
  },
  {
   "cell_type": "code",
   "execution_count": 14,
   "id": "99f291f1",
   "metadata": {},
   "outputs": [
    {
     "ename": "NameError",
     "evalue": "name 'X_train' is not defined",
     "output_type": "error",
     "traceback": [
      "\u001b[1;31m---------------------------------------------------------------------------\u001b[0m",
      "\u001b[1;31mNameError\u001b[0m                                 Traceback (most recent call last)",
      "\u001b[1;32m~\\AppData\\Local\\Temp\\ipykernel_25328\\4224928227.py\u001b[0m in \u001b[0;36m<module>\u001b[1;34m\u001b[0m\n\u001b[0;32m      1\u001b[0m \u001b[1;32mfor\u001b[0m \u001b[0mname\u001b[0m\u001b[1;33m,\u001b[0m \u001b[0mmodel\u001b[0m \u001b[1;32min\u001b[0m \u001b[0mmodels\u001b[0m\u001b[1;33m:\u001b[0m\u001b[1;33m\u001b[0m\u001b[1;33m\u001b[0m\u001b[0m\n\u001b[0;32m      2\u001b[0m     \u001b[1;31m# fit the model on the training data\u001b[0m\u001b[1;33m\u001b[0m\u001b[1;33m\u001b[0m\u001b[0m\n\u001b[1;32m----> 3\u001b[1;33m     \u001b[0mmodel\u001b[0m\u001b[1;33m.\u001b[0m\u001b[0mfit\u001b[0m\u001b[1;33m(\u001b[0m\u001b[0mX_train\u001b[0m\u001b[1;33m,\u001b[0m \u001b[0my_train\u001b[0m\u001b[1;33m)\u001b[0m\u001b[1;33m\u001b[0m\u001b[1;33m\u001b[0m\u001b[0m\n\u001b[0m\u001b[0;32m      4\u001b[0m \u001b[1;33m\u001b[0m\u001b[0m\n\u001b[0;32m      5\u001b[0m     \u001b[1;31m# predict the training and test data\u001b[0m\u001b[1;33m\u001b[0m\u001b[1;33m\u001b[0m\u001b[0m\n",
      "\u001b[1;31mNameError\u001b[0m: name 'X_train' is not defined"
     ]
    }
   ],
   "source": [
    "for name, model in models:\n",
    "    # fit the model on the training data\n",
    "    model.fit(X_train, y_train)\n",
    "\n",
    "    # predict the training and test data\n",
    "    y_pred_train = model.predict(X_train)\n",
    "    y_pred_test = model.predict(X_test)\n",
    "\n",
    "    #Accuracy Scores\n",
    "    acc_train = accuracy_score(y_train, y_pred_train)\n",
    "    acc_test = accuracy_score(y_test, y_pred_test)\n",
    "\n",
    "    #Confusion Matrix & Classifcication Report\n",
    "    print(\"Confusion Matrix for {}:\".format(model))\n",
    "    print(confusion_matrix(y_test, y_pred_test))\n",
    "    conf_mat(y_test, y_test_pred)\n",
    "    print('Classification Report {}:'.format(model))\n",
    "    print(classification_report(y_test, y_pred_test))\n",
    "    \n",
    "    #Get the predicted probabilities for train and test data\n",
    "    y_train_proba = model.predict_proba(X_train)[:, 1]\n",
    "    y_test_proba = model.predict_proba(X_test)[:, 1]\n",
    "\n",
    "    fpr, tpr, thresholds = roc_curve(y_test, y_test_proba)\n",
    "    plt.plot(fpr, tpr)\n",
    "    plt.xlabel(\"False Positive Rate\")\n",
    "    plt.ylabel(\"True Positive Rate\")\n",
    "    plt.title('ROC Curve for {}:'.format(model))\n",
    "    plt.show()\n",
    "    \n",
    "    # Calculate ROC_AUC score for Logistic Regression model\n",
    "    roc_auc_log = roc_auc_score(y_test, y_test_proba)\n",
    "    print(\"ROC AUC Score:\", roc_auc_log)"
   ]
  },
  {
   "cell_type": "code",
   "execution_count": null,
   "id": "f3fff194",
   "metadata": {},
   "outputs": [],
   "source": [
    "# Evaluate each model using k-fold cross-validation\n",
    "results = []\n",
    "names = []\n",
    "for name, model in models:\n",
    "    model.fit(X_train, y_train)\n",
    "    y_pred = model.predict(X_test)\n",
    "    cv_results = cross_val_score(model,\n",
    "                                 X_train,\n",
    "                                 y_train,\n",
    "                                 cv=10,\n",
    "                                 scoring='recall')\n",
    "    results.append(cv_results)\n",
    "    names.append(name)\n",
    "    #print('%s: %f (%f)' % (name, cv_results.mean(), cv_results.std()))\n",
    "\n",
    "    # Print the confusion matrix and classification report\n",
    "    print('Model: ', name)\n",
    "    print('Confusion Matrix:')\n",
    "    print(confusion_matrix(y_test, y_pred))\n",
    "    print('Classification Report:')\n",
    "    print(classification_report(y_test, y_pred))\n",
    "    print('-----------------------')\n",
    "\n",
    "# Compare the models using boxplots\n",
    "\n",
    "plt.boxplot(results, labels=names)\n",
    "plt.title('Model Comparison')\n",
    "plt.ylabel('Accuracy')\n",
    "plt.show()"
   ]
  },
  {
   "cell_type": "markdown",
   "id": "9364ea39",
   "metadata": {},
   "source": [
    "### Additional"
   ]
  },
  {
   "cell_type": "code",
   "execution_count": null,
   "id": "973d9d03",
   "metadata": {},
   "outputs": [],
   "source": [
    "# Evaluate each model using k-fold cross-validation\n",
    "results = []\n",
    "names = []\n",
    "for name, model in models:\n",
    "    cv_results = cross_val_score(model, X, y, cv=10, scoring='accuracy')\n",
    "    results.append(cv_results)\n",
    "    names.append(name)\n",
    "    print('%s: %f (%f)' % (name, cv_results.mean(), cv_results.std()))\n",
    "\n",
    "# Compare the models using boxplots\n",
    "import matplotlib.pyplot as plt\n",
    "plt.boxplot(results, labels=names)\n",
    "plt.title('Model Comparison')\n",
    "plt.ylabel('Accuracy')\n",
    "plt.show()\n"
   ]
  },
  {
   "cell_type": "code",
   "execution_count": null,
   "id": "b9e9c233",
   "metadata": {},
   "outputs": [],
   "source": [
    "# Train and evaluate each model on the test set\n",
    "for name, model in models:\n",
    "    # Fit the model to the training data\n",
    "    model.fit(X_train, y_train)\n",
    "    \n",
    "    # Make predictions on the test data\n",
    "    y_pred = model.predict(X_test)\n",
    "    \n",
    "    # Print the confusion matrix and classification report\n",
    "    print('Model: ', name)\n",
    "    print('Confusion Matrix:')\n",
    "    print(confusion_matrix(y_test, y_pred))\n",
    "    print('Classification Report:')\n",
    "    print(classification_report(y_test, y_pred))\n",
    "    print('-----------------------')\n"
   ]
  },
  {
   "cell_type": "code",
   "execution_count": null,
   "id": "1b4469ae",
   "metadata": {},
   "outputs": [],
   "source": []
  },
  {
   "cell_type": "code",
   "execution_count": null,
   "id": "1833921b",
   "metadata": {},
   "outputs": [],
   "source": [
    "### Create Logistic Regression model and fit to the training data\n",
    "logreg = LogisticRegression(max_iter=1000)\n",
    "logreg.fit(X_train, y_train)\n",
    "\n",
    "# Evaluate Logistic Regression model on train and test sets\n",
    "y_train_pred = logreg.predict(X_train)\n",
    "y_test_pred = logreg.predict(X_test)\n",
    "train_acc = accuracy_score(y_train, y_train_pred)\n",
    "test_acc = accuracy_score(y_test, y_test_pred)\n",
    "print(\"Logistic Regression Training Accuracy:\", train_acc)\n",
    "print(\"Logistic Regression Testing Accuracy:\", test_acc)\n",
    "print(\"Logistic Regression Confusion Matrix:\")\n",
    "print(confusion_matrix(y_test, y_test_pred))\n",
    "conf_mat(y_test, y_test_pred)\n",
    "print('Classification Report:')\n",
    "print(classification_report(y_test, y_pred))\n",
    "print('-----------------------')\n",
    "\n",
    "# Plot ROC curve for Logistic Regression model\n",
    "y_test_proba = lda.predict_proba(X_test)[:, 1]\n",
    "fpr, tpr, thresholds = roc_curve(y_test, y_test_proba)\n",
    "plt.plot(fpr, tpr)\n",
    "plt.xlabel(\"False Positive Rate\")\n",
    "plt.ylabel(\"True Positive Rate\")\n",
    "plt.title(\"ROC Curve for Logistic Regression Model\")\n",
    "plt.show()\n",
    "\n",
    "# Calculate ROC_AUC score for Logistic Regression model\n",
    "roc_auc_log = roc_auc_score(y_test, y_test_proba)\n",
    "print(\"Logistic Regression model ROC AUC Score:\", roc_auc_log)\n",
    "\n",
    "# Create LDA model and fit to the training data\n",
    "lda = LinearDiscriminantAnalysis()\n",
    "lda.fit(X_train, y_train)\n",
    "\n",
    "# Evaluate LDA model on train and test sets\n",
    "y_train_pred = lda.predict(X_train)\n",
    "y_test_pred = lda.predict(X_test)\n",
    "train_acc = accuracy_score(y_train, y_train_pred)\n",
    "test_acc = accuracy_score(y_test, y_test_pred)\n",
    "print(\"LDA Training Accuracy:\", train_acc)\n",
    "print(\"LDA Testing Accuracy:\", test_acc)\n",
    "print(\"LDA Confusion Matrix:\")\n",
    "conf_mat(y_test, y_test_pred)\n",
    "print(confusion_matrix(y_test, y_test_pred))\n",
    "print('Classification Report:')\n",
    "print(classification_report(y_test, y_pred))\n",
    "print('-----------------------')\n",
    "\n",
    "# Plot ROC curve for LDA model\n",
    "y_test_proba = lda.predict_proba(X_test)[:, 1]\n",
    "fpr, tpr, thresholds = roc_curve(y_test, y_test_proba)\n",
    "plt.plot(fpr, tpr)\n",
    "plt.xlabel(\"False Positive Rate\")\n",
    "plt.ylabel(\"True Positive Rate\")\n",
    "plt.title(\"ROC Curve for LDA Model\")\n",
    "plt.show()\n",
    "\n",
    "# Calculate ROC_AUC score for LDA model\n",
    "roc_auc_lda = roc_auc_score(y_test, y_test_proba)\n",
    "print(\"LDA ROC AUC Score:\", roc_auc_lda)\n",
    "\n",
    "# Create CART model and fit to the training data\n",
    "cart = DecisionTreeClassifier()\n",
    "cart.fit(X_train, y_train)\n",
    "\n",
    "# Evaluate CART model on train and test sets\n",
    "y_train_pred = cart.predict(X_train)\n",
    "y_test_pred = cart.predict(X_test)\n",
    "train_acc = accuracy_score(y_train, y_train_pred)\n",
    "test_acc = accuracy_score(y_test, y_test_pred)\n",
    "#Print Model Stats\n",
    "printStats()\n",
    "print(\"CART Training Accuracy:\", train_acc)\n",
    "print(\"CART Testing Accuracy:\", test_acc)\n",
    "print(\"CART Confusion Matrix:\")\n",
    "print(confusion_matrix(y_test, y_test_pred))\n",
    "conf_mat(y_test, y_test_pred)\n",
    "print('Classification Report:')\n",
    "print(classification_report(y_test, y_pred))\n",
    "print('-----------------------')\n",
    "\n",
    "# Plot ROC curve for CART model\n",
    "y_test_proba = cart.predict_proba(X_test)[:, 1]\n",
    "fpr, tpr, thresholds = roc_curve(y_test, y_test_proba)\n",
    "plt.plot(fpr, tpr)\n",
    "plt.xlabel(\"False Positive Rate\")\n",
    "plt.ylabel(\"True Positive Rate\")\n",
    "plt.title(\"ROC Curve for CART Model\")\n",
    "plt.show()\n",
    "\n",
    "# Calculate ROC_AUC score for CART model\n",
    "roc_auc_cart = roc_auc_score(y_test, y_test_proba)\n",
    "print(\"CART ROC AUC Score:\", roc_auc_cart)\n"
   ]
  },
  {
   "cell_type": "code",
   "execution_count": null,
   "id": "cd2ae650",
   "metadata": {},
   "outputs": [],
   "source": [
    "# Define the models\n",
    "models = [('Logistic Regression', LogisticRegression(max_iter=1000)),\n",
    "          ('LDA', LinearDiscriminantAnalysis(n_components=1)),\n",
    "          ('CART', DecisionTreeClassifier(criterion='gini'))]"
   ]
  },
  {
   "cell_type": "code",
   "execution_count": null,
   "id": "18cd58e4",
   "metadata": {},
   "outputs": [],
   "source": [
    "# define empty lists to contain the performance metrics:\n",
    "\n",
    "model_names = []\n",
    "r2_train = []\n",
    "r2_test = []\n",
    "rmse_train = []\n",
    "rmse_test = []\n",
    "adj_r2_train = []\n",
    "adj_r2_test = []\n",
    "accuracy_train = []\n",
    "accuracy_test = []\n",
    "confusion_train = []\n",
    "confusion_test = []\n",
    "report_train = []\n",
    "report_test = []\n",
    "roc_auc_train = []\n",
    "roc_auc_test =[]"
   ]
  },
  {
   "cell_type": "code",
   "execution_count": null,
   "id": "1111696d",
   "metadata": {},
   "outputs": [],
   "source": [
    "# create empty dataframe to store performance metrics\n",
    "performance_df = pd.DataFrame(columns=['Model', 'R-squared (train)', 'R-squared (test)', 'RMSE (train)', 'RMSE (test)',\n",
    "                                       'Adj R-squared (train)', 'Adj R-squared (test)', 'Accuracy (train)',\n",
    "                                       'Accuracy (test)'])"
   ]
  },
  {
   "cell_type": "code",
   "execution_count": null,
   "id": "19e4d138",
   "metadata": {},
   "outputs": [],
   "source": [
    "performance_df.head()"
   ]
  },
  {
   "cell_type": "code",
   "execution_count": null,
   "id": "4a3f3cc8",
   "metadata": {},
   "outputs": [],
   "source": [
    "# loop through the models\n",
    "for name, model in models:\n",
    "\n",
    "    # fit the model on the training data\n",
    "    model.fit(X_train, y_train)\n",
    "\n",
    "    # predict the training and test data\n",
    "    y_pred_train = model.predict(X_train)\n",
    "    y_pred_test = model.predict(X_test)\n",
    "\n",
    "    # calculate the performance metrics\n",
    "    r2_train_score = r2_score(y_train, y_pred_train)\n",
    "    r2_test_score = r2_score(y_test, y_pred_test)\n",
    "    rmse_train_score = mean_squared_error(y_train, y_pred_train, squared=False)\n",
    "    rmse_test_score = mean_squared_error(y_test, y_pred_test, squared=False)\n",
    "    accuracy_train_score = accuracy_score(y_train, y_pred_train)\n",
    "    accuracy_test_score = accuracy_score(y_test, y_pred_test)\n",
    "    confusion_train_score = confusion_matrix(y_train, y_pred_train)\n",
    "    confusion_test_score = confusion_matrix(y_test, y_pred_test)\n",
    "    report_train_score = classification_report(y_train, y_pred_train)\n",
    "    report_test_score = classification_report(y_test, y_pred_test)\n",
    "\n",
    "    # Get the predicted probabilities for train and test data\n",
    "    y_train_proba = model.predict_proba(X_train)[:, 1]\n",
    "    y_test_proba = model.predict_proba(X_test)[:, 1]\n",
    "\n",
    "    # Calculate the roc_auc_score for train and test data\n",
    "    train_roc_auc_score = roc_auc_score(y_train, y_train_proba)\n",
    "    test_roc_auc_score = roc_auc_score(y_test, y_test_proba)\n",
    "\n",
    "    # assuming y_train, y_test, y_train_pred, y_test_pred are already defined\n",
    "    train_fpr, train_tpr, train_thresholds = roc_curve(y_train, y_pred_train)\n",
    "    test_fpr, test_tpr, test_thresholds = roc_curve(y_test, y_pred_test)\n",
    "    \n",
    "    # plot ROC curves\n",
    "    plt.plot(train_fpr, train_tpr, label='Train ROC Curve (area = %0.2f)' % roc_auc_score(y_train, y_pred_train))\n",
    "    plt.plot(test_fpr, test_tpr, label='Test ROC Curve (area = %0.2f)' % roc_auc_score(y_test, y_pred_test))\n",
    "\n",
    "    plt.xlabel(\"False Positive Rate\")\n",
    "    plt.ylabel(\"True Positive Rate\")\n",
    "    plt.title(\"ROC Curve for {} Model\".format(model))\n",
    "    plt.legend(loc=\"lower right\")\n",
    "    plt.show()\n",
    "    \n",
    "    # Plot Confusion Matrix\n",
    "    conf_mat(y_test, y_test_pred)\n",
    "\n",
    "    # calculate adjusted R-squared for train and test data\n",
    "    n_train = len(y_train)\n",
    "    p_train = X_train.shape[1]\n",
    "    adj_r2_train_score = 1 - ((1 - r2_train_score) *\n",
    "                              (n_train - 1)) / (n_train - p_train - 1)\n",
    "    n_test = len(y_test)\n",
    "    p_test = X_test.shape[1]\n",
    "    adj_r2_test_score = 1 - ((1 - r2_test_score) *\n",
    "                             (n_test - 1)) / (n_test - p_test - 1)\n",
    "\n",
    "    # append the results to the respective lists\n",
    "    model_names.append(name)\n",
    "    r2_train.append(r2_train_score)\n",
    "    r2_test.append(r2_test_score)\n",
    "    rmse_train.append(rmse_train_score)\n",
    "    rmse_test.append(rmse_test_score)\n",
    "    adj_r2_train.append(adj_r2_train_score)\n",
    "    adj_r2_test.append(adj_r2_test_score)\n",
    "    accuracy_train.append(accuracy_train_score)\n",
    "    accuracy_test.append(accuracy_test_score)\n",
    "    confusion_train.append(confusion_train_score)\n",
    "    confusion_test.append(confusion_test_score)\n",
    "    report_train.append(report_train_score)\n",
    "    report_test.append(report_test_score)\n",
    "    roc_auc_train.append(train_roc_auc_score)\n",
    "    roc_auc_test.append(test_roc_auc_score)"
   ]
  },
  {
   "cell_type": "code",
   "execution_count": null,
   "id": "fa67344e",
   "metadata": {},
   "outputs": [],
   "source": [
    "# create a dataframe to store the results\n",
    "results_df = pd.DataFrame({\n",
    "    'Model': model_names,\n",
    "    'R-squared (Train)': r2_train,\n",
    "    'R-squared (Test)': r2_test,\n",
    "    'RMSE (train)': rmse_train,\n",
    "    'RMSE (test)': rmse_test,\n",
    "    'Adj R-squared (train)': adj_r2_train,\n",
    "    'Adj R-squared (test)': adj_r2_test,\n",
    "    'Accuracy (train)': accuracy_train,\n",
    "    'Accuracy (test)': accuracy_test,\n",
    "    'ROC AUC (Train)': roc_auc_train,\n",
    "    'ROC AUC (Test)': roc_auc_test\n",
    "})"
   ]
  },
  {
   "cell_type": "code",
   "execution_count": null,
   "id": "ea6eb2f6",
   "metadata": {},
   "outputs": [],
   "source": [
    "results_df.head(5)"
   ]
  },
  {
   "cell_type": "markdown",
   "id": "1dc9905f",
   "metadata": {},
   "source": [
    "The R-squared (R2) value typically ranges from 0 to 1, with 1 indicating a perfect fit between the model and the data. A higher R2 value indicates that the model explains more of the variance in the data.\n",
    "\n",
    "The root mean square error (RMSE) represents the average difference between the actual and predicted values of the outcome variable. It is measured in the same units as the outcome variable. There is no specific range for RMSE, but a lower RMSE value indicates that the model has better predictive power.\n",
    "\n",
    "The adjusted R-squared (R2) is a modified version of the R-squared value that adjusts for the number of predictor variables in the model. It typically ranges from negative infinity to 1, with a higher value indicating a better fit between the model and the data. The adjusted R2 penalizes the inclusion of irrelevant predictors in the model and rewards the inclusion of relevant predictors."
   ]
  },
  {
   "cell_type": "code",
   "execution_count": null,
   "id": "1518c347",
   "metadata": {},
   "outputs": [],
   "source": [
    "confusion_train"
   ]
  },
  {
   "cell_type": "code",
   "execution_count": null,
   "id": "277c8d3e",
   "metadata": {},
   "outputs": [],
   "source": [
    "confusion_test"
   ]
  },
  {
   "cell_type": "code",
   "execution_count": null,
   "id": "7dcc4ed9",
   "metadata": {},
   "outputs": [],
   "source": [
    "report_train"
   ]
  },
  {
   "cell_type": "code",
   "execution_count": null,
   "id": "0acdf9fa",
   "metadata": {},
   "outputs": [],
   "source": [
    "report_test"
   ]
  },
  {
   "cell_type": "code",
   "execution_count": null,
   "id": "9e0527c0",
   "metadata": {},
   "outputs": [],
   "source": []
  }
 ],
 "metadata": {
  "kernelspec": {
   "display_name": "Python 3 (ipykernel)",
   "language": "python",
   "name": "python3"
  },
  "language_info": {
   "codemirror_mode": {
    "name": "ipython",
    "version": 3
   },
   "file_extension": ".py",
   "mimetype": "text/x-python",
   "name": "python",
   "nbconvert_exporter": "python",
   "pygments_lexer": "ipython3",
   "version": "3.9.13"
  },
  "varInspector": {
   "cols": {
    "lenName": 16,
    "lenType": 16,
    "lenVar": 40
   },
   "kernels_config": {
    "python": {
     "delete_cmd_postfix": "",
     "delete_cmd_prefix": "del ",
     "library": "var_list.py",
     "varRefreshCmd": "print(var_dic_list())"
    },
    "r": {
     "delete_cmd_postfix": ") ",
     "delete_cmd_prefix": "rm(",
     "library": "var_list.r",
     "varRefreshCmd": "cat(var_dic_list()) "
    }
   },
   "types_to_exclude": [
    "module",
    "function",
    "builtin_function_or_method",
    "instance",
    "_Feature"
   ],
   "window_display": false
  }
 },
 "nbformat": 4,
 "nbformat_minor": 5
}
