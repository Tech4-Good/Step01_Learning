{
 "cells": [
  {
   "cell_type": "markdown",
   "id": "53fa927c",
   "metadata": {},
   "source": [
    "# Project - Predictive Modelling"
   ]
  },
  {
   "cell_type": "markdown",
   "id": "69b1248e",
   "metadata": {},
   "source": [
    "## Import Libraries"
   ]
  },
  {
   "cell_type": "markdown",
   "id": "bd1387a8",
   "metadata": {},
   "source": [
    "1. General libraries to work with data and visualize data:"
   ]
  },
  {
   "cell_type": "code",
   "execution_count": null,
   "id": "4cb54b52",
   "metadata": {},
   "outputs": [],
   "source": [
    "import numpy as np\n",
    "import pandas as pd\n",
    "\n",
    "# For Visualization\n",
    "import matplotlib.pyplot as plt\n",
    "import seaborn as sns\n",
    "%matplotlib inline"
   ]
  },
  {
   "cell_type": "markdown",
   "id": "87c86f50",
   "metadata": {},
   "source": [
    "2. sklearn libraries to perform regression and classifications:"
   ]
  },
  {
   "cell_type": "code",
   "execution_count": null,
   "id": "f41c6560",
   "metadata": {},
   "outputs": [],
   "source": [
    "# For randomized data splitting\n",
    "from sklearn.model_selection import train_test_split\n",
    "\n",
    "# 1. To build linear regression_model & Stats Model\n",
    "from sklearn.linear_model import LinearRegression\n",
    "import statsmodels.api as sm"
   ]
  },
  {
   "cell_type": "markdown",
   "id": "97806124",
   "metadata": {},
   "source": [
    "3. To check model performance:"
   ]
  },
  {
   "cell_type": "code",
   "execution_count": null,
   "id": "419131e2",
   "metadata": {},
   "outputs": [],
   "source": [
    "from sklearn import metrics\n",
    "\n",
    "# calculate accuracy measures and confusion matrix\n",
    "from sklearn.metrics import mean_absolute_error, mean_squared_error\n",
    "from sklearn.model_selection import cross_val_score\n",
    "from statsmodels.stats.outliers_influence import variance_inflation_factor"
   ]
  },
  {
   "cell_type": "markdown",
   "id": "e313b847",
   "metadata": {},
   "source": [
    "# 1 Linear Regresison"
   ]
  },
  {
   "cell_type": "markdown",
   "id": "6b11f701",
   "metadata": {},
   "source": [
    "## 1.1 Load dataset and explore\n",
    "\n",
    "Read the data and do exploratory data analysis. Describe the data briefly. (Check the Data types, shape, EDA, 5 point summary). Perform Univariate, Bivariate Analysis, Multivariate Analysis."
   ]
  },
  {
   "cell_type": "code",
   "execution_count": null,
   "id": "398a793a",
   "metadata": {
    "scrolled": true
   },
   "outputs": [],
   "source": [
    "df= pd.read_excel('compactiv.xlsx')\n",
    "df.head()"
   ]
  },
  {
   "cell_type": "code",
   "execution_count": null,
   "id": "ec67fc17",
   "metadata": {},
   "outputs": [],
   "source": [
    "df.shape"
   ]
  },
  {
   "cell_type": "code",
   "execution_count": null,
   "id": "58a25f36",
   "metadata": {},
   "outputs": [],
   "source": [
    "df.info()"
   ]
  },
  {
   "cell_type": "markdown",
   "id": "a28dbc32",
   "metadata": {},
   "source": [
    "Most of the columns in the data are numeric in nature ('int64' or 'float64' type).\n",
    "'runqsz' is object type."
   ]
  },
  {
   "cell_type": "markdown",
   "id": "f3991cd5",
   "metadata": {},
   "source": [
    "Fix which columns can be dropped\n",
    "Fix which columns are corelated"
   ]
  },
  {
   "cell_type": "code",
   "execution_count": null,
   "id": "1d03f5cb",
   "metadata": {},
   "outputs": [],
   "source": [
    "df.describe().T"
   ]
  },
  {
   "cell_type": "markdown",
   "id": "71122a33",
   "metadata": {},
   "source": [
    "### Univariate Analysis"
   ]
  },
  {
   "cell_type": "markdown",
   "id": "e48a495c",
   "metadata": {},
   "source": [
    "Fix https://www.analyticsvidhya.com/blog/2020/07/univariate-analysis-visualization-with-illustrations-in-python/"
   ]
  },
  {
   "cell_type": "code",
   "execution_count": null,
   "id": "c05c551f",
   "metadata": {},
   "outputs": [],
   "source": []
  },
  {
   "cell_type": "markdown",
   "id": "8f24f89b",
   "metadata": {},
   "source": [
    "### Bivariate Analysis"
   ]
  },
  {
   "cell_type": "code",
   "execution_count": null,
   "id": "dc47ae8c",
   "metadata": {},
   "outputs": [],
   "source": [
    "#Fix plot size\n",
    "\n",
    "df = df.iloc[:, 0:23]\n",
    "sns.pairplot(df, diag_kind='kde');"
   ]
  },
  {
   "cell_type": "markdown",
   "id": "c32638cc",
   "metadata": {},
   "source": [
    "### Multivariate Analysis"
   ]
  },
  {
   "cell_type": "code",
   "execution_count": null,
   "id": "9ebf515f",
   "metadata": {},
   "outputs": [],
   "source": []
  },
  {
   "cell_type": "markdown",
   "id": "fe7e7e45",
   "metadata": {},
   "source": [
    "## 1.2 Missing Values & Outliers\n",
    "\n",
    "Impute null values if present, also check for the values which are equal to zero. Do they have any meaning or do we need to change them or drop them? Check for the possibility of creating new features if required. Also check for outliers and duplicates if there."
   ]
  },
  {
   "cell_type": "code",
   "execution_count": null,
   "id": "835d1db8",
   "metadata": {},
   "outputs": [],
   "source": [
    "df.duplicated().sum()"
   ]
  },
  {
   "cell_type": "markdown",
   "id": "5406067f",
   "metadata": {},
   "source": [
    "There are no duplicates in the data"
   ]
  },
  {
   "cell_type": "markdown",
   "id": "4c0aa87c",
   "metadata": {},
   "source": [
    "### Missing Values"
   ]
  },
  {
   "cell_type": "code",
   "execution_count": null,
   "id": "38366980",
   "metadata": {},
   "outputs": [],
   "source": [
    "df.isnull().sum()"
   ]
  },
  {
   "cell_type": "markdown",
   "id": "59266e33",
   "metadata": {},
   "source": [
    "There are 104 null/missing values in ‘rchar’ column, 15 in ‘wchar’ column respectively. Boxplots are generated to visualize the skewness in data."
   ]
  },
  {
   "cell_type": "code",
   "execution_count": null,
   "id": "39cc504d",
   "metadata": {},
   "outputs": [],
   "source": [
    "sns.boxplot(x= 'rchar', y='runqsz', data=df)\n",
    "plt.title('Boxplot of rchar')\n",
    "plt.show()"
   ]
  },
  {
   "cell_type": "code",
   "execution_count": null,
   "id": "2d8b53d7",
   "metadata": {},
   "outputs": [],
   "source": [
    "sns.boxplot(x= 'wchar', y='runqsz', data=df)\n",
    "plt.title('Boxplot of wchar')\n",
    "plt.show()"
   ]
  },
  {
   "cell_type": "markdown",
   "id": "f92b26f0",
   "metadata": {},
   "source": [
    "Median imputation is preferred when the distribution is skewed, as the median is less sensitive to outliers than the mean."
   ]
  },
  {
   "cell_type": "code",
   "execution_count": null,
   "id": "a5223bdf",
   "metadata": {},
   "outputs": [],
   "source": [
    "medianfiller_rchar=df['rchar'].median()\n",
    "medianfiller_rchar"
   ]
  },
  {
   "cell_type": "code",
   "execution_count": null,
   "id": "e8909dd5",
   "metadata": {},
   "outputs": [],
   "source": [
    "medianfiller_wchar=df['wchar'].median()\n",
    "medianfiller_wchar"
   ]
  },
  {
   "cell_type": "code",
   "execution_count": null,
   "id": "90857d8c",
   "metadata": {},
   "outputs": [],
   "source": [
    "df['rchar']=df['rchar'].fillna(medianfiller_rchar)\n",
    "df['wchar']=df['wchar'].fillna(medianfiller_wchar)"
   ]
  },
  {
   "cell_type": "code",
   "execution_count": null,
   "id": "ec074a5c",
   "metadata": {},
   "outputs": [],
   "source": [
    "df.info()"
   ]
  },
  {
   "cell_type": "markdown",
   "id": "2ac1ae38",
   "metadata": {},
   "source": [
    "There are no more missing values."
   ]
  },
  {
   "cell_type": "markdown",
   "id": "03509c51",
   "metadata": {},
   "source": [
    "Fix check for zero values"
   ]
  },
  {
   "cell_type": "markdown",
   "id": "899a895c",
   "metadata": {},
   "source": [
    "### 1.3.1 Encode Data"
   ]
  },
  {
   "cell_type": "code",
   "execution_count": null,
   "id": "d41565b3",
   "metadata": {},
   "outputs": [],
   "source": [
    "df['runqsz'].value_counts()"
   ]
  },
  {
   "cell_type": "code",
   "execution_count": null,
   "id": "e524dbc7",
   "metadata": {},
   "outputs": [],
   "source": [
    "df = pd.get_dummies(df, columns=['runqsz'],drop_first=True)\n",
    "df.head()"
   ]
  },
  {
   "cell_type": "markdown",
   "id": "81c2bf40",
   "metadata": {},
   "source": [
    "### Outliers"
   ]
  },
  {
   "cell_type": "code",
   "execution_count": null,
   "id": "350b70b3",
   "metadata": {},
   "outputs": [],
   "source": [
    "plt.figure(figsize = (12,8))\n",
    "feature_list = df.columns\n",
    "for i in range(len(feature_list)):\n",
    "    plt.subplot(4,6, i + 1)\n",
    "    sns.boxplot(y = df[feature_list[i]], data = df)\n",
    "    plt.title(feature_list[i])\n",
    "    plt.tight_layout()"
   ]
  },
  {
   "cell_type": "markdown",
   "id": "f5b38ea6",
   "metadata": {},
   "source": [
    "There are multiple outliers in multiple columns."
   ]
  },
  {
   "cell_type": "code",
   "execution_count": null,
   "id": "5a64bff8",
   "metadata": {},
   "outputs": [],
   "source": [
    "def remove_outlier(col):\n",
    "    Q1,Q3=col.quantile([0.25, 0.75])\n",
    "    IQR=Q3-Q1\n",
    "    lower_range=Q1-(1.5*IQR)\n",
    "    upper_range=Q3+(1.5*IQR)\n",
    "    return lower_range, upper_range"
   ]
  },
  {
   "cell_type": "code",
   "execution_count": null,
   "id": "57215ad8",
   "metadata": {},
   "outputs": [],
   "source": [
    "for i in df.columns:\n",
    "    LL,UL=remove_outlier(df[i])\n",
    "    df[i] = np.where(df[i] > UL, UL, df[i])\n",
    "    df[i] = np.where(df[i] < LL, LL, df[i])"
   ]
  },
  {
   "cell_type": "code",
   "execution_count": null,
   "id": "223246e3",
   "metadata": {
    "scrolled": false
   },
   "outputs": [],
   "source": [
    "plt.figure(figsize = (12,8))\n",
    "feature_list = df.columns\n",
    "for i in range(len(feature_list)):\n",
    "    plt.subplot(4,6, i + 1)\n",
    "    sns.boxplot(y = df[feature_list[i]], data = df)\n",
    "    plt.title(feature_list[i])\n",
    "    plt.tight_layout()"
   ]
  },
  {
   "cell_type": "code",
   "execution_count": null,
   "id": "da03698c",
   "metadata": {},
   "outputs": [],
   "source": [
    "df.head(5)"
   ]
  },
  {
   "cell_type": "code",
   "execution_count": null,
   "id": "712d9d57",
   "metadata": {
    "scrolled": true
   },
   "outputs": [],
   "source": [
    "df['pgscan'].value_counts()"
   ]
  },
  {
   "cell_type": "code",
   "execution_count": null,
   "id": "d300a965",
   "metadata": {},
   "outputs": [],
   "source": [
    "df['pgout'].value_counts()"
   ]
  },
  {
   "cell_type": "code",
   "execution_count": null,
   "id": "20cdc168",
   "metadata": {},
   "outputs": [],
   "source": [
    "df.drop(['pgscan'], inplace=True, axis=1)"
   ]
  },
  {
   "cell_type": "code",
   "execution_count": null,
   "id": "b8861b96",
   "metadata": {},
   "outputs": [],
   "source": [
    "df.shape"
   ]
  },
  {
   "cell_type": "markdown",
   "id": "49ced096",
   "metadata": {},
   "source": [
    "## 1.3 Modeling\n",
    "\n",
    "Encode the data (having string values) for Modelling. Split the data into train and test (70:30). Apply Linear regression using scikit learn. Perform checks for significant variables using appropriate method from statsmodel. Create multiple models and check the performance of Predictions on Train and Test sets using Rsquare, RMSE & Adj Rsquare. Compare these models and select the best one with appropriate reasoning."
   ]
  },
  {
   "cell_type": "code",
   "execution_count": null,
   "id": "b7d65763",
   "metadata": {},
   "outputs": [],
   "source": []
  },
  {
   "cell_type": "markdown",
   "id": "88b5f013",
   "metadata": {},
   "source": [
    "Fix scikit learn method is used?"
   ]
  },
  {
   "cell_type": "markdown",
   "id": "2c5f42fb",
   "metadata": {},
   "source": [
    "### 1.3.2 Split Data for Stats & Linear Models"
   ]
  },
  {
   "cell_type": "code",
   "execution_count": null,
   "id": "d4c22c2c",
   "metadata": {},
   "outputs": [],
   "source": [
    "# independent variables\n",
    "X = df.drop(['usr'], axis=1)\n",
    "# dependent variable\n",
    "y = df[['usr']]"
   ]
  },
  {
   "cell_type": "code",
   "execution_count": null,
   "id": "540c7a4a",
   "metadata": {},
   "outputs": [],
   "source": [
    "X_train, X_test, y_train, y_test = train_test_split(X,\n",
    "                                                    y,\n",
    "                                                    test_size=0.30,\n",
    "                                                    random_state=1)"
   ]
  },
  {
   "cell_type": "markdown",
   "id": "fe105a73",
   "metadata": {},
   "source": [
    "Stats Model:"
   ]
  },
  {
   "cell_type": "markdown",
   "id": "7cf2dda4",
   "metadata": {},
   "source": [
    "### Check Multi-collinearity using VIF:"
   ]
  },
  {
   "cell_type": "code",
   "execution_count": null,
   "id": "502a0c3b",
   "metadata": {},
   "outputs": [],
   "source": [
    "# Compute VIF for each predictor to detect multicollinearity\n",
    "vif = pd.DataFrame()\n",
    "vif['feature'] = X_train.columns\n",
    "vif['VIF'] = [variance_inflation_factor(X_train.values, i) for i in range(X_train.shape[1])]\n",
    "vif.sort_values('VIF')"
   ]
  },
  {
   "cell_type": "code",
   "execution_count": null,
   "id": "5532d08e",
   "metadata": {
    "scrolled": true
   },
   "outputs": [],
   "source": [
    "# Drop features with VIF scores greater than 10\n",
    "to_drop = vif[vif[\"VIF\"] > 5][\"feature\"].values\n",
    "X_train = X_train.drop(to_drop, axis=1)\n",
    "X_test = X_test.drop(to_drop, axis=1)"
   ]
  },
  {
   "cell_type": "code",
   "execution_count": null,
   "id": "f8b41500",
   "metadata": {},
   "outputs": [],
   "source": [
    "# Add constant to X_train and X_test\n",
    "X_trainc = sm.add_constant(X_train)\n",
    "X_testc = sm.add_constant(X_test)"
   ]
  },
  {
   "cell_type": "code",
   "execution_count": null,
   "id": "2a9f91f1",
   "metadata": {},
   "outputs": [],
   "source": [
    "X_trainc.head()"
   ]
  },
  {
   "cell_type": "code",
   "execution_count": null,
   "id": "1416ff5f",
   "metadata": {},
   "outputs": [],
   "source": [
    "X_testc.head()"
   ]
  },
  {
   "cell_type": "markdown",
   "id": "38adf640",
   "metadata": {},
   "source": [
    "Linear Model:"
   ]
  },
  {
   "cell_type": "code",
   "execution_count": null,
   "id": "d57ec2f2",
   "metadata": {},
   "outputs": [],
   "source": [
    "X_train.head()"
   ]
  },
  {
   "cell_type": "code",
   "execution_count": null,
   "id": "f54f5aff",
   "metadata": {},
   "outputs": [],
   "source": [
    "X_test.head()"
   ]
  },
  {
   "cell_type": "markdown",
   "id": "ee0b65ae",
   "metadata": {},
   "source": [
    "### 1.3.3 Fit Stats linear model using OLS"
   ]
  },
  {
   "cell_type": "code",
   "execution_count": null,
   "id": "f3b2d185",
   "metadata": {},
   "outputs": [],
   "source": [
    "ols_model = sm.OLS(y_train, X_trainc)\n",
    "ols_results = ols_model.fit()"
   ]
  },
  {
   "cell_type": "code",
   "execution_count": null,
   "id": "97c3d87e",
   "metadata": {
    "scrolled": true
   },
   "outputs": [],
   "source": [
    "# let's print the regression summary\n",
    "# print the summary statistics for the training set\n",
    "\n",
    "print(\"Training set:\")\n",
    "print(ols_results.summary())"
   ]
  },
  {
   "cell_type": "code",
   "execution_count": null,
   "id": "8fc05ef1",
   "metadata": {
    "scrolled": true
   },
   "outputs": [],
   "source": [
    "# make a prediction for the testing set\n",
    "ytest_predict_stats = ols_results.predict(X_testc)\n",
    "print(\"Predicted y:\", ytest_predict_stats)"
   ]
  },
  {
   "cell_type": "code",
   "execution_count": null,
   "id": "63407317",
   "metadata": {},
   "outputs": [],
   "source": [
    "# calculate the RMSE and R-squared for the training set\n",
    "train_rmse = np.sqrt(mean_squared_error(y_train, ols_results.predict(X_trainc)))\n",
    "train_r_squared = ols_results.rsquared\n",
    "print(\"Training set RMSE:\", train_rmse)\n",
    "print(\"Training set R-squared:\", train_r_squared)\n",
    "\n",
    "# calculate the RMSE and R-squared for the testing set\n",
    "test_rmse = np.sqrt(mean_squared_error(y_test, ytest_predict_stats))\n",
    "test_r_squared = 1 - (np.sum((y_test - ytest_predict_stats)**2) / np.sum((y_test - np.mean(y_test))**2))\n",
    "print(\"Testing set RMSE:\", test_rmse)\n",
    "print(\"Testing set R-squared:\", test_r_squared)"
   ]
  },
  {
   "cell_type": "markdown",
   "id": "a0b4e967",
   "metadata": {},
   "source": [
    "RSquared:"
   ]
  },
  {
   "cell_type": "code",
   "execution_count": null,
   "id": "67422985",
   "metadata": {},
   "outputs": [],
   "source": [
    "print('The variation in the independent variable which is explained by the dependent variable is',round(ols_results.rsquared*100,4),'%')"
   ]
  },
  {
   "cell_type": "markdown",
   "id": "a8e79096",
   "metadata": {},
   "source": [
    "RMSE:"
   ]
  },
  {
   "cell_type": "code",
   "execution_count": null,
   "id": "476a8947",
   "metadata": {},
   "outputs": [],
   "source": [
    "print(\"The Root Mean Square Error (RMSE) of the model is for the training set is\",mean_squared_error(ols_results.fittedvalues,y_train,squared=False))"
   ]
  },
  {
   "cell_type": "code",
   "execution_count": null,
   "id": "2f376731",
   "metadata": {},
   "outputs": [],
   "source": [
    "print(\"The Root Mean Square Error (RMSE) of the model is for testing set is\",np.sqrt(mean_squared_error(y_test,ytest_predict_stats)))"
   ]
  },
  {
   "cell_type": "code",
   "execution_count": null,
   "id": "e9e8b5da",
   "metadata": {},
   "outputs": [],
   "source": [
    "# Fit the initial model\n",
    "initial_model = sm.OLS(y_train, X_trainc).fit()\n",
    "\n",
    "# Print the summary of the initial model\n",
    "print(initial_model.summary())\n",
    "\n",
    "# Drop the least significant feature and refit the model\n",
    "p_values = initial_model.pvalues.drop('const')\n",
    "while p_values.max() > 0.05:\n",
    "    X_trainc = X_trainc.drop(columns=p_values.idxmax())\n",
    "    model = sm.OLS(y_train, X_trainc).fit()\n",
    "    p_values = model.pvalues.drop('const')\n",
    "\n",
    "# Print the summary of the final model\n",
    "print(model.summary())"
   ]
  },
  {
   "cell_type": "code",
   "execution_count": null,
   "id": "0a11157a",
   "metadata": {},
   "outputs": [],
   "source": []
  },
  {
   "cell_type": "markdown",
   "id": "2e8e2595",
   "metadata": {},
   "source": [
    "### Linear Regression model"
   ]
  },
  {
   "cell_type": "markdown",
   "id": "a7edd575",
   "metadata": {},
   "source": [
    "Scale data:"
   ]
  },
  {
   "cell_type": "code",
   "execution_count": null,
   "id": "5232a04a",
   "metadata": {
    "scrolled": false
   },
   "outputs": [],
   "source": [
    "linear_model = LinearRegression()\n",
    "linear_model.fit(X_train, y_train)"
   ]
  },
  {
   "cell_type": "code",
   "execution_count": null,
   "id": "00910a8f",
   "metadata": {},
   "outputs": [],
   "source": [
    "ytrain_predict_linear = linear_model.predict(X_train)\n",
    "ytest_predict_linear= linear_model.predict(X_test)\n",
    "#print(\"Predicted y:\", ytrain_predict_linear)"
   ]
  },
  {
   "cell_type": "code",
   "execution_count": null,
   "id": "8d6b3241",
   "metadata": {
    "scrolled": true
   },
   "outputs": [],
   "source": [
    "# print the summary statistics for the training set\n",
    "print(\"Training set:\")\n",
    "print(\"R-squared:\", linear_model.score(X_train, y_train))\n",
    "print(\"Intercept:\", linear_model.intercept_)\n",
    "print(\"Coefficient:\", linear_model.coef_)"
   ]
  },
  {
   "cell_type": "markdown",
   "id": "9f932831",
   "metadata": {},
   "source": [
    "### Linear Regression model evaluation:"
   ]
  },
  {
   "cell_type": "code",
   "execution_count": null,
   "id": "6ebc59a7",
   "metadata": {
    "scrolled": true
   },
   "outputs": [],
   "source": [
    "# calculate the RMSE for the training set\n",
    "train_rmse = np.sqrt(mean_squared_error(y_train, ytrain_predict_linear))\n",
    "# Get the score on training set:\n",
    "print('The coefficient of determination R^2 of the prediction on Train set',linear_model.score(X_train, y_train))\n",
    "print(\"Training set RMSE:\", train_rmse)\n",
    "\n",
    "print(\" \")\n",
    "# calculate the RMSE and R-squared for the testing set\n",
    "test_rmse = np.sqrt(mean_squared_error(y_test, ytest_predict_linear))\n",
    "# Get the score on TEST set:\n",
    "\n",
    "test_r_squared = linear_model.score(X_test, y_test)\n",
    "print('The coefficient of determination R^2 of the prediction on Test set',test_r_squared)\n",
    "print(\"Testing set RMSE:\", test_rmse)\n",
    "print(\"The Root Mean Square Error (RMSE) of the model for testing set is\",test_rmse)\n",
    "print(\"Testing set R-squared:\", test_r_squared)"
   ]
  },
  {
   "cell_type": "code",
   "execution_count": null,
   "id": "8b4b397e",
   "metadata": {},
   "outputs": [],
   "source": [
    "scores = cross_val_score(linear_model, X_train, y_train, cv=5, scoring='neg_mean_squared_error')\n",
    "\n",
    "# Calculate the root mean squared error (RMSE) from the cross-validation scores\n",
    "rmse_scores = np.sqrt(-scores)\n",
    "\n",
    "# Print the average RMSE across all folds\n",
    "print(\"Average RMSE: \", np.mean(rmse_scores))"
   ]
  },
  {
   "cell_type": "markdown",
   "id": "7e3f83c1",
   "metadata": {},
   "source": [
    "### 1.3.5 Best Model"
   ]
  },
  {
   "cell_type": "code",
   "execution_count": null,
   "id": "98395d19",
   "metadata": {},
   "outputs": [],
   "source": [
    "# create a Scikit-learn linear regression model and fit it to the training data\n",
    "lr_model_sk = LinearRegression()\n",
    "lr_model_sk.fit(X_train, y_train)\n",
    "\n",
    "# make predictions on the testing data using the Scikit-learn model\n",
    "predictions_sk = lr_model_sk.predict(X_test)\n",
    "\n",
    "# calculate the RMSE for the Scikit-learn model\n",
    "rmse_sk = np.sqrt(mean_squared_error(y_test, predictions_sk))\n",
    "print(\"Scikit-learn model RMSE:\", rmse_sk)\n",
    "\n",
    "# create an OLS stats linear regression model and fit it to the training data\n",
    "X_train_stats = sm.add_constant(X_train)\n",
    "ols_model = sm.OLS(y_train, X_train_stats).fit()\n",
    "\n",
    "# make predictions on the testing data using the OLS stats model\n",
    "X_test_stats = sm.add_constant(X_test)\n",
    "predictions_stats = ols_model.predict(X_test_stats)\n",
    "\n",
    "# calculate the RMSE for the OLS stats model\n",
    "rmse_stats = np.sqrt(mean_squared_error(y_test, predictions_stats))\n",
    "print(\"OLS stats model RMSE:\", rmse_stats)"
   ]
  },
  {
   "cell_type": "markdown",
   "id": "05580dc7",
   "metadata": {},
   "source": [
    "## 1.4 Inference\n",
    "\n",
    "Basis on these predictions, what are the business insights and recommendations.\n",
    "Please explain and summarise the various steps performed in this project. There should be proper business interpretation and actionable insights present."
   ]
  },
  {
   "cell_type": "code",
   "execution_count": null,
   "id": "1bae2066",
   "metadata": {},
   "outputs": [],
   "source": []
  },
  {
   "cell_type": "code",
   "execution_count": null,
   "id": "5ffe5908",
   "metadata": {},
   "outputs": [],
   "source": []
  },
  {
   "cell_type": "code",
   "execution_count": null,
   "id": "c54cbb9d",
   "metadata": {},
   "outputs": [],
   "source": []
  },
  {
   "cell_type": "code",
   "execution_count": null,
   "id": "ed416d49",
   "metadata": {},
   "outputs": [],
   "source": [
    "# Split the dataset into train and test sets\n",
    "X_train, X_test, y_train, y_test = train_test_split(X, y, test_size=0.2, random_state=42)\n",
    "\n",
    "# Create a linear regression model\n",
    "model = LinearRegression()\n",
    "\n",
    "# Fit the model to the training data\n",
    "model.fit(X_train, y_train)\n",
    "\n",
    "# Make predictions on the test data\n",
    "y_pred = model.predict(X_test)\n",
    "\n",
    "# Calculate the mean squared error and R^2 score on the test data\n",
    "mse = mean_squared_error(y_test, y_pred)\n",
    "r2 = r2_score(y_test, y_pred)\n",
    "\n",
    "# Print the model coefficients, mean squared error, and R^2 score\n",
    "print('Coefficients:', model.coef_)\n",
    "print('Intercept:', model.intercept_)\n",
    "print('Mean Squared Error:', mse)\n",
    "print('R^2 Score:', r2)\n"
   ]
  },
  {
   "cell_type": "markdown",
   "id": "42b3beff",
   "metadata": {},
   "source": [
    "Note to remember:\n",
    "\n",
    "The R-squared (R2) value typically ranges from 0 to 1, with 1 indicating a perfect fit between the model and the data. A higher R2 value indicates that the model explains more of the variance in the data.\n",
    "\n",
    "The root mean square error (RMSE) represents the average difference between the actual and predicted values of the outcome variable. It is measured in the same units as the outcome variable. There is no specific range for RMSE, but a lower RMSE value indicates that the model has better predictive power.\n",
    "\n",
    "The adjusted R-squared (R2) is a modified version of the R-squared value that adjusts for the number of predictor variables in the model. It typically ranges from negative infinity to 1, with a higher value indicating a better fit between the model and the data. The adjusted R2 penalizes the inclusion of irrelevant predictors in the model and rewards the inclusion of relevant predictors."
   ]
  },
  {
   "cell_type": "code",
   "execution_count": null,
   "id": "fa18a18d",
   "metadata": {},
   "outputs": [],
   "source": []
  }
 ],
 "metadata": {
  "kernelspec": {
   "display_name": "Python 3 (ipykernel)",
   "language": "python",
   "name": "python3"
  },
  "language_info": {
   "codemirror_mode": {
    "name": "ipython",
    "version": 3
   },
   "file_extension": ".py",
   "mimetype": "text/x-python",
   "name": "python",
   "nbconvert_exporter": "python",
   "pygments_lexer": "ipython3",
   "version": "3.9.13"
  },
  "varInspector": {
   "cols": {
    "lenName": 16,
    "lenType": 16,
    "lenVar": 40
   },
   "kernels_config": {
    "python": {
     "delete_cmd_postfix": "",
     "delete_cmd_prefix": "del ",
     "library": "var_list.py",
     "varRefreshCmd": "print(var_dic_list())"
    },
    "r": {
     "delete_cmd_postfix": ") ",
     "delete_cmd_prefix": "rm(",
     "library": "var_list.r",
     "varRefreshCmd": "cat(var_dic_list()) "
    }
   },
   "types_to_exclude": [
    "module",
    "function",
    "builtin_function_or_method",
    "instance",
    "_Feature"
   ],
   "window_display": false
  }
 },
 "nbformat": 4,
 "nbformat_minor": 5
}
